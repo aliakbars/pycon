{
 "cells": [
  {
   "cell_type": "code",
   "execution_count": 3,
   "metadata": {
    "collapsed": true
   },
   "outputs": [],
   "source": [
    "import matplotlib.pyplot as plt\n",
    "import numpy as np\n",
    "import pandas as pd\n",
    "import seaborn as sns\n",
    "plt.style.use('fivethirtyeight')\n",
    "%matplotlib inline"
   ]
  },
  {
   "cell_type": "code",
   "execution_count": 13,
   "metadata": {},
   "outputs": [
    {
     "data": {
      "text/html": [
       "<div>\n",
       "<style scoped>\n",
       "    .dataframe tbody tr th:only-of-type {\n",
       "        vertical-align: middle;\n",
       "    }\n",
       "\n",
       "    .dataframe tbody tr th {\n",
       "        vertical-align: top;\n",
       "    }\n",
       "\n",
       "    .dataframe thead th {\n",
       "        text-align: right;\n",
       "    }\n",
       "</style>\n",
       "<table border=\"1\" class=\"dataframe\">\n",
       "  <thead>\n",
       "    <tr style=\"text-align: right;\">\n",
       "      <th></th>\n",
       "      <th>name</th>\n",
       "      <th>gender</th>\n",
       "      <th>length</th>\n",
       "      <th>word_count</th>\n",
       "      <th>first_word</th>\n",
       "      <th>last_word</th>\n",
       "      <th>first_char</th>\n",
       "      <th>last_char_first_word</th>\n",
       "      <th>first_char_last_word</th>\n",
       "      <th>last_char_last_word</th>\n",
       "    </tr>\n",
       "  </thead>\n",
       "  <tbody>\n",
       "    <tr>\n",
       "      <th>0</th>\n",
       "      <td>edho prima arief</td>\n",
       "      <td>male</td>\n",
       "      <td>16</td>\n",
       "      <td>3</td>\n",
       "      <td>edho</td>\n",
       "      <td>arief</td>\n",
       "      <td>e</td>\n",
       "      <td>o</td>\n",
       "      <td>a</td>\n",
       "      <td>f</td>\n",
       "    </tr>\n",
       "    <tr>\n",
       "      <th>1</th>\n",
       "      <td>qonita hidayatullah</td>\n",
       "      <td>female</td>\n",
       "      <td>19</td>\n",
       "      <td>2</td>\n",
       "      <td>qonita</td>\n",
       "      <td>hidayatullah</td>\n",
       "      <td>q</td>\n",
       "      <td>a</td>\n",
       "      <td>h</td>\n",
       "      <td>h</td>\n",
       "    </tr>\n",
       "    <tr>\n",
       "      <th>2</th>\n",
       "      <td>raphon prima</td>\n",
       "      <td>male</td>\n",
       "      <td>12</td>\n",
       "      <td>2</td>\n",
       "      <td>raphon</td>\n",
       "      <td>prima</td>\n",
       "      <td>r</td>\n",
       "      <td>n</td>\n",
       "      <td>p</td>\n",
       "      <td>a</td>\n",
       "    </tr>\n",
       "    <tr>\n",
       "      <th>3</th>\n",
       "      <td>lina anugerah e w</td>\n",
       "      <td>female</td>\n",
       "      <td>17</td>\n",
       "      <td>4</td>\n",
       "      <td>lina</td>\n",
       "      <td>w</td>\n",
       "      <td>l</td>\n",
       "      <td>a</td>\n",
       "      <td>w</td>\n",
       "      <td></td>\n",
       "    </tr>\n",
       "    <tr>\n",
       "      <th>4</th>\n",
       "      <td>nurhabibah</td>\n",
       "      <td>female</td>\n",
       "      <td>10</td>\n",
       "      <td>1</td>\n",
       "      <td>nurhabibah</td>\n",
       "      <td>nurhabibah</td>\n",
       "      <td>n</td>\n",
       "      <td>h</td>\n",
       "      <td>n</td>\n",
       "      <td>h</td>\n",
       "    </tr>\n",
       "  </tbody>\n",
       "</table>\n",
       "</div>"
      ],
      "text/plain": [
       "                  name  gender  length  word_count  first_word     last_word  \\\n",
       "0     edho prima arief    male      16           3        edho         arief   \n",
       "1  qonita hidayatullah  female      19           2      qonita  hidayatullah   \n",
       "2         raphon prima    male      12           2      raphon         prima   \n",
       "3    lina anugerah e w  female      17           4        lina             w   \n",
       "4           nurhabibah  female      10           1  nurhabibah    nurhabibah   \n",
       "\n",
       "  first_char last_char_first_word first_char_last_word last_char_last_word  \n",
       "0          e                    o                    a                   f  \n",
       "1          q                    a                    h                   h  \n",
       "2          r                    n                    p                   a  \n",
       "3          l                    a                    w                      \n",
       "4          n                    h                    n                   h  "
      ]
     },
     "execution_count": 13,
     "metadata": {},
     "output_type": "execute_result"
    }
   ],
   "source": [
    "df = pd.read_csv('alumni', nrows=7000, names=['name', 'gender'])\n",
    "df['name'] = df['name'].apply(lambda x: x.lower())\n",
    "df['gender'] = df['gender'].apply(lambda x: 'male' if x else 'female')\n",
    "df['length'] = df['name'].apply(len)\n",
    "df['word_count'] = df['name'].apply(lambda x: len(x.split(' ')))\n",
    "df['first_word'] = df['name'].apply(lambda x: x.split(' ')[0])\n",
    "df['last_word'] = df['name'].apply(lambda x: x.split(' ')[-1])\n",
    "df['first_char'] = df['name'].apply(lambda x: x[0])\n",
    "df['last_char_first_word'] = df['first_word'].apply(lambda x: x[-1])\n",
    "df['first_char_last_word'] = df['last_word'].apply(lambda x: x[0] if x else '')\n",
    "df['last_char_last_word'] = df['last_word'].apply(lambda x: x[-1] if len(x) > 1 else '')\n",
    "df.head()"
   ]
  },
  {
   "cell_type": "markdown",
   "metadata": {},
   "source": [
    "### Table of Contents\n",
    "\n",
    "- [Experiments](#Experiments)\n",
    "- [LSTM](#LSTM)"
   ]
  },
  {
   "cell_type": "code",
   "execution_count": 14,
   "metadata": {},
   "outputs": [
    {
     "data": {
      "text/plain": [
       "male      4699\n",
       "female    2301\n",
       "Name: gender, dtype: int64"
      ]
     },
     "execution_count": 14,
     "metadata": {},
     "output_type": "execute_result"
    }
   ],
   "source": [
    "df.gender.value_counts()"
   ]
  },
  {
   "cell_type": "code",
   "execution_count": 15,
   "metadata": {},
   "outputs": [
    {
     "name": "stderr",
     "output_type": "stream",
     "text": [
      "/home/engineering/miniconda2/envs/airy/lib/python3.6/site-packages/scipy/stats/stats.py:1713: FutureWarning: Using a non-tuple sequence for multidimensional indexing is deprecated; use `arr[tuple(seq)]` instead of `arr[seq]`. In the future this will be interpreted as an array index, `arr[np.array(seq)]`, which will result either in an error or a different result.\n",
      "  return np.add.reduce(sorted[indexer] * weights, axis=axis) / sumval\n"
     ]
    },
    {
     "data": {
      "image/png": "[encoded data removed]",
      "text/plain": [
       "<Figure size 1080x360 with 2 Axes>"
      ]
     },
     "metadata": {},
     "output_type": "display_data"
    }
   ],
   "source": [
    "fig, ax = plt.subplots(1, 2, figsize=(15, 5))\n",
    "sns.distplot(df.length, ax=ax[0])\n",
    "sns.distplot(df.first_word.apply(len), kde=False, ax=ax[1])\n",
    "ax[0].set_ylabel('density')\n",
    "ax[0].set_xlabel('length of full name')\n",
    "ax[1].set_xlabel('length of first name')\n",
    "plt.show()"
   ]
  },
  {
   "cell_type": "code",
   "execution_count": 16,
   "metadata": {},
   "outputs": [
    {
     "data": {
      "image/png": "[encoded data removed]",
      "text/plain": [
       "<Figure size 1080x360 with 1 Axes>"
      ]
     },
     "metadata": {},
     "output_type": "display_data"
    }
   ],
   "source": [
    "fig, ax = plt.subplots(figsize=(15, 5))\n",
    "sns.countplot(x='word_count', hue='gender', data=df, ax=ax)\n",
    "plt.show()"
   ]
  },
  {
   "cell_type": "code",
   "execution_count": 17,
   "metadata": {},
   "outputs": [
    {
     "data": {
      "image/png": "[encoded data removed]",
      "text/plain": [
       "<Figure size 1080x360 with 1 Axes>"
      ]
     },
     "metadata": {},
     "output_type": "display_data"
    }
   ],
   "source": [
    "import string\n",
    "fig, ax = plt.subplots(figsize=(15,5))\n",
    "sns.countplot(x='first_char', hue='gender', data=df, order=string.ascii_lowercase, ax=ax)\n",
    "plt.show()"
   ]
  },
  {
   "cell_type": "code",
   "execution_count": 18,
   "metadata": {},
   "outputs": [
    {
     "data": {
      "image/png": "[encoded data removed]",
      "text/plain": [
       "<Figure size 1080x360 with 1 Axes>"
      ]
     },
     "metadata": {},
     "output_type": "display_data"
    }
   ],
   "source": [
    "fig, ax = plt.subplots(figsize=(15,5))\n",
    "sns.countplot(x='last_char_first_word', hue='gender', data=df, order=string.ascii_lowercase, ax=ax)\n",
    "plt.show()"
   ]
  },
  {
   "cell_type": "code",
   "execution_count": 19,
   "metadata": {},
   "outputs": [
    {
     "data": {
      "image/png": "[encoded data removed]",
      "text/plain": [
       "<Figure size 1080x360 with 1 Axes>"
      ]
     },
     "metadata": {},
     "output_type": "display_data"
    }
   ],
   "source": [
    "fig, ax = plt.subplots(figsize=(15,5))\n",
    "sns.countplot(x='first_char_last_word', hue='gender', data=df, order=string.ascii_lowercase, ax=ax)\n",
    "plt.show()"
   ]
  },
  {
   "cell_type": "code",
   "execution_count": 20,
   "metadata": {},
   "outputs": [
    {
     "data": {
      "image/png": "[encoded data removed]",
      "text/plain": [
       "<Figure size 1080x360 with 1 Axes>"
      ]
     },
     "metadata": {},
     "output_type": "display_data"
    }
   ],
   "source": [
    "fig, ax = plt.subplots(figsize=(15,5))\n",
    "sns.countplot(x='last_char_last_word', hue='gender', data=df, order=string.ascii_lowercase, ax=ax)\n",
    "plt.show()"
   ]
  },
  {
   "cell_type": "markdown",
   "metadata": {},
   "source": [
    "# Experiments"
   ]
  },
  {
   "cell_type": "code",
   "execution_count": 21,
   "metadata": {
    "collapsed": true
   },
   "outputs": [],
   "source": [
    "RAND_SEED_SPLIT = 1337"
   ]
  },
  {
   "cell_type": "code",
   "execution_count": 61,
   "metadata": {},
   "outputs": [],
   "source": [
    "from sklearn.dummy import DummyClassifier\n",
    "from sklearn.linear_model import LogisticRegression\n",
    "from sklearn.metrics import accuracy_score, balanced_accuracy_score, precision_recall_fscore_support, confusion_matrix, roc_curve, roc_auc_score\n",
    "from sklearn.model_selection import GridSearchCV, RandomizedSearchCV, train_test_split\n",
    "from sklearn.naive_bayes import BernoulliNB\n",
    "from sklearn.neighbors import KNeighborsClassifier\n",
    "from sklearn.pipeline import make_pipeline\n",
    "from sklearn.preprocessing import OneHotEncoder\n",
    "from xgboost import XGBClassifier"
   ]
  },
  {
   "cell_type": "code",
   "execution_count": 54,
   "metadata": {},
   "outputs": [],
   "source": [
    "from sklearn.feature_extraction.text import CountVectorizer\n",
    "from sklearn.decomposition import TruncatedSVD\n",
    "from umap import UMAP"
   ]
  },
  {
   "cell_type": "code",
   "execution_count": 121,
   "metadata": {},
   "outputs": [],
   "source": [
    "X = df[['name']]\n",
    "y = df['gender'].map({'male': 1, 'female': 0})"
   ]
  },
  {
   "cell_type": "code",
   "execution_count": 127,
   "metadata": {
    "collapsed": true
   },
   "outputs": [],
   "source": [
    "X_train, X_test, y_train, y_test = train_test_split(X, y, test_size=0.3, random_state=RAND_SEED_SPLIT)"
   ]
  },
  {
   "cell_type": "code",
   "execution_count": 62,
   "metadata": {
    "collapsed": true
   },
   "outputs": [],
   "source": [
    "param_grid = {\n",
    "    DummyClassifier: {},\n",
    "    BernoulliNB: {},\n",
    "    KNeighborsClassifier: {\n",
    "        'n_neighbors': range(3,11)\n",
    "    },\n",
    "    LogisticRegression: {\n",
    "        'penalty': ['l1','l2'],\n",
    "        'C': [0.01, 0.1, 1, 10, 100],\n",
    "        'solver': ['liblinear']\n",
    "    },\n",
    "    XGBClassifier: {\n",
    "        'max_depth': range(3,11),\n",
    "        'min_child_weight': [0, 0.1, 1, 100, 1000],\n",
    "        'gamma': [0, 0.1, 1, 100, 1000]\n",
    "    }\n",
    "}"
   ]
  },
  {
   "cell_type": "code",
   "execution_count": 63,
   "metadata": {
    "collapsed": true
   },
   "outputs": [],
   "source": [
    "clfs = [\n",
    "    DummyClassifier,\n",
    "    BernoulliNB,\n",
    "    KNeighborsClassifier,\n",
    "    LogisticRegression,\n",
    "    XGBClassifier\n",
    "]"
   ]
  },
  {
   "cell_type": "code",
   "execution_count": 72,
   "metadata": {},
   "outputs": [],
   "source": [
    "pipe = make_pipeline(\n",
    "    CountVectorizer(decode_error='ignore', token_pattern='\\\\w', ngram_range=(1, 3)),\n",
    "    TruncatedSVD(100, random_state=42),\n",
    "    UMAP(random_state=42)\n",
    ")\n",
    "X_map = pipe.fit_transform(X_train['name'])"
   ]
  },
  {
   "cell_type": "code",
   "execution_count": 137,
   "metadata": {},
   "outputs": [
    {
     "data": {
      "application/vnd.vegalite.v2+json": {
       "$schema": "https://vega.github.io/schema/vega-lite/v2.4.3.json",
       "config": {
        "view": {
         "height": 300,
         "width": 400
        }
       },
       "data": {
        "values": [
         {
          "label": 1,
          "name": "faridansyah",
          "x1": 1.0160101652145386,
          "x2": -8.543590545654297
         },
         {
          "label": 1,
          "name": "gilang tetriyuda paska",
          "x1": -1.6088050603866577,
          "x2": -3.7724015712738037
         },
         {
          "label": 1,
          "name": "erwin luwis",
          "x1": -3.7686972618103027,
          "x2": -7.6203179359436035
         },
         {
          "label": 1,
          "name": "floren azali",
          "x1": -2.669550657272339,
          "x2": -7.154265880584717
         },
         {
          "label": 0,
          "name": "rosmawanti fadjrin khoirunnas",
          "x1": -4.1697468757629395,
          "x2": -5.7221879959106445
         },
         {
          "label": 1,
          "name": "yudhistira",
          "x1": -2.9795620441436768,
          "x2": -9.225000381469727
         },
         {
          "label": 0,
          "name": "marisca cendrabumi",
          "x1": -1.6442152261734009,
          "x2": -6.358511924743652
         },
         {
          "label": 1,
          "name": "rianto",
          "x1": -5.0412421226501465,
          "x2": -6.332973003387451
         },
         {
          "label": 0,
          "name": "sofie stefani",
          "x1": -3.6797070503234863,
          "x2": -6.520021915435791
         },
         {
          "label": 1,
          "name": "miftahul ulum",
          "x1": -1.96744704246521,
          "x2": -8.248323440551758
         },
         {
          "label": 1,
          "name": "hamka",
          "x1": -1.8937482833862305,
          "x2": -7.763126373291016
         },
         {
          "label": 0,
          "name": "shanti subramanian",
          "x1": -1.6385140419006348,
          "x2": -4.632110595703125
         },
         {
          "label": 1,
          "name": "ario timur",
          "x1": -2.8094944953918457,
          "x2": -7.907477378845215
         },
         {
          "label": 1,
          "name": "bhetta age saputra",
          "x1": -3.472486972808838,
          "x2": -2.1497244834899902
         },
         {
          "label": 0,
          "name": "fauzia mustikasari",
          "x1": -2.623318672180176,
          "x2": -4.713692665100098
         },
         {
          "label": 1,
          "name": "arnaud arindra adiyoso setio",
          "x1": -1.091106653213501,
          "x2": -5.31520938873291
         },
         {
          "label": 1,
          "name": "khairul anwar",
          "x1": -0.8953142166137695,
          "x2": -7.635829448699951
         },
         {
          "label": 1,
          "name": "zulhendra",
          "x1": -3.1479578018188477,
          "x2": -8.722081184387207
         },
         {
          "label": 1,
          "name": "ferric mardiansyah",
          "x1": 1.2387884855270386,
          "x2": -8.778404235839844
         },
         {
          "label": 1,
          "name": "mohamad ishlahul aziz",
          "x1": 2.9802238941192627,
          "x2": -5.294046401977539
         },
         {
          "label": 1,
          "name": "karel denny kosasih",
          "x1": -3.3093302249908447,
          "x2": -7.247102737426758
         },
         {
          "label": 0,
          "name": "dhika amanda",
          "x1": -0.4006860554218292,
          "x2": -6.100809097290039
         },
         {
          "label": 1,
          "name": "yan bastian p",
          "x1": -3.776784658432007,
          "x2": -5.391180515289307
         },
         {
          "label": 1,
          "name": "andri aditya hidayat",
          "x1": 0.14057792723178864,
          "x2": -4.101668834686279
         },
         {
          "label": 0,
          "name": "gantina rachmaputri",
          "x1": -3.0743961334228516,
          "x2": -2.50071120262146
         },
         {
          "label": 0,
          "name": "feny jasmaniar",
          "x1": -1.8030552864074707,
          "x2": -6.00583553314209
         },
         {
          "label": 1,
          "name": "arief surachman",
          "x1": 0.4852219521999359,
          "x2": -6.945459365844727
         },
         {
          "label": 0,
          "name": "joi aprilea br g",
          "x1": -2.7985596656799316,
          "x2": -7.024931907653809
         },
         {
          "label": 1,
          "name": "jonathan marcel tumboimbela",
          "x1": -4.336631774902344,
          "x2": -7.108142852783203
         },
         {
          "label": 1,
          "name": "eko listiaji",
          "x1": -4.197527885437012,
          "x2": -5.630788803100586
         },
         {
          "label": 1,
          "name": "r ramadhani afriadi barjono",
          "x1": 0.5127361416816711,
          "x2": -5.845035076141357
         },
         {
          "label": 1,
          "name": "hady pratama suhendri",
          "x1": 0.7489874362945557,
          "x2": -4.881433963775635
         },
         {
          "label": 0,
          "name": "anastasia astrid pratikno",
          "x1": -2.3435113430023193,
          "x2": -4.1866230964660645
         },
         {
          "label": 1,
          "name": "kridia agus burhani",
          "x1": -3.494828701019287,
          "x2": -6.027458667755127
         },
         {
          "label": 1,
          "name": "dicky hidayat",
          "x1": -0.4805426299571991,
          "x2": -8.680197715759277
         },
         {
          "label": 1,
          "name": "rofi yudisthira",
          "x1": -2.989650249481201,
          "x2": -9.203278541564941
         },
         {
          "label": 1,
          "name": "rizki irawan",
          "x1": -1.6241064071655273,
          "x2": -5.956552982330322
         },
         {
          "label": 1,
          "name": "juventus welly radianta ginting",
          "x1": -3.8157436847686768,
          "x2": -5.839643478393555
         },
         {
          "label": 1,
          "name": "adi nugroho setyo utomo",
          "x1": -4.995471954345703,
          "x2": -7.891263961791992
         },
         {
          "label": 0,
          "name": "selvira afiffa",
          "x1": -1.5232288837432861,
          "x2": -7.5220627784729
         },
         {
          "label": 0,
          "name": "elvira kusniyanti",
          "x1": -4.100127220153809,
          "x2": -5.569789409637451
         },
         {
          "label": 1,
          "name": "andreas kurniawan",
          "x1": -1.1737555265426636,
          "x2": -1.5498193502426147
         },
         {
          "label": 1,
          "name": "adhitya aryo pradana",
          "x1": 0.27493909001350403,
          "x2": -4.391144752502441
         },
         {
          "label": 0,
          "name": "veronica",
          "x1": -3.724260091781616,
          "x2": -7.782267093658447
         },
         {
          "label": 1,
          "name": "berry perdana putra",
          "x1": -2.9532504081726074,
          "x2": -1.9751577377319336
         },
         {
          "label": 0,
          "name": "iktri madrinovella",
          "x1": -2.5995798110961914,
          "x2": -6.457433223724365
         },
         {
          "label": 1,
          "name": "gunawan siregar",
          "x1": -1.3566207885742188,
          "x2": -2.9392004013061523
         },
         {
          "label": 1,
          "name": "krisnu ksatria",
          "x1": -2.9946961402893066,
          "x2": -4.937333106994629
         },
         {
          "label": 1,
          "name": "arian dito pratama",
          "x1": 0.7701325416564941,
          "x2": -4.619655609130859
         },
         {
          "label": 0,
          "name": "tia setiawati",
          "x1": -4.170597076416016,
          "x2": -4.503416061401367
         },
         {
          "label": 0,
          "name": "anintya novitasari",
          "x1": -2.7834279537200928,
          "x2": -4.513986587524414
         },
         {
          "label": 1,
          "name": "tyas agustinus rabudianto",
          "x1": -5.437633037567139,
          "x2": -5.4361982345581055
         },
         {
          "label": 1,
          "name": "ade permana",
          "x1": -0.43814200162887573,
          "x2": -4.488274097442627
         },
         {
          "label": 0,
          "name": "dwitya anggraini",
          "x1": -1.7098385095596313,
          "x2": -3.990410566329956
         },
         {
          "label": 0,
          "name": "irda eva sampe",
          "x1": -0.4248397648334503,
          "x2": -5.879245281219482
         },
         {
          "label": 0,
          "name": "effrita eka novianie",
          "x1": -3.5172321796417236,
          "x2": -5.45688533782959
         },
         {
          "label": 0,
          "name": "iin parlina",
          "x1": -2.9353017807006836,
          "x2": -6.03967809677124
         },
         {
          "label": 1,
          "name": "ivan satriadi",
          "x1": -2.868227481842041,
          "x2": -4.939939498901367
         },
         {
          "label": 0,
          "name": "aya putri ermaswari",
          "x1": -3.378751277923584,
          "x2": -2.6552000045776367
         },
         {
          "label": 0,
          "name": "rosalina paramita nasution",
          "x1": -1.702599048614502,
          "x2": -4.306786060333252
         },
         {
          "label": 1,
          "name": "irwan fitri fauzy",
          "x1": -3.257863998413086,
          "x2": -4.402925491333008
         },
         {
          "label": 1,
          "name": "dani yogatama",
          "x1": 0.5258745551109314,
          "x2": -4.875167369842529
         },
         {
          "label": 0,
          "name": "agustina berliana",
          "x1": -5.370218753814697,
          "x2": -5.327229976654053
         },
         {
          "label": 0,
          "name": "elfika hepifesti",
          "x1": -3.7141854763031006,
          "x2": -6.674014568328857
         },
         {
          "label": 0,
          "name": "christina agnes yoana ratmoko",
          "x1": -4.532291412353516,
          "x2": -4.916182041168213
         },
         {
          "label": 1,
          "name": "awal fadly",
          "x1": -1.3580225706100464,
          "x2": -7.9741387367248535
         },
         {
          "label": 1,
          "name": "insana abdullah kamil",
          "x1": -0.6286798119544983,
          "x2": -7.790417671203613
         },
         {
          "label": 0,
          "name": "jayanthi nirmala",
          "x1": -1.3022243976593018,
          "x2": -9.382492065429688
         },
         {
          "label": 1,
          "name": "ananda priatama",
          "x1": 0.42962703108787537,
          "x2": -4.645967960357666
         },
         {
          "label": 0,
          "name": "vina amelia",
          "x1": -2.43815279006958,
          "x2": -6.0828704833984375
         },
         {
          "label": 0,
          "name": "dian aruni k",
          "x1": -2.6657555103302,
          "x2": -6.000463962554932
         },
         {
          "label": 0,
          "name": "fidelis nandywardhana",
          "x1": -0.7699263691902161,
          "x2": -5.5382890701293945
         },
         {
          "label": 1,
          "name": "muhammad rumeizy",
          "x1": 3.711498737335205,
          "x2": -4.8273773193359375
         },
         {
          "label": 1,
          "name": "achmad tazkir",
          "x1": 0.8620901703834534,
          "x2": -7.40483283996582
         },
         {
          "label": 1,
          "name": "yosua erwin sitanggang",
          "x1": -1.3638792037963867,
          "x2": -3.891151189804077
         },
         {
          "label": 1,
          "name": "hadi saputra",
          "x1": -3.5279288291931152,
          "x2": -2.245966672897339
         },
         {
          "label": 1,
          "name": "raditya wahyu satwika",
          "x1": 0.11791153252124786,
          "x2": -3.9766385555267334
         },
         {
          "label": 1,
          "name": "agus suherman",
          "x1": -2.7820799350738525,
          "x2": -7.77424955368042
         },
         {
          "label": 1,
          "name": "prama shaumadhana",
          "x1": 0.9960942268371582,
          "x2": -5.689196586608887
         },
         {
          "label": 1,
          "name": "febrilla dwijaya b",
          "x1": -1.380538821220398,
          "x2": -9.297820091247559
         },
         {
          "label": 1,
          "name": "bharian",
          "x1": -1.6951100826263428,
          "x2": -6.501699447631836
         },
         {
          "label": 1,
          "name": "andry octavianus",
          "x1": -3.5077619552612305,
          "x2": -5.630765914916992
         },
         {
          "label": 0,
          "name": "sabrina adani katili",
          "x1": -1.9321411848068237,
          "x2": -4.97679328918457
         },
         {
          "label": 0,
          "name": "fanny kusumawati",
          "x1": -1.2951842546463013,
          "x2": -8.38208293914795
         },
         {
          "label": 1,
          "name": "mayfordana",
          "x1": -0.5001737475395203,
          "x2": -5.734928607940674
         },
         {
          "label": 1,
          "name": "purnama pakualam",
          "x1": -0.41703444719314575,
          "x2": -6.376667022705078
         },
         {
          "label": 1,
          "name": "umar dani fauzi",
          "x1": -1.4505563974380493,
          "x2": -7.143455505371094
         },
         {
          "label": 1,
          "name": "yahdi siradj",
          "x1": -1.6292270421981812,
          "x2": -8.310824394226074
         },
         {
          "label": 0,
          "name": "halida astatin",
          "x1": -2.4681150913238525,
          "x2": -4.610286712646484
         },
         {
          "label": 1,
          "name": "muhammad fuad",
          "x1": 3.539372444152832,
          "x2": -4.984658718109131
         },
         {
          "label": 0,
          "name": "yudithia dzaryati",
          "x1": 0.21454791724681854,
          "x2": -4.097928524017334
         },
         {
          "label": 1,
          "name": "wahdi fakhrozy",
          "x1": -1.8557002544403076,
          "x2": -8.13591194152832
         },
         {
          "label": 1,
          "name": "nurbudianto",
          "x1": -5.002338409423828,
          "x2": -6.577767372131348
         },
         {
          "label": 0,
          "name": "herynda cempaka sari",
          "x1": -0.053828392177820206,
          "x2": -5.241869926452637
         },
         {
          "label": 1,
          "name": "alverto marvin",
          "x1": -3.2180097103118896,
          "x2": -7.27394437789917
         },
         {
          "label": 0,
          "name": "widya taruko",
          "x1": -2.2645320892333984,
          "x2": -8.213468551635742
         },
         {
          "label": 1,
          "name": "rio ricardo siahaan",
          "x1": -1.8092149496078491,
          "x2": -5.987858295440674
         },
         {
          "label": 1,
          "name": "robi irsamukhti",
          "x1": -2.9377825260162354,
          "x2": -7.810379981994629
         },
         {
          "label": 0,
          "name": "nurul fitri ramadhani",
          "x1": 0.4054067134857178,
          "x2": -5.880088806152344
         },
         {
          "label": 1,
          "name": "sakti tanripada",
          "x1": -2.9212522506713867,
          "x2": -4.461118221282959
         },
         {
          "label": 0,
          "name": "nilna amelia",
          "x1": -2.4054534435272217,
          "x2": -6.080031871795654
         },
         {
          "label": 0,
          "name": "nurtety sinaga",
          "x1": -3.6619369983673096,
          "x2": -6.6978759765625
         },
         {
          "label": 1,
          "name": "m putra adhi laksana",
          "x1": -3.267249345779419,
          "x2": -2.150303363800049
         },
         {
          "label": 0,
          "name": "pradnya paramita",
          "x1": 0.4522845149040222,
          "x2": -4.053061008453369
         },
         {
          "label": 1,
          "name": "andi",
          "x1": -3.2867555618286133,
          "x2": -7.822237491607666
         },
         {
          "label": 0,
          "name": "sabella kale derec",
          "x1": -2.6727070808410645,
          "x2": -7.223507881164551
         },
         {
          "label": 0,
          "name": "resi ramadani",
          "x1": -0.9852360486984253,
          "x2": -5.767889022827148
         },
         {
          "label": 0,
          "name": "infall syafalni",
          "x1": -2.0620198249816895,
          "x2": -7.044285297393799
         },
         {
          "label": 1,
          "name": "reza hidayat",
          "x1": -0.44561901688575745,
          "x2": -8.6652250289917
         },
         {
          "label": 0,
          "name": "susanti louis",
          "x1": -5.369761943817139,
          "x2": -6.423276901245117
         },
         {
          "label": 1,
          "name": "sofyan ramlan",
          "x1": -0.6757447123527527,
          "x2": -5.307790279388428
         },
         {
          "label": 0,
          "name": "veby yuniardini sukrisman",
          "x1": -2.7102787494659424,
          "x2": -5.227180480957031
         },
         {
          "label": 1,
          "name": "agung wicaksono",
          "x1": -4.7730207443237305,
          "x2": -8.708941459655762
         },
         {
          "label": 1,
          "name": "fajar hermawan",
          "x1": 0.21354533731937408,
          "x2": -5.581249713897705
         },
         {
          "label": 0,
          "name": "rinka apsari",
          "x1": -2.3833913803100586,
          "x2": -4.899783611297607
         },
         {
          "label": 1,
          "name": "ahmad hamid zacky shebubakar",
          "x1": 1.064333438873291,
          "x2": -7.215771198272705
         },
         {
          "label": 0,
          "name": "sinta",
          "x1": -3.6428182125091553,
          "x2": -6.686834335327148
         },
         {
          "label": 0,
          "name": "almira alodia bawono",
          "x1": -0.7289924621582031,
          "x2": -6.461848258972168
         },
         {
          "label": 1,
          "name": "bobby suhandri sitepu",
          "x1": -2.546437978744507,
          "x2": -7.656882286071777
         },
         {
          "label": 1,
          "name": "yadi anriana hendarsyah",
          "x1": 1.3200178146362305,
          "x2": -8.672891616821289
         },
         {
          "label": 1,
          "name": "remy valerian",
          "x1": -2.961394786834717,
          "x2": -6.53176212310791
         },
         {
          "label": 1,
          "name": "daud kai rizal",
          "x1": -1.4030060768127441,
          "x2": -7.158769130706787
         },
         {
          "label": 1,
          "name": "muhamad umar dani",
          "x1": 3.441434860229492,
          "x2": -5.110276699066162
         },
         {
          "label": 1,
          "name": "luky rahmawan kusnaedi",
          "x1": -0.9351813793182373,
          "x2": -8.235270500183105
         },
         {
          "label": 0,
          "name": "astrid dita p r",
          "x1": -2.8089253902435303,
          "x2": -4.293081283569336
         },
         {
          "label": 0,
          "name": "iramona",
          "x1": -2.7531349658966064,
          "x2": -7.6469502449035645
         },
         {
          "label": 1,
          "name": "raja simarmata",
          "x1": 0.5507906079292297,
          "x2": -4.8409104347229
         },
         {
          "label": 1,
          "name": "poltak pardamean simarmata",
          "x1": 0.449720174074173,
          "x2": -4.816254138946533
         },
         {
          "label": 0,
          "name": "noviyanti erfien kaparang",
          "x1": -4.002861976623535,
          "x2": -5.535843372344971
         },
         {
          "label": 0,
          "name": "lusi putri dwita",
          "x1": -3.666266441345215,
          "x2": -3.1496315002441406
         },
         {
          "label": 0,
          "name": "putri erivani",
          "x1": -3.6492979526519775,
          "x2": -3.1014859676361084
         },
         {
          "label": 1,
          "name": "luthfi hendarso",
          "x1": -3.121711492538452,
          "x2": -8.477238655090332
         },
         {
          "label": 0,
          "name": "ike iklina",
          "x1": -3.128735065460205,
          "x2": -7.001364231109619
         },
         {
          "label": 1,
          "name": "arinta primandini auza",
          "x1": -1.9713006019592285,
          "x2": -4.943491458892822
         },
         {
          "label": 1,
          "name": "afif thiodhiya shalahuddin",
          "x1": -0.872912585735321,
          "x2": -7.097326278686523
         },
         {
          "label": 1,
          "name": "dimas febiyanto",
          "x1": -4.868698596954346,
          "x2": -6.468387126922607
         },
         {
          "label": 1,
          "name": "giri kuncoro",
          "x1": -4.268941879272461,
          "x2": -8.106908798217773
         },
         {
          "label": 1,
          "name": "rizky pratama",
          "x1": 0.8209700584411621,
          "x2": -4.823756217956543
         },
         {
          "label": 1,
          "name": "ginanjar mahar pamungkas",
          "x1": 0.0485503114759922,
          "x2": -5.342501640319824
         },
         {
          "label": 1,
          "name": "angga pramanto wiryono",
          "x1": -4.931057929992676,
          "x2": -7.204408645629883
         },
         {
          "label": 0,
          "name": "reni",
          "x1": -3.417482614517212,
          "x2": -7.691781520843506
         },
         {
          "label": 1,
          "name": "andreas dwi advento",
          "x1": -0.556783139705658,
          "x2": -5.6240434646606445
         },
         {
          "label": 1,
          "name": "hansen manuturi sianipar",
          "x1": -1.48625648021698,
          "x2": -4.437075138092041
         },
         {
          "label": 1,
          "name": "ary kisworo",
          "x1": -4.224823474884033,
          "x2": -8.338728904724121
         },
         {
          "label": 1,
          "name": "febrary surya putra",
          "x1": -3.555922508239746,
          "x2": -2.175292730331421
         },
         {
          "label": 0,
          "name": "aura purify",
          "x1": -2.3680825233459473,
          "x2": -8.320150375366211
         },
         {
          "label": 1,
          "name": "deddy surya wibowo",
          "x1": -5.538007736206055,
          "x2": -8.79304313659668
         },
         {
          "label": 1,
          "name": "dadan ramdan mangunpraja",
          "x1": 0.3101283609867096,
          "x2": -4.973459720611572
         },
         {
          "label": 1,
          "name": "pradipta kameshwara",
          "x1": 0.5641230344772339,
          "x2": -4.218076705932617
         },
         {
          "label": 1,
          "name": "sapta lestya dj",
          "x1": -3.216843605041504,
          "x2": -7.328535079956055
         },
         {
          "label": 1,
          "name": "farhan",
          "x1": -1.1115813255310059,
          "x2": -7.394399642944336
         },
         {
          "label": 1,
          "name": "efrata p meliala",
          "x1": -2.3730194568634033,
          "x2": -6.2633748054504395
         },
         {
          "label": 1,
          "name": "herwin syahputra",
          "x1": -3.5529747009277344,
          "x2": -2.2259671688079834
         },
         {
          "label": 1,
          "name": "zainal abidin",
          "x1": -2.557748317718506,
          "x2": -5.58774471282959
         },
         {
          "label": 0,
          "name": "dessy saptarini",
          "x1": -2.861917018890381,
          "x2": -4.902498245239258
         },
         {
          "label": 0,
          "name": "erqurani hijrian m",
          "x1": -2.930629253387451,
          "x2": -5.404519081115723
         },
         {
          "label": 1,
          "name": "septrianur kurniawan",
          "x1": -1.1664386987686157,
          "x2": -1.5618407726287842
         },
         {
          "label": 1,
          "name": "steven wijaya",
          "x1": -1.4124375581741333,
          "x2": -9.292476654052734
         },
         {
          "label": 1,
          "name": "mifthahqul yantika putra",
          "x1": -3.325937032699585,
          "x2": -2.3725392818450928
         },
         {
          "label": 1,
          "name": "hilman anwari",
          "x1": -1.379502773284912,
          "x2": -5.549620628356934
         },
         {
          "label": 1,
          "name": "husein azmi el firdausi",
          "x1": -1.9303560256958008,
          "x2": -7.4665069580078125
         },
         {
          "label": 1,
          "name": "sebastian nababan",
          "x1": -3.7140421867370605,
          "x2": -5.406352519989014
         },
         {
          "label": 1,
          "name": "iwan rianto manalu",
          "x1": -1.5879546403884888,
          "x2": -4.969517707824707
         },
         {
          "label": 1,
          "name": "tirta wijaya gunawan",
          "x1": -1.1171361207962036,
          "x2": -9.48445987701416
         },
         {
          "label": 1,
          "name": "ganjar gunawan",
          "x1": -1.3645840883255005,
          "x2": -2.9959354400634766
         },
         {
          "label": 1,
          "name": "wiradeva arif kristawarman",
          "x1": -2.375951051712036,
          "x2": -4.26672887802124
         },
         {
          "label": 1,
          "name": "gani",
          "x1": -3.2954795360565186,
          "x2": -6.467410087585449
         },
         {
          "label": 1,
          "name": "kreshna hary murti",
          "x1": -2.7038419246673584,
          "x2": -7.936804294586182
         },
         {
          "label": 0,
          "name": "mastura diana marieska",
          "x1": 0.46748700737953186,
          "x2": -5.38278341293335
         },
         {
          "label": 1,
          "name": "felisianus aditya pratama j.",
          "x1": 0.7604523301124573,
          "x2": -4.384827613830566
         },
         {
          "label": 1,
          "name": "freddy hutapea",
          "x1": -2.7461493015289307,
          "x2": -8.3374605178833
         },
         {
          "label": 1,
          "name": "daniel surya putra",
          "x1": -3.591341495513916,
          "x2": -2.2010817527770996
         },
         {
          "label": 1,
          "name": "dicky marianov",
          "x1": -3.0945816040039062,
          "x2": -5.573787689208984
         },
         {
          "label": 1,
          "name": "firman hadi muhammad",
          "x1": 3.4901347160339355,
          "x2": -5.053692817687988
         },
         {
          "label": 1,
          "name": "krisboa agustinus",
          "x1": -5.444161415100098,
          "x2": -5.425610542297363
         },
         {
          "label": 1,
          "name": "muhammad pasca nugraha",
          "x1": 3.5417611598968506,
          "x2": -5.232860565185547
         },
         {
          "label": 0,
          "name": "siti amalia hasnida",
          "x1": -1.2285889387130737,
          "x2": -6.703832626342773
         },
         {
          "label": 0,
          "name": "medianna novita",
          "x1": -3.419611930847168,
          "x2": -5.435783386230469
         },
         {
          "label": 1,
          "name": "vicky simatupang",
          "x1": -3.6147804260253906,
          "x2": -6.9648637771606445
         },
         {
          "label": 1,
          "name": "gilang tisona",
          "x1": -1.2630027532577515,
          "x2": -3.9835760593414307
         },
         {
          "label": 1,
          "name": "irfan syahrizal harahap",
          "x1": 0.7464709281921387,
          "x2": -7.993020534515381
         },
         {
          "label": 0,
          "name": "putri kemili",
          "x1": -3.735743284225464,
          "x2": -2.9668691158294678
         },
         {
          "label": 1,
          "name": "ganjar sulastomo",
          "x1": -3.71705961227417,
          "x2": -8.414407730102539
         },
         {
          "label": 0,
          "name": "christiovina elisabeth",
          "x1": -5.001694202423096,
          "x2": -4.566733360290527
         },
         {
          "label": 1,
          "name": "masrur abdull hamid ghani",
          "x1": -0.6617032885551453,
          "x2": -7.832233905792236
         },
         {
          "label": 1,
          "name": "handajaya rusli",
          "x1": -0.589850664138794,
          "x2": -6.696438789367676
         },
         {
          "label": 0,
          "name": "wulan sary",
          "x1": -0.8426188826560974,
          "x2": -7.267910003662109
         },
         {
          "label": 0,
          "name": "asri sarinastiti",
          "x1": -2.700695753097534,
          "x2": -4.275942802429199
         },
         {
          "label": 1,
          "name": "vandy cahyadi",
          "x1": -0.3256244957447052,
          "x2": -6.701237201690674
         },
         {
          "label": 0,
          "name": "rani wulantari",
          "x1": -2.0370686054229736,
          "x2": -4.305830955505371
         },
         {
          "label": 1,
          "name": "arie yuangga",
          "x1": -1.3667229413986206,
          "x2": -3.896794557571411
         },
         {
          "label": 0,
          "name": "diptya suci herdini",
          "x1": -2.6646406650543213,
          "x2": -8.43297290802002
         },
         {
          "label": 1,
          "name": "arizka pramadya septiawan",
          "x1": 0.5730507969856262,
          "x2": -4.51263427734375
         },
         {
          "label": 1,
          "name": "rheza faurizki rahayu",
          "x1": -1.2367863655090332,
          "x2": -6.975400447845459
         },
         {
          "label": 1,
          "name": "pradithya aria pura",
          "x1": 0.5139521360397339,
          "x2": -4.107674598693848
         },
         {
          "label": 1,
          "name": "reza aryaditya setyagraha",
          "x1": 0.2542995512485504,
          "x2": -3.702793598175049
         },
         {
          "label": 1,
          "name": "ridwan permana sidik",
          "x1": -0.6504196524620056,
          "x2": -4.561418056488037
         },
         {
          "label": 1,
          "name": "gustyana andree h",
          "x1": -0.4877592921257019,
          "x2": -5.515623092651367
         },
         {
          "label": 1,
          "name": "ristiyan ragil putradianto",
          "x1": -3.987200975418091,
          "x2": -3.3998124599456787
         },
         {
          "label": 1,
          "name": "febriandika putra anggia",
          "x1": -3.120337724685669,
          "x2": -3.2140629291534424
         },
         {
          "label": 1,
          "name": "huala p h s",
          "x1": -2.1120574474334717,
          "x2": -8.159159660339355
         },
         {
          "label": 1,
          "name": "hendry wijaya",
          "x1": -1.4236668348312378,
          "x2": -9.272615432739258
         },
         {
          "label": 0,
          "name": "desca widayanti",
          "x1": -4.450514316558838,
          "x2": -5.57766580581665
         },
         {
          "label": 1,
          "name": "dody budi satriyo",
          "x1": -3.7388343811035156,
          "x2": -8.571453094482422
         },
         {
          "label": 0,
          "name": "rani yudhiastari",
          "x1": -2.4662017822265625,
          "x2": -4.5337114334106445
         },
         {
          "label": 1,
          "name": "adhika pramodana putra",
          "x1": -3.0653328895568848,
          "x2": -2.0077922344207764
         },
         {
          "label": 1,
          "name": "harlen vareza",
          "x1": -1.2187585830688477,
          "x2": -7.205115795135498
         },
         {
          "label": 1,
          "name": "yudit kristianto",
          "x1": -4.858734607696533,
          "x2": -4.847778797149658
         },
         {
          "label": 0,
          "name": "ayuningtyas",
          "x1": -3.763439893722534,
          "x2": -4.201532363891602
         },
         {
          "label": 0,
          "name": "yunita",
          "x1": -3.4909400939941406,
          "x2": -6.143912315368652
         },
         {
          "label": 1,
          "name": "jiwo bagus laksono",
          "x1": -4.679886341094971,
          "x2": -8.724637985229492
         },
         {
          "label": 0,
          "name": "fitri yuniastria",
          "x1": -3.56672739982605,
          "x2": -4.0534234046936035
         },
         {
          "label": 0,
          "name": "risca yanditia",
          "x1": -4.365688800811768,
          "x2": -5.446918487548828
         },
         {
          "label": 1,
          "name": "eric tandiono",
          "x1": -4.304407119750977,
          "x2": -7.710962295532227
         },
         {
          "label": 1,
          "name": "wahyudi a t",
          "x1": -2.619143486022949,
          "x2": -8.947500228881836
         },
         {
          "label": 0,
          "name": "patricia stefanie",
          "x1": -3.172461748123169,
          "x2": -5.739298343658447
         },
         {
          "label": 1,
          "name": "sjaikhurrizal el muttaqien",
          "x1": -1.9475324153900146,
          "x2": -7.3631367683410645
         },
         {
          "label": 1,
          "name": "zakarias manfaluthy",
          "x1": -0.8514161705970764,
          "x2": -6.699186325073242
         },
         {
          "label": 1,
          "name": "dadan ardi nugraha",
          "x1": 0.48116201162338257,
          "x2": -5.288838863372803
         },
         {
          "label": 1,
          "name": "halilintar ramadhan h y",
          "x1": 0.7452245950698853,
          "x2": -5.842007637023926
         },
         {
          "label": 1,
          "name": "ary gantira",
          "x1": -3.8608651161193848,
          "x2": -5.709447860717773
         },
         {
          "label": 0,
          "name": "citra deliana dewi sundari",
          "x1": -3.390200614929199,
          "x2": -5.379756927490234
         },
         {
          "label": 1,
          "name": "giovannie kevin soeyanto",
          "x1": -3.7168402671813965,
          "x2": -5.833552837371826
         },
         {
          "label": 1,
          "name": "agustinus sebayang",
          "x1": -5.481410026550293,
          "x2": -5.446746826171875
         },
         {
          "label": 0,
          "name": "nida ul khasanah",
          "x1": -0.6165140867233276,
          "x2": -6.873599052429199
         },
         {
          "label": 0,
          "name": "rizki frima aldista",
          "x1": -1.7569924592971802,
          "x2": -6.750703811645508
         },
         {
          "label": 1,
          "name": "restu sejahtera sihotang",
          "x1": -3.3460769653320312,
          "x2": -6.741264820098877
         },
         {
          "label": 1,
          "name": "farah alfanur",
          "x1": -0.47653937339782715,
          "x2": -7.074594974517822
         },
         {
          "label": 1,
          "name": "muhammad fikri",
          "x1": 3.837615728378296,
          "x2": -4.946132659912109
         },
         {
          "label": 0,
          "name": "elingselasri",
          "x1": -2.995603561401367,
          "x2": -6.71117639541626
         },
         {
          "label": 0,
          "name": "anggita leviastuti",
          "x1": -2.714838981628418,
          "x2": -4.093006134033203
         },
         {
          "label": 0,
          "name": "dyah saptanti perwitasari",
          "x1": -2.2655866146087646,
          "x2": -3.845740795135498
         },
         {
          "label": 1,
          "name": "yoppy setiadi abadi",
          "x1": -0.36921045184135437,
          "x2": -2.917055606842041
         },
         {
          "label": 1,
          "name": "fikri ferdiana",
          "x1": -2.9404728412628174,
          "x2": -6.121635913848877
         },
         {
          "label": 1,
          "name": "rezy syahputra",
          "x1": -3.5164670944213867,
          "x2": -2.1852080821990967
         },
         {
          "label": 1,
          "name": "hadwimantoro",
          "x1": -5.104321002960205,
          "x2": -6.681060791015625
         },
         {
          "label": 1,
          "name": "louis",
          "x1": -3.514788866043091,
          "x2": -8.29307746887207
         },
         {
          "label": 1,
          "name": "m fernando",
          "x1": -4.157649993896484,
          "x2": -7.3292622566223145
         },
         {
          "label": 0,
          "name": "sauda fatmagustina",
          "x1": -5.401805877685547,
          "x2": -5.440710544586182
         },
         {
          "label": 1,
          "name": "arian ichsan",
          "x1": -2.2298965454101562,
          "x2": -5.250519752502441
         },
         {
          "label": 1,
          "name": "sugiarso amin",
          "x1": -2.7027621269226074,
          "x2": -7.230574131011963
         },
         {
          "label": 1,
          "name": "bagus indrawan hardi",
          "x1": -0.30488017201423645,
          "x2": -5.0684943199157715
         },
         {
          "label": 0,
          "name": "lysa yudani",
          "x1": -1.9486973285675049,
          "x2": -8.561626434326172
         },
         {
          "label": 0,
          "name": "spiona christa",
          "x1": -5.100157260894775,
          "x2": -4.644964218139648
         },
         {
          "label": 1,
          "name": "tyson valentino",
          "x1": -3.8791370391845703,
          "x2": -6.270379066467285
         },
         {
          "label": 0,
          "name": "ramot mayanti valentina sianturi",
          "x1": -3.446584939956665,
          "x2": -4.887490749359131
         },
         {
          "label": 0,
          "name": "nadhrah wivanius",
          "x1": -1.1549361944198608,
          "x2": -6.5691704750061035
         },
         {
          "label": 1,
          "name": "ahmad fathoni",
          "x1": 0.7662519216537476,
          "x2": -7.341409206390381
         },
         {
          "label": 0,
          "name": "pramila deva e",
          "x1": -2.1136529445648193,
          "x2": -6.3048553466796875
         },
         {
          "label": 1,
          "name": "odit ekwardo",
          "x1": -3.7396295070648193,
          "x2": -8.199207305908203
         },
         {
          "label": 0,
          "name": "beta zahra al husna",
          "x1": -0.2162313014268875,
          "x2": -6.763288497924805
         },
         {
          "label": 1,
          "name": "atra noventa",
          "x1": -4.234722137451172,
          "x2": -6.735920429229736
         },
         {
          "label": 1,
          "name": "ferdinan rianto sipayung",
          "x1": -4.153902053833008,
          "x2": -5.926830291748047
         },
         {
          "label": 0,
          "name": "lis ermawati",
          "x1": -4.115800857543945,
          "x2": -4.502834796905518
         },
         {
          "label": 0,
          "name": "ribkah",
          "x1": -2.2043297290802,
          "x2": -7.690526008605957
         },
         {
          "label": 1,
          "name": "ahmad ihsan ramdani",
          "x1": 0.6993728876113892,
          "x2": -6.683482646942139
         },
         {
          "label": 1,
          "name": "mochamad alqi harlianto",
          "x1": 2.824645519256592,
          "x2": -5.321444511413574
         },
         {
          "label": 1,
          "name": "fauzan firdaus",
          "x1": -1.463919758796692,
          "x2": -7.404752731323242
         },
         {
          "label": 0,
          "name": "ina hayati",
          "x1": -1.3923768997192383,
          "x2": -8.215086936950684
         },
         {
          "label": 1,
          "name": "satrialdi",
          "x1": -2.858839511871338,
          "x2": -4.94950008392334
         },
         {
          "label": 0,
          "name": "rahma nuraini",
          "x1": 0.6306900382041931,
          "x2": -6.99706506729126
         },
         {
          "label": 1,
          "name": "marvin anggasta",
          "x1": -1.0968700647354126,
          "x2": -3.9534735679626465
         },
         {
          "label": 0,
          "name": "gina mayang lestari",
          "x1": -1.1909351348876953,
          "x2": -4.082043647766113
         },
         {
          "label": 0,
          "name": "mila vanesa",
          "x1": -2.707207679748535,
          "x2": -6.575841903686523
         },
         {
          "label": 1,
          "name": "moch. dwi subiyantoro",
          "x1": -5.21987771987915,
          "x2": -6.866710662841797
         },
         {
          "label": 1,
          "name": "kurniawan",
          "x1": -1.2085134983062744,
          "x2": -1.6110466718673706
         },
         {
          "label": 1,
          "name": "krisha adhya nirwana",
          "x1": -1.0051922798156738,
          "x2": -5.642199516296387
         },
         {
          "label": 1,
          "name": "arief latu suseno",
          "x1": -3.222585439682007,
          "x2": -8.008566856384277
         },
         {
          "label": 0,
          "name": "laras wuri dianningrum",
          "x1": -2.0471529960632324,
          "x2": -4.571565628051758
         },
         {
          "label": 1,
          "name": "dimas pramudito",
          "x1": -0.442720502614975,
          "x2": -4.849705219268799
         },
         {
          "label": 0,
          "name": "sakinah",
          "x1": -2.327409505844116,
          "x2": -7.433215141296387
         },
         {
          "label": 1,
          "name": "irfan hidayat",
          "x1": -0.4081650674343109,
          "x2": -8.676417350769043
         },
         {
          "label": 1,
          "name": "suwanto",
          "x1": -5.34047794342041,
          "x2": -6.544760704040527
         },
         {
          "label": 1,
          "name": "ariel nian",
          "x1": -2.751676321029663,
          "x2": -5.739555835723877
         },
         {
          "label": 1,
          "name": "marly resdi",
          "x1": -2.86177134513855,
          "x2": -7.724672317504883
         },
         {
          "label": 1,
          "name": "zulfi rahardian",
          "x1": -1.3462108373641968,
          "x2": -6.3461456298828125
         },
         {
          "label": 1,
          "name": "tri karian",
          "x1": -2.9978208541870117,
          "x2": -5.173063278198242
         },
         {
          "label": 0,
          "name": "laurentia arnetta",
          "x1": -3.4177474975585938,
          "x2": -5.221409320831299
         },
         {
          "label": 0,
          "name": "ganisa kurniati suryaman",
          "x1": -1.658299446105957,
          "x2": -4.537207126617432
         },
         {
          "label": 1,
          "name": "ashlih dameitry",
          "x1": -2.0706515312194824,
          "x2": -6.925204753875732
         },
         {
          "label": 0,
          "name": "neysa khumaira",
          "x1": -1.104582667350769,
          "x2": -8.181471824645996
         },
         {
          "label": 0,
          "name": "karisa pepitasari",
          "x1": -2.5319905281066895,
          "x2": -3.8185133934020996
         },
         {
          "label": 0,
          "name": "risma m manurung",
          "x1": -1.815031886100769,
          "x2": -6.58742618560791
         },
         {
          "label": 1,
          "name": "mohamad galuh sagara",
          "x1": 2.846578598022461,
          "x2": -5.220808982849121
         },
         {
          "label": 0,
          "name": "alia prima candradini",
          "x1": -1.8772071599960327,
          "x2": -5.1358819007873535
         },
         {
          "label": 0,
          "name": "oktavia sandriani",
          "x1": -2.857252597808838,
          "x2": -5.00710916519165
         },
         {
          "label": 0,
          "name": "wan kemala safitri",
          "x1": -2.6311731338500977,
          "x2": -4.748227119445801
         },
         {
          "label": 1,
          "name": "taufan dwinanto",
          "x1": -4.664095878601074,
          "x2": -6.092147350311279
         },
         {
          "label": 0,
          "name": "asri wijayanti",
          "x1": -1.23746657371521,
          "x2": -9.527316093444824
         },
         {
          "label": 1,
          "name": "restu muhamad bagus",
          "x1": 3.2388620376586914,
          "x2": -4.964153289794922
         },
         {
          "label": 1,
          "name": "ardhana pradipta",
          "x1": 0.22291997075080872,
          "x2": -4.546168804168701
         },
         {
          "label": 1,
          "name": "julian situmorang",
          "x1": -3.3403148651123047,
          "x2": -6.945285320281982
         },
         {
          "label": 0,
          "name": "rahmi yusuf",
          "x1": -2.420442581176758,
          "x2": -8.406885147094727
         },
         {
          "label": 1,
          "name": "oktafianto mende",
          "x1": -5.190174579620361,
          "x2": -6.481222152709961
         },
         {
          "label": 1,
          "name": "ari rahmansyah",
          "x1": 1.0757100582122803,
          "x2": -8.150196075439453
         },
         {
          "label": 1,
          "name": "evan kamaratul insani",
          "x1": -1.432839274406433,
          "x2": -4.818137168884277
         },
         {
          "label": 1,
          "name": "david rocky boulder",
          "x1": -3.6003758907318115,
          "x2": -8.239794731140137
         },
         {
          "label": 1,
          "name": "frantan butar butar",
          "x1": -2.0112760066986084,
          "x2": -3.540295362472534
         },
         {
          "label": 1,
          "name": "citra pradipta akbari futra",
          "x1": 0.5953986644744873,
          "x2": -4.125310897827148
         },
         {
          "label": 1,
          "name": "beny nugraha",
          "x1": 1.387972354888916,
          "x2": -5.935041427612305
         },
         {
          "label": 1,
          "name": "fariz muharram hasby",
          "x1": 3.3878955841064453,
          "x2": -5.379725933074951
         },
         {
          "label": 1,
          "name": "ahmad zufri",
          "x1": 0.7551549077033997,
          "x2": -7.429066181182861
         },
         {
          "label": 1,
          "name": "abd rachmansyah",
          "x1": 1.085322380065918,
          "x2": -7.901641845703125
         },
         {
          "label": 1,
          "name": "ignatius danang saptyadi",
          "x1": -0.5697947144508362,
          "x2": -4.077763557434082
         },
         {
          "label": 1,
          "name": "alvan alvian",
          "x1": -2.712486505508423,
          "x2": -5.731271266937256
         },
         {
          "label": 1,
          "name": "ngurah gede pandu weda swara",
          "x1": -0.140127494931221,
          "x2": -5.597289085388184
         },
         {
          "label": 1,
          "name": "giovanni sakti nugraha",
          "x1": 1.350779414176941,
          "x2": -5.909182548522949
         },
         {
          "label": 0,
          "name": "yulia kurniasari",
          "x1": -1.4003161191940308,
          "x2": -1.9369192123413086
         },
         {
          "label": 1,
          "name": "rizki rachmatulloh",
          "x1": 0.6947301030158997,
          "x2": -7.482569694519043
         },
         {
          "label": 1,
          "name": "andre puja oktora",
          "x1": -4.59005880355835,
          "x2": -7.382266044616699
         },
         {
          "label": 0,
          "name": "debby widiyatuti",
          "x1": -4.32561731338501,
          "x2": -5.102029800415039
         },
         {
          "label": 0,
          "name": "anastasia kharina",
          "x1": -1.8269587755203247,
          "x2": -4.707244873046875
         },
         {
          "label": 0,
          "name": "ambaria",
          "x1": -1.0770667791366577,
          "x2": -6.744141101837158
         },
         {
          "label": 1,
          "name": "medi triyantono",
          "x1": -4.904356956481934,
          "x2": -6.541709899902344
         },
         {
          "label": 0,
          "name": "fenny pujiastuti",
          "x1": -4.219798564910889,
          "x2": -5.256542205810547
         },
         {
          "label": 1,
          "name": "muhammad zein",
          "x1": 3.4606244564056396,
          "x2": -4.910619258880615
         },
         {
          "label": 0,
          "name": "qonita hidayatullah",
          "x1": -0.37473201751708984,
          "x2": -8.517581939697266
         },
         {
          "label": 1,
          "name": "taufiq ihsan",
          "x1": -2.0518906116485596,
          "x2": -7.5141401290893555
         },
         {
          "label": 0,
          "name": "wasti nurani",
          "x1": -3.62225341796875,
          "x2": -5.329887866973877
         },
         {
          "label": 0,
          "name": "shinta yulizia",
          "x1": -3.294455051422119,
          "x2": -6.34702205657959
         },
         {
          "label": 1,
          "name": "devi hughes ardiansyah",
          "x1": 1.2286901473999023,
          "x2": -8.8211669921875
         },
         {
          "label": 1,
          "name": "muhamad prama ekaputra",
          "x1": -3.0894205570220947,
          "x2": -2.0235512256622314
         },
         {
          "label": 1,
          "name": "dian padli",
          "x1": -2.4306397438049316,
          "x2": -6.617420196533203
         },
         {
          "label": 1,
          "name": "erlangga surya dharma",
          "x1": 0.12513741850852966,
          "x2": -3.6505391597747803
         },
         {
          "label": 1,
          "name": "ilham dani",
          "x1": -2.3702456951141357,
          "x2": -6.642074108123779
         },
         {
          "label": 1,
          "name": "aditya mahendra",
          "x1": 0.45012417435646057,
          "x2": -5.207939147949219
         },
         {
          "label": 1,
          "name": "starly nope",
          "x1": -3.6832094192504883,
          "x2": -7.514598369598389
         },
         {
          "label": 1,
          "name": "ega wisnu adiguna",
          "x1": -1.5277761220932007,
          "x2": -2.940796136856079
         },
         {
          "label": 1,
          "name": "muhammad rizal",
          "x1": 3.882720708847046,
          "x2": -4.9664835929870605
         },
         {
          "label": 0,
          "name": "ida ayu purnamasari",
          "x1": -1.887298583984375,
          "x2": -4.400451183319092
         },
         {
          "label": 1,
          "name": "ardhana aryomuktiwibowo",
          "x1": -5.639530658721924,
          "x2": -8.784539222717285
         },
         {
          "label": 0,
          "name": "utami ekawati",
          "x1": -4.135883331298828,
          "x2": -4.455521106719971
         },
         {
          "label": 1,
          "name": "muhammad ihsan",
          "x1": 3.4007842540740967,
          "x2": -4.942535400390625
         },
         {
          "label": 1,
          "name": "budi gunawan",
          "x1": -1.4333994388580322,
          "x2": -2.8694825172424316
         },
         {
          "label": 1,
          "name": "eric sanjaya",
          "x1": -1.336854100227356,
          "x2": -9.243389129638672
         },
         {
          "label": 0,
          "name": "iis fatmawati munazim",
          "x1": -3.8899660110473633,
          "x2": -4.642569065093994
         },
         {
          "label": 1,
          "name": "yulius arya pamungkas",
          "x1": -2.032938241958618,
          "x2": -8.246644020080566
         },
         {
          "label": 0,
          "name": "puri arta widhiasi",
          "x1": -2.4314522743225098,
          "x2": -4.494070053100586
         },
         {
          "label": 0,
          "name": "ratna juwita sari",
          "x1": -2.3491666316986084,
          "x2": -4.05292272567749
         },
         {
          "label": 0,
          "name": "iin farentin tanzil",
          "x1": -3.603785991668701,
          "x2": -5.735583305358887
         },
         {
          "label": 1,
          "name": "joseph rich aryanto",
          "x1": -4.894273281097412,
          "x2": -6.78707218170166
         },
         {
          "label": 1,
          "name": "rizcky chandrasanjaya",
          "x1": -0.3389529883861542,
          "x2": -5.372436046600342
         },
         {
          "label": 0,
          "name": "novi setiani",
          "x1": -3.6360912322998047,
          "x2": -5.460172653198242
         },
         {
          "label": 1,
          "name": "muhammad zakaria",
          "x1": 3.7520620822906494,
          "x2": -5.214000701904297
         },
         {
          "label": 1,
          "name": "aris setiyono",
          "x1": -4.384195327758789,
          "x2": -7.969245433807373
         },
         {
          "label": 1,
          "name": "hugo toni seputro",
          "x1": -4.447761535644531,
          "x2": -8.157692909240723
         },
         {
          "label": 1,
          "name": "rahmandito junaidi",
          "x1": 0.5841711163520813,
          "x2": -7.020883083343506
         },
         {
          "label": 1,
          "name": "muhammad azhar haslian l",
          "x1": 3.7190637588500977,
          "x2": -5.351646900177002
         },
         {
          "label": 1,
          "name": "mario nurdianto",
          "x1": -4.920395851135254,
          "x2": -6.29143762588501
         },
         {
          "label": 0,
          "name": "luh ariani budiadnja",
          "x1": -1.6513408422470093,
          "x2": -6.232285022735596
         },
         {
          "label": 1,
          "name": "ardyka perdana putra",
          "x1": -2.9266083240509033,
          "x2": -1.995224952697754
         },
         {
          "label": 1,
          "name": "james zulfan",
          "x1": -2.459747314453125,
          "x2": -7.896331787109375
         },
         {
          "label": 1,
          "name": "amir muntaha",
          "x1": -1.6437339782714844,
          "x2": -7.496610164642334
         },
         {
          "label": 1,
          "name": "andry hermawan",
          "x1": 0.16870620846748352,
          "x2": -5.475611686706543
         },
         {
          "label": 0,
          "name": "afia abdan mardiyya",
          "x1": -0.5789949297904968,
          "x2": -5.02631950378418
         },
         {
          "label": 1,
          "name": "andika catur reza",
          "x1": -0.2815367877483368,
          "x2": -5.846877574920654
         },
         {
          "label": 0,
          "name": "anindita prameswari",
          "x1": -2.3475539684295654,
          "x2": -4.153064727783203
         },
         {
          "label": 1,
          "name": "didik dwi hariyanto",
          "x1": -4.800970554351807,
          "x2": -5.990836143493652
         },
         {
          "label": 1,
          "name": "adi putra",
          "x1": -3.6342084407806396,
          "x2": -2.4589409828186035
         },
         {
          "label": 0,
          "name": "findi novia lusintasari",
          "x1": -3.1995368003845215,
          "x2": -5.456167697906494
         },
         {
          "label": 1,
          "name": "bhramantya s nurhadi",
          "x1": 0.2741040885448456,
          "x2": -6.038686275482178
         },
         {
          "label": 1,
          "name": "dian ultra",
          "x1": -2.5149009227752686,
          "x2": -6.899911880493164
         },
         {
          "label": 1,
          "name": "witarto",
          "x1": -3.1564278602600098,
          "x2": -8.057164192199707
         },
         {
          "label": 0,
          "name": "syatcha helistiyaniwati",
          "x1": -4.105227470397949,
          "x2": -5.047471046447754
         },
         {
          "label": 1,
          "name": "ruben septianus",
          "x1": -3.8691775798797607,
          "x2": -6.49337100982666
         },
         {
          "label": 0,
          "name": "hushla shudri",
          "x1": -2.586827516555786,
          "x2": -8.305413246154785
         },
         {
          "label": 0,
          "name": "crystal nuansa aini",
          "x1": -2.8036909103393555,
          "x2": -5.03507137298584
         },
         {
          "label": 1,
          "name": "yulius racaly wiharja",
          "x1": -1.9987595081329346,
          "x2": -7.282203197479248
         },
         {
          "label": 0,
          "name": "dwi utami",
          "x1": -3.8236024379730225,
          "x2": -4.830990791320801
         },
         {
          "label": 1,
          "name": "firnandi lucky pratama",
          "x1": 0.7711467742919922,
          "x2": -4.642578601837158
         },
         {
          "label": 1,
          "name": "esthu prasetio",
          "x1": 0.04041741415858269,
          "x2": -3.1144397258758545
         },
         {
          "label": 1,
          "name": "tedi cahyadi",
          "x1": -1.863055944442749,
          "x2": -8.627373695373535
         },
         {
          "label": 1,
          "name": "mohammad rizky adrian",
          "x1": 3.842444658279419,
          "x2": -4.923290252685547
         },
         {
          "label": 1,
          "name": "raden adiwena hydravicyan",
          "x1": -0.19743788242340088,
          "x2": -5.038945198059082
         },
         {
          "label": 0,
          "name": "pramitha dianty",
          "x1": -3.15230131149292,
          "x2": -4.59493350982666
         },
         {
          "label": 0,
          "name": "rasmiaditya silasari",
          "x1": -2.271888494491577,
          "x2": -4.093868732452393
         },
         {
          "label": 0,
          "name": "nur amalina binti mohd azam",
          "x1": -1.3099381923675537,
          "x2": -5.937408447265625
         },
         {
          "label": 1,
          "name": "raden narendra kurnia putra",
          "x1": -3.081547737121582,
          "x2": -2.2629663944244385
         },
         {
          "label": 0,
          "name": "nenden fauziah",
          "x1": -2.992032766342163,
          "x2": -8.00908374786377
         },
         {
          "label": 1,
          "name": "bagus putu wahyu nirmala",
          "x1": -3.673466682434082,
          "x2": -2.1006691455841064
         },
         {
          "label": 1,
          "name": "dian dwi nugraha",
          "x1": 1.351615071296692,
          "x2": -5.899596691131592
         },
         {
          "label": 1,
          "name": "rudy bony fensius siagian",
          "x1": -3.888871669769287,
          "x2": -6.192523002624512
         },
         {
          "label": 1,
          "name": "triguna ashin wijaya",
          "x1": -1.2141304016113281,
          "x2": -9.50818920135498
         },
         {
          "label": 1,
          "name": "aditya prabaswara",
          "x1": 0.4230528473854065,
          "x2": -4.083832263946533
         },
         {
          "label": 1,
          "name": "iman nugraha",
          "x1": 1.3879038095474243,
          "x2": -5.927288055419922
         },
         {
          "label": 1,
          "name": "idotua tindaon",
          "x1": -4.0515971183776855,
          "x2": -7.788636207580566
         },
         {
          "label": 0,
          "name": "chintara permata",
          "x1": -0.47705259919166565,
          "x2": -4.220274448394775
         },
         {
          "label": 0,
          "name": "wina fitriah",
          "x1": -3.208792209625244,
          "x2": -4.479247093200684
         },
         {
          "label": 1,
          "name": "awaluddin",
          "x1": -2.5239548683166504,
          "x2": -8.73007583618164
         },
         {
          "label": 1,
          "name": "al maududi muthohari",
          "x1": -0.11939684301614761,
          "x2": -7.35111141204834
         },
         {
          "label": 1,
          "name": "jamal saepul aziz",
          "x1": -0.988175094127655,
          "x2": -7.501943588256836
         },
         {
          "label": 1,
          "name": "juniar adri",
          "x1": -2.151517868041992,
          "x2": -7.1414794921875
         },
         {
          "label": 0,
          "name": "afwa firdausi",
          "x1": -1.5578620433807373,
          "x2": -7.434587478637695
         },
         {
          "label": 1,
          "name": "naufal el farisi machmud",
          "x1": -0.36776819825172424,
          "x2": -7.069194793701172
         },
         {
          "label": 0,
          "name": "ima muryani",
          "x1": -2.531174421310425,
          "x2": -6.785499572753906
         },
         {
          "label": 1,
          "name": "solehudin murpi",
          "x1": -2.888197898864746,
          "x2": -8.57580852508545
         },
         {
          "label": 0,
          "name": "ratih purnama sari",
          "x1": -2.066742420196533,
          "x2": -4.259133815765381
         },
         {
          "label": 0,
          "name": "angelia",
          "x1": -2.9246928691864014,
          "x2": -6.670836448669434
         },
         {
          "label": 1,
          "name": "nopriyandi muttaqien",
          "x1": -4.393754482269287,
          "x2": -6.725225925445557
         },
         {
          "label": 0,
          "name": "inez",
          "x1": -3.394456148147583,
          "x2": -7.547691822052002
         },
         {
          "label": 0,
          "name": "nursiva azlia",
          "x1": -2.273205041885376,
          "x2": -6.5000481605529785
         },
         {
          "label": 0,
          "name": "kendra valentin",
          "x1": -3.748532295227051,
          "x2": -6.344804763793945
         },
         {
          "label": 1,
          "name": "aan setiawan",
          "x1": -0.6851194500923157,
          "x2": -2.8682751655578613
         },
         {
          "label": 1,
          "name": "rizkian adwi maskan",
          "x1": -1.888494610786438,
          "x2": -6.194692611694336
         },
         {
          "label": 1,
          "name": "royanto napitupulu",
          "x1": -4.898288726806641,
          "x2": -7.199357986450195
         },
         {
          "label": 1,
          "name": "agung prihadi suharyono",
          "x1": -4.7268967628479,
          "x2": -7.383831977844238
         },
         {
          "label": 1,
          "name": "yudhistira widya putra",
          "x1": -2.9899163246154785,
          "x2": -9.220026969909668
         },
         {
          "label": 1,
          "name": "stephanus adrian",
          "x1": -3.8000800609588623,
          "x2": -6.054649829864502
         },
         {
          "label": 1,
          "name": "nico taufik hidayat",
          "x1": -0.4469928741455078,
          "x2": -8.655829429626465
         },
         {
          "label": 1,
          "name": "rudy prihantoro",
          "x1": -5.019542217254639,
          "x2": -6.897520542144775
         },
         {
          "label": 1,
          "name": "ardian eko handoko",
          "x1": -4.147015571594238,
          "x2": -7.619309425354004
         },
         {
          "label": 0,
          "name": "tiara rezky amalia",
          "x1": -1.2430062294006348,
          "x2": -6.961517810821533
         },
         {
          "label": 0,
          "name": "paramita apsari wiryomiharjo",
          "x1": -2.410566568374634,
          "x2": -3.9152228832244873
         },
         {
          "label": 1,
          "name": "luthfi hariadi laksono",
          "x1": -4.759150981903076,
          "x2": -8.61637020111084
         },
         {
          "label": 1,
          "name": "bayu hendra winata",
          "x1": -0.1685180366039276,
          "x2": -5.373115539550781
         },
         {
          "label": 0,
          "name": "reny retnowati",
          "x1": -3.7179551124572754,
          "x2": -7.659498691558838
         },
         {
          "label": 1,
          "name": "mikko pisantiadiputra",
          "x1": -3.780869483947754,
          "x2": -3.1992015838623047
         },
         {
          "label": 0,
          "name": "r leonny yulita h",
          "x1": -3.715280294418335,
          "x2": -7.721864223480225
         },
         {
          "label": 0,
          "name": "wilda aini n",
          "x1": -2.877593994140625,
          "x2": -5.8996076583862305
         },
         {
          "label": 1,
          "name": "jumadi timotius simangunsong",
          "x1": -4.307369232177734,
          "x2": -6.554128646850586
         },
         {
          "label": 0,
          "name": "tita rahma puspita",
          "x1": -2.9284536838531494,
          "x2": -3.615468978881836
         },
         {
          "label": 1,
          "name": "dinito pramudya prihatino",
          "x1": -3.651716947555542,
          "x2": -4.098338603973389
         },
         {
          "label": 1,
          "name": "m ikbal",
          "x1": -2.2809386253356934,
          "x2": -7.7168426513671875
         },
         {
          "label": 1,
          "name": "pratama adinanta",
          "x1": 0.5987207889556885,
          "x2": -4.491329669952393
         },
         {
          "label": 0,
          "name": "geby yusianti",
          "x1": -4.07587194442749,
          "x2": -6.252511024475098
         },
         {
          "label": 0,
          "name": "yunitazari laksmi p",
          "x1": -2.805365562438965,
          "x2": -4.260801792144775
         },
         {
          "label": 1,
          "name": "ferry mulia",
          "x1": -3.0234568119049072,
          "x2": -7.648091793060303
         },
         {
          "label": 1,
          "name": "zaki adam",
          "x1": -0.5268768072128296,
          "x2": -6.879192352294922
         },
         {
          "label": 1,
          "name": "arief murnandityo",
          "x1": -4.085732460021973,
          "x2": -7.234145164489746
         },
         {
          "label": 1,
          "name": "maulana senjaya susilo",
          "x1": -0.420522004365921,
          "x2": -7.5807414054870605
         },
         {
          "label": 1,
          "name": "andy wiriawan",
          "x1": -0.8947635293006897,
          "x2": -5.273223876953125
         },
         {
          "label": 0,
          "name": "mutiara gani",
          "x1": -3.05025315284729,
          "x2": -4.905817031860352
         },
         {
          "label": 0,
          "name": "sri arianti",
          "x1": -3.4831414222717285,
          "x2": -4.974973201751709
         },
         {
          "label": 1,
          "name": "andik mirta yusianto",
          "x1": -4.620060443878174,
          "x2": -5.63841438293457
         },
         {
          "label": 0,
          "name": "cory elisabeth manurung",
          "x1": -2.872565269470215,
          "x2": -6.825899600982666
         },
         {
          "label": 1,
          "name": "kikin muttaqin",
          "x1": -3.2618355751037598,
          "x2": -6.930325031280518
         },
         {
          "label": 1,
          "name": "fata mukhlish",
          "x1": -1.6993787288665771,
          "x2": -7.88668155670166
         },
         {
          "label": 1,
          "name": "muhajir",
          "x1": -2.296799421310425,
          "x2": -7.895327091217041
         },
         {
          "label": 1,
          "name": "muhammad ridlo erdata nasution",
          "x1": 3.5122218132019043,
          "x2": -4.979466438293457
         },
         {
          "label": 0,
          "name": "nadia paramita",
          "x1": -1.8456315994262695,
          "x2": -4.023906230926514
         },
         {
          "label": 1,
          "name": "riyan galuh pratama",
          "x1": 0.8818742036819458,
          "x2": -4.707973957061768
         },
         {
          "label": 1,
          "name": "halimas tansil",
          "x1": -2.40225887298584,
          "x2": -6.663896083831787
         },
         {
          "label": 1,
          "name": "ihwanul alim",
          "x1": -2.4448506832122803,
          "x2": -6.935764789581299
         },
         {
          "label": 1,
          "name": "husain hs",
          "x1": -2.6849794387817383,
          "x2": -7.80467414855957
         },
         {
          "label": 1,
          "name": "widianta gomulya",
          "x1": -4.669317245483398,
          "x2": -5.8073039054870605
         },
         {
          "label": 0,
          "name": "yuni paramita h",
          "x1": -2.6441617012023926,
          "x2": -4.073472023010254
         },
         {
          "label": 0,
          "name": "nur islami javad",
          "x1": -2.240044593811035,
          "x2": -6.859640121459961
         },
         {
          "label": 1,
          "name": "freddy b aritonang",
          "x1": -3.4820308685302734,
          "x2": -7.833034038543701
         },
         {
          "label": 1,
          "name": "hadi putra masrul",
          "x1": -3.6142568588256836,
          "x2": -2.3442916870117188
         },
         {
          "label": 1,
          "name": "saga hayyu suyanto putra",
          "x1": -3.486668348312378,
          "x2": -2.036546230316162
         },
         {
          "label": 1,
          "name": "ari kurniawan",
          "x1": -1.194946527481079,
          "x2": -1.5805840492248535
         },
         {
          "label": 1,
          "name": "bobby minola ginting",
          "x1": -3.9486093521118164,
          "x2": -6.219280242919922
         },
         {
          "label": 1,
          "name": "dhea wachju dwiperkasa",
          "x1": -0.07672074437141418,
          "x2": -5.6301164627075195
         },
         {
          "label": 1,
          "name": "ivan triyadi",
          "x1": -4.360171318054199,
          "x2": -5.955261707305908
         },
         {
          "label": 1,
          "name": "widi yansen",
          "x1": -3.868377923965454,
          "x2": -6.951382637023926
         },
         {
          "label": 1,
          "name": "trihandoyo budi cahyanto",
          "x1": -4.892124176025391,
          "x2": -7.443221092224121
         },
         {
          "label": 1,
          "name": "munif sudaryono",
          "x1": -4.05996561050415,
          "x2": -8.465879440307617
         },
         {
          "label": 1,
          "name": "adhipta semidang putra",
          "x1": -3.316662073135376,
          "x2": -2.29403018951416
         },
         {
          "label": 1,
          "name": "anderson",
          "x1": -4.074800491333008,
          "x2": -7.536247730255127
         },
         {
          "label": 0,
          "name": "listyannisa retno lestari",
          "x1": -3.084376096725464,
          "x2": -4.376575469970703
         },
         {
          "label": 1,
          "name": "muhammad ardiansyah",
          "x1": 3.619863748550415,
          "x2": -5.274415969848633
         },
         {
          "label": 1,
          "name": "joni wahyudi",
          "x1": -2.833071708679199,
          "x2": -9.001910209655762
         },
         {
          "label": 0,
          "name": "dwi putri yudianti yudison",
          "x1": -3.8789877891540527,
          "x2": -3.339179039001465
         },
         {
          "label": 0,
          "name": "susiana ekasari",
          "x1": -2.1871097087860107,
          "x2": -5.126051425933838
         },
         {
          "label": 1,
          "name": "adrianus novadri suparman",
          "x1": -3.7378439903259277,
          "x2": -5.959877014160156
         },
         {
          "label": 1,
          "name": "wilson yumadi",
          "x1": -2.5313565731048584,
          "x2": -8.345699310302734
         },
         {
          "label": 1,
          "name": "lambok lambertus r",
          "x1": -2.890052556991577,
          "x2": -7.796483516693115
         },
         {
          "label": 0,
          "name": "aldila dwityakirana putri",
          "x1": -3.2404747009277344,
          "x2": -2.44118070602417
         },
         {
          "label": 0,
          "name": "sienny wijaya",
          "x1": -1.4303579330444336,
          "x2": -9.288590431213379
         },
         {
          "label": 0,
          "name": "rani",
          "x1": -3.1827237606048584,
          "x2": -6.4871063232421875
         },
         {
          "label": 1,
          "name": "ramzi rinaldhi",
          "x1": -2.1945912837982178,
          "x2": -6.211539268493652
         },
         {
          "label": 1,
          "name": "hafiz badrie lubis",
          "x1": -1.8386386632919312,
          "x2": -7.473762512207031
         },
         {
          "label": 1,
          "name": "samsiar",
          "x1": -2.5912814140319824,
          "x2": -7.088129997253418
         },
         {
          "label": 1,
          "name": "edo rizky australianda",
          "x1": -0.7974485754966736,
          "x2": -5.995449066162109
         },
         {
          "label": 0,
          "name": "arliend widagandini",
          "x1": -2.7100069522857666,
          "x2": -5.694504261016846
         },
         {
          "label": 0,
          "name": "gayatri wijayanti",
          "x1": -1.2463539838790894,
          "x2": -9.522486686706543
         },
         {
          "label": 1,
          "name": "anju frisco gultom",
          "x1": -3.648268938064575,
          "x2": -8.194784164428711
         },
         {
          "label": 1,
          "name": "satriya alrizki",
          "x1": -1.7647532224655151,
          "x2": -6.670428276062012
         },
         {
          "label": 1,
          "name": "arif rifiyanto",
          "x1": -4.697432518005371,
          "x2": -6.187678337097168
         },
         {
          "label": 1,
          "name": "muhammad nur",
          "x1": 3.5577220916748047,
          "x2": -4.861644268035889
         },
         {
          "label": 0,
          "name": "ayukireina siskahaning prahesti",
          "x1": -2.9629721641540527,
          "x2": -4.9990644454956055
         },
         {
          "label": 0,
          "name": "irma indriana hariawang",
          "x1": -1.7492289543151855,
          "x2": -4.969256401062012
         },
         {
          "label": 1,
          "name": "immanuel manurung",
          "x1": -1.7241191864013672,
          "x2": -6.555925369262695
         },
         {
          "label": 1,
          "name": "indra media",
          "x1": -1.5996277332305908,
          "x2": -6.0051398277282715
         },
         {
          "label": 1,
          "name": "rizky delfianto",
          "x1": -5.05083703994751,
          "x2": -6.296703815460205
         },
         {
          "label": 1,
          "name": "ray suryadiptya",
          "x1": -1.9925827980041504,
          "x2": -8.826360702514648
         },
         {
          "label": 1,
          "name": "wihana ridho adipradipta",
          "x1": 0.18192178010940552,
          "x2": -4.3298468589782715
         },
         {
          "label": 1,
          "name": "asep sandra kusuma",
          "x1": -1.3321598768234253,
          "x2": -8.379066467285156
         },
         {
          "label": 1,
          "name": "amalfi yusri darusman",
          "x1": -0.9716441631317139,
          "x2": -6.8334174156188965
         },
         {
          "label": 1,
          "name": "fedrick ericksen kembaren",
          "x1": -3.4703588485717773,
          "x2": -7.5937581062316895
         },
         {
          "label": 0,
          "name": "aulin pranatalina",
          "x1": -1.721708059310913,
          "x2": -4.915736198425293
         },
         {
          "label": 1,
          "name": "bonni yanuar",
          "x1": -3.8879148960113525,
          "x2": -7.323032855987549
         },
         {
          "label": 0,
          "name": "ida bagus gita pradnyana",
          "x1": 0.15846727788448334,
          "x2": -4.448548316955566
         },
         {
          "label": 0,
          "name": "monaliza giovany",
          "x1": -2.5520389080047607,
          "x2": -5.963161468505859
         },
         {
          "label": 1,
          "name": "dedi purnomo",
          "x1": -3.6527247428894043,
          "x2": -8.34956169128418
         },
         {
          "label": 1,
          "name": "yuda farid prasetyanto",
          "x1": 0.22837261855602264,
          "x2": -3.3903861045837402
         },
         {
          "label": 1,
          "name": "muhamad nawawi alif",
          "x1": 3.377302408218384,
          "x2": -5.339228630065918
         },
         {
          "label": 1,
          "name": "rido eko hanggoro",
          "x1": -4.64555025100708,
          "x2": -8.004231452941895
         },
         {
          "label": 0,
          "name": "nadiah himayatillah",
          "x1": -0.5642473101615906,
          "x2": -7.9616312980651855
         },
         {
          "label": 1,
          "name": "thomas",
          "x1": -3.3107657432556152,
          "x2": -8.392934799194336
         },
         {
          "label": 1,
          "name": "juli cha tarido",
          "x1": -2.340221643447876,
          "x2": -7.537947177886963
         },
         {
          "label": 1,
          "name": "danny rianto",
          "x1": -4.949710845947266,
          "x2": -6.143992900848389
         },
         {
          "label": 1,
          "name": "hendra yanto gunawan",
          "x1": -1.2948968410491943,
          "x2": -2.991934061050415
         },
         {
          "label": 0,
          "name": "triyana evelyn",
          "x1": -3.457056760787964,
          "x2": -6.5937628746032715
         },
         {
          "label": 1,
          "name": "wahish abdallah iman",
          "x1": -0.4138745665550232,
          "x2": -7.687459468841553
         },
         {
          "label": 1,
          "name": "andri wijaya",
          "x1": -1.294432520866394,
          "x2": -9.35693359375
         },
         {
          "label": 1,
          "name": "rifan iskandarsyah",
          "x1": -1.107663631439209,
          "x2": -5.673769474029541
         },
         {
          "label": 0,
          "name": "elizabeth valentin",
          "x1": -3.670309543609619,
          "x2": -6.327547550201416
         },
         {
          "label": 1,
          "name": "zainuddin ardiansyah",
          "x1": 1.2373816967010498,
          "x2": -8.763514518737793
         },
         {
          "label": 1,
          "name": "ramayadi",
          "x1": -0.3589528799057007,
          "x2": -6.524566650390625
         },
         {
          "label": 1,
          "name": "banyu vidiapratama",
          "x1": 0.8614785075187683,
          "x2": -4.531750202178955
         },
         {
          "label": 1,
          "name": "mohammad faiz wirawan",
          "x1": 3.241499900817871,
          "x2": -5.223379611968994
         },
         {
          "label": 0,
          "name": "prima roza paluta",
          "x1": -2.239225387573242,
          "x2": -7.064218521118164
         },
         {
          "label": 1,
          "name": "rachmat lianda",
          "x1": 0.8134649991989136,
          "x2": -6.911433696746826
         },
         {
          "label": 1,
          "name": "sonny ari wiyoga",
          "x1": -4.194219589233398,
          "x2": -7.7640299797058105
         },
         {
          "label": 0,
          "name": "ega syifania fattonah",
          "x1": -1.0149385929107666,
          "x2": -6.755894184112549
         },
         {
          "label": 1,
          "name": "dannu turpratama danil",
          "x1": 0.30275726318359375,
          "x2": -4.868993282318115
         },
         {
          "label": 1,
          "name": "irfan prabudiansyah",
          "x1": 1.2669023275375366,
          "x2": -8.779520988464355
         },
         {
          "label": 1,
          "name": "fahmi yanuar farid",
          "x1": -0.2869112193584442,
          "x2": -7.435624599456787
         },
         {
          "label": 0,
          "name": "yurieca garnis k h",
          "x1": -2.8567488193511963,
          "x2": -7.4109954833984375
         },
         {
          "label": 1,
          "name": "adityo jiwandono",
          "x1": -4.579147815704346,
          "x2": -7.790909290313721
         },
         {
          "label": 1,
          "name": "boris styward",
          "x1": -4.038139820098877,
          "x2": -8.244514465332031
         },
         {
          "label": 0,
          "name": "veronica d s a",
          "x1": -3.6833927631378174,
          "x2": -7.740371227264404
         },
         {
          "label": 0,
          "name": "salwa fauzia",
          "x1": -1.1298139095306396,
          "x2": -7.356860160827637
         },
         {
          "label": 1,
          "name": "denli",
          "x1": -3.225890636444092,
          "x2": -7.768844127655029
         },
         {
          "label": 1,
          "name": "alfan nasrulloh",
          "x1": -1.045036792755127,
          "x2": -7.877166748046875
         },
         {
          "label": 1,
          "name": "christian hadiwinoto",
          "x1": -5.066603183746338,
          "x2": -4.528325080871582
         },
         {
          "label": 1,
          "name": "indra bayu setiawan",
          "x1": -0.6258415579795837,
          "x2": -2.938431978225708
         },
         {
          "label": 1,
          "name": "arief trisno pramono",
          "x1": -4.636872291564941,
          "x2": -7.9710917472839355
         },
         {
          "label": 1,
          "name": "muhammad rio revando",
          "x1": 3.554788827896118,
          "x2": -4.917444229125977
         },
         {
          "label": 1,
          "name": "adhy panjuniaga basmoro",
          "x1": -1.2582625150680542,
          "x2": -4.52816104888916
         },
         {
          "label": 0,
          "name": "risiana limuria",
          "x1": -2.3419573307037354,
          "x2": -5.213812351226807
         },
         {
          "label": 1,
          "name": "sardiyanto",
          "x1": -4.974879264831543,
          "x2": -6.456986904144287
         },
         {
          "label": 1,
          "name": "chandra andrey lesmana",
          "x1": -0.26722195744514465,
          "x2": -5.293758392333984
         },
         {
          "label": 1,
          "name": "ivan budiawan",
          "x1": -1.037853717803955,
          "x2": -2.719519853591919
         },
         {
          "label": 1,
          "name": "awal kahlil ramadhan",
          "x1": 0.8103829622268677,
          "x2": -5.96775484085083
         },
         {
          "label": 1,
          "name": "aditya wisnu prasetya",
          "x1": 0.1361522674560547,
          "x2": -3.7301158905029297
         },
         {
          "label": 1,
          "name": "resha mochamad ilham",
          "x1": 2.977712631225586,
          "x2": -5.1857075691223145
         },
         {
          "label": 1,
          "name": "muhammad thasril",
          "x1": 3.7018964290618896,
          "x2": -4.949517250061035
         },
         {
          "label": 0,
          "name": "nur asni setiani",
          "x1": -3.69338059425354,
          "x2": -5.3358588218688965
         },
         {
          "label": 1,
          "name": "febrian maramis",
          "x1": -2.1992926597595215,
          "x2": -5.72442626953125
         },
         {
          "label": 1,
          "name": "nopiansyah",
          "x1": 1.1633905172348022,
          "x2": -8.680631637573242
         },
         {
          "label": 1,
          "name": "niko chandra",
          "x1": -0.32800859212875366,
          "x2": -5.519039630889893
         },
         {
          "label": 0,
          "name": "adysti raissa fitri",
          "x1": -3.2747089862823486,
          "x2": -4.208924293518066
         },
         {
          "label": 0,
          "name": "cynthia ayu rahmawati putri",
          "x1": 0.943621814250946,
          "x2": -6.706605911254883
         },
         {
          "label": 1,
          "name": "jamaludin",
          "x1": -2.487459897994995,
          "x2": -8.619264602661133
         },
         {
          "label": 0,
          "name": "nessa kurniasih",
          "x1": -1.4066534042358398,
          "x2": -1.8952921628952026
         },
         {
          "label": 1,
          "name": "aldino yulianto",
          "x1": -4.917326927185059,
          "x2": -6.27250337600708
         },
         {
          "label": 1,
          "name": "adhitya suranggara",
          "x1": 0.004465239588171244,
          "x2": -3.7559216022491455
         },
         {
          "label": 1,
          "name": "mack stanly",
          "x1": -3.3179397583007812,
          "x2": -7.249223232269287
         },
         {
          "label": 1,
          "name": "rahadian arthapati",
          "x1": 0.023531781509518623,
          "x2": -4.85659646987915
         },
         {
          "label": 1,
          "name": "darmawan ramade",
          "x1": 0.23794907331466675,
          "x2": -5.661965847015381
         },
         {
          "label": 0,
          "name": "hanna rengganis",
          "x1": -3.5129706859588623,
          "x2": -6.592731952667236
         },
         {
          "label": 1,
          "name": "ronald atasi",
          "x1": -3.2586376667022705,
          "x2": -7.131490230560303
         },
         {
          "label": 0,
          "name": "nessia fausta c",
          "x1": -3.1907544136047363,
          "x2": -6.84419584274292
         },
         {
          "label": 0,
          "name": "monika fenita samaria",
          "x1": -2.088139533996582,
          "x2": -5.277558326721191
         },
         {
          "label": 1,
          "name": "taufik akbar a",
          "x1": -1.0627663135528564,
          "x2": -7.520846843719482
         },
         {
          "label": 1,
          "name": "alif aulia risatrio",
          "x1": -2.5547637939453125,
          "x2": -5.518404483795166
         },
         {
          "label": 1,
          "name": "rachmat utomo",
          "x1": -3.8596858978271484,
          "x2": -8.658458709716797
         },
         {
          "label": 1,
          "name": "oscar dharmawan",
          "x1": 0.14412128925323486,
          "x2": -5.592011451721191
         },
         {
          "label": 0,
          "name": "irma noviyanti",
          "x1": -4.0085129737854,
          "x2": -5.599918842315674
         },
         {
          "label": 0,
          "name": "linda hindiana",
          "x1": -2.0090394020080566,
          "x2": -5.63812780380249
         },
         {
          "label": 1,
          "name": "narpati ardito linuhung",
          "x1": -3.089245319366455,
          "x2": -5.4689860343933105
         },
         {
          "label": 0,
          "name": "fatwati okti hapsari",
          "x1": -2.6735596656799316,
          "x2": -4.028639316558838
         },
         {
          "label": 1,
          "name": "syarifuddin",
          "x1": -2.5672049522399902,
          "x2": -8.445411682128906
         },
         {
          "label": 1,
          "name": "ade putra parlindungan siregar",
          "x1": -2.7813291549682617,
          "x2": -2.5016982555389404
         },
         {
          "label": 1,
          "name": "lukman haris",
          "x1": -1.4820111989974976,
          "x2": -6.788271427154541
         },
         {
          "label": 0,
          "name": "victorine joanna angelica",
          "x1": -1.9979948997497559,
          "x2": -5.409481048583984
         },
         {
          "label": 1,
          "name": "samuel sutanto s",
          "x1": -5.463998794555664,
          "x2": -6.584826946258545
         },
         {
          "label": 0,
          "name": "rahmadani",
          "x1": 0.7241531610488892,
          "x2": -7.1174492835998535
         },
         {
          "label": 1,
          "name": "rizky arief rahman",
          "x1": 0.42780014872550964,
          "x2": -6.8880934715271
         },
         {
          "label": 1,
          "name": "aryadi pratama",
          "x1": 0.8281271457672119,
          "x2": -4.520109176635742
         },
         {
          "label": 1,
          "name": "gopinatha ganesh",
          "x1": -3.6861472129821777,
          "x2": -6.824286937713623
         },
         {
          "label": 0,
          "name": "gustilaya riza",
          "x1": -1.6399425268173218,
          "x2": -7.502821922302246
         },
         {
          "label": 1,
          "name": "satriya utama",
          "x1": 0.39027392864227295,
          "x2": -4.945833683013916
         },
         {
          "label": 0,
          "name": "esha maharani",
          "x1": 0.12305603176355362,
          "x2": -6.518205642700195
         },
         {
          "label": 0,
          "name": "denalis rohaningsih",
          "x1": -3.1937062740325928,
          "x2": -5.83970308303833
         },
         {
          "label": 0,
          "name": "anggie dewi sonya",
          "x1": -3.3957905769348145,
          "x2": -6.691672325134277
         },
         {
          "label": 0,
          "name": "christine adrivia",
          "x1": -4.971343517303467,
          "x2": -4.523727893829346
         },
         {
          "label": 1,
          "name": "hadiyawarman",
          "x1": 0.2222965955734253,
          "x2": -5.828829765319824
         },
         {
          "label": 1,
          "name": "davin aldrich odang",
          "x1": -0.8759519457817078,
          "x2": -5.5089263916015625
         },
         {
          "label": 0,
          "name": "finni fitriani",
          "x1": -3.177321672439575,
          "x2": -4.549321174621582
         },
         {
          "label": 1,
          "name": "jansen",
          "x1": -3.436866283416748,
          "x2": -7.494226455688477
         },
         {
          "label": 0,
          "name": "sarah anzaita putri",
          "x1": -3.1432011127471924,
          "x2": -2.6514198780059814
         },
         {
          "label": 0,
          "name": "rifti rakhma husein",
          "x1": 0.19039286673069,
          "x2": -7.211515426635742
         },
         {
          "label": 1,
          "name": "budiono napitupulu",
          "x1": -4.830356121063232,
          "x2": -7.414072036743164
         },
         {
          "label": 1,
          "name": "tengku fauzi ikhsan",
          "x1": -1.9885505437850952,
          "x2": -7.4908766746521
         },
         {
          "label": 1,
          "name": "faqihza mukhlish",
          "x1": -1.5097757577896118,
          "x2": -7.837131500244141
         },
         {
          "label": 1,
          "name": "isser freddy tobing",
          "x1": -3.560701847076416,
          "x2": -7.864165782928467
         },
         {
          "label": 0,
          "name": "miranti indar mandasari",
          "x1": -1.4721883535385132,
          "x2": -5.261150360107422
         },
         {
          "label": 1,
          "name": "arief affandi",
          "x1": -1.7651244401931763,
          "x2": -7.198359966278076
         },
         {
          "label": 1,
          "name": "steven aurecianus",
          "x1": -3.6935391426086426,
          "x2": -6.68039083480835
         },
         {
          "label": 1,
          "name": "nugroho herucahyono",
          "x1": -5.023480415344238,
          "x2": -7.824329376220703
         },
         {
          "label": 0,
          "name": "wan fetria",
          "x1": -3.1154732704162598,
          "x2": -5.7286176681518555
         },
         {
          "label": 1,
          "name": "fachmi permadi",
          "x1": 0.7070177793502808,
          "x2": -7.4502081871032715
         },
         {
          "label": 1,
          "name": "achmad sofyan nugraha",
          "x1": 1.2604836225509644,
          "x2": -5.9884724617004395
         },
         {
          "label": 1,
          "name": "guntur purwanto s",
          "x1": -5.420469284057617,
          "x2": -6.429141044616699
         },
         {
          "label": 1,
          "name": "suganda rizki leonard",
          "x1": -1.0419646501541138,
          "x2": -6.0823540687561035
         },
         {
          "label": 0,
          "name": "felicia gojali",
          "x1": -2.68843936920166,
          "x2": -6.970119953155518
         },
         {
          "label": 1,
          "name": "irfan agustian darfiansyah",
          "x1": 1.3562147617340088,
          "x2": -8.652608871459961
         },
         {
          "label": 1,
          "name": "hita mahardhika",
          "x1": -0.12257952243089676,
          "x2": -6.304882526397705
         },
         {
          "label": 0,
          "name": "prodia nur kemala",
          "x1": -2.094848871231079,
          "x2": -6.897212505340576
         },
         {
          "label": 1,
          "name": "jemmy wangsaputra",
          "x1": -3.438920736312866,
          "x2": -2.138040542602539
         },
         {
          "label": 1,
          "name": "tommy hartanto widjarnarso",
          "x1": -5.049135208129883,
          "x2": -7.191681861877441
         },
         {
          "label": 1,
          "name": "adiasa verdana",
          "x1": -0.5426948666572571,
          "x2": -5.0988450050354
         },
         {
          "label": 1,
          "name": "adolf silvanus panggabean manurung",
          "x1": -1.1517761945724487,
          "x2": -4.0613627433776855
         },
         {
          "label": 0,
          "name": "safnil yetti",
          "x1": -3.6797564029693604,
          "x2": -6.388087272644043
         },
         {
          "label": 1,
          "name": "anton rifco susilo",
          "x1": -5.089424133300781,
          "x2": -6.698683261871338
         },
         {
          "label": 1,
          "name": "garry timotius loahandy",
          "x1": -3.535649061203003,
          "x2": -6.22452974319458
         },
         {
          "label": 1,
          "name": "ginka widianto",
          "x1": -4.749187469482422,
          "x2": -5.8920207023620605
         },
         {
          "label": 1,
          "name": "afdhal rizki",
          "x1": -1.653254747390747,
          "x2": -7.039546966552734
         },
         {
          "label": 1,
          "name": "andre muslim dubari",
          "x1": -2.911045551300049,
          "x2": -8.402868270874023
         },
         {
          "label": 0,
          "name": "ratna nindyarani",
          "x1": -1.688294529914856,
          "x2": -4.83816385269165
         },
         {
          "label": 0,
          "name": "elisa julietta m sirait",
          "x1": -2.414062261581421,
          "x2": -6.005166053771973
         },
         {
          "label": 1,
          "name": "muhammad ridha",
          "x1": 3.701035261154175,
          "x2": -4.952751159667969
         },
         {
          "label": 1,
          "name": "amar",
          "x1": -2.0003576278686523,
          "x2": -7.631453990936279
         },
         {
          "label": 1,
          "name": "david rumeser",
          "x1": -3.1555755138397217,
          "x2": -7.804265022277832
         },
         {
          "label": 0,
          "name": "fika hikmaturrahman",
          "x1": 0.5193256139755249,
          "x2": -7.188056945800781
         },
         {
          "label": 1,
          "name": "hary fernando",
          "x1": -4.172196388244629,
          "x2": -7.38430643081665
         },
         {
          "label": 1,
          "name": "fidel remor putra",
          "x1": -3.7191812992095947,
          "x2": -2.6244699954986572
         },
         {
          "label": 0,
          "name": "gisha rizky prathita",
          "x1": 0.608291506767273,
          "x2": -4.82951021194458
         },
         {
          "label": 1,
          "name": "yovian agustinus",
          "x1": -5.405417442321777,
          "x2": -5.3817033767700195
         },
         {
          "label": 1,
          "name": "yogi jaelani",
          "x1": -3.2711284160614014,
          "x2": -6.512674808502197
         },
         {
          "label": 1,
          "name": "hermanto",
          "x1": -4.650020122528076,
          "x2": -6.711132526397705
         },
         {
          "label": 1,
          "name": "muhammad rezeki arkanuddin",
          "x1": 3.5683395862579346,
          "x2": -4.882424354553223
         },
         {
          "label": 1,
          "name": "robby hartanto a",
          "x1": -5.026000022888184,
          "x2": -7.167343616485596
         },
         {
          "label": 1,
          "name": "fajar fathurrahman",
          "x1": 0.605745792388916,
          "x2": -7.269433975219727
         },
         {
          "label": 1,
          "name": "manweenderjeet singh",
          "x1": -3.600365400314331,
          "x2": -6.9594340324401855
         },
         {
          "label": 1,
          "name": "denny patriot",
          "x1": -3.7634389400482178,
          "x2": -7.579387664794922
         },
         {
          "label": 1,
          "name": "franklyn berris panjaitan",
          "x1": -0.921064019203186,
          "x2": -5.209051609039307
         },
         {
          "label": 0,
          "name": "eranika br ginting",
          "x1": -3.7868728637695312,
          "x2": -6.040491104125977
         },
         {
          "label": 1,
          "name": "erado franky purba",
          "x1": -3.459904670715332,
          "x2": -2.2800369262695312
         },
         {
          "label": 1,
          "name": "indra soaloon situmorang",
          "x1": -4.4027204513549805,
          "x2": -6.601861000061035
         },
         {
          "label": 1,
          "name": "angga pradhana budiono",
          "x1": -0.4468071758747101,
          "x2": -4.136345386505127
         },
         {
          "label": 1,
          "name": "fransiskus xaverius marolop silalahi",
          "x1": -2.3904199600219727,
          "x2": -5.55882453918457
         },
         {
          "label": 1,
          "name": "jihan cessar h g",
          "x1": -2.765688180923462,
          "x2": -7.094969272613525
         },
         {
          "label": 1,
          "name": "hidayatus syufyan",
          "x1": -0.6012998819351196,
          "x2": -8.705887794494629
         },
         {
          "label": 0,
          "name": "shinta putri andansari",
          "x1": -3.057835578918457,
          "x2": -3.207029104232788
         },
         {
          "label": 1,
          "name": "arief pratama",
          "x1": 0.816142201423645,
          "x2": -4.801055431365967
         },
         {
          "label": 1,
          "name": "airlangga budhi prasetyanto",
          "x1": 0.09896326810121536,
          "x2": -3.574120044708252
         },
         {
          "label": 1,
          "name": "f x ruben",
          "x1": -3.20944881439209,
          "x2": -7.859430313110352
         },
         {
          "label": 1,
          "name": "triadi sena",
          "x1": -2.9690937995910645,
          "x2": -4.9503173828125
         },
         {
          "label": 1,
          "name": "claudian anggadeta gunarsa",
          "x1": -0.9167378544807434,
          "x2": -3.830045461654663
         },
         {
          "label": 1,
          "name": "matza gusto a",
          "x1": -5.409100532531738,
          "x2": -5.624999046325684
         },
         {
          "label": 0,
          "name": "revni yusmeiniar pratiwi",
          "x1": -3.9696569442749023,
          "x2": -4.133851528167725
         },
         {
          "label": 0,
          "name": "nisa risti mustikasari",
          "x1": -2.7336084842681885,
          "x2": -4.358325958251953
         },
         {
          "label": 1,
          "name": "miftah faridh",
          "x1": -1.4111820459365845,
          "x2": -7.5505757331848145
         },
         {
          "label": 1,
          "name": "charlie",
          "x1": -2.420301914215088,
          "x2": -7.700899124145508
         },
         {
          "label": 0,
          "name": "ade himsari",
          "x1": -2.3339381217956543,
          "x2": -6.45749568939209
         },
         {
          "label": 1,
          "name": "afdon gomgom pahala simanjunta",
          "x1": -4.2723917961120605,
          "x2": -6.2458343505859375
         },
         {
          "label": 1,
          "name": "andi",
          "x1": -3.353259801864624,
          "x2": -7.736024856567383
         },
         {
          "label": 1,
          "name": "paulus perangin-angin",
          "x1": -1.2789993286132812,
          "x2": -3.9940123558044434
         },
         {
          "label": 1,
          "name": "ardi wahyu kurniawan",
          "x1": -1.1418694257736206,
          "x2": -1.5389677286148071
         },
         {
          "label": 1,
          "name": "leo m taufik",
          "x1": -2.125558853149414,
          "x2": -7.922305583953857
         },
         {
          "label": 1,
          "name": "fahri athar",
          "x1": -1.2940171957015991,
          "x2": -6.759735584259033
         },
         {
          "label": 1,
          "name": "aditya edinia n",
          "x1": -2.017237424850464,
          "x2": -4.491156578063965
         },
         {
          "label": 0,
          "name": "bella ayu pradawati",
          "x1": -3.9881153106689453,
          "x2": -4.602144241333008
         },
         {
          "label": 1,
          "name": "wino chandra",
          "x1": -0.43306851387023926,
          "x2": -5.465299606323242
         },
         {
          "label": 1,
          "name": "leon marinus s",
          "x1": -3.4313583374023438,
          "x2": -7.807613849639893
         },
         {
          "label": 1,
          "name": "andhika fajri",
          "x1": -1.0751956701278687,
          "x2": -6.318625450134277
         },
         {
          "label": 1,
          "name": "muhammad kurniawan alfadli",
          "x1": 3.5125515460968018,
          "x2": -5.264169692993164
         },
         {
          "label": 1,
          "name": "ikhsan abdusyakur",
          "x1": -1.1700469255447388,
          "x2": -8.187216758728027
         },
         {
          "label": 0,
          "name": "lira oktaviyona",
          "x1": -3.6928789615631104,
          "x2": -5.707055568695068
         },
         {
          "label": 1,
          "name": "mardiansyah",
          "x1": 1.2153284549713135,
          "x2": -8.702157020568848
         },
         {
          "label": 1,
          "name": "ali muchlis muttaqin",
          "x1": -2.3571083545684814,
          "x2": -7.514719486236572
         },
         {
          "label": 1,
          "name": "febryansyah djatu rachman",
          "x1": 1.0823731422424316,
          "x2": -8.136037826538086
         },
         {
          "label": 1,
          "name": "danis samagan",
          "x1": -0.7500492930412292,
          "x2": -5.265878677368164
         },
         {
          "label": 1,
          "name": "arionmaro asi simaremare",
          "x1": 0.5211960077285767,
          "x2": -5.2956085205078125
         },
         {
          "label": 1,
          "name": "anggi muhammad sabri saragih",
          "x1": 3.6402907371520996,
          "x2": -5.0330681800842285
         },
         {
          "label": 0,
          "name": "nurina adityarani",
          "x1": -1.9753413200378418,
          "x2": -4.73401403427124
         },
         {
          "label": 1,
          "name": "tri cita hutama",
          "x1": -2.8227450847625732,
          "x2": -3.9846689701080322
         },
         {
          "label": 1,
          "name": "iskandar zulkarnain",
          "x1": -1.109383463859558,
          "x2": -5.562640190124512
         },
         {
          "label": 0,
          "name": "yositalida kamaratih fauzi",
          "x1": -1.2675715684890747,
          "x2": -6.793351650238037
         },
         {
          "label": 1,
          "name": "deri haryono apandi",
          "x1": -4.685403823852539,
          "x2": -7.472373008728027
         },
         {
          "label": 0,
          "name": "mediana nurul fauziah",
          "x1": -2.3685462474823,
          "x2": -7.153754234313965
         },
         {
          "label": 0,
          "name": "nur liyana binti saharudin",
          "x1": -2.897242546081543,
          "x2": -5.48816442489624
         },
         {
          "label": 0,
          "name": "ismi muminati",
          "x1": -2.9590067863464355,
          "x2": -6.2354536056518555
         },
         {
          "label": 0,
          "name": "faradila utami w",
          "x1": -0.8927899599075317,
          "x2": -7.0669355392456055
         },
         {
          "label": 1,
          "name": "raden cahyo adhinugroho m",
          "x1": 1.0951405763626099,
          "x2": -5.947486877441406
         },
         {
          "label": 1,
          "name": "fikri wirawan",
          "x1": -1.3198957443237305,
          "x2": -5.462971210479736
         },
         {
          "label": 1,
          "name": "ilham septiawan",
          "x1": -0.7191916704177856,
          "x2": -2.8509461879730225
         },
         {
          "label": 1,
          "name": "afrizon setiawan",
          "x1": -0.6576421856880188,
          "x2": -2.767148494720459
         },
         {
          "label": 1,
          "name": "guritno wirandoko",
          "x1": -4.51246452331543,
          "x2": -7.972593307495117
         },
         {
          "label": 1,
          "name": "m auriga herdinantio",
          "x1": -4.256988525390625,
          "x2": -5.8896918296813965
         },
         {
          "label": 0,
          "name": "ratna sari trisna w",
          "x1": -2.4198338985443115,
          "x2": -4.22125244140625
         },
         {
          "label": 1,
          "name": "christian setiabudi",
          "x1": -5.063991069793701,
          "x2": -4.525289535522461
         },
         {
          "label": 0,
          "name": "marina yudhitia p",
          "x1": -2.287341356277466,
          "x2": -4.877082347869873
         },
         {
          "label": 1,
          "name": "hendro fitriadi aryo dwipo",
          "x1": -3.95361065864563,
          "x2": -7.573470115661621
         },
         {
          "label": 1,
          "name": "wira kesuma",
          "x1": -1.6917877197265625,
          "x2": -8.290162086486816
         },
         {
          "label": 1,
          "name": "rezky aditiyo",
          "x1": -4.393056392669678,
          "x2": -7.386491775512695
         },
         {
          "label": 1,
          "name": "isnainda rusdian putra",
          "x1": -3.0848708152770996,
          "x2": -2.966965913772583
         },
         {
          "label": 0,
          "name": "erythrina stavila",
          "x1": -2.923719644546509,
          "x2": -4.771104335784912
         },
         {
          "label": 0,
          "name": "stefani herlie",
          "x1": -3.730825662612915,
          "x2": -6.719348430633545
         },
         {
          "label": 1,
          "name": "ferdian sugandi w",
          "x1": -3.192082643508911,
          "x2": -6.345059394836426
         },
         {
          "label": 0,
          "name": "rina listyaningrum",
          "x1": -3.1436047554016113,
          "x2": -5.118234634399414
         },
         {
          "label": 0,
          "name": "ita miranti",
          "x1": -3.358978271484375,
          "x2": -4.691699981689453
         },
         {
          "label": 1,
          "name": "rizka irawan ardiyanto",
          "x1": -4.801286220550537,
          "x2": -6.05320405960083
         },
         {
          "label": 0,
          "name": "tiqi taqiyya raehana",
          "x1": -2.073721170425415,
          "x2": -4.558507442474365
         },
         {
          "label": 0,
          "name": "jilly alitha",
          "x1": -1.9755362272262573,
          "x2": -7.000399589538574
         },
         {
          "label": 0,
          "name": "novi astuti",
          "x1": -4.17216682434082,
          "x2": -5.272425651550293
         },
         {
          "label": 0,
          "name": "autie minati putri",
          "x1": -3.847785711288452,
          "x2": -3.2805426120758057
         },
         {
          "label": 1,
          "name": "widodo dwi putro",
          "x1": -3.9986817836761475,
          "x2": -8.361412048339844
         },
         {
          "label": 1,
          "name": "rilsen ramadhi",
          "x1": -0.4431377947330475,
          "x2": -6.424306392669678
         },
         {
          "label": 0,
          "name": "renny ratmaningsih",
          "x1": -3.4971096515655518,
          "x2": -6.2469987869262695
         },
         {
          "label": 0,
          "name": "rizka zakiah drajat",
          "x1": -1.2940927743911743,
          "x2": -7.108480453491211
         },
         {
          "label": 1,
          "name": "testantoro randi putra",
          "x1": -4.798161506652832,
          "x2": -6.745229721069336
         },
         {
          "label": 0,
          "name": "dita arifa nurani",
          "x1": -2.125688076019287,
          "x2": -4.792942047119141
         },
         {
          "label": 0,
          "name": "dini mahdiani",
          "x1": -2.808253049850464,
          "x2": -5.422544956207275
         },
         {
          "label": 1,
          "name": "hendry pratama",
          "x1": 0.8160668611526489,
          "x2": -4.772335529327393
         },
         {
          "label": 0,
          "name": "riskawati chandra",
          "x1": -0.38666021823883057,
          "x2": -5.329330921173096
         },
         {
          "label": 1,
          "name": "muhammad arif",
          "x1": 3.717054605484009,
          "x2": -5.131746768951416
         },
         {
          "label": 1,
          "name": "widi eka putra",
          "x1": -3.5440006256103516,
          "x2": -2.4872500896453857
         },
         {
          "label": 1,
          "name": "dodi miyondri",
          "x1": -3.5199220180511475,
          "x2": -8.15032958984375
         },
         {
          "label": 1,
          "name": "ebitra hasiholan sitanggang",
          "x1": -1.3224798440933228,
          "x2": -3.8805370330810547
         },
         {
          "label": 0,
          "name": "lisma nurul wasiah bachtiar",
          "x1": -2.272926092147827,
          "x2": -6.079562187194824
         },
         {
          "label": 1,
          "name": "wahyu ajiprabowo",
          "x1": -5.264797210693359,
          "x2": -8.634318351745605
         },
         {
          "label": 1,
          "name": "sani yusmananto",
          "x1": -5.185917377471924,
          "x2": -6.546636581420898
         },
         {
          "label": 1,
          "name": "muhammad rilly aka yogi",
          "x1": 3.8656504154205322,
          "x2": -4.984330654144287
         },
         {
          "label": 1,
          "name": "evan",
          "x1": -3.284154176712036,
          "x2": -7.283219337463379
         },
         {
          "label": 1,
          "name": "andhika puji daniswara",
          "x1": -1.0078507661819458,
          "x2": -5.686145305633545
         },
         {
          "label": 1,
          "name": "adityo nugrahanto widodo",
          "x1": -4.854113578796387,
          "x2": -7.734339237213135
         },
         {
          "label": 1,
          "name": "christian fredy naa",
          "x1": -5.0787034034729,
          "x2": -4.556888580322266
         },
         {
          "label": 1,
          "name": "faris rahman",
          "x1": 0.5105389952659607,
          "x2": -7.023178577423096
         },
         {
          "label": 0,
          "name": "anggita sindhuwati",
          "x1": -2.2648348808288574,
          "x2": -3.99747633934021
         },
         {
          "label": 1,
          "name": "edo rachmat jallil",
          "x1": 0.6121885180473328,
          "x2": -7.161750793457031
         },
         {
          "label": 1,
          "name": "arsandi akhmad",
          "x1": 0.8262556195259094,
          "x2": -7.155383110046387
         },
         {
          "label": 1,
          "name": "satya fajar pratama",
          "x1": 0.8961318731307983,
          "x2": -4.692615985870361
         },
         {
          "label": 1,
          "name": "arwin gunawan",
          "x1": -1.3991944789886475,
          "x2": -2.9256927967071533
         },
         {
          "label": 1,
          "name": "damar sandi wicaksana",
          "x1": -0.4455784559249878,
          "x2": -5.712523937225342
         },
         {
          "label": 1,
          "name": "dipta mahardhika",
          "x1": -0.16962645947933197,
          "x2": -6.318243026733398
         },
         {
          "label": 1,
          "name": "sendyka wilanda",
          "x1": -0.806760311126709,
          "x2": -6.15442419052124
         },
         {
          "label": 1,
          "name": "rendy novriza",
          "x1": -3.3663930892944336,
          "x2": -8.337075233459473
         },
         {
          "label": 1,
          "name": "adrianus baginda mesiaries",
          "x1": -2.2343711853027344,
          "x2": -5.369996070861816
         },
         {
          "label": 1,
          "name": "zidni ilman munthaha",
          "x1": -1.6230155229568481,
          "x2": -5.918215274810791
         },
         {
          "label": 0,
          "name": "rini novelia suawa",
          "x1": -2.6008660793304443,
          "x2": -6.073860168457031
         },
         {
          "label": 1,
          "name": "arasy az zariat",
          "x1": -1.0621825456619263,
          "x2": -7.0371479988098145
         },
         {
          "label": 1,
          "name": "wildan mussofan",
          "x1": -3.534993886947632,
          "x2": -7.466259956359863
         },
         {
          "label": 0,
          "name": "marrilyn gunadi",
          "x1": -2.700202465057373,
          "x2": -7.448029041290283
         },
         {
          "label": 1,
          "name": "adityo august pratama yusanda",
          "x1": 0.7666276097297668,
          "x2": -4.3704023361206055
         },
         {
          "label": 0,
          "name": "kristina hariyani",
          "x1": -2.9844014644622803,
          "x2": -4.915753364562988
         },
         {
          "label": 1,
          "name": "rahadhika wendar",
          "x1": -0.31962457299232483,
          "x2": -6.100245475769043
         },
         {
          "label": 0,
          "name": "puput pratiwi hidayat",
          "x1": -4.009761810302734,
          "x2": -3.704533576965332
         },
         {
          "label": 0,
          "name": "laras ayutirta pramesti",
          "x1": -2.4095237255096436,
          "x2": -3.849738121032715
         },
         {
          "label": 0,
          "name": "putri indah pratiwi",
          "x1": -4.022172451019287,
          "x2": -3.701099395751953
         },
         {
          "label": 0,
          "name": "fanny diansari",
          "x1": -2.2965595722198486,
          "x2": -5.344781398773193
         },
         {
          "label": 1,
          "name": "widagdo dwi nugrahadi prasetya",
          "x1": 0.09882663190364838,
          "x2": -3.875065326690674
         },
         {
          "label": 0,
          "name": "lia widyawati",
          "x1": -4.242266654968262,
          "x2": -4.555844306945801
         },
         {
          "label": 1,
          "name": "muammar",
          "x1": -2.1296563148498535,
          "x2": -7.748000144958496
         },
         {
          "label": 1,
          "name": "aditya tanuwijaya",
          "x1": 0.20920032262802124,
          "x2": -4.12430477142334
         },
         {
          "label": 1,
          "name": "muhammad rifki akbar",
          "x1": 3.8597161769866943,
          "x2": -5.021782398223877
         },
         {
          "label": 0,
          "name": "disha calista astari",
          "x1": -2.726346254348755,
          "x2": -4.289857864379883
         },
         {
          "label": 1,
          "name": "firman ardiansyah",
          "x1": 1.3135921955108643,
          "x2": -8.617301940917969
         },
         {
          "label": 1,
          "name": "adiyatma ramadhan",
          "x1": 0.9047737717628479,
          "x2": -5.635754585266113
         },
         {
          "label": 1,
          "name": "zaenuddin ar rofiqi",
          "x1": -2.8008944988250732,
          "x2": -6.209466457366943
         },
         {
          "label": 1,
          "name": "arief wicaksana",
          "x1": -1.8511710166931152,
          "x2": -5.346203804016113
         },
         {
          "label": 1,
          "name": "taufiqurrahman",
          "x1": 0.6089931726455688,
          "x2": -7.2133355140686035
         },
         {
          "label": 0,
          "name": "pratiwi",
          "x1": -4.00302267074585,
          "x2": -3.9822537899017334
         },
         {
          "label": 0,
          "name": "allisa duhita andarathni",
          "x1": -1.8205596208572388,
          "x2": -4.77452278137207
         },
         {
          "label": 1,
          "name": "primada yuan mandika",
          "x1": -0.49652099609375,
          "x2": -6.089371204376221
         },
         {
          "label": 1,
          "name": "endo finaldhi",
          "x1": -2.902853012084961,
          "x2": -6.490507125854492
         },
         {
          "label": 1,
          "name": "johnson halomoan marpaung",
          "x1": -4.27072811126709,
          "x2": -6.471954822540283
         },
         {
          "label": 0,
          "name": "shanny avelina halim",
          "x1": -1.8421310186386108,
          "x2": -5.500394821166992
         },
         {
          "label": 1,
          "name": "ketut rama wijaya",
          "x1": -1.270264983177185,
          "x2": -9.363076210021973
         },
         {
          "label": 1,
          "name": "gunawan",
          "x1": -1.3915685415267944,
          "x2": -2.8998825550079346
         },
         {
          "label": 0,
          "name": "dhanistha sidhikara",
          "x1": -1.0741517543792725,
          "x2": -5.9411725997924805
         },
         {
          "label": 1,
          "name": "bob jovan vivaldiz",
          "x1": -2.7756688594818115,
          "x2": -6.075954914093018
         },
         {
          "label": 0,
          "name": "galuh ratri siwi b",
          "x1": -3.350111961364746,
          "x2": -4.4008026123046875
         },
         {
          "label": 1,
          "name": "ngakan nyoman gandhi",
          "x1": -1.1310279369354248,
          "x2": -4.138830661773682
         },
         {
          "label": 1,
          "name": "khandar william",
          "x1": -1.7820104360580444,
          "x2": -6.585724353790283
         },
         {
          "label": 1,
          "name": "muhammad arief wicaksono",
          "x1": 3.8406572341918945,
          "x2": -5.123521327972412
         },
         {
          "label": 0,
          "name": "gahayu handari ekaputri",
          "x1": -3.1900899410247803,
          "x2": -2.659461736679077
         },
         {
          "label": 1,
          "name": "raditya dwi a",
          "x1": 0.09347543865442276,
          "x2": -4.047585487365723
         },
         {
          "label": 0,
          "name": "kania suciati dewi",
          "x1": -3.9763667583465576,
          "x2": -4.86605167388916
         },
         {
          "label": 0,
          "name": "fatmawati santosa",
          "x1": -2.493776321411133,
          "x2": -3.709995985031128
         },
         {
          "label": 1,
          "name": "ahmad syukri zarkasyi",
          "x1": 0.43419960141181946,
          "x2": -7.608650207519531
         },
         {
          "label": 1,
          "name": "feri prayogi",
          "x1": -4.43684196472168,
          "x2": -7.728705883026123
         },
         {
          "label": 1,
          "name": "ferryanto",
          "x1": -4.77554178237915,
          "x2": -6.7361297607421875
         },
         {
          "label": 1,
          "name": "gea fardias mu'min",
          "x1": -1.9425849914550781,
          "x2": -6.970184803009033
         },
         {
          "label": 1,
          "name": "fajar agung prihandoyo",
          "x1": -4.697580814361572,
          "x2": -7.391624450683594
         },
         {
          "label": 1,
          "name": "akhmad rakhmattullah sofyandi sedar",
          "x1": 0.7069105505943298,
          "x2": -7.292646408081055
         },
         {
          "label": 1,
          "name": "anthony nagasastra",
          "x1": -0.9834383726119995,
          "x2": -5.10362434387207
         },
         {
          "label": 1,
          "name": "alexander hutahaean",
          "x1": -0.3665088713169098,
          "x2": -5.743945121765137
         },
         {
          "label": 0,
          "name": "anike nelce bowaire",
          "x1": -3.3953263759613037,
          "x2": -6.762448787689209
         },
         {
          "label": 0,
          "name": "neng anny tadjudin",
          "x1": -2.970059394836426,
          "x2": -8.172601699829102
         },
         {
          "label": 1,
          "name": "wahidyan kresna fridayoka",
          "x1": -0.8143115639686584,
          "x2": -6.098724365234375
         },
         {
          "label": 0,
          "name": "rina imaniar",
          "x1": -1.9448589086532593,
          "x2": -5.469595909118652
         },
         {
          "label": 1,
          "name": "adibus sholeh",
          "x1": -2.988039016723633,
          "x2": -8.434884071350098
         },
         {
          "label": 1,
          "name": "samuel sebastian",
          "x1": -4.293790340423584,
          "x2": -5.860476970672607
         },
         {
          "label": 1,
          "name": "hananto budi prasetya",
          "x1": 0.1895337998867035,
          "x2": -3.463545799255371
         },
         {
          "label": 1,
          "name": "rahadyan dhanur a.k.",
          "x1": 0.30836930871009827,
          "x2": -5.417728900909424
         },
         {
          "label": 0,
          "name": "felita wijaya",
          "x1": -1.3914786577224731,
          "x2": -9.323941230773926
         },
         {
          "label": 0,
          "name": "weny astuti",
          "x1": -4.246901512145996,
          "x2": -5.281944274902344
         },
         {
          "label": 1,
          "name": "adityo kusumo ariwibowo",
          "x1": -5.664841175079346,
          "x2": -8.835494041442871
         },
         {
          "label": 0,
          "name": "dissa junita roria situmorang",
          "x1": -4.384593963623047,
          "x2": -6.497196197509766
         },
         {
          "label": 0,
          "name": "binita orchidina a t",
          "x1": -2.7445740699768066,
          "x2": -4.9561944007873535
         },
         {
          "label": 0,
          "name": "tafia sulistyani prasojo",
          "x1": -3.4876081943511963,
          "x2": -4.892047882080078
         },
         {
          "label": 1,
          "name": "satria heyder winarto",
          "x1": -2.9079599380493164,
          "x2": -5.110827445983887
         },
         {
          "label": 1,
          "name": "mohamed irwan bin zulkurnain",
          "x1": -1.5552363395690918,
          "x2": -5.742283344268799
         },
         {
          "label": 1,
          "name": "haposan samuel victor",
          "x1": -5.42432165145874,
          "x2": -6.62940788269043
         },
         {
          "label": 0,
          "name": "erna andriana",
          "x1": -1.0766934156417847,
          "x2": -5.045755386352539
         },
         {
          "label": 0,
          "name": "rizka febriana",
          "x1": -2.0882515907287598,
          "x2": -5.701469898223877
         },
         {
          "label": 0,
          "name": "niken dwitiya wahyuningrum",
          "x1": -3.7507693767547607,
          "x2": -4.705786228179932
         },
         {
          "label": 1,
          "name": "daniel wiyogo dwiputro",
          "x1": -4.190210342407227,
          "x2": -8.260040283203125
         },
         {
          "label": 0,
          "name": "febrina anggrianto",
          "x1": -1.8947628736495972,
          "x2": -4.092362403869629
         },
         {
          "label": 0,
          "name": "hexawulan borne novieta",
          "x1": -3.8348004817962646,
          "x2": -6.887684345245361
         },
         {
          "label": 1,
          "name": "syahrial setiawan hasibuan",
          "x1": -0.6793673634529114,
          "x2": -2.9131884574890137
         },
         {
          "label": 0,
          "name": "euis sri nurhasanah",
          "x1": -2.5397439002990723,
          "x2": -5.513317108154297
         },
         {
          "label": 1,
          "name": "julfikar norizki",
          "x1": -1.7910593748092651,
          "x2": -6.872529983520508
         },
         {
          "label": 1,
          "name": "fabian mahendra nur",
          "x1": -0.0695493295788765,
          "x2": -5.399372100830078
         },
         {
          "label": 1,
          "name": "michael ariefyanto wibowo",
          "x1": -5.7026777267456055,
          "x2": -8.744607925415039
         },
         {
          "label": 1,
          "name": "angga pramudita",
          "x1": -0.4866684079170227,
          "x2": -4.269632816314697
         },
         {
          "label": 1,
          "name": "fachri reza",
          "x1": -1.5926992893218994,
          "x2": -7.320958137512207
         },
         {
          "label": 1,
          "name": "hendra hadriansyah",
          "x1": 1.2457953691482544,
          "x2": -8.751052856445312
         },
         {
          "label": 0,
          "name": "yuri soverika",
          "x1": -3.050610303878784,
          "x2": -7.877619743347168
         },
         {
          "label": 0,
          "name": "adisti indriani",
          "x1": -2.838677167892456,
          "x2": -4.639213562011719
         },
         {
          "label": 1,
          "name": "yohan",
          "x1": -3.8673675060272217,
          "x2": -7.296590805053711
         },
         {
          "label": 1,
          "name": "farliz nozanda",
          "x1": -1.3247872591018677,
          "x2": -6.606331825256348
         },
         {
          "label": 1,
          "name": "ronny luhansa",
          "x1": -3.926708936691284,
          "x2": -7.287686347961426
         },
         {
          "label": 1,
          "name": "andre budianto",
          "x1": -4.984104156494141,
          "x2": -6.527857780456543
         },
         {
          "label": 1,
          "name": "iskandar perdemuan tarigan",
          "x1": -1.0453333854675293,
          "x2": -5.3716535568237305
         },
         {
          "label": 1,
          "name": "yuris ramadhan",
          "x1": 0.3324577808380127,
          "x2": -6.070895671844482
         },
         {
          "label": 0,
          "name": "lunna irliana",
          "x1": -1.927028775215149,
          "x2": -5.079894065856934
         },
         {
          "label": 1,
          "name": "tomi falah turmuzi",
          "x1": -1.7545032501220703,
          "x2": -7.806400299072266
         },
         {
          "label": 1,
          "name": "ariza capricaresa",
          "x1": -0.18361152708530426,
          "x2": -6.227336406707764
         },
         {
          "label": 1,
          "name": "ibnu sina",
          "x1": -3.5971856117248535,
          "x2": -6.711188316345215
         },
         {
          "label": 0,
          "name": "rizka dwi nurhapsari",
          "x1": -2.479882001876831,
          "x2": -4.740772724151611
         },
         {
          "label": 1,
          "name": "djoko budi susilo",
          "x1": -4.145326137542725,
          "x2": -8.475933074951172
         },
         {
          "label": 1,
          "name": "reza andy ciptadi r",
          "x1": -0.3688484728336334,
          "x2": -6.091049671173096
         },
         {
          "label": 1,
          "name": "sarwedi butar butar",
          "x1": -2.1687426567077637,
          "x2": -3.644749164581299
         },
         {
          "label": 1,
          "name": "andrew jalu bramantya",
          "x1": -0.10193213820457458,
          "x2": -5.289071559906006
         },
         {
          "label": 1,
          "name": "ferdie anson",
          "x1": -3.8502326011657715,
          "x2": -7.401618957519531
         },
         {
          "label": 1,
          "name": "feriandri sinulingga",
          "x1": -2.6234560012817383,
          "x2": -5.375842094421387
         },
         {
          "label": 0,
          "name": "rini hafsha",
          "x1": -2.455256223678589,
          "x2": -6.2853102684021
         },
         {
          "label": 0,
          "name": "osi arutanti",
          "x1": -4.27182149887085,
          "x2": -5.639034271240234
         },
         {
          "label": 0,
          "name": "rosiana",
          "x1": -2.9943974018096924,
          "x2": -6.421411514282227
         },
         {
          "label": 0,
          "name": "raiza prathita",
          "x1": 0.6801905632019043,
          "x2": -4.577793121337891
         },
         {
          "label": 1,
          "name": "elga bagus sulaksmono",
          "x1": -4.4783525466918945,
          "x2": -8.726665496826172
         },
         {
          "label": 1,
          "name": "iqbal sa putra",
          "x1": -3.493454694747925,
          "x2": -2.2086544036865234
         },
         {
          "label": 0,
          "name": "steffina rozieanti",
          "x1": -3.58854603767395,
          "x2": -5.886890411376953
         },
         {
          "label": 1,
          "name": "jacky noel sihasale",
          "x1": -3.4019172191619873,
          "x2": -7.2815680503845215
         },
         {
          "label": 1,
          "name": "indra arif widodo",
          "x1": -3.4698216915130615,
          "x2": -7.919360637664795
         },
         {
          "label": 0,
          "name": "wiwin setiasih",
          "x1": -4.198083400726318,
          "x2": -4.959405899047852
         },
         {
          "label": 0,
          "name": "nenden ditta suparman",
          "x1": -2.918429374694824,
          "x2": -7.854978084564209
         },
         {
          "label": 1,
          "name": "harry syaefulloh",
          "x1": -1.3415764570236206,
          "x2": -8.080342292785645
         },
         {
          "label": 1,
          "name": "albaaqi khadafi",
          "x1": -0.7430515289306641,
          "x2": -7.16048526763916
         },
         {
          "label": 0,
          "name": "herina anesti",
          "x1": -3.603971481323242,
          "x2": -6.571794033050537
         },
         {
          "label": 1,
          "name": "john mauritz f p",
          "x1": -3.225848913192749,
          "x2": -8.1046781539917
         },
         {
          "label": 1,
          "name": "gugun abdurrahman",
          "x1": 0.5645890831947327,
          "x2": -7.18538761138916
         },
         {
          "label": 1,
          "name": "ryoma abdullah",
          "x1": -0.7273763418197632,
          "x2": -7.95249080657959
         },
         {
          "label": 1,
          "name": "albertus joko indarto",
          "x1": -4.065389156341553,
          "x2": -7.873047828674316
         },
         {
          "label": 1,
          "name": "satrio aribowo b wicaksono",
          "x1": -4.975580215454102,
          "x2": -8.740154266357422
         },
         {
          "label": 0,
          "name": "seri berutu",
          "x1": -3.152243137359619,
          "x2": -7.798060894012451
         },
         {
          "label": 1,
          "name": "yosi trianggono",
          "x1": -4.670247554779053,
          "x2": -7.848411560058594
         },
         {
          "label": 1,
          "name": "husnan achmad samhany",
          "x1": 0.869651198387146,
          "x2": -6.343588829040527
         },
         {
          "label": 1,
          "name": "adyansyah",
          "x1": 0.9822907447814941,
          "x2": -8.438451766967773
         },
         {
          "label": 1,
          "name": "galih primanda",
          "x1": -1.6096248626708984,
          "x2": -6.621730804443359
         },
         {
          "label": 1,
          "name": "kent setiadi",
          "x1": -0.4847881495952606,
          "x2": -2.883887767791748
         },
         {
          "label": 1,
          "name": "ricky septiadi",
          "x1": -0.43611451983451843,
          "x2": -2.9415347576141357
         },
         {
          "label": 0,
          "name": "munirah athirah kamalludin",
          "x1": 0.2933146059513092,
          "x2": -7.16462516784668
         },
         {
          "label": 0,
          "name": "theresa valleri",
          "x1": -2.944118022918701,
          "x2": -7.2641096115112305
         },
         {
          "label": 0,
          "name": "rahmafiana citra m",
          "x1": 0.6078612208366394,
          "x2": -6.951653003692627
         },
         {
          "label": 1,
          "name": "bisma satria wasesasegara",
          "x1": -2.1362643241882324,
          "x2": -4.439639568328857
         },
         {
          "label": 0,
          "name": "ayu fitra sari",
          "x1": -3.061678171157837,
          "x2": -4.140395164489746
         },
         {
          "label": 1,
          "name": "alip fajar",
          "x1": -1.344862937927246,
          "x2": -7.505160808563232
         },
         {
          "label": 0,
          "name": "vanesha marcellina cipta wijaya",
          "x1": -1.65188467502594,
          "x2": -5.2331132888793945
         },
         {
          "label": 0,
          "name": "ressi yunartanti",
          "x1": -4.054298400878906,
          "x2": -5.806410312652588
         },
         {
          "label": 1,
          "name": "angga hendra wardhana",
          "x1": -0.06022654473781586,
          "x2": -4.945488929748535
         },
         {
          "label": 1,
          "name": "rezki destriman",
          "x1": -2.891117811203003,
          "x2": -7.0020647048950195
         },
         {
          "label": 0,
          "name": "indri yulia sari",
          "x1": -2.419785499572754,
          "x2": -5.339336395263672
         },
         {
          "label": 1,
          "name": "andri agus salim",
          "x1": -3.6662628650665283,
          "x2": -6.131677627563477
         },
         {
          "label": 1,
          "name": "uki atma nagara",
          "x1": -0.8535269498825073,
          "x2": -4.411998748779297
         },
         {
          "label": 1,
          "name": "mohammad anggasta paramartha",
          "x1": 2.8256146907806396,
          "x2": -5.17265510559082
         },
         {
          "label": 1,
          "name": "muhamad luthfi imam nurhakim",
          "x1": 3.697998285293579,
          "x2": -4.997193336486816
         },
         {
          "label": 1,
          "name": "aris feryanto",
          "x1": -4.902840614318848,
          "x2": -6.554090976715088
         },
         {
          "label": 0,
          "name": "gita septianti sk",
          "x1": -3.7563352584838867,
          "x2": -4.95943021774292
         },
         {
          "label": 1,
          "name": "andika adikrishna gunarjo",
          "x1": -1.3849915266036987,
          "x2": -5.3921918869018555
         },
         {
          "label": 0,
          "name": "rida elfreda agustiana",
          "x1": -5.363154411315918,
          "x2": -5.303309440612793
         },
         {
          "label": 1,
          "name": "adrianto widi kusumo",
          "x1": -5.165785789489746,
          "x2": -6.284782886505127
         },
         {
          "label": 0,
          "name": "andhiniar dwi puspasari",
          "x1": -2.7454018592834473,
          "x2": -3.6936655044555664
         },
         {
          "label": 0,
          "name": "nurul aulia",
          "x1": -2.2872588634490967,
          "x2": -7.7924346923828125
         },
         {
          "label": 1,
          "name": "fajar kharisma",
          "x1": -1.1292243003845215,
          "x2": -6.762084484100342
         },
         {
          "label": 1,
          "name": "arief saksono",
          "x1": -4.712554931640625,
          "x2": -8.62446117401123
         },
         {
          "label": 1,
          "name": "ardian inkaresa",
          "x1": -1.8433241844177246,
          "x2": -5.343268871307373
         },
         {
          "label": 0,
          "name": "rindia maharani putri",
          "x1": -3.120425224304199,
          "x2": -2.99586820602417
         },
         {
          "label": 1,
          "name": "emanuel ginting",
          "x1": -3.7951252460479736,
          "x2": -6.082217216491699
         },
         {
          "label": 1,
          "name": "andreas yoppy aprianto prasetya",
          "x1": 0.23633457720279694,
          "x2": -3.351696014404297
         },
         {
          "label": 0,
          "name": "siti farah rahmawati",
          "x1": 0.9477472901344299,
          "x2": -6.7954325675964355
         },
         {
          "label": 1,
          "name": "winner david manalu",
          "x1": -0.9867505431175232,
          "x2": -5.368340492248535
         },
         {
          "label": 0,
          "name": "santy dwi cempaka",
          "x1": -4.041615962982178,
          "x2": -6.662484645843506
         },
         {
          "label": 1,
          "name": "reza fauzi",
          "x1": -1.5886863470077515,
          "x2": -7.449610233306885
         },
         {
          "label": 1,
          "name": "hoctri efendi hutagalung",
          "x1": -3.50038480758667,
          "x2": -6.260329246520996
         },
         {
          "label": 1,
          "name": "octavianus budi setya utama",
          "x1": -3.4313347339630127,
          "x2": -5.645475387573242
         },
         {
          "label": 1,
          "name": "felix kristian jatmiko",
          "x1": -4.6100358963012695,
          "x2": -4.839667797088623
         },
         {
          "label": 1,
          "name": "tezar yuliansyah saputra",
          "x1": -3.5017199516296387,
          "x2": -2.1212172508239746
         },
         {
          "label": 1,
          "name": "bobby dillon",
          "x1": -3.5220754146575928,
          "x2": -8.330952644348145
         },
         {
          "label": 1,
          "name": "aryo danurendro",
          "x1": -4.262171268463135,
          "x2": -7.702744007110596
         },
         {
          "label": 1,
          "name": "fanji junanda putra",
          "x1": -3.2069151401519775,
          "x2": -2.4858720302581787
         },
         {
          "label": 1,
          "name": "halmi insani",
          "x1": -2.824054002761841,
          "x2": -5.8197197914123535
         },
         {
          "label": 1,
          "name": "tri ardiyanto",
          "x1": -4.847794532775879,
          "x2": -6.336096286773682
         },
         {
          "label": 1,
          "name": "aditya kurniawan",
          "x1": -1.0822529792785645,
          "x2": -1.4922744035720825
         },
         {
          "label": 1,
          "name": "arief kusumawardhana",
          "x1": -0.10841575264930725,
          "x2": -7.088886260986328
         },
         {
          "label": 0,
          "name": "astanti fatsa yulia",
          "x1": -2.663147211074829,
          "x2": -4.835270881652832
         },
         {
          "label": 1,
          "name": "fachry frisandi",
          "x1": -1.836634874343872,
          "x2": -7.1839680671691895
         },
         {
          "label": 1,
          "name": "dimas bagus prasetia yoga",
          "x1": -0.1348194181919098,
          "x2": -3.068114757537842
         },
         {
          "label": 0,
          "name": "ananti selaras sunny",
          "x1": -1.6076884269714355,
          "x2": -4.846100807189941
         },
         {
          "label": 0,
          "name": "vita wonoputri",
          "x1": -3.856559991836548,
          "x2": -3.000107526779175
         },
         {
          "label": 1,
          "name": "randy febriano ruhyana",
          "x1": -0.959366500377655,
          "x2": -5.0229291915893555
         },
         {
          "label": 0,
          "name": "fithra shabrina",
          "x1": -2.783612012863159,
          "x2": -5.075058460235596
         },
         {
          "label": 1,
          "name": "i putu wika wiguna",
          "x1": -1.686020851135254,
          "x2": -3.055342435836792
         },
         {
          "label": 1,
          "name": "vicky vendy",
          "x1": -3.301861047744751,
          "x2": -8.494071960449219
         },
         {
          "label": 0,
          "name": "athiya nekmah fitriana",
          "x1": -2.2980830669403076,
          "x2": -4.873982906341553
         },
         {
          "label": 1,
          "name": "agung thaufika",
          "x1": -1.6747262477874756,
          "x2": -3.0575168132781982
         },
         {
          "label": 1,
          "name": "zulfikar rully amarullah",
          "x1": -0.8692445755004883,
          "x2": -7.9634270668029785
         },
         {
          "label": 1,
          "name": "mohamad ray rizaldy",
          "x1": 2.8516416549682617,
          "x2": -5.390153884887695
         },
         {
          "label": 0,
          "name": "trevi jayanti p",
          "x1": -1.2963335514068604,
          "x2": -9.461419105529785
         },
         {
          "label": 1,
          "name": "ariyanto hidajat",
          "x1": -4.81932258605957,
          "x2": -6.147441387176514
         },
         {
          "label": 1,
          "name": "nugraha bintang wirawan",
          "x1": 1.1282089948654175,
          "x2": -5.626119136810303
         },
         {
          "label": 1,
          "name": "rizki rizali",
          "x1": -1.74760901927948,
          "x2": -6.836164951324463
         },
         {
          "label": 1,
          "name": "okky indra putra",
          "x1": -3.5476789474487305,
          "x2": -2.4697213172912598
         },
         {
          "label": 1,
          "name": "rendy pratama",
          "x1": 0.7920771837234497,
          "x2": -4.745576858520508
         },
         {
          "label": 1,
          "name": "bobby irawan mahendranata",
          "x1": -0.05099719762802124,
          "x2": -5.15291690826416
         },
         {
          "label": 1,
          "name": "muhammad fahmi",
          "x1": 3.4288153648376465,
          "x2": -5.0509233474731445
         },
         {
          "label": 1,
          "name": "ananto purbo",
          "x1": -5.087550163269043,
          "x2": -6.674440383911133
         },
         {
          "label": 0,
          "name": "ria amitya",
          "x1": -2.940164089202881,
          "x2": -4.57636022567749
         },
         {
          "label": 1,
          "name": "widyanto murprasetyo",
          "x1": 0.24599432945251465,
          "x2": -3.235306978225708
         },
         {
          "label": 1,
          "name": "reto suprapto pratama",
          "x1": 0.8923797607421875,
          "x2": -4.527461051940918
         },
         {
          "label": 1,
          "name": "yogi indra pratama",
          "x1": 0.8679491877555847,
          "x2": -4.648343086242676
         },
         {
          "label": 0,
          "name": "indah mutmainnah",
          "x1": -1.2679674625396729,
          "x2": -5.986352920532227
         },
         {
          "label": 1,
          "name": "yan yan hendrayana",
          "x1": -0.8176576495170593,
          "x2": -4.89656925201416
         },
         {
          "label": 1,
          "name": "ari aditya fuad",
          "x1": 0.11657171696424484,
          "x2": -4.033907890319824
         },
         {
          "label": 1,
          "name": "rio putra",
          "x1": -3.7236342430114746,
          "x2": -2.7361252307891846
         },
         {
          "label": 1,
          "name": "dadan nurafiat",
          "x1": -0.03402204439043999,
          "x2": -5.209925651550293
         },
         {
          "label": 1,
          "name": "luhur prabhawa",
          "x1": -2.0305795669555664,
          "x2": -8.068031311035156
         },
         {
          "label": 1,
          "name": "aristya hernawan",
          "x1": -0.48638004064559937,
          "x2": -3.543694019317627
         },
         {
          "label": 1,
          "name": "jansfin ns nadapdap",
          "x1": -0.5497070550918579,
          "x2": -4.998653888702393
         },
         {
          "label": 1,
          "name": "karunia putra wijaya",
          "x1": -3.2288832664489746,
          "x2": -2.170407772064209
         },
         {
          "label": 1,
          "name": "marcell f.a.m. sinay",
          "x1": -2.261913776397705,
          "x2": -6.574258327484131
         },
         {
          "label": 0,
          "name": "rininta putri nugroho",
          "x1": -3.539992332458496,
          "x2": -3.299316644668579
         },
         {
          "label": 1,
          "name": "suharto",
          "x1": -3.155884027481079,
          "x2": -8.22957992553711
         },
         {
          "label": 1,
          "name": "gama titis anuraga",
          "x1": -1.1523714065551758,
          "x2": -4.369174003601074
         },
         {
          "label": 1,
          "name": "ardiansyah handika",
          "x1": 1.2291582822799683,
          "x2": -8.754438400268555
         },
         {
          "label": 1,
          "name": "muhammad ridha adhari",
          "x1": 3.663754940032959,
          "x2": -5.050938129425049
         },
         {
          "label": 1,
          "name": "ade meiyos wanda",
          "x1": -0.44544631242752075,
          "x2": -6.121840000152588
         },
         {
          "label": 0,
          "name": "winda agustiani",
          "x1": -5.290040493011475,
          "x2": -5.301330089569092
         },
         {
          "label": 1,
          "name": "andrew wangsa",
          "x1": -0.24822841584682465,
          "x2": -5.424786567687988
         },
         {
          "label": 1,
          "name": "hendro pratama",
          "x1": 0.7786685824394226,
          "x2": -4.7992682456970215
         },
         {
          "label": 0,
          "name": "annisa martina",
          "x1": -1.579148530960083,
          "x2": -4.981688499450684
         },
         {
          "label": 0,
          "name": "reni nursatwika palupi",
          "x1": -2.8819026947021484,
          "x2": -5.107349395751953
         },
         {
          "label": 1,
          "name": "adha sukma aji",
          "x1": 0.21797524392604828,
          "x2": -6.297427177429199
         },
         {
          "label": 1,
          "name": "willy gunary abadi",
          "x1": -1.8860763311386108,
          "x2": -6.970384120941162
         },
         {
          "label": 0,
          "name": "endah pratiwi puji l",
          "x1": -4.034455299377441,
          "x2": -3.858020544052124
         },
         {
          "label": 1,
          "name": "wijoyo batara frans simanjuntak",
          "x1": -4.259866714477539,
          "x2": -6.102524757385254
         },
         {
          "label": 1,
          "name": "lucky bagus waskito",
          "x1": -4.407455921173096,
          "x2": -8.647618293762207
         },
         {
          "label": 1,
          "name": "gamma aditya",
          "x1": 0.19313594698905945,
          "x2": -4.148969650268555
         },
         {
          "label": 1,
          "name": "nataneil adhynagara horansil",
          "x1": -0.9088997840881348,
          "x2": -4.416093826293945
         },
         {
          "label": 0,
          "name": "raisya noor pertiwi",
          "x1": -4.175502300262451,
          "x2": -4.399819374084473
         },
         {
          "label": 1,
          "name": "adrianto r sastrohartono",
          "x1": -5.028304100036621,
          "x2": -7.326366424560547
         },
         {
          "label": 1,
          "name": "redi muhammad taufik",
          "x1": 3.6884655952453613,
          "x2": -4.817198276519775
         },
         {
          "label": 0,
          "name": "meutia sistarani",
          "x1": -3.413054943084717,
          "x2": -4.82351016998291
         },
         {
          "label": 1,
          "name": "josua adrianov j l",
          "x1": -3.8409972190856934,
          "x2": -6.084943771362305
         },
         {
          "label": 1,
          "name": "galant perdana putra",
          "x1": -2.9203121662139893,
          "x2": -2.0460338592529297
         },
         {
          "label": 1,
          "name": "rian suari aritonang",
          "x1": -2.0630176067352295,
          "x2": -5.030326843261719
         },
         {
          "label": 0,
          "name": "nayasari aissa",
          "x1": -2.050840377807617,
          "x2": -4.761606216430664
         },
         {
          "label": 1,
          "name": "ida bagus erlangga",
          "x1": -1.2998911142349243,
          "x2": -3.7879080772399902
         },
         {
          "label": 1,
          "name": "andena utama",
          "x1": -0.29789698123931885,
          "x2": -5.850895404815674
         },
         {
          "label": 1,
          "name": "muhammad anang mardyaman asnar",
          "x1": 3.36065673828125,
          "x2": -5.318631649017334
         },
         {
          "label": 1,
          "name": "mahathir firman haq",
          "x1": 0.1761273443698883,
          "x2": -7.311681747436523
         },
         {
          "label": 1,
          "name": "ahmad rifqi muchtar",
          "x1": 0.7983725070953369,
          "x2": -7.395347595214844
         },
         {
          "label": 1,
          "name": "aulia sukma hutama",
          "x1": -0.6405009627342224,
          "x2": -7.165440082550049
         },
         {
          "label": 0,
          "name": "ade wulan komala sari",
          "x1": -1.0146379470825195,
          "x2": -6.583552360534668
         },
         {
          "label": 0,
          "name": "arlene krishnadewi",
          "x1": -3.2505574226379395,
          "x2": -6.839301586151123
         },
         {
          "label": 0,
          "name": "yanuaria satya dewi",
          "x1": -0.16134098172187805,
          "x2": -4.167088031768799
         },
         {
          "label": 0,
          "name": "ayunita roesadhiana",
          "x1": -2.31379771232605,
          "x2": -4.91251277923584
         },
         {
          "label": 1,
          "name": "septian setyoko",
          "x1": -0.3373124897480011,
          "x2": -2.908062696456909
         },
         {
          "label": 0,
          "name": "diah setyo wijiharti",
          "x1": -4.15554666519165,
          "x2": -4.879897117614746
         },
         {
          "label": 1,
          "name": "irfan firdaus suherman",
          "x1": -1.738446831703186,
          "x2": -7.33553409576416
         },
         {
          "label": 1,
          "name": "martin simbolon",
          "x1": -3.7623236179351807,
          "x2": -7.686662197113037
         },
         {
          "label": 1,
          "name": "antonius januar l b",
          "x1": -4.913877010345459,
          "x2": -6.7257819175720215
         },
         {
          "label": 1,
          "name": "yuri pangestu",
          "x1": -3.5345265865325928,
          "x2": -7.172341823577881
         },
         {
          "label": 1,
          "name": "gian anggana",
          "x1": -1.0059788227081299,
          "x2": -4.012174606323242
         },
         {
          "label": 0,
          "name": "yuliana prastika pertiwi",
          "x1": -3.726470470428467,
          "x2": -3.975517988204956
         },
         {
          "label": 0,
          "name": "wahyu widayati",
          "x1": -0.6300475597381592,
          "x2": -8.6994047164917
         },
         {
          "label": 0,
          "name": "janti kusumaningrum",
          "x1": -1.8009366989135742,
          "x2": -8.494888305664062
         },
         {
          "label": 1,
          "name": "febrigia ghana rinaldi",
          "x1": -1.7739609479904175,
          "x2": -5.221832275390625
         },
         {
          "label": 0,
          "name": "sari dewi kurniasih indrawan",
          "x1": -1.184180498123169,
          "x2": -1.5955308675765991
         },
         {
          "label": 0,
          "name": "tania taufiq",
          "x1": -1.4726098775863647,
          "x2": -7.273373603820801
         },
         {
          "label": 1,
          "name": "mohammad ikhsan",
          "x1": 2.9996249675750732,
          "x2": -5.086558818817139
         },
         {
          "label": 0,
          "name": "siti sekar gondoarum",
          "x1": -3.175894021987915,
          "x2": -7.694638252258301
         },
         {
          "label": 1,
          "name": "made sukma hartania",
          "x1": 0.3463451862335205,
          "x2": -6.408613681793213
         },
         {
          "label": 0,
          "name": "rahmania ramdhani",
          "x1": 0.5842204689979553,
          "x2": -6.628769874572754
         },
         {
          "label": 1,
          "name": "victor oktavianus",
          "x1": -3.60788631439209,
          "x2": -5.558591842651367
         },
         {
          "label": 1,
          "name": "nandar darmawan",
          "x1": -0.0947219505906105,
          "x2": -5.077873229980469
         },
         {
          "label": 1,
          "name": "daniel leonardus",
          "x1": -2.8642067909240723,
          "x2": -6.33477783203125
         },
         {
          "label": 1,
          "name": "adam pratomo",
          "x1": -4.03656530380249,
          "x2": -8.710712432861328
         },
         {
          "label": 1,
          "name": "rizal adam zulkarnaen",
          "x1": -0.8963531851768494,
          "x2": -6.703094482421875
         },
         {
          "label": 1,
          "name": "muhammad yunihar aswad",
          "x1": 3.6932902336120605,
          "x2": -5.127875804901123
         },
         {
          "label": 1,
          "name": "dimas taha maulana",
          "x1": -0.19814708828926086,
          "x2": -7.242959976196289
         },
         {
          "label": 0,
          "name": "ayu mutiara hapsari",
          "x1": -2.674762010574341,
          "x2": -3.5846619606018066
         },
         {
          "label": 1,
          "name": "rinaldi medali rachman",
          "x1": -1.40038001537323,
          "x2": -6.180349349975586
         },
         {
          "label": 1,
          "name": "sujarwo",
          "x1": -3.843954563140869,
          "x2": -8.549811363220215
         },
         {
          "label": 1,
          "name": "ircham hendani haqiqi",
          "x1": -2.56023907661438,
          "x2": -6.279143333435059
         },
         {
          "label": 1,
          "name": "janitra halim",
          "x1": -2.8105111122131348,
          "x2": -6.434965133666992
         },
         {
          "label": 1,
          "name": "zulkarnaen",
          "x1": -2.6548244953155518,
          "x2": -7.277965545654297
         },
         {
          "label": 0,
          "name": "arakita rida rimbayana",
          "x1": -1.648086667060852,
          "x2": -4.233399868011475
         },
         {
          "label": 1,
          "name": "agus suroso",
          "x1": -4.31835412979126,
          "x2": -8.61872386932373
         },
         {
          "label": 0,
          "name": "devi",
          "x1": -3.3534765243530273,
          "x2": -7.83004093170166
         },
         {
          "label": 0,
          "name": "aisyah khulqi",
          "x1": -1.2844409942626953,
          "x2": -8.032476425170898
         },
         {
          "label": 0,
          "name": "asni jatiningasih",
          "x1": -3.420685052871704,
          "x2": -5.60319709777832
         },
         {
          "label": 1,
          "name": "hendra bagja suherman",
          "x1": 0.05522039160132408,
          "x2": -5.364782333374023
         },
         {
          "label": 1,
          "name": "maulana arif fathullah",
          "x1": -0.4292440712451935,
          "x2": -7.693778991699219
         },
         {
          "label": 1,
          "name": "boy sihombing",
          "x1": -3.995382785797119,
          "x2": -7.3148193359375
         },
         {
          "label": 1,
          "name": "lie roberto eliantono adiseputra",
          "x1": -4.91123104095459,
          "x2": -6.999301910400391
         },
         {
          "label": 0,
          "name": "della patricia ginting",
          "x1": -3.6326041221618652,
          "x2": -5.708155632019043
         },
         {
          "label": 0,
          "name": "sukmawati ayu dewandari",
          "x1": -0.3586772382259369,
          "x2": -6.293668270111084
         },
         {
          "label": 1,
          "name": "rizki wira pradipta",
          "x1": -0.11834026128053665,
          "x2": -3.6528327465057373
         },
         {
          "label": 0,
          "name": "amirah balqis binti shabudin",
          "x1": -1.696969985961914,
          "x2": -6.172194480895996
         },
         {
          "label": 0,
          "name": "novi pamelina",
          "x1": -2.6174392700195312,
          "x2": -6.090458393096924
         },
         {
          "label": 1,
          "name": "bramianha adiwazsha",
          "x1": -0.39994698762893677,
          "x2": -6.343883037567139
         },
         {
          "label": 0,
          "name": "twindania namiesyva",
          "x1": -1.2697144746780396,
          "x2": -5.277918815612793
         },
         {
          "label": 1,
          "name": "adhytia awang k",
          "x1": -0.6928437352180481,
          "x2": -3.0712356567382812
         },
         {
          "label": 0,
          "name": "priscilla mareita halim",
          "x1": -1.8454246520996094,
          "x2": -6.352420330047607
         },
         {
          "label": 0,
          "name": "yani chadijah",
          "x1": -0.4138285517692566,
          "x2": -6.981674671173096
         },
         {
          "label": 1,
          "name": "dzikrilla qalbi",
          "x1": -1.917141079902649,
          "x2": -7.075936794281006
         },
         {
          "label": 0,
          "name": "nurshanti",
          "x1": -3.8855767250061035,
          "x2": -6.1638641357421875
         },
         {
          "label": 1,
          "name": "egie ergian",
          "x1": -3.4098448753356934,
          "x2": -6.7404584884643555
         },
         {
          "label": 1,
          "name": "rizki mirzy ramadhana",
          "x1": 0.28250840306282043,
          "x2": -6.021058082580566
         },
         {
          "label": 0,
          "name": "nenden solihatul zannah",
          "x1": -3.563755512237549,
          "x2": -7.399148464202881
         },
         {
          "label": 1,
          "name": "christian",
          "x1": -5.1093549728393555,
          "x2": -4.53383207321167
         },
         {
          "label": 0,
          "name": "rahmantha purba anggana",
          "x1": -0.4385506510734558,
          "x2": -4.201175212860107
         },
         {
          "label": 1,
          "name": "alfie novriansyah zairul",
          "x1": 1.2101126909255981,
          "x2": -8.740434646606445
         },
         {
          "label": 1,
          "name": "abdul rachman winata",
          "x1": 0.8825040459632874,
          "x2": -6.8604512214660645
         },
         {
          "label": 0,
          "name": "vivi machzery putri",
          "x1": -3.7168540954589844,
          "x2": -2.9334969520568848
         },
         {
          "label": 1,
          "name": "zakiyatmoko brachtomo",
          "x1": -3.974331855773926,
          "x2": -8.619047164916992
         },
         {
          "label": 0,
          "name": "rian herdiani",
          "x1": -2.844343423843384,
          "x2": -5.503024578094482
         },
         {
          "label": 1,
          "name": "adhitya febrian rahman",
          "x1": 0.5373342037200928,
          "x2": -6.967527389526367
         },
         {
          "label": 1,
          "name": "david lukman",
          "x1": -2.080864667892456,
          "x2": -6.739984035491943
         },
         {
          "label": 1,
          "name": "aditya budi harmeigi",
          "x1": 0.11745655536651611,
          "x2": -4.074840068817139
         },
         {
          "label": 1,
          "name": "farasdaq muchibbus sajjad",
          "x1": -0.30183374881744385,
          "x2": -6.8728556632995605
         },
         {
          "label": 1,
          "name": "galandra",
          "x1": -0.6660597920417786,
          "x2": -5.801409721374512
         },
         {
          "label": 1,
          "name": "wakid yuniarto",
          "x1": -3.886902093887329,
          "x2": -4.689499378204346
         },
         {
          "label": 1,
          "name": "moch dede amin munajat",
          "x1": -1.8001981973648071,
          "x2": -7.322525501251221
         },
         {
          "label": 0,
          "name": "riastri oktoviani",
          "x1": -3.4036903381347656,
          "x2": -4.7217116355896
         },
         {
          "label": 0,
          "name": "dea inesia",
          "x1": -3.220860242843628,
          "x2": -6.626870632171631
         },
         {
          "label": 0,
          "name": "citra puspitaningrum",
          "x1": -3.2066941261291504,
          "x2": -3.7156710624694824
         },
         {
          "label": 0,
          "name": "acintya anindita",
          "x1": -2.5627036094665527,
          "x2": -4.716813564300537
         },
         {
          "label": 1,
          "name": "aditya pratava putra",
          "x1": 0.7298197746276855,
          "x2": -4.223066329956055
         },
         {
          "label": 1,
          "name": "ronaldo indra putra",
          "x1": -3.498941659927368,
          "x2": -2.360513925552368
         },
         {
          "label": 0,
          "name": "diska vannisa",
          "x1": -2.67960786819458,
          "x2": -6.300834655761719
         },
         {
          "label": 1,
          "name": "adit pradhana jayusman setyogroho",
          "x1": 0.4680774211883545,
          "x2": -4.268004894256592
         },
         {
          "label": 1,
          "name": "muhammad erlangga ibrahim",
          "x1": 3.563227891921997,
          "x2": -5.036525726318359
         },
         {
          "label": 1,
          "name": "raffles senjaya",
          "x1": -1.5148396492004395,
          "x2": -9.158123970031738
         },
         {
          "label": 0,
          "name": "rizky ayu maulani",
          "x1": -0.40499410033226013,
          "x2": -7.655031681060791
         },
         {
          "label": 1,
          "name": "budiman santoso",
          "x1": -5.450718402862549,
          "x2": -6.629152297973633
         },
         {
          "label": 0,
          "name": "gitta pusparini",
          "x1": -3.0886802673339844,
          "x2": -3.733011245727539
         },
         {
          "label": 0,
          "name": "ajeng purna putri oktaviani",
          "x1": -3.5134940147399902,
          "x2": -2.9929041862487793
         },
         {
          "label": 0,
          "name": "filian umumiah",
          "x1": -2.398259401321411,
          "x2": -7.076191425323486
         },
         {
          "label": 1,
          "name": "muhammad zaki ramadhan",
          "x1": 3.3030779361724854,
          "x2": -5.163705348968506
         },
         {
          "label": 0,
          "name": "noviana budianti",
          "x1": -3.4659817218780518,
          "x2": -5.38823938369751
         },
         {
          "label": 1,
          "name": "amrizal nainggolan",
          "x1": -1.301417350769043,
          "x2": -4.020822525024414
         },
         {
          "label": 1,
          "name": "ahmad tarmizi bin ahmad zawawi",
          "x1": 1.023163914680481,
          "x2": -6.93085241317749
         },
         {
          "label": 0,
          "name": "novrita lestia utami",
          "x1": -3.04736065864563,
          "x2": -4.295151710510254
         },
         {
          "label": 1,
          "name": "angga wiranata",
          "x1": -0.9759979844093323,
          "x2": -4.017052173614502
         },
         {
          "label": 1,
          "name": "ferdy okdinurza",
          "x1": -3.286928415298462,
          "x2": -8.04116153717041
         },
         {
          "label": 1,
          "name": "anton saputra",
          "x1": -3.4477782249450684,
          "x2": -2.118496894836426
         },
         {
          "label": 1,
          "name": "ramadhan niendraputra",
          "x1": -3.197472095489502,
          "x2": -2.210824966430664
         },
         {
          "label": 1,
          "name": "satrio ajie wijaya",
          "x1": -1.259093999862671,
          "x2": -9.420446395874023
         },
         {
          "label": 1,
          "name": "edwin andrianus juniar",
          "x1": -2.5754497051239014,
          "x2": -5.192850112915039
         },
         {
          "label": 1,
          "name": "firman chandra s",
          "x1": -0.2361285537481308,
          "x2": -5.460578441619873
         },
         {
          "label": 0,
          "name": "kiki sarah amelia",
          "x1": -2.226398229598999,
          "x2": -6.270274639129639
         },
         {
          "label": 1,
          "name": "ahmad fajrusysyarif b",
          "x1": 0.7593125104904175,
          "x2": -7.604447841644287
         },
         {
          "label": 0,
          "name": "probowati agustina dwi putri",
          "x1": -3.9630513191223145,
          "x2": -3.6155388355255127
         },
         {
          "label": 0,
          "name": "ieneke ayuningtiyas",
          "x1": -3.8017055988311768,
          "x2": -4.325558662414551
         },
         {
          "label": 1,
          "name": "muhammad rizki",
          "x1": 3.9413833618164062,
          "x2": -4.9017205238342285
         },
         {
          "label": 1,
          "name": "adi kuswanto",
          "x1": -5.300774574279785,
          "x2": -6.406704425811768
         },
         {
          "label": 1,
          "name": "ilham akbar",
          "x1": -0.8309122920036316,
          "x2": -6.91005802154541
         },
         {
          "label": 0,
          "name": "nurul najhan binti mukhtar",
          "x1": -3.1803581714630127,
          "x2": -5.427125930786133
         },
         {
          "label": 1,
          "name": "satrio wicaksono",
          "x1": -4.81476354598999,
          "x2": -8.700950622558594
         },
         {
          "label": 1,
          "name": "marteen samuel",
          "x1": -2.725125551223755,
          "x2": -7.715587139129639
         },
         {
          "label": 1,
          "name": "baskara adhitama",
          "x1": 0.24539154767990112,
          "x2": -6.129762649536133
         },
         {
          "label": 0,
          "name": "rania tiasundari",
          "x1": -2.2124454975128174,
          "x2": -4.596262454986572
         },
         {
          "label": 1,
          "name": "ady iswanto",
          "x1": -5.2423248291015625,
          "x2": -6.448805332183838
         },
         {
          "label": 0,
          "name": "riyani mardikaningrum",
          "x1": -2.255051612854004,
          "x2": -5.082150459289551
         },
         {
          "label": 0,
          "name": "anindita rukmi harumi",
          "x1": -2.302459716796875,
          "x2": -4.2290730476379395
         },
         {
          "label": 1,
          "name": "daniel sanjaya",
          "x1": -0.6466349363327026,
          "x2": -5.184422016143799
         },
         {
          "label": 1,
          "name": "novraym vianus keriahenta meliala",
          "x1": -2.741255283355713,
          "x2": -5.658379554748535
         },
         {
          "label": 1,
          "name": "denori gumalay",
          "x1": -2.729879379272461,
          "x2": -7.469098091125488
         },
         {
          "label": 1,
          "name": "arwin yurison",
          "x1": -3.545999050140381,
          "x2": -7.514244079589844
         },
         {
          "label": 1,
          "name": "ilham mubaroq",
          "x1": -1.7208731174468994,
          "x2": -7.398218631744385
         },
         {
          "label": 0,
          "name": "made dewi anggreni",
          "x1": -3.4133663177490234,
          "x2": -6.735495090484619
         },
         {
          "label": 1,
          "name": "budi heryadi",
          "x1": -2.1856982707977295,
          "x2": -8.691292762756348
         },
         {
          "label": 1,
          "name": "iwanto",
          "x1": -5.132626533508301,
          "x2": -6.490987300872803
         },
         {
          "label": 0,
          "name": "sri nurhayati",
          "x1": -3.0465478897094727,
          "x2": -5.395802974700928
         },
         {
          "label": 0,
          "name": "hertyasti pradita",
          "x1": -0.13896392285823822,
          "x2": -3.676816940307617
         },
         {
          "label": 0,
          "name": "welly sylvia",
          "x1": -2.870853900909424,
          "x2": -7.2326860427856445
         },
         {
          "label": 0,
          "name": "lucya pramita dewi",
          "x1": -3.1585910320281982,
          "x2": -4.495861530303955
         },
         {
          "label": 1,
          "name": "agung suwandaru",
          "x1": -1.36429762840271,
          "x2": -2.898364782333374
         },
         {
          "label": 1,
          "name": "dennis christian adhitya",
          "x1": -5.07647705078125,
          "x2": -4.557254314422607
         },
         {
          "label": 0,
          "name": "fira",
          "x1": -2.502854347229004,
          "x2": -7.460798740386963
         },
         {
          "label": 1,
          "name": "ronald nehemia marulitua",
          "x1": -1.6678779125213623,
          "x2": -6.699461936950684
         },
         {
          "label": 1,
          "name": "abdullah alaydrus",
          "x1": -0.634769082069397,
          "x2": -7.881215572357178
         },
         {
          "label": 0,
          "name": "dina anggraini pramitasari",
          "x1": -1.6270922422409058,
          "x2": -4.063925743103027
         },
         {
          "label": 1,
          "name": "husni firmansyah",
          "x1": 1.3123193979263306,
          "x2": -8.37276554107666
         },
         {
          "label": 1,
          "name": "aulia hakim rusdi",
          "x1": -1.861903429031372,
          "x2": -7.312788963317871
         },
         {
          "label": 0,
          "name": "widyastiwi",
          "x1": -4.277016639709473,
          "x2": -4.97927188873291
         },
         {
          "label": 1,
          "name": "andre laksono putro",
          "x1": -4.462539196014404,
          "x2": -7.9089250564575195
         },
         {
          "label": 0,
          "name": "alia fariza",
          "x1": -1.2764153480529785,
          "x2": -7.0003790855407715
         },
         {
          "label": 0,
          "name": "inge natalia",
          "x1": -2.3732540607452393,
          "x2": -5.7474517822265625
         },
         {
          "label": 1,
          "name": "sandi prima yudha",
          "x1": -0.5389968752861023,
          "x2": -6.237022876739502
         },
         {
          "label": 1,
          "name": "sigit yuwono saputro",
          "x1": -4.494855880737305,
          "x2": -8.140920639038086
         },
         {
          "label": 1,
          "name": "ronald jefferson",
          "x1": -3.84641170501709,
          "x2": -7.731691837310791
         },
         {
          "label": 1,
          "name": "muhammad rizqy anandhika",
          "x1": 3.615518808364868,
          "x2": -5.176140785217285
         },
         {
          "label": 0,
          "name": "rista ayu kusumawati",
          "x1": -1.1667649745941162,
          "x2": -8.225875854492188
         },
         {
          "label": 0,
          "name": "siti winny adya maulidiani",
          "x1": -3.4161500930786133,
          "x2": -4.7931227684021
         },
         {
          "label": 0,
          "name": "sry dewi hujaya",
          "x1": -1.3442609310150146,
          "x2": -9.282901763916016
         },
         {
          "label": 0,
          "name": "shinta asarina",
          "x1": -2.2050669193267822,
          "x2": -4.849862575531006
         },
         {
          "label": 1,
          "name": "ariga wibisana",
          "x1": -2.044691324234009,
          "x2": -5.226597785949707
         },
         {
          "label": 1,
          "name": "tommy arlan",
          "x1": -3.5304760932922363,
          "x2": -8.299142837524414
         },
         {
          "label": 0,
          "name": "nadia fadhilah riza",
          "x1": -0.5617279410362244,
          "x2": -7.489586353302002
         },
         {
          "label": 0,
          "name": "puti larassitri s",
          "x1": -3.1790006160736084,
          "x2": -3.7768237590789795
         },
         {
          "label": 1,
          "name": "zaky asy'ari rasyid",
          "x1": -1.2480409145355225,
          "x2": -7.7534942626953125
         },
         {
          "label": 1,
          "name": "boby tri andono",
          "x1": -4.489014625549316,
          "x2": -7.729132652282715
         },
         {
          "label": 1,
          "name": "wiwandra rahmanusyairi",
          "x1": 0.5812364816665649,
          "x2": -6.599914073944092
         },
         {
          "label": 1,
          "name": "edy junaidi tanuwiharja",
          "x1": -1.1715141534805298,
          "x2": -5.1103386878967285
         },
         {
          "label": 0,
          "name": "henny triana",
          "x1": -3.2233245372772217,
          "x2": -6.248213291168213
         },
         {
          "label": 1,
          "name": "muhammad yasir muzayan haq",
          "x1": 3.7176425457000732,
          "x2": -5.251889705657959
         },
         {
          "label": 0,
          "name": "monika pury oktora",
          "x1": -4.273905277252197,
          "x2": -8.181751251220703
         },
         {
          "label": 1,
          "name": "pamitra wineka",
          "x1": -2.661320686340332,
          "x2": -4.0692644119262695
         },
         {
          "label": 1,
          "name": "jalu naradi",
          "x1": -1.4695109128952026,
          "x2": -7.096246242523193
         },
         {
          "label": 1,
          "name": "donald fransisco",
          "x1": -3.885239601135254,
          "x2": -7.72912073135376
         },
         {
          "label": 1,
          "name": "yandri harianda",
          "x1": -0.9487891793251038,
          "x2": -5.519150257110596
         },
         {
          "label": 1,
          "name": "jongga jihanny",
          "x1": -3.8658244609832764,
          "x2": -7.015970230102539
         },
         {
          "label": 0,
          "name": "kamelia sri maryanti",
          "x1": -2.325568437576294,
          "x2": -5.970734119415283
         },
         {
          "label": 1,
          "name": "hefrizal septi ferdinand",
          "x1": -2.947904109954834,
          "x2": -6.300087928771973
         },
         {
          "label": 0,
          "name": "natasha alia",
          "x1": -1.7359048128128052,
          "x2": -5.04978609085083
         },
         {
          "label": 1,
          "name": "alfred r situmorang",
          "x1": -3.4007985591888428,
          "x2": -7.370139122009277
         },
         {
          "label": 0,
          "name": "hannifa fitria sari",
          "x1": -2.513120174407959,
          "x2": -4.905165195465088
         },
         {
          "label": 1,
          "name": "burhannudin",
          "x1": -2.66855525970459,
          "x2": -8.204604148864746
         },
         {
          "label": 1,
          "name": "riskiray ryannugroho",
          "x1": -4.935852527618408,
          "x2": -7.80094575881958
         },
         {
          "label": 1,
          "name": "herreza mandiri",
          "x1": -1.7029798030853271,
          "x2": -6.633957862854004
         },
         {
          "label": 1,
          "name": "randy erfa saputra",
          "x1": -3.3670997619628906,
          "x2": -2.0221590995788574
         },
         {
          "label": 0,
          "name": "siti marfungah",
          "x1": -3.4699928760528564,
          "x2": -6.998107433319092
         },
         {
          "label": 1,
          "name": "dani darma putra",
          "x1": -3.334747314453125,
          "x2": -2.3578875064849854
         },
         {
          "label": 1,
          "name": "andzarrahim",
          "x1": -0.6709839701652527,
          "x2": -6.4746413230896
         },
         {
          "label": 0,
          "name": "maria fransiska",
          "x1": -2.0472829341888428,
          "x2": -5.398007392883301
         },
         {
          "label": 0,
          "name": "ni wayan eka agustina rindavaldini damayanti",
          "x1": -1.947275161743164,
          "x2": -4.435819625854492
         },
         {
          "label": 0,
          "name": "ade kurniati mutmainah",
          "x1": -1.4855217933654785,
          "x2": -2.0138354301452637
         },
         {
          "label": 0,
          "name": "ajeng tri handini",
          "x1": -3.120924234390259,
          "x2": -5.689296722412109
         },
         {
          "label": 1,
          "name": "andi jatmiko krestiyanto wijaya",
          "x1": -1.2389429807662964,
          "x2": -9.545164108276367
         },
         {
          "label": 1,
          "name": "muhammad reza rinaldy",
          "x1": 3.7694997787475586,
          "x2": -4.960596561431885
         },
         {
          "label": 1,
          "name": "heru wijanarko",
          "x1": -3.327510356903076,
          "x2": -7.440140247344971
         },
         {
          "label": 1,
          "name": "dio arfan",
          "x1": -1.8897113800048828,
          "x2": -7.431302547454834
         },
         {
          "label": 1,
          "name": "yoad nazriga sunarto",
          "x1": -3.078278064727783,
          "x2": -6.63456392288208
         },
         {
          "label": 1,
          "name": "aryo pambudi",
          "x1": -2.5035839080810547,
          "x2": -8.29286003112793
         },
         {
          "label": 1,
          "name": "prasandi abdul aziz",
          "x1": -1.077892780303955,
          "x2": -5.994436264038086
         },
         {
          "label": 1,
          "name": "enrico meidensha janior",
          "x1": -3.3484702110290527,
          "x2": -6.4837822914123535
         },
         {
          "label": 1,
          "name": "abdullah rasmita",
          "x1": -0.6456793546676636,
          "x2": -7.938139915466309
         },
         {
          "label": 1,
          "name": "christophorus ivan samuels",
          "x1": -5.133861541748047,
          "x2": -4.894659996032715
         },
         {
          "label": 0,
          "name": "mutiara dewi",
          "x1": -3.2603096961975098,
          "x2": -4.9536309242248535
         },
         {
          "label": 1,
          "name": "filino nicholas liberty",
          "x1": -3.143718719482422,
          "x2": -6.984875202178955
         },
         {
          "label": 1,
          "name": "muhammad nurul akbar",
          "x1": 3.6275382041931152,
          "x2": -5.078781604766846
         },
         {
          "label": 1,
          "name": "daniel terah ezra gultom",
          "x1": -1.1235870122909546,
          "x2": -5.8989410400390625
         },
         {
          "label": 0,
          "name": "shinta marino",
          "x1": -2.874774217605591,
          "x2": -5.735835552215576
         },
         {
          "label": 0,
          "name": "rayyane mazaya syifa insani",
          "x1": -0.367775022983551,
          "x2": -4.7270379066467285
         },
         {
          "label": 1,
          "name": "tjung steven",
          "x1": -3.5162734985351562,
          "x2": -7.191730499267578
         },
         {
          "label": 1,
          "name": "alfath akbar",
          "x1": -0.8157755136489868,
          "x2": -7.0939040184021
         },
         {
          "label": 1,
          "name": "anton nugroho",
          "x1": -5.032546520233154,
          "x2": -7.666881084442139
         },
         {
          "label": 1,
          "name": "alief satriawan azis",
          "x1": -2.4586679935455322,
          "x2": -4.676273345947266
         },
         {
          "label": 1,
          "name": "febi dwi antony",
          "x1": -5.018669128417969,
          "x2": -6.249603271484375
         },
         {
          "label": 0,
          "name": "wina rukmayuniarti",
          "x1": -3.7076148986816406,
          "x2": -4.520186901092529
         },
         {
          "label": 1,
          "name": "dedi rahmat",
          "x1": 0.6621041297912598,
          "x2": -7.306239604949951
         },
         {
          "label": 0,
          "name": "airine luhnira p",
          "x1": -2.9803836345672607,
          "x2": -5.820464134216309
         },
         {
          "label": 1,
          "name": "satria bramana",
          "x1": 0.33647459745407104,
          "x2": -4.799806118011475
         },
         {
          "label": 1,
          "name": "ery adhityo wibowo",
          "x1": -5.663284778594971,
          "x2": -8.839258193969727
         },
         {
          "label": 1,
          "name": "veri anto",
          "x1": -4.959665775299072,
          "x2": -6.370007038116455
         },
         {
          "label": 0,
          "name": "putri dwiafti ayuningtyas",
          "x1": -3.7041618824005127,
          "x2": -4.115035057067871
         },
         {
          "label": 1,
          "name": "indra pradana yudison",
          "x1": 0.1528787612915039,
          "x2": -4.531383037567139
         },
         {
          "label": 1,
          "name": "muhammad fajar gunawan",
          "x1": 3.5760748386383057,
          "x2": -5.309034824371338
         },
         {
          "label": 1,
          "name": "nono sukarno",
          "x1": -4.347208499908447,
          "x2": -8.209101676940918
         },
         {
          "label": 1,
          "name": "wisasurya jatiwiramurti",
          "x1": -3.9594247341156006,
          "x2": -4.099081516265869
         },
         {
          "label": 0,
          "name": "ina pansita",
          "x1": -3.512868881225586,
          "x2": -5.8715362548828125
         },
         {
          "label": 1,
          "name": "ramdani akbar",
          "x1": -0.691969633102417,
          "x2": -5.844131946563721
         },
         {
          "label": 1,
          "name": "rio rahmansyah",
          "x1": 1.137528419494629,
          "x2": -8.18030834197998
         },
         {
          "label": 0,
          "name": "neni isnaeni",
          "x1": -3.385638475418091,
          "x2": -6.784093379974365
         },
         {
          "label": 1,
          "name": "raden ahnaf faqih shaimy",
          "x1": -0.5300015211105347,
          "x2": -7.0482258796691895
         },
         {
          "label": 1,
          "name": "fahmi",
          "x1": -1.763730764389038,
          "x2": -7.878863334655762
         },
         {
          "label": 1,
          "name": "adhi ichwan kurniawan",
          "x1": -1.127084493637085,
          "x2": -1.4927277565002441
         },
         {
          "label": 1,
          "name": "fajar dwi anggara",
          "x1": -1.1060794591903687,
          "x2": -4.02419376373291
         },
         {
          "label": 1,
          "name": "anwarus salam",
          "x1": -0.6267448663711548,
          "x2": -7.009968280792236
         },
         {
          "label": 1,
          "name": "satrio anindito",
          "x1": -4.0327067375183105,
          "x2": -6.589441299438477
         },
         {
          "label": 1,
          "name": "andri augusta",
          "x1": -3.8941895961761475,
          "x2": -6.058403491973877
         },
         {
          "label": 1,
          "name": "yosianto cahyadi marwita",
          "x1": -4.711141586303711,
          "x2": -5.724330902099609
         },
         {
          "label": 1,
          "name": "ghifari daulagiri",
          "x1": -1.8242812156677246,
          "x2": -6.016871452331543
         },
         {
          "label": 1,
          "name": "lulu setiyabudi",
          "x1": -2.7282826900482178,
          "x2": -8.52771282196045
         },
         {
          "label": 1,
          "name": "harimurti prasetio",
          "x1": -0.05858642980456352,
          "x2": -3.139268398284912
         },
         {
          "label": 0,
          "name": "shinta listiane mandasari",
          "x1": -2.9910287857055664,
          "x2": -5.079673767089844
         },
         {
          "label": 1,
          "name": "fatahuddin",
          "x1": -2.561671257019043,
          "x2": -8.741117477416992
         },
         {
          "label": 1,
          "name": "riko nata negara",
          "x1": -1.262748122215271,
          "x2": -4.434543132781982
         },
         {
          "label": 1,
          "name": "gede widia pratama adhyaksa",
          "x1": 0.8287988305091858,
          "x2": -4.490810394287109
         },
         {
          "label": 1,
          "name": "andri haryono",
          "x1": -4.664156436920166,
          "x2": -7.5362372398376465
         },
         {
          "label": 1,
          "name": "widianto noviansah",
          "x1": -3.8682644367218018,
          "x2": -5.498750686645508
         },
         {
          "label": 1,
          "name": "muhammad luthfi",
          "x1": 3.6565656661987305,
          "x2": -4.892607688903809
         },
         {
          "label": 0,
          "name": "rina noviyanti",
          "x1": -3.913867950439453,
          "x2": -5.556429862976074
         },
         {
          "label": 1,
          "name": "raka sudira wardana",
          "x1": -0.14388135075569153,
          "x2": -4.610982418060303
         },
         {
          "label": 1,
          "name": "andi muhamad pramatadie",
          "x1": 2.7115161418914795,
          "x2": -5.101932048797607
         },
         {
          "label": 1,
          "name": "ishan nugroho",
          "x1": -5.010076522827148,
          "x2": -7.785235404968262
         },
         {
          "label": 1,
          "name": "indra mulyana",
          "x1": -0.8181657791137695,
          "x2": -5.215274810791016
         },
         {
          "label": 0,
          "name": "ginna",
          "x1": -3.331052541732788,
          "x2": -6.925993919372559
         },
         {
          "label": 1,
          "name": "danny wirjadi",
          "x1": -2.411198616027832,
          "x2": -6.988976955413818
         },
         {
          "label": 1,
          "name": "ridlo kuntoro haryono",
          "x1": -4.655158996582031,
          "x2": -8.022480964660645
         },
         {
          "label": 1,
          "name": "oscar pardede",
          "x1": -3.3375589847564697,
          "x2": -7.989997386932373
         },
         {
          "label": 1,
          "name": "abdul rochim",
          "x1": -1.814874529838562,
          "x2": -8.132370948791504
         },
         {
          "label": 0,
          "name": "yustika nur rahmi s",
          "x1": -3.329573154449463,
          "x2": -5.450725078582764
         },
         {
          "label": 0,
          "name": "perwita sari",
          "x1": -2.584131956100464,
          "x2": -4.016186714172363
         },
         {
          "label": 0,
          "name": "vanessa nathania y",
          "x1": -1.0267997980117798,
          "x2": -5.067730903625488
         },
         {
          "label": 0,
          "name": "maya destira",
          "x1": -1.365186333656311,
          "x2": -8.20064926147461
         },
         {
          "label": 0,
          "name": "ilma jayanti",
          "x1": -1.3061116933822632,
          "x2": -9.401840209960938
         },
         {
          "label": 0,
          "name": "ekavianty prajatelistia",
          "x1": -3.557652473449707,
          "x2": -4.9616193771362305
         },
         {
          "label": 1,
          "name": "refi kautsar firmansyah",
          "x1": 1.3087538480758667,
          "x2": -8.380908012390137
         },
         {
          "label": 1,
          "name": "william",
          "x1": -2.1625170707702637,
          "x2": -6.867204666137695
         },
         {
          "label": 0,
          "name": "elise sevtywati selviana ompusunggu",
          "x1": -4.94951057434082,
          "x2": -5.844897747039795
         },
         {
          "label": 1,
          "name": "alvin derry",
          "x1": -3.2739174365997314,
          "x2": -7.53427267074585
         },
         {
          "label": 1,
          "name": "abrori aziswan",
          "x1": -1.8078593015670776,
          "x2": -5.850745677947998
         },
         {
          "label": 1,
          "name": "erwin",
          "x1": -3.429163932800293,
          "x2": -7.6565446853637695
         },
         {
          "label": 1,
          "name": "gun gun gunadi rahib",
          "x1": -1.458184003829956,
          "x2": -2.836139678955078
         },
         {
          "label": 1,
          "name": "daniel david parsaoran",
          "x1": -0.8745264410972595,
          "x2": -5.579478740692139
         },
         {
          "label": 0,
          "name": "luthfia rahmiratri",
          "x1": 0.36278393864631653,
          "x2": -7.11033821105957
         },
         {
          "label": 0,
          "name": "nganti tresna jungjunan",
          "x1": -1.846762776374817,
          "x2": -3.413170099258423
         },
         {
          "label": 0,
          "name": "wike widyanita",
          "x1": -4.0739264488220215,
          "x2": -4.956691741943359
         },
         {
          "label": 1,
          "name": "dani badrazamani",
          "x1": -0.7298446297645569,
          "x2": -5.617738246917725
         },
         {
          "label": 0,
          "name": "levina ferdiana adiwibowo",
          "x1": -5.5119805335998535,
          "x2": -8.66987133026123
         },
         {
          "label": 1,
          "name": "gerry roy manaek siahaan",
          "x1": -0.713858425617218,
          "x2": -4.463067054748535
         },
         {
          "label": 1,
          "name": "azby khilfi mafaziluthfan",
          "x1": -1.5183765888214111,
          "x2": -7.5661420822143555
         },
         {
          "label": 1,
          "name": "nawaf abdullah",
          "x1": -0.679707944393158,
          "x2": -7.906213283538818
         },
         {
          "label": 0,
          "name": "rizki amelia",
          "x1": -2.3122916221618652,
          "x2": -6.307396411895752
         },
         {
          "label": 1,
          "name": "christophorus dendy cestayoga iswarajati",
          "x1": -4.8100175857543945,
          "x2": -4.844583511352539
         },
         {
          "label": 0,
          "name": "shieny aprilia",
          "x1": -2.8178393840789795,
          "x2": -6.679455757141113
         },
         {
          "label": 1,
          "name": "akhmad firdaus pratama",
          "x1": 0.9181340932846069,
          "x2": -4.616861343383789
         },
         {
          "label": 1,
          "name": "mochammad rifqi hari muji",
          "x1": 3.9320266246795654,
          "x2": -5.004171848297119
         },
         {
          "label": 1,
          "name": "adyane ghifnariski",
          "x1": -2.2014505863189697,
          "x2": -5.5964274406433105
         },
         {
          "label": 0,
          "name": "friska cristianti",
          "x1": -4.881396770477295,
          "x2": -4.522851943969727
         },
         {
          "label": 1,
          "name": "sandy ciptapratama budimansyah",
          "x1": 0.7857560515403748,
          "x2": -4.613559246063232
         },
         {
          "label": 0,
          "name": "annisa rifathin",
          "x1": -2.372084140777588,
          "x2": -5.362307548522949
         },
         {
          "label": 1,
          "name": "teja kesuma",
          "x1": -1.8790618181228638,
          "x2": -8.378241539001465
         },
         {
          "label": 0,
          "name": "dian amelina",
          "x1": -2.146911859512329,
          "x2": -5.661550045013428
         },
         {
          "label": 0,
          "name": "tania savitri",
          "x1": -3.1130974292755127,
          "x2": -4.618349552154541
         },
         {
          "label": 1,
          "name": "surya winata",
          "x1": -1.8523001670837402,
          "x2": -8.465415954589844
         },
         {
          "label": 1,
          "name": "adi purwanto sujarwadi",
          "x1": -5.341162204742432,
          "x2": -6.385234832763672
         },
         {
          "label": 1,
          "name": "rezza maulana putra",
          "x1": -3.2346999645233154,
          "x2": -2.1444222927093506
         },
         {
          "label": 1,
          "name": "robby rifan",
          "x1": -2.3635377883911133,
          "x2": -7.536111354827881
         },
         {
          "label": 1,
          "name": "alfian nur mahendra",
          "x1": -0.07874074578285217,
          "x2": -5.4465765953063965
         },
         {
          "label": 0,
          "name": "ryanty sari yuliana",
          "x1": -1.4514825344085693,
          "x2": -4.814973831176758
         },
         {
          "label": 0,
          "name": "galuh intan rakhmania",
          "x1": 0.4202304184436798,
          "x2": -6.665924072265625
         },
         {
          "label": 1,
          "name": "henry prasetyo",
          "x1": 0.22367647290229797,
          "x2": -3.2070250511169434
         },
         {
          "label": 1,
          "name": "lanang panca yudha",
          "x1": -0.6960729360580444,
          "x2": -4.1985883712768555
         },
         {
          "label": 0,
          "name": "wulandari sitorus",
          "x1": -1.074053406715393,
          "x2": -6.205491542816162
         },
         {
          "label": 0,
          "name": "risa astari dewi",
          "x1": -2.5653538703918457,
          "x2": -4.237882137298584
         },
         {
          "label": 1,
          "name": "muhammad thariq hadad",
          "x1": 3.686802864074707,
          "x2": -5.188536167144775
         },
         {
          "label": 1,
          "name": "anthony",
          "x1": -4.267153739929199,
          "x2": -7.103145122528076
         },
         {
          "label": 1,
          "name": "prabantoko kusumoanggo",
          "x1": -5.038059711456299,
          "x2": -6.88366174697876
         },
         {
          "label": 1,
          "name": "djaya cahyadi kusumah",
          "x1": -0.897692084312439,
          "x2": -8.361976623535156
         },
         {
          "label": 0,
          "name": "verina safitri",
          "x1": -3.1772491931915283,
          "x2": -4.401051998138428
         },
         {
          "label": 1,
          "name": "frans salom simbolon",
          "x1": -3.872548818588257,
          "x2": -7.724088668823242
         },
         {
          "label": 0,
          "name": "desy sitio",
          "x1": -3.7373390197753906,
          "x2": -8.034037590026855
         },
         {
          "label": 1,
          "name": "aditya anta taruna",
          "x1": 0.10039608925580978,
          "x2": -4.249969959259033
         },
         {
          "label": 1,
          "name": "devry andry",
          "x1": -3.498893976211548,
          "x2": -7.600189685821533
         },
         {
          "label": 1,
          "name": "maralus reymond simbolon",
          "x1": -3.8111753463745117,
          "x2": -7.757314682006836
         },
         {
          "label": 1,
          "name": "aryo dimas susantiyo",
          "x1": -5.485227108001709,
          "x2": -6.5811638832092285
         },
         {
          "label": 0,
          "name": "vicka kharisma",
          "x1": -1.374644160270691,
          "x2": -6.630654335021973
         },
         {
          "label": 1,
          "name": "gde ari prima satria",
          "x1": -2.4287917613983154,
          "x2": -4.8440141677856445
         },
         {
          "label": 1,
          "name": "juan juli andika chandra",
          "x1": -0.39983823895454407,
          "x2": -5.464221954345703
         },
         {
          "label": 0,
          "name": "theriesa fatma",
          "x1": -2.587434768676758,
          "x2": -7.054235935211182
         },
         {
          "label": 0,
          "name": "felisita annisanti mas'ud",
          "x1": -3.136518955230713,
          "x2": -5.175257205963135
         },
         {
          "label": 1,
          "name": "miftah mizan",
          "x1": -1.6139570474624634,
          "x2": -7.636476516723633
         },
         {
          "label": 1,
          "name": "wahyu agus susanto",
          "x1": -5.502194881439209,
          "x2": -6.242096900939941
         },
         {
          "label": 1,
          "name": "adi prasetyo",
          "x1": 0.12377667427062988,
          "x2": -3.1652917861938477
         },
         {
          "label": 0,
          "name": "astri l wardhani",
          "x1": -1.7116005420684814,
          "x2": -5.899965763092041
         },
         {
          "label": 1,
          "name": "yunan pramesi haris",
          "x1": -2.646341323852539,
          "x2": -6.6796979904174805
         },
         {
          "label": 1,
          "name": "hanz indes tanujaya",
          "x1": -0.7640071511268616,
          "x2": -4.948601245880127
         },
         {
          "label": 1,
          "name": "raden kesumaputra wiranegara",
          "x1": -2.919950008392334,
          "x2": -2.3959031105041504
         },
         {
          "label": 1,
          "name": "rangga dimas janitra veda",
          "x1": -0.5467044115066528,
          "x2": -4.111496925354004
         },
         {
          "label": 1,
          "name": "teo chee xuan",
          "x1": -3.5661280155181885,
          "x2": -7.17107629776001
         },
         {
          "label": 0,
          "name": "ginar santika niwanputri",
          "x1": -3.1271679401397705,
          "x2": -3.9159722328186035
         },
         {
          "label": 1,
          "name": "adie pradipto",
          "x1": -0.12231264263391495,
          "x2": -3.587533473968506
         },
         {
          "label": 0,
          "name": "ganithrie retnasary",
          "x1": -2.5565924644470215,
          "x2": -4.59583854675293
         },
         {
          "label": 0,
          "name": "samantha vivia",
          "x1": -3.5410656929016113,
          "x2": -5.658322811126709
         },
         {
          "label": 1,
          "name": "aditya judith perdana",
          "x1": 0.12483702600002289,
          "x2": -4.088788032531738
         },
         {
          "label": 0,
          "name": "neridawita iskandar",
          "x1": -1.0966366529464722,
          "x2": -5.658734321594238
         },
         {
          "label": 1,
          "name": "santosh",
          "x1": -5.43879508972168,
          "x2": -6.589232921600342
         },
         {
          "label": 0,
          "name": "arbella delianti",
          "x1": -2.9769880771636963,
          "x2": -6.474001884460449
         },
         {
          "label": 0,
          "name": "ayu lazuardi mutmainnah",
          "x1": -0.3118245005607605,
          "x2": -7.621359825134277
         },
         {
          "label": 1,
          "name": "muhamad reza hediyono",
          "x1": 3.1758182048797607,
          "x2": -4.979095458984375
         },
         {
          "label": 1,
          "name": "arif nanda atmavidya",
          "x1": -0.582836389541626,
          "x2": -4.987418174743652
         },
         {
          "label": 0,
          "name": "rizqiya astri hapsari",
          "x1": -2.609382390975952,
          "x2": -4.218062400817871
         },
         {
          "label": 0,
          "name": "yayuk surmai lestari",
          "x1": -1.4283130168914795,
          "x2": -8.07797908782959
         },
         {
          "label": 0,
          "name": "atsarina larasati anindya",
          "x1": -2.066678047180176,
          "x2": -4.3629069328308105
         },
         {
          "label": 0,
          "name": "amal musliha binti mohd siran",
          "x1": -1.5639443397521973,
          "x2": -6.151769638061523
         },
         {
          "label": 0,
          "name": "dewi rachmawati",
          "x1": 0.9856029748916626,
          "x2": -6.656707286834717
         },
         {
          "label": 1,
          "name": "setiawi dharma",
          "x1": -0.80363929271698,
          "x2": -2.9539759159088135
         },
         {
          "label": 1,
          "name": "imam khoirul amri",
          "x1": -1.521084189414978,
          "x2": -6.940318584442139
         },
         {
          "label": 1,
          "name": "wempy wiryaatmaja",
          "x1": -1.3009616136550903,
          "x2": -9.347311973571777
         },
         {
          "label": 1,
          "name": "anang kurniawan",
          "x1": -1.1738117933273315,
          "x2": -1.5622310638427734
         },
         {
          "label": 1,
          "name": "supremlehaq taqwim",
          "x1": -2.672560214996338,
          "x2": -7.834198474884033
         },
         {
          "label": 1,
          "name": "yana supriyatna",
          "x1": -1.1017740964889526,
          "x2": -4.817399024963379
         },
         {
          "label": 0,
          "name": "santhyami",
          "x1": -4.142267227172852,
          "x2": -6.695173740386963
         },
         {
          "label": 1,
          "name": "zivion octavino silalahi",
          "x1": -3.382253646850586,
          "x2": -5.673723220825195
         },
         {
          "label": 1,
          "name": "junior setiawan",
          "x1": -0.6780862808227539,
          "x2": -2.728952169418335
         },
         {
          "label": 1,
          "name": "teuku reyhan syah",
          "x1": 1.0065276622772217,
          "x2": -8.578495025634766
         },
         {
          "label": 1,
          "name": "kenny mandolang",
          "x1": -3.6246225833892822,
          "x2": -7.243099689483643
         },
         {
          "label": 0,
          "name": "sandy eka putri yuninda",
          "x1": -3.132373809814453,
          "x2": -2.4073359966278076
         },
         {
          "label": 1,
          "name": "d hendra purba",
          "x1": -3.140608310699463,
          "x2": -8.804656982421875
         },
         {
          "label": 1,
          "name": "ari restu wibowo",
          "x1": -5.6327056884765625,
          "x2": -8.81868839263916
         },
         {
          "label": 1,
          "name": "bismi abdul majid",
          "x1": -1.636730670928955,
          "x2": -7.857161521911621
         },
         {
          "label": 0,
          "name": "katerina cendana sari",
          "x1": -1.6935356855392456,
          "x2": -4.849431037902832
         },
         {
          "label": 1,
          "name": "johan sunaris",
          "x1": -2.8456943035125732,
          "x2": -7.253854751586914
         },
         {
          "label": 1,
          "name": "afif purnomo",
          "x1": -3.562229633331299,
          "x2": -8.31463623046875
         },
         {
          "label": 1,
          "name": "ray aditya iswara",
          "x1": 0.20076420903205872,
          "x2": -3.9978187084198
         },
         {
          "label": 1,
          "name": "ivan kamil",
          "x1": -2.423499345779419,
          "x2": -6.7089643478393555
         },
         {
          "label": 1,
          "name": "muhamad faris naufal austen",
          "x1": 3.626030683517456,
          "x2": -5.473939895629883
         },
         {
          "label": 1,
          "name": "willy pieseshiwie",
          "x1": -3.793184280395508,
          "x2": -7.381113529205322
         },
         {
          "label": 1,
          "name": "dody suprianto",
          "x1": -5.1115403175354,
          "x2": -6.4903998374938965
         },
         {
          "label": 1,
          "name": "abednego abraham",
          "x1": 0.12117806077003479,
          "x2": -6.722533702850342
         },
         {
          "label": 1,
          "name": "topo priwanda",
          "x1": -4.889357566833496,
          "x2": -7.624950408935547
         },
         {
          "label": 1,
          "name": "eko setiawan cudori",
          "x1": -0.6847090721130371,
          "x2": -2.774592876434326
         },
         {
          "label": 0,
          "name": "irma jelita",
          "x1": -2.4499895572662354,
          "x2": -6.5844340324401855
         },
         {
          "label": 1,
          "name": "ahmad zaky",
          "x1": 0.8260372877120972,
          "x2": -7.391718864440918
         },
         {
          "label": 1,
          "name": "henri gunawan",
          "x1": -1.3526462316513062,
          "x2": -2.9217677116394043
         },
         {
          "label": 1,
          "name": "efrat",
          "x1": -2.777531862258911,
          "x2": -7.623840808868408
         },
         {
          "label": 0,
          "name": "anindita ayuswasti",
          "x1": -3.306918144226074,
          "x2": -4.489978790283203
         },
         {
          "label": 0,
          "name": "prima nilasari",
          "x1": -2.1552364826202393,
          "x2": -5.43904447555542
         },
         {
          "label": 1,
          "name": "dyas utomo",
          "x1": -3.8215270042419434,
          "x2": -8.595964431762695
         },
         {
          "label": 0,
          "name": "alvinda sri hanamertani",
          "x1": -1.2718453407287598,
          "x2": -5.145101070404053
         },
         {
          "label": 0,
          "name": "chindy pratiwi putri",
          "x1": -4.0045952796936035,
          "x2": -3.622389078140259
         },
         {
          "label": 0,
          "name": "evah luviah",
          "x1": -3.1429193019866943,
          "x2": -7.149350643157959
         },
         {
          "label": 0,
          "name": "puti utari emilia",
          "x1": -3.732717275619507,
          "x2": -3.1507441997528076
         },
         {
          "label": 0,
          "name": "weni maulina",
          "x1": -3.1015796661376953,
          "x2": -6.909445762634277
         },
         {
          "label": 1,
          "name": "arseniusmaria atmaji damar g",
          "x1": 0.527442455291748,
          "x2": -5.365478038787842
         },
         {
          "label": 1,
          "name": "harianto",
          "x1": -4.979581832885742,
          "x2": -6.379644870758057
         },
         {
          "label": 1,
          "name": "i made ariya sanjaya",
          "x1": -0.31552591919898987,
          "x2": -4.644126892089844
         },
         {
          "label": 1,
          "name": "irvani r",
          "x1": -3.0589654445648193,
          "x2": -6.4376654624938965
         },
         {
          "label": 0,
          "name": "oktira roka aji",
          "x1": -4.00648307800293,
          "x2": -8.177812576293945
         },
         {
          "label": 0,
          "name": "liza gayatri",
          "x1": -1.5543829202651978,
          "x2": -7.401956081390381
         },
         {
          "label": 0,
          "name": "anisa desrina munaf",
          "x1": -1.9346952438354492,
          "x2": -5.276611328125
         },
         {
          "label": 1,
          "name": "lenaldy nuari garnoko",
          "x1": -2.829312801361084,
          "x2": -6.4057207107543945
         },
         {
          "label": 1,
          "name": "sigit aryo pambudi",
          "x1": -2.828289747238159,
          "x2": -4.067567348480225
         },
         {
          "label": 1,
          "name": "shofarul wustoni",
          "x1": -3.1330654621124268,
          "x2": -8.137194633483887
         },
         {
          "label": 1,
          "name": "wisnu rizkiawan",
          "x1": -1.688368320465088,
          "x2": -5.801689624786377
         },
         {
          "label": 1,
          "name": "candra setia barkah",
          "x1": -0.3676425814628601,
          "x2": -3.3282909393310547
         },
         {
          "label": 1,
          "name": "herdhi hermawan",
          "x1": 0.1476532518863678,
          "x2": -5.613121509552002
         },
         {
          "label": 1,
          "name": "budi eri santoso",
          "x1": -5.37809419631958,
          "x2": -6.601144790649414
         },
         {
          "label": 1,
          "name": "muchyade sadra",
          "x1": -1.3852808475494385,
          "x2": -8.096704483032227
         },
         {
          "label": 0,
          "name": "sinta lestari",
          "x1": -3.044337272644043,
          "x2": -4.367373466491699
         },
         {
          "label": 1,
          "name": "wahyu purwo krisnanto",
          "x1": -5.364672660827637,
          "x2": -6.526841163635254
         },
         {
          "label": 1,
          "name": "beni hamdani",
          "x1": -2.6016838550567627,
          "x2": -6.353020668029785
         },
         {
          "label": 1,
          "name": "i made artha agastya",
          "x1": 0.24744611978530884,
          "x2": -4.504362106323242
         },
         {
          "label": 0,
          "name": "utami rizki amalia",
          "x1": -2.0455222129821777,
          "x2": -6.532003879547119
         },
         {
          "label": 0,
          "name": "ranny rachmaniar",
          "x1": 0.5768101811408997,
          "x2": -6.736826419830322
         },
         {
          "label": 1,
          "name": "alanta elyan putra",
          "x1": -3.061940908432007,
          "x2": -2.0946459770202637
         },
         {
          "label": 1,
          "name": "adi setiawan",
          "x1": -0.6465131640434265,
          "x2": -2.8370654582977295
         },
         {
          "label": 1,
          "name": "daniel spiegel",
          "x1": -3.1180579662323,
          "x2": -6.446435451507568
         },
         {
          "label": 1,
          "name": "alfadho khasroh",
          "x1": -3.0996487140655518,
          "x2": -8.416437149047852
         },
         {
          "label": 1,
          "name": "muhammad mukti aji",
          "x1": 3.6142380237579346,
          "x2": -4.851955413818359
         },
         {
          "label": 1,
          "name": "niko rikardo",
          "x1": -3.869884729385376,
          "x2": -8.11431884765625
         },
         {
          "label": 1,
          "name": "bergas bimo branarto",
          "x1": -4.292414665222168,
          "x2": -7.572663307189941
         },
         {
          "label": 1,
          "name": "bilawa ade respati",
          "x1": -3.9836225509643555,
          "x2": -4.601570129394531
         },
         {
          "label": 0,
          "name": "rahmi husnayani sodikin",
          "x1": -2.858013868331909,
          "x2": -5.61372184753418
         },
         {
          "label": 1,
          "name": "kadek juliana parwanta",
          "x1": -1.2424219846725464,
          "x2": -4.792325973510742
         },
         {
          "label": 0,
          "name": "audrey",
          "x1": -2.796009063720703,
          "x2": -8.343839645385742
         },
         {
          "label": 1,
          "name": "fuady",
          "x1": -2.161681890487671,
          "x2": -8.388103485107422
         },
         {
          "label": 1,
          "name": "fikri muhammad hernawan",
          "x1": 3.6990411281585693,
          "x2": -5.043267250061035
         },
         {
          "label": 1,
          "name": "hilman aghnia",
          "x1": -1.4443262815475464,
          "x2": -5.772886753082275
         },
         {
          "label": 1,
          "name": "fahmi mohammad faaz hidayat",
          "x1": 3.155484437942505,
          "x2": -5.325941562652588
         },
         {
          "label": 1,
          "name": "azhari wicaksono patria",
          "x1": -4.851701259613037,
          "x2": -8.728021621704102
         },
         {
          "label": 1,
          "name": "julian haris",
          "x1": -2.4031436443328857,
          "x2": -6.896406650543213
         },
         {
          "label": 1,
          "name": "octavianus setiawan parulian",
          "x1": -0.6652936339378357,
          "x2": -2.947347640991211
         },
         {
          "label": 0,
          "name": "anne sofia meirina",
          "x1": -2.2187459468841553,
          "x2": -5.5096964836120605
         },
         {
          "label": 0,
          "name": "lydia indriana cristianty",
          "x1": -2.2602005004882812,
          "x2": -4.860872268676758
         },
         {
          "label": 1,
          "name": "muhammad sulaiman nur ubay",
          "x1": 3.529317617416382,
          "x2": -5.142776012420654
         },
         {
          "label": 1,
          "name": "tito sumirat",
          "x1": -3.741302013397217,
          "x2": -8.23856258392334
         },
         {
          "label": 0,
          "name": "dian nuzulia",
          "x1": -2.4847593307495117,
          "x2": -7.036759376525879
         },
         {
          "label": 1,
          "name": "erwin",
          "x1": -3.3967437744140625,
          "x2": -7.571508407592773
         },
         {
          "label": 1,
          "name": "ade permata asdi",
          "x1": -0.3981044590473175,
          "x2": -4.394461154937744
         },
         {
          "label": 0,
          "name": "olivica priyono",
          "x1": -4.3581862449646,
          "x2": -7.643859386444092
         },
         {
          "label": 1,
          "name": "muhammad addifa yulman",
          "x1": 3.5378496646881104,
          "x2": -5.1789093017578125
         },
         {
          "label": 0,
          "name": "ruth christiani basa",
          "x1": -5.054107189178467,
          "x2": -4.502448081970215
         },
         {
          "label": 1,
          "name": "bentang arief budiman",
          "x1": -2.1204991340637207,
          "x2": -7.028990745544434
         },
         {
          "label": 1,
          "name": "byoma wing argyoganendro",
          "x1": -4.775409698486328,
          "x2": -7.649674892425537
         },
         {
          "label": 0,
          "name": "rahma widya ningrum",
          "x1": 0.711331307888031,
          "x2": -7.0208210945129395
         },
         {
          "label": 0,
          "name": "asha regina",
          "x1": -2.650080919265747,
          "x2": -6.899930477142334
         },
         {
          "label": 0,
          "name": "vivin bemiartha",
          "x1": -3.3000330924987793,
          "x2": -5.771002292633057
         },
         {
          "label": 0,
          "name": "tiarma octriviani",
          "x1": -3.2544639110565186,
          "x2": -4.824589729309082
         },
         {
          "label": 1,
          "name": "ramadhan adhitama",
          "x1": 0.9227361679077148,
          "x2": -5.679525375366211
         },
         {
          "label": 1,
          "name": "i made sukrawan",
          "x1": -0.016368698328733444,
          "x2": -6.3453216552734375
         },
         {
          "label": 1,
          "name": "rianto fendy kristanto",
          "x1": -4.908844947814941,
          "x2": -5.528355598449707
         },
         {
          "label": 1,
          "name": "agi prasetiadi",
          "x1": -0.28395548462867737,
          "x2": -2.9988558292388916
         },
         {
          "label": 0,
          "name": "yena wirahma",
          "x1": 0.6713272333145142,
          "x2": -7.0607404708862305
         },
         {
          "label": 0,
          "name": "nadya natalia",
          "x1": -1.370205044746399,
          "x2": -4.83133602142334
         },
         {
          "label": 0,
          "name": "dena karina f",
          "x1": -2.33273983001709,
          "x2": -6.37346887588501
         },
         {
          "label": 1,
          "name": "bill j. t. mangindaan",
          "x1": -1.2516924142837524,
          "x2": -4.711459159851074
         },
         {
          "label": 1,
          "name": "arsyad hendrawan",
          "x1": -0.059379834681749344,
          "x2": -5.1128249168396
         },
         {
          "label": 1,
          "name": "shamini tharumaseelan",
          "x1": -1.506268858909607,
          "x2": -5.666922092437744
         },
         {
          "label": 0,
          "name": "marianette octovina wospakrik",
          "x1": -2.9837260246276855,
          "x2": -4.971128940582275
         },
         {
          "label": 0,
          "name": "afifah kemala hafsari",
          "x1": -0.7091500759124756,
          "x2": -7.211196422576904
         },
         {
          "label": 0,
          "name": "betha januardi budaya",
          "x1": -0.5722849369049072,
          "x2": -6.6360673904418945
         },
         {
          "label": 1,
          "name": "bagus prasetyo wibowo",
          "x1": -5.415699005126953,
          "x2": -8.696206092834473
         },
         {
          "label": 0,
          "name": "citra dewi salasanti",
          "x1": -2.4492619037628174,
          "x2": -4.201671123504639
         },
         {
          "label": 1,
          "name": "edwin zaniar putra",
          "x1": -3.341561794281006,
          "x2": -2.623373508453369
         },
         {
          "label": 1,
          "name": "frizda primabrian",
          "x1": -2.214416027069092,
          "x2": -5.449193000793457
         },
         {
          "label": 1,
          "name": "mirzan afhida navis",
          "x1": -1.347801923751831,
          "x2": -5.6061787605285645
         },
         {
          "label": 1,
          "name": "cha man ling",
          "x1": -2.6294198036193848,
          "x2": -6.777216911315918
         },
         {
          "label": 0,
          "name": "kathya",
          "x1": -1.8061063289642334,
          "x2": -8.125960350036621
         },
         {
          "label": 0,
          "name": "nani natalia",
          "x1": -1.8174843788146973,
          "x2": -4.941739082336426
         },
         {
          "label": 1,
          "name": "pandu adhi prabowo",
          "x1": -5.230137348175049,
          "x2": -8.581764221191406
         },
         {
          "label": 1,
          "name": "edu ibrahim",
          "x1": -1.782483458518982,
          "x2": -7.848499298095703
         },
         {
          "label": 1,
          "name": "jufri ramadhan sinurat",
          "x1": 0.41375070810317993,
          "x2": -5.950723171234131
         },
         {
          "label": 0,
          "name": "meta tri jayanthy",
          "x1": -1.2644561529159546,
          "x2": -9.478876113891602
         },
         {
          "label": 1,
          "name": "yazid mahir",
          "x1": -1.506807565689087,
          "x2": -7.987584590911865
         },
         {
          "label": 0,
          "name": "biofagri ascadendria rachmayuningtyas",
          "x1": -3.669957399368286,
          "x2": -4.1301116943359375
         },
         {
          "label": 0,
          "name": "krisna adiarini",
          "x1": -2.4788448810577393,
          "x2": -5.064656734466553
         },
         {
          "label": 1,
          "name": "untung triadhi",
          "x1": -3.5610456466674805,
          "x2": -6.062652587890625
         },
         {
          "label": 0,
          "name": "rika febriyanti",
          "x1": -4.635542392730713,
          "x2": -6.187567234039307
         },
         {
          "label": 1,
          "name": "hendra gunawan",
          "x1": -1.2993258237838745,
          "x2": -2.9889042377471924
         },
         {
          "label": 0,
          "name": "farainy adinda gitawardhani",
          "x1": -0.23236790299415588,
          "x2": -4.657042503356934
         },
         {
          "label": 0,
          "name": "anisa fariani",
          "x1": -2.167414665222168,
          "x2": -5.1264495849609375
         },
         {
          "label": 1,
          "name": "rudy nasuha",
          "x1": -2.280834197998047,
          "x2": -8.265154838562012
         },
         {
          "label": 0,
          "name": "felinia",
          "x1": -2.900264263153076,
          "x2": -6.814486980438232
         },
         {
          "label": 1,
          "name": "anggi raditya dwi a",
          "x1": -0.0033140010200440884,
          "x2": -3.9535696506500244
         },
         {
          "label": 1,
          "name": "taruna ksatria nababan",
          "x1": -0.6807901263237,
          "x2": -4.384519577026367
         },
         {
          "label": 0,
          "name": "wyke kusmasari",
          "x1": -1.92599356174469,
          "x2": -6.634068012237549
         },
         {
          "label": 1,
          "name": "rheza daiska winardi",
          "x1": -1.2863080501556396,
          "x2": -5.721604347229004
         },
         {
          "label": 0,
          "name": "cucun sunarsih",
          "x1": -2.806373357772827,
          "x2": -7.688836574554443
         },
         {
          "label": 1,
          "name": "hafid inggiantowi",
          "x1": -4.645684242248535,
          "x2": -5.841865062713623
         },
         {
          "label": 1,
          "name": "r kinan adhitya kusumah",
          "x1": -1.2019308805465698,
          "x2": -8.376462936401367
         },
         {
          "label": 1,
          "name": "irfan hanif",
          "x1": -1.2663525342941284,
          "x2": -7.018505096435547
         },
         {
          "label": 1,
          "name": "fiar nafiaristo hamdani",
          "x1": -2.2624616622924805,
          "x2": -5.124853134155273
         },
         {
          "label": 1,
          "name": "anggun faridza",
          "x1": -1.3803895711898804,
          "x2": -3.7496182918548584
         },
         {
          "label": 1,
          "name": "edgar maulana",
          "x1": -0.24361427128314972,
          "x2": -7.515649795532227
         },
         {
          "label": 0,
          "name": "nadya ayuni zein",
          "x1": -3.8404762744903564,
          "x2": -4.418966770172119
         },
         {
          "label": 1,
          "name": "wilson winner",
          "x1": -3.661358118057251,
          "x2": -7.643895626068115
         },
         {
          "label": 1,
          "name": "masyhur aziz hilmy",
          "x1": -1.5286551713943481,
          "x2": -7.895915508270264
         },
         {
          "label": 0,
          "name": "karina trisnanita",
          "x1": -2.320056676864624,
          "x2": -4.329270362854004
         },
         {
          "label": 0,
          "name": "prisila adisty alamanda",
          "x1": -1.362821340560913,
          "x2": -6.0469069480896
         },
         {
          "label": 1,
          "name": "anton maulana",
          "x1": -0.33560478687286377,
          "x2": -7.655074596405029
         },
         {
          "label": 0,
          "name": "annisaa rachmawati",
          "x1": 0.8864766359329224,
          "x2": -6.595189571380615
         },
         {
          "label": 1,
          "name": "alvin gunawan",
          "x1": -1.40000319480896,
          "x2": -2.9121456146240234
         },
         {
          "label": 0,
          "name": "perswina allaili",
          "x1": -2.288353443145752,
          "x2": -6.557349681854248
         },
         {
          "label": 1,
          "name": "octaviyanto samuel",
          "x1": -5.503249168395996,
          "x2": -6.674866676330566
         },
         {
          "label": 1,
          "name": "lukman adi prananto",
          "x1": -0.7576974034309387,
          "x2": -4.756582736968994
         },
         {
          "label": 1,
          "name": "hananto edy wibowo",
          "x1": -5.681204319000244,
          "x2": -8.628586769104004
         },
         {
          "label": 1,
          "name": "andromeda admiralis werdaya",
          "x1": -0.5654647946357727,
          "x2": -5.207312107086182
         },
         {
          "label": 1,
          "name": "m syaiful nurdin",
          "x1": -2.58748197555542,
          "x2": -8.232102394104004
         },
         {
          "label": 0,
          "name": "maria noviana",
          "x1": -2.9977667331695557,
          "x2": -5.35256290435791
         },
         {
          "label": 1,
          "name": "tenri dimitri",
          "x1": -3.3054237365722656,
          "x2": -4.508545875549316
         },
         {
          "label": 1,
          "name": "adi wirahadi kusumah",
          "x1": -0.6181705594062805,
          "x2": -7.79427433013916
         },
         {
          "label": 1,
          "name": "faizal ardi warsiyanto",
          "x1": -4.8385419845581055,
          "x2": -6.138535976409912
         },
         {
          "label": 1,
          "name": "reza prasetya",
          "x1": 0.2747495472431183,
          "x2": -3.336871862411499
         },
         {
          "label": 0,
          "name": "astried sunaryani",
          "x1": -2.5377824306488037,
          "x2": -4.6492838859558105
         },
         {
          "label": 1,
          "name": "mario gamasepto",
          "x1": -0.8359745740890503,
          "x2": -6.454481601715088
         },
         {
          "label": 1,
          "name": "edu yuliardi",
          "x1": -2.6707780361175537,
          "x2": -7.353838920593262
         },
         {
          "label": 1,
          "name": "mohammad rito pratama",
          "x1": 2.5874290466308594,
          "x2": -5.054139137268066
         },
         {
          "label": 1,
          "name": "budi yulianto",
          "x1": -4.971938133239746,
          "x2": -6.428256034851074
         },
         {
          "label": 1,
          "name": "pilih ferisetiadi",
          "x1": -0.4688456654548645,
          "x2": -2.9151151180267334
         },
         {
          "label": 1,
          "name": "ismoyo",
          "x1": -3.895036220550537,
          "x2": -8.383316993713379
         },
         {
          "label": 1,
          "name": "hendrik kurniawan taslim",
          "x1": -1.1800823211669922,
          "x2": -1.5596911907196045
         },
         {
          "label": 1,
          "name": "ahmad zacky musgamy",
          "x1": 0.9567432999610901,
          "x2": -7.432086944580078
         },
         {
          "label": 1,
          "name": "indarta kuncoro aji",
          "x1": -4.210456371307373,
          "x2": -7.685267448425293
         },
         {
          "label": 1,
          "name": "muhammad adrian",
          "x1": 3.553791046142578,
          "x2": -4.949648380279541
         },
         {
          "label": 1,
          "name": "stefanus kusuma adityawan",
          "x1": -1.0869401693344116,
          "x2": -8.369908332824707
         },
         {
          "label": 1,
          "name": "adrial r adiningrat",
          "x1": -1.798081636428833,
          "x2": -4.954118251800537
         },
         {
          "label": 0,
          "name": "levina diansari savitri",
          "x1": -2.8356761932373047,
          "x2": -4.762538433074951
         },
         {
          "label": 1,
          "name": "elfa nugraha",
          "x1": 1.3484299182891846,
          "x2": -5.940676689147949
         },
         {
          "label": 1,
          "name": "muhammad arzaki",
          "x1": 3.6230432987213135,
          "x2": -5.214951515197754
         },
         {
          "label": 0,
          "name": "joice fiskia yusriani",
          "x1": -3.312783718109131,
          "x2": -5.091586112976074
         },
         {
          "label": 1,
          "name": "alfeus christantyas wismana",
          "x1": -1.5473690032958984,
          "x2": -5.963177680969238
         },
         {
          "label": 1,
          "name": "sandi rizman hersandi",
          "x1": -1.6096144914627075,
          "x2": -5.7561163902282715
         },
         {
          "label": 1,
          "name": "wafaa ubaid salim",
          "x1": -0.8867979645729065,
          "x2": -7.246610641479492
         },
         {
          "label": 1,
          "name": "wahyu probo ananto",
          "x1": -5.235706806182861,
          "x2": -6.773414134979248
         },
         {
          "label": 1,
          "name": "kemal argha yuwana",
          "x1": -0.34085559844970703,
          "x2": -7.520544052124023
         },
         {
          "label": 1,
          "name": "arief plantalukmana",
          "x1": -0.4539463520050049,
          "x2": -7.211641311645508
         },
         {
          "label": 0,
          "name": "dea tania octarina",
          "x1": -1.8106749057769775,
          "x2": -4.48865270614624
         },
         {
          "label": 1,
          "name": "freddy chandra",
          "x1": -0.3647615611553192,
          "x2": -5.584318161010742
         },
         {
          "label": 1,
          "name": "mario anggara putra",
          "x1": -2.9277849197387695,
          "x2": -2.4143826961517334
         },
         {
          "label": 1,
          "name": "ignatius ryan pranantyo",
          "x1": -1.1199512481689453,
          "x2": -4.523719787597656
         },
         {
          "label": 1,
          "name": "chandra prasetyo hadi",
          "x1": 0.2339242696762085,
          "x2": -3.5317516326904297
         },
         {
          "label": 1,
          "name": "dimas mayanggoseto jatikusumo",
          "x1": -4.111838340759277,
          "x2": -6.577086925506592
         },
         {
          "label": 0,
          "name": "annisa nur ratna ningrum",
          "x1": -1.6192831993103027,
          "x2": -4.640237331390381
         },
         {
          "label": 1,
          "name": "rahmat romadhona",
          "x1": 0.785064160823822,
          "x2": -7.226703643798828
         },
         {
          "label": 1,
          "name": "augustianus",
          "x1": -5.425408840179443,
          "x2": -5.488102912902832
         },
         {
          "label": 1,
          "name": "genisa azmi ghafery",
          "x1": -2.370333671569824,
          "x2": -6.735087871551514
         },
         {
          "label": 1,
          "name": "ken paramayudha",
          "x1": -0.12885120511054993,
          "x2": -6.37200403213501
         },
         {
          "label": 1,
          "name": "haliansyah",
          "x1": 1.1336877346038818,
          "x2": -8.725903511047363
         },
         {
          "label": 1,
          "name": "hutama gandjar soediredja",
          "x1": -0.1029280573129654,
          "x2": -5.6159586906433105
         },
         {
          "label": 1,
          "name": "irwanto wahyu kusumo",
          "x1": -5.390685081481934,
          "x2": -6.426743030548096
         },
         {
          "label": 1,
          "name": "triadi wirawan",
          "x1": -1.260697841644287,
          "x2": -5.3310723304748535
         },
         {
          "label": 1,
          "name": "wahyu umbara waluya",
          "x1": -0.898789644241333,
          "x2": -8.274130821228027
         },
         {
          "label": 1,
          "name": "nugroho indriyanto",
          "x1": -5.05704927444458,
          "x2": -7.685100078582764
         },
         {
          "label": 1,
          "name": "duddy fachrudin",
          "x1": -2.5845136642456055,
          "x2": -8.663334846496582
         },
         {
          "label": 0,
          "name": "raden retno ariani",
          "x1": -2.95744252204895,
          "x2": -5.534154415130615
         },
         {
          "label": 1,
          "name": "fran sofianto",
          "x1": -5.060035228729248,
          "x2": -6.364515781402588
         },
         {
          "label": 1,
          "name": "jodi astorifa anggoro",
          "x1": -4.736751556396484,
          "x2": -7.864440441131592
         },
         {
          "label": 0,
          "name": "diyah farida ulya",
          "x1": -0.29826468229293823,
          "x2": -7.5956268310546875
         },
         {
          "label": 1,
          "name": "thomas alfa edison",
          "x1": -3.2608048915863037,
          "x2": -8.241684913635254
         },
         {
          "label": 0,
          "name": "muthia rizka neldy",
          "x1": -1.7564010620117188,
          "x2": -7.157098770141602
         },
         {
          "label": 0,
          "name": "andini indyanita",
          "x1": -2.5958099365234375,
          "x2": -4.910207271575928
         },
         {
          "label": 1,
          "name": "dwipayana ali muhammad",
          "x1": 3.5354442596435547,
          "x2": -5.312986850738525
         },
         {
          "label": 1,
          "name": "nuzuli hada ginting",
          "x1": -3.66936993598938,
          "x2": -5.926418781280518
         },
         {
          "label": 1,
          "name": "muhammad pamil",
          "x1": 3.443272829055786,
          "x2": -5.048547267913818
         },
         {
          "label": 1,
          "name": "prasetyo nugroho",
          "x1": -5.036408424377441,
          "x2": -7.889760494232178
         },
         {
          "label": 1,
          "name": "hazrian hazhar",
          "x1": -1.1673834323883057,
          "x2": -6.663745403289795
         },
         {
          "label": 1,
          "name": "arief ibrahim",
          "x1": -1.9489091634750366,
          "x2": -7.576840877532959
         },
         {
          "label": 1,
          "name": "paulus",
          "x1": -2.49727201461792,
          "x2": -8.142269134521484
         },
         {
          "label": 0,
          "name": "nila",
          "x1": -2.9678409099578857,
          "x2": -6.915666580200195
         },
         {
          "label": 0,
          "name": "wenny sulistia dewi",
          "x1": -4.443486213684082,
          "x2": -4.980305194854736
         },
         {
          "label": 0,
          "name": "hasyimah binti hashim",
          "x1": -1.6090621948242188,
          "x2": -6.160283088684082
         },
         {
          "label": 1,
          "name": "andika rachman",
          "x1": 0.6549229025840759,
          "x2": -6.689114093780518
         },
         {
          "label": 1,
          "name": "khaerul anwar",
          "x1": -0.9008005261421204,
          "x2": -7.59304666519165
         },
         {
          "label": 1,
          "name": "firman ardiansyah",
          "x1": 1.331247091293335,
          "x2": -8.57811164855957
         },
         {
          "label": 1,
          "name": "andri irawan suhanda martamenggala",
          "x1": -0.060448385775089264,
          "x2": -4.887236595153809
         },
         {
          "label": 0,
          "name": "nurul farhana binti burhanudin",
          "x1": -2.9916467666625977,
          "x2": -5.4215087890625
         },
         {
          "label": 1,
          "name": "adi sucipto purbasari",
          "x1": -2.714653491973877,
          "x2": -3.69598388671875
         },
         {
          "label": 0,
          "name": "dian pertiwi",
          "x1": -4.086179256439209,
          "x2": -4.825048446655273
         },
         {
          "label": 1,
          "name": "dedi aulia",
          "x1": -2.4847888946533203,
          "x2": -6.9627909660339355
         },
         {
          "label": 1,
          "name": "alan sebastian chandra",
          "x1": -0.4327460825443268,
          "x2": -5.341638088226318
         },
         {
          "label": 1,
          "name": "agung setiadi",
          "x1": -0.8786781430244446,
          "x2": -2.9140262603759766
         },
         {
          "label": 1,
          "name": "furkonudin nugraha",
          "x1": 1.4402107000350952,
          "x2": -5.97816801071167
         },
         {
          "label": 0,
          "name": "hanna ira siahaan",
          "x1": -1.329157829284668,
          "x2": -4.793461322784424
         },
         {
          "label": 1,
          "name": "deva octavian anugerah i",
          "x1": -3.273860454559326,
          "x2": -5.445119857788086
         },
         {
          "label": 1,
          "name": "rojeki parulian sitanggang",
          "x1": -1.3178340196609497,
          "x2": -3.949195146560669
         },
         {
          "label": 1,
          "name": "raymond ralibi",
          "x1": -1.4089878797531128,
          "x2": -6.097164630889893
         },
         {
          "label": 1,
          "name": "muhammad febry",
          "x1": 3.5662477016448975,
          "x2": -4.7976861000061035
         },
         {
          "label": 1,
          "name": "muhamad reza firdaus zen",
          "x1": 3.3777878284454346,
          "x2": -4.945803642272949
         },
         {
          "label": 0,
          "name": "nurdewi",
          "x1": -3.5786993503570557,
          "x2": -7.740786075592041
         },
         {
          "label": 1,
          "name": "anggayudha ananda rasa",
          "x1": -0.36207690834999084,
          "x2": -4.220901966094971
         },
         {
          "label": 1,
          "name": "muhammad fazri ramadhani",
          "x1": 3.296215057373047,
          "x2": -5.153168201446533
         },
         {
          "label": 1,
          "name": "i gusti bagus andika",
          "x1": -5.388382911682129,
          "x2": -5.3705153465271
         },
         {
          "label": 0,
          "name": "wardah kaddihani",
          "x1": -0.8426036238670349,
          "x2": -5.861542701721191
         },
         {
          "label": 0,
          "name": "prilla sista lily jane",
          "x1": -2.157327651977539,
          "x2": -6.478272914886475
         },
         {
          "label": 1,
          "name": "ricky ferdian chrisanto",
          "x1": -5.072918891906738,
          "x2": -4.616293907165527
         },
         {
          "label": 1,
          "name": "trendyar supriyadi",
          "x1": -4.404984474182129,
          "x2": -7.247112274169922
         },
         {
          "label": 1,
          "name": "chairul anam",
          "x1": -0.7832381129264832,
          "x2": -7.719325542449951
         },
         {
          "label": 0,
          "name": "christine fransiska",
          "x1": -5.00387716293335,
          "x2": -4.518072605133057
         },
         {
          "label": 1,
          "name": "ryan rinaldi",
          "x1": -2.682978868484497,
          "x2": -6.189001560211182
         },
         {
          "label": 1,
          "name": "thomas putra",
          "x1": -3.6564037799835205,
          "x2": -2.380810260772705
         },
         {
          "label": 1,
          "name": "mario valentino yasin",
          "x1": -3.4946413040161133,
          "x2": -5.8053741455078125
         },
         {
          "label": 1,
          "name": "roby rajani nurzaini",
          "x1": -2.86293363571167,
          "x2": -5.419518947601318
         },
         {
          "label": 1,
          "name": "rully fajar adrian",
          "x1": -1.21121346950531,
          "x2": -6.506979942321777
         },
         {
          "label": 0,
          "name": "astrini kusumawardhani",
          "x1": -0.2675568461418152,
          "x2": -7.166233062744141
         },
         {
          "label": 1,
          "name": "daniel sitompul",
          "x1": -3.072197914123535,
          "x2": -6.360500812530518
         },
         {
          "label": 0,
          "name": "arlin gumanti prasiddhianti",
          "x1": -3.437014579772949,
          "x2": -4.794883728027344
         },
         {
          "label": 1,
          "name": "aldwin syahperdana",
          "x1": 0.11983153969049454,
          "x2": -7.688724040985107
         },
         {
          "label": 1,
          "name": "alfonsus huntadi n",
          "x1": -3.6982345581054688,
          "x2": -6.931182861328125
         },
         {
          "label": 0,
          "name": "dewi mariyani",
          "x1": -2.397535562515259,
          "x2": -6.080947399139404
         },
         {
          "label": 1,
          "name": "rakshidatu lestaluhu",
          "x1": -0.7530144453048706,
          "x2": -7.983147621154785
         },
         {
          "label": 0,
          "name": "wina siti setiana",
          "x1": -3.8497276306152344,
          "x2": -5.026805877685547
         },
         {
          "label": 0,
          "name": "inge setianti wibowo",
          "x1": -4.238550662994385,
          "x2": -5.060751914978027
         },
         {
          "label": 0,
          "name": "herlina citra dewi",
          "x1": -3.1678338050842285,
          "x2": -6.496331691741943
         },
         {
          "label": 1,
          "name": "rohmad dwi a n",
          "x1": 0.4949212670326233,
          "x2": -7.554144859313965
         },
         {
          "label": 0,
          "name": "rini hapsari",
          "x1": -2.535956859588623,
          "x2": -4.880861759185791
         },
         {
          "label": 0,
          "name": "titis patriani",
          "x1": -3.5280392169952393,
          "x2": -4.589793682098389
         },
         {
          "label": 1,
          "name": "i gde permana setiawan",
          "x1": -0.6079309582710266,
          "x2": -3.2923715114593506
         },
         {
          "label": 0,
          "name": "suska ulin agusta",
          "x1": -5.445987701416016,
          "x2": -5.40220832824707
         },
         {
          "label": 0,
          "name": "selvi sutiawati y",
          "x1": -4.191298484802246,
          "x2": -4.587763786315918
         },
         {
          "label": 0,
          "name": "irna rosmayanti",
          "x1": -4.031495094299316,
          "x2": -5.628726482391357
         },
         {
          "label": 1,
          "name": "obbie hadrian",
          "x1": -2.296760082244873,
          "x2": -6.582233428955078
         },
         {
          "label": 0,
          "name": "tengku azlina faracipta",
          "x1": -1.5249922275543213,
          "x2": -4.5731964111328125
         },
         {
          "label": 0,
          "name": "larissa rena mansura",
          "x1": 0.3358376920223236,
          "x2": -5.8062424659729
         },
         {
          "label": 1,
          "name": "yura muhammad rizaldi syafrizal",
          "x1": 3.782907724380493,
          "x2": -5.038991451263428
         },
         {
          "label": 1,
          "name": "juanda anwar",
          "x1": -0.36782822012901306,
          "x2": -5.420474529266357
         },
         {
          "label": 1,
          "name": "ade achmad nurhadi",
          "x1": 0.8942556381225586,
          "x2": -7.255177974700928
         },
         {
          "label": 0,
          "name": "widya andina f",
          "x1": -1.6316941976547241,
          "x2": -5.6263203620910645
         },
         {
          "label": 0,
          "name": "naritalia tessanica panjaitan",
          "x1": -1.8046815395355225,
          "x2": -4.247922420501709
         },
         {
          "label": 0,
          "name": "paramita wardhani",
          "x1": -2.144371747970581,
          "x2": -4.117808818817139
         },
         {
          "label": 1,
          "name": "randy agra pratama",
          "x1": 0.8022112250328064,
          "x2": -4.669689655303955
         },
         {
          "label": 1,
          "name": "prayetno hasoloan siburian",
          "x1": -0.7290756106376648,
          "x2": -5.214430809020996
         },
         {
          "label": 1,
          "name": "alfandra ihsan",
          "x1": -0.43378618359565735,
          "x2": -5.499937057495117
         },
         {
          "label": 1,
          "name": "ikhtiar",
          "x1": -2.482491970062256,
          "x2": -7.580621719360352
         },
         {
          "label": 1,
          "name": "muhammad nurman s",
          "x1": 3.5264034271240234,
          "x2": -4.969245433807373
         },
         {
          "label": 1,
          "name": "hendra rakhmawan",
          "x1": 0.052630215883255005,
          "x2": -5.236212253570557
         },
         {
          "label": 1,
          "name": "moechamad iqbal",
          "x1": 2.8550281524658203,
          "x2": -5.287341594696045
         },
         {
          "label": 1,
          "name": "ongki arief wisudawan",
          "x1": -1.719903826713562,
          "x2": -5.672486305236816
         },
         {
          "label": 1,
          "name": "mitra dolok sion silaban",
          "x1": -4.023066997528076,
          "x2": -7.429868698120117
         },
         {
          "label": 1,
          "name": "rudy miwallie amien",
          "x1": -2.467876672744751,
          "x2": -6.802128314971924
         },
         {
          "label": 1,
          "name": "aguntaran",
          "x1": -1.6171172857284546,
          "x2": -3.2438981533050537
         },
         {
          "label": 0,
          "name": "anita pravitasari",
          "x1": -2.3015999794006348,
          "x2": -3.9251046180725098
         },
         {
          "label": 1,
          "name": "alief sadlie kasman",
          "x1": -1.9455785751342773,
          "x2": -6.4741926193237305
         },
         {
          "label": 1,
          "name": "isa mukti",
          "x1": -2.86680269241333,
          "x2": -7.569122314453125
         },
         {
          "label": 1,
          "name": "andika eka marta wicaksono",
          "x1": -0.29914939403533936,
          "x2": -5.8968000411987305
         },
         {
          "label": 1,
          "name": "ronggo wiyono sakuro putro",
          "x1": -4.610700607299805,
          "x2": -8.05594539642334
         },
         {
          "label": 1,
          "name": "agus heri hoerudin",
          "x1": -2.9333126544952393,
          "x2": -8.209209442138672
         },
         {
          "label": 1,
          "name": "ghilman azka",
          "x1": -1.2880980968475342,
          "x2": -6.381994724273682
         },
         {
          "label": 0,
          "name": "najmiatul masykura",
          "x1": -1.0396111011505127,
          "x2": -7.311424255371094
         },
         {
          "label": 1,
          "name": "harfizuldy",
          "x1": -2.0098135471343994,
          "x2": -8.127365112304688
         },
         {
          "label": 1,
          "name": "veja prata",
          "x1": 0.5645142793655396,
          "x2": -4.737771511077881
         },
         {
          "label": 0,
          "name": "agustina eka h",
          "x1": -5.4020819664001465,
          "x2": -5.3872857093811035
         },
         {
          "label": 0,
          "name": "maya fitriyanti",
          "x1": -4.229513168334961,
          "x2": -5.756643772125244
         },
         {
          "label": 0,
          "name": "pratiwi karim",
          "x1": -4.00343132019043,
          "x2": -3.9916374683380127
         },
         {
          "label": 1,
          "name": "revi aldrian",
          "x1": -3.0911076068878174,
          "x2": -6.091995716094971
         },
         {
          "label": 1,
          "name": "rachmad hidayat",
          "x1": -0.1113465204834938,
          "x2": -8.406387329101562
         },
         {
          "label": 1,
          "name": "fandy irawan",
          "x1": -0.5858923196792603,
          "x2": -5.265877723693848
         },
         {
          "label": 0,
          "name": "sesdika sansani",
          "x1": -2.258850336074829,
          "x2": -5.553236484527588
         },
         {
          "label": 1,
          "name": "oliver mangara tua batubara",
          "x1": -0.12273894250392914,
          "x2": -4.575742721557617
         },
         {
          "label": 1,
          "name": "muhammad gusti bastisya",
          "x1": 3.596649646759033,
          "x2": -5.049564838409424
         },
         {
          "label": 1,
          "name": "stevansrheody sembiring",
          "x1": -3.780355453491211,
          "x2": -7.082987308502197
         },
         {
          "label": 0,
          "name": "dini hardini",
          "x1": -2.945068836212158,
          "x2": -5.703917503356934
         },
         {
          "label": 0,
          "name": "putri handayani",
          "x1": -1.1001555919647217,
          "x2": -4.6591925621032715
         },
         {
          "label": 1,
          "name": "yanuar prima sutrisno",
          "x1": -3.715454578399658,
          "x2": -5.838793754577637
         },
         {
          "label": 1,
          "name": "wilman hatoguan marudut",
          "x1": -0.770535945892334,
          "x2": -6.322845935821533
         },
         {
          "label": 0,
          "name": "yanita surya sulistyani",
          "x1": -3.3576979637145996,
          "x2": -4.920124530792236
         },
         {
          "label": 0,
          "name": "annisa rahma",
          "x1": 0.5437209606170654,
          "x2": -6.659890174865723
         },
         {
          "label": 0,
          "name": "yulia tempatih putri",
          "x1": -3.851166248321533,
          "x2": -3.241220712661743
         },
         {
          "label": 1,
          "name": "shandi prio laksono",
          "x1": -4.661466121673584,
          "x2": -8.239482879638672
         },
         {
          "label": 0,
          "name": "adritia suci wijayanti",
          "x1": -1.2546827793121338,
          "x2": -9.511371612548828
         },
         {
          "label": 1,
          "name": "alam widigya",
          "x1": -1.995430827140808,
          "x2": -6.825406074523926
         },
         {
          "label": 1,
          "name": "muhammad faizal",
          "x1": 3.636337995529175,
          "x2": -5.173573970794678
         },
         {
          "label": 0,
          "name": "oktrya lidayya",
          "x1": -0.681888997554779,
          "x2": -8.671875953674316
         },
         {
          "label": 0,
          "name": "wiedy yang essa",
          "x1": -3.503779888153076,
          "x2": -6.863902568817139
         },
         {
          "label": 1,
          "name": "sasfan arman wella",
          "x1": -0.45572420954704285,
          "x2": -7.131923198699951
         },
         {
          "label": 1,
          "name": "rizki anshari",
          "x1": -1.888697862625122,
          "x2": -6.420405387878418
         },
         {
          "label": 1,
          "name": "haryadi prasetya",
          "x1": 0.253038227558136,
          "x2": -3.526491403579712
         },
         {
          "label": 1,
          "name": "gustian ajie",
          "x1": -5.33568811416626,
          "x2": -5.395853042602539
         },
         {
          "label": 0,
          "name": "ravi octaviana",
          "x1": -3.435034990310669,
          "x2": -5.5130510330200195
         },
         {
          "label": 0,
          "name": "ismaniar sutardi",
          "x1": -2.3161349296569824,
          "x2": -5.371232986450195
         },
         {
          "label": 1,
          "name": "ahmad rio adriansyah",
          "x1": 1.2059561014175415,
          "x2": -8.691056251525879
         },
         {
          "label": 1,
          "name": "dian purnama ramadona",
          "x1": 0.6296199560165405,
          "x2": -5.5787458419799805
         },
         {
          "label": 1,
          "name": "rhino fieldianto",
          "x1": -4.920243740081787,
          "x2": -6.252762317657471
         },
         {
          "label": 0,
          "name": "thantri prima rezki",
          "x1": -2.3884165287017822,
          "x2": -6.626213550567627
         },
         {
          "label": 1,
          "name": "andry pramanta",
          "x1": 0.409083753824234,
          "x2": -4.972544193267822
         },
         {
          "label": 1,
          "name": "ilman fajar ramadhan",
          "x1": 0.8115444779396057,
          "x2": -5.757862091064453
         },
         {
          "label": 1,
          "name": "william pratama",
          "x1": 0.8397004008293152,
          "x2": -4.811347484588623
         },
         {
          "label": 1,
          "name": "fadli ahmad naufal",
          "x1": 0.45150816440582275,
          "x2": -7.551451683044434
         },
         {
          "label": 0,
          "name": "alina cynthia dewi",
          "x1": -2.864293336868286,
          "x2": -6.057433605194092
         },
         {
          "label": 1,
          "name": "idam putra",
          "x1": -3.623873472213745,
          "x2": -2.5347201824188232
         },
         {
          "label": 1,
          "name": "audi hakim",
          "x1": -1.7457236051559448,
          "x2": -7.521629810333252
         },
         {
          "label": 1,
          "name": "mohammad adityo kusumowardhono",
          "x1": 2.9845046997070312,
          "x2": -5.042185306549072
         },
         {
          "label": 0,
          "name": "eresti tyas ayu",
          "x1": -3.0821635723114014,
          "x2": -7.509457588195801
         },
         {
          "label": 0,
          "name": "gilang kinasihan",
          "x1": -1.2095893621444702,
          "x2": -4.070650100708008
         },
         {
          "label": 1,
          "name": "adli yunus achmad",
          "x1": 0.958832859992981,
          "x2": -7.4357008934021
         },
         {
          "label": 0,
          "name": "i gusti agung ayu metha trisnawati",
          "x1": -5.122097492218018,
          "x2": -5.182143688201904
         },
         {
          "label": 1,
          "name": "wahyu saputro",
          "x1": -3.6493098735809326,
          "x2": -2.171309471130371
         },
         {
          "label": 1,
          "name": "mahisa bayurindra",
          "x1": -0.6083092093467712,
          "x2": -5.880454063415527
         },
         {
          "label": 1,
          "name": "jovie yunara",
          "x1": -2.9679293632507324,
          "x2": -7.645349025726318
         },
         {
          "label": 1,
          "name": "ari asril",
          "x1": -2.2363595962524414,
          "x2": -5.715644836425781
         },
         {
          "label": 0,
          "name": "hastuti retnowulan",
          "x1": -4.1647047996521,
          "x2": -5.318112850189209
         },
         {
          "label": 1,
          "name": "muhammad feldy riza",
          "x1": 3.8529574871063232,
          "x2": -4.974515914916992
         },
         {
          "label": 1,
          "name": "agus saiful arifin",
          "x1": -1.8215287923812866,
          "x2": -7.380946636199951
         },
         {
          "label": 0,
          "name": "elis maidah",
          "x1": -2.1135406494140625,
          "x2": -6.686555862426758
         },
         {
          "label": 1,
          "name": "marko rasuandi",
          "x1": -0.7916730046272278,
          "x2": -6.488831520080566
         },
         {
          "label": 1,
          "name": "andi wiryawan",
          "x1": -0.9006547331809998,
          "x2": -5.099836349487305
         },
         {
          "label": 1,
          "name": "ade kurniawan",
          "x1": -1.1932286024093628,
          "x2": -1.5908479690551758
         },
         {
          "label": 1,
          "name": "wibawa hendra saputera",
          "x1": -3.304382801055908,
          "x2": -2.1359059810638428
         },
         {
          "label": 0,
          "name": "ghina rifkiya",
          "x1": -2.55877423286438,
          "x2": -5.946640968322754
         },
         {
          "label": 1,
          "name": "aswin juari",
          "x1": -2.8478338718414307,
          "x2": -6.060580730438232
         },
         {
          "label": 1,
          "name": "pratama abimanyu",
          "x1": 0.8385198712348938,
          "x2": -4.64483642578125
         },
         {
          "label": 1,
          "name": "muhammad irfan",
          "x1": 3.4440512657165527,
          "x2": -4.995018005371094
         },
         {
          "label": 1,
          "name": "hans kurniawan",
          "x1": -1.1629072427749634,
          "x2": -1.5344667434692383
         },
         {
          "label": 1,
          "name": "rendy delliansyah",
          "x1": 1.2252140045166016,
          "x2": -8.624958038330078
         },
         {
          "label": 1,
          "name": "imam sarjono",
          "x1": -3.7210934162139893,
          "x2": -7.967015743255615
         },
         {
          "label": 1,
          "name": "asyraful hady rasfa",
          "x1": -0.45224863290786743,
          "x2": -6.7366838455200195
         },
         {
          "label": 0,
          "name": "desi miyamita",
          "x1": -3.532344341278076,
          "x2": -4.659547805786133
         },
         {
          "label": 1,
          "name": "donald hadi saputra",
          "x1": -3.5274600982666016,
          "x2": -2.276613235473633
         },
         {
          "label": 1,
          "name": "febri kendari ardhyansah siahaan",
          "x1": -0.9377926588058472,
          "x2": -5.264812469482422
         },
         {
          "label": 1,
          "name": "fitra ashari ramadhani",
          "x1": 0.5148839354515076,
          "x2": -5.791806221008301
         },
         {
          "label": 1,
          "name": "wisnu bramantyo",
          "x1": -4.3430280685424805,
          "x2": -6.97646427154541
         },
         {
          "label": 0,
          "name": "fifi febiliyanti",
          "x1": -4.312806129455566,
          "x2": -6.003730297088623
         },
         {
          "label": 0,
          "name": "sarah sari utami",
          "x1": -2.59452748298645,
          "x2": -3.917466163635254
         },
         {
          "label": 1,
          "name": "titto dwi prakarsa",
          "x1": -3.6364543437957764,
          "x2": -4.1440019607543945
         },
         {
          "label": 0,
          "name": "arininta nadya andini",
          "x1": -2.293665647506714,
          "x2": -4.812809467315674
         },
         {
          "label": 1,
          "name": "randy pasha",
          "x1": -0.2799912393093109,
          "x2": -6.2074689865112305
         },
         {
          "label": 1,
          "name": "felix arnold",
          "x1": -2.9994590282440186,
          "x2": -7.285804271697998
         },
         {
          "label": 1,
          "name": "guntur wibawanto",
          "x1": -5.3921308517456055,
          "x2": -6.400023460388184
         },
         {
          "label": 0,
          "name": "anggia saniagati",
          "x1": -1.1775188446044922,
          "x2": -3.9820868968963623
         },
         {
          "label": 0,
          "name": "mutiara effendi",
          "x1": -2.7767457962036133,
          "x2": -7.421329021453857
         },
         {
          "label": 0,
          "name": "dini renaning penggalih",
          "x1": -3.2487828731536865,
          "x2": -5.9493608474731445
         },
         {
          "label": 0,
          "name": "isni nuraziza m",
          "x1": -2.9021708965301514,
          "x2": -5.8377509117126465
         },
         {
          "label": 0,
          "name": "anita",
          "x1": -3.3045246601104736,
          "x2": -6.042490005493164
         },
         {
          "label": 0,
          "name": "anastasia purnamadewi",
          "x1": 0.11483091115951538,
          "x2": -5.084845542907715
         },
         {
          "label": 1,
          "name": "mohammad ruqy faishal islamy",
          "x1": 3.090670347213745,
          "x2": -5.346491813659668
         },
         {
          "label": 1,
          "name": "jery saputra",
          "x1": -3.563706398010254,
          "x2": -2.1302738189697266
         },
         {
          "label": 1,
          "name": "luqman abdul mushawwir",
          "x1": -0.6240275502204895,
          "x2": -7.829428195953369
         },
         {
          "label": 0,
          "name": "arnida lailatul latifah",
          "x1": -0.699674129486084,
          "x2": -7.651365756988525
         },
         {
          "label": 1,
          "name": "ary ramadhan aris usman",
          "x1": 0.6762722134590149,
          "x2": -5.666288375854492
         },
         {
          "label": 1,
          "name": "remon akbar",
          "x1": -2.5418243408203125,
          "x2": -7.913601398468018
         },
         {
          "label": 1,
          "name": "mulyadi",
          "x1": -2.1481893062591553,
          "x2": -8.428653717041016
         },
         {
          "label": 0,
          "name": "ariesty ratna kusumartini asikin",
          "x1": -3.470581531524658,
          "x2": -4.561253070831299
         },
         {
          "label": 1,
          "name": "adhika paratma wisesa",
          "x1": 0.4585731029510498,
          "x2": -5.980599880218506
         },
         {
          "label": 0,
          "name": "yuan irma achinda",
          "x1": -1.225594162940979,
          "x2": -5.450184345245361
         },
         {
          "label": 1,
          "name": "mahendrata chendra",
          "x1": 0.1518881916999817,
          "x2": -5.267457485198975
         },
         {
          "label": 1,
          "name": "ahmad nurdiansyah",
          "x1": 1.1965020895004272,
          "x2": -8.678542137145996
         },
         {
          "label": 1,
          "name": "caesar fikri muflihun",
          "x1": -2.283987283706665,
          "x2": -7.600894451141357
         },
         {
          "label": 1,
          "name": "ichsan nurhakim n",
          "x1": -3.0306272506713867,
          "x2": -6.099409580230713
         },
         {
          "label": 0,
          "name": "prisa annisa ramadhianti",
          "x1": -1.5015071630477905,
          "x2": -4.754120349884033
         },
         {
          "label": 0,
          "name": "dita rahmawati",
          "x1": 0.9229375720024109,
          "x2": -6.695459365844727
         },
         {
          "label": 1,
          "name": "arrahmad jaelani",
          "x1": 0.6240831613540649,
          "x2": -6.854139804840088
         },
         {
          "label": 0,
          "name": "liana debora",
          "x1": -2.7254092693328857,
          "x2": -6.304507732391357
         },
         {
          "label": 1,
          "name": "kurnia setiawan",
          "x1": -1.1171590089797974,
          "x2": -1.6931719779968262
         },
         {
          "label": 0,
          "name": "widya fitriani",
          "x1": -3.3784523010253906,
          "x2": -4.471506595611572
         },
         {
          "label": 1,
          "name": "saifullah abas wahid",
          "x1": -0.5911054015159607,
          "x2": -7.747745990753174
         },
         {
          "label": 0,
          "name": "laskary andaly metal bitticaca",
          "x1": -0.8837428092956543,
          "x2": -4.707072734832764
         },
         {
          "label": 1,
          "name": "darwin m tambunan",
          "x1": -1.3641364574432373,
          "x2": -5.827879428863525
         },
         {
          "label": 1,
          "name": "fandi oktasendra",
          "x1": -0.4804648160934448,
          "x2": -5.473010063171387
         },
         {
          "label": 1,
          "name": "pranoto budi sasongko",
          "x1": -4.96453857421875,
          "x2": -7.571962356567383
         },
         {
          "label": 1,
          "name": "alditama prihadi",
          "x1": -0.18457093834877014,
          "x2": -6.377350807189941
         },
         {
          "label": 1,
          "name": "christian pandapotan",
          "x1": -5.124807357788086,
          "x2": -4.522724628448486
         },
         {
          "label": 0,
          "name": "eka widayati",
          "x1": -0.5977557897567749,
          "x2": -8.714624404907227
         },
         {
          "label": 0,
          "name": "lia karina arianty",
          "x1": -1.9228867292404175,
          "x2": -5.04150915145874
         },
         {
          "label": 1,
          "name": "iqbal eras putra",
          "x1": -3.5568604469299316,
          "x2": -2.2602016925811768
         },
         {
          "label": 0,
          "name": "suhasini tharumaseelan",
          "x1": -1.5766708850860596,
          "x2": -5.740030765533447
         },
         {
          "label": 0,
          "name": "intan wibawanti masfufa",
          "x1": -4.5883917808532715,
          "x2": -5.873655319213867
         },
         {
          "label": 1,
          "name": "galuh aditya firmansyah",
          "x1": 1.3135043382644653,
          "x2": -8.399588584899902
         },
         {
          "label": 1,
          "name": "irwan hernawan",
          "x1": -0.687484860420227,
          "x2": -3.6245460510253906
         },
         {
          "label": 1,
          "name": "ivan ibnualim",
          "x1": -2.654123544692993,
          "x2": -6.105189800262451
         },
         {
          "label": 0,
          "name": "haiva ratu muzdaliva",
          "x1": -1.237484335899353,
          "x2": -7.1103901863098145
         },
         {
          "label": 1,
          "name": "johan yodiutama",
          "x1": -1.2500145435333252,
          "x2": -7.365794658660889
         },
         {
          "label": 1,
          "name": "yona akbar",
          "x1": -1.368299126625061,
          "x2": -7.346919059753418
         },
         {
          "label": 0,
          "name": "elviera",
          "x1": -3.17107892036438,
          "x2": -7.329503059387207
         },
         {
          "label": 1,
          "name": "zifyon minoris tappi",
          "x1": -4.400341033935547,
          "x2": -7.523812770843506
         },
         {
          "label": 1,
          "name": "fatah gunawan",
          "x1": -1.428021788597107,
          "x2": -2.9726510047912598
         },
         {
          "label": 1,
          "name": "aris rinaldi",
          "x1": -2.312174081802368,
          "x2": -5.825498580932617
         },
         {
          "label": 0,
          "name": "saumi zikriani ramdhani",
          "x1": -2.1757423877716064,
          "x2": -4.922299861907959
         },
         {
          "label": 0,
          "name": "sarach karnova",
          "x1": -2.170797109603882,
          "x2": -7.301782608032227
         },
         {
          "label": 1,
          "name": "anggaditya adhyaksa",
          "x1": -0.021087240427732468,
          "x2": -3.983264446258545
         },
         {
          "label": 1,
          "name": "wahyu hidayat musouwir",
          "x1": -0.6100705862045288,
          "x2": -8.695752143859863
         },
         {
          "label": 1,
          "name": "mochammad taufan",
          "x1": 3.013545036315918,
          "x2": -5.126718521118164
         },
         {
          "label": 1,
          "name": "aditya anggabuana",
          "x1": -0.4429105520248413,
          "x2": -4.001646518707275
         },
         {
          "label": 1,
          "name": "aldy pradana",
          "x1": 0.19829539954662323,
          "x2": -4.754062175750732
         },
         {
          "label": 1,
          "name": "julharbi",
          "x1": -2.1305060386657715,
          "x2": -7.942978382110596
         },
         {
          "label": 1,
          "name": "muhammad aldie syafaat",
          "x1": 3.5301051139831543,
          "x2": -5.345266342163086
         },
         {
          "label": 0,
          "name": "gita natalia alfa p",
          "x1": -1.6740646362304688,
          "x2": -4.845568656921387
         },
         {
          "label": 0,
          "name": "melinda natalia",
          "x1": -2.1545228958129883,
          "x2": -5.741405487060547
         },
         {
          "label": 0,
          "name": "nurhijjah juliana rambe",
          "x1": -2.4897429943084717,
          "x2": -7.089010238647461
         },
         {
          "label": 0,
          "name": "devy nandya utami",
          "x1": -0.44911158084869385,
          "x2": -5.9503912925720215
         },
         {
          "label": 1,
          "name": "prastowo harymurty",
          "x1": -4.219254970550537,
          "x2": -8.659947395324707
         },
         {
          "label": 1,
          "name": "eric christanto",
          "x1": -5.149307727813721,
          "x2": -4.667691707611084
         },
         {
          "label": 0,
          "name": "ribka",
          "x1": -2.2888786792755127,
          "x2": -7.674962997436523
         },
         {
          "label": 1,
          "name": "dias august surya putra",
          "x1": -3.5753731727600098,
          "x2": -2.0936636924743652
         },
         {
          "label": 1,
          "name": "riza yukananto",
          "x1": -5.170825004577637,
          "x2": -6.419344425201416
         },
         {
          "label": 1,
          "name": "binadi arief laksana",
          "x1": -1.7586431503295898,
          "x2": -5.102169036865234
         },
         {
          "label": 1,
          "name": "rudi",
          "x1": -2.9104127883911133,
          "x2": -8.424837112426758
         },
         {
          "label": 0,
          "name": "valentina saragi",
          "x1": -2.5857937335968018,
          "x2": -5.327269554138184
         },
         {
          "label": 1,
          "name": "adi muldansah",
          "x1": -0.8722472786903381,
          "x2": -6.716231346130371
         },
         {
          "label": 1,
          "name": "kadarisman",
          "x1": -1.3484530448913574,
          "x2": -6.452515602111816
         },
         {
          "label": 1,
          "name": "andi oktavian dwi cahyo",
          "x1": -1.1772710084915161,
          "x2": -5.464335918426514
         },
         {
          "label": 1,
          "name": "dali hariswijaya",
          "x1": -1.2295798063278198,
          "x2": -9.205805778503418
         },
         {
          "label": 0,
          "name": "utami kusuma dewi",
          "x1": -1.774787425994873,
          "x2": -8.5853271484375
         },
         {
          "label": 0,
          "name": "eka risma zaidun",
          "x1": -1.4627898931503296,
          "x2": -6.4654927253723145
         },
         {
          "label": 1,
          "name": "bebeh wahid nuryadin",
          "x1": -2.049024820327759,
          "x2": -8.479455947875977
         },
         {
          "label": 1,
          "name": "herru as syukri",
          "x1": -3.055161952972412,
          "x2": -7.809064865112305
         },
         {
          "label": 1,
          "name": "muhammad wilaga perdana",
          "x1": 3.534644842147827,
          "x2": -5.207364082336426
         },
         {
          "label": 1,
          "name": "abdul gapur",
          "x1": -2.2571048736572266,
          "x2": -8.258060455322266
         },
         {
          "label": 1,
          "name": "harris nugrahardi",
          "x1": 1.296739101409912,
          "x2": -5.911340713500977
         },
         {
          "label": 1,
          "name": "halwan alfisa s",
          "x1": -1.6554818153381348,
          "x2": -6.322178363800049
         },
         {
          "label": 0,
          "name": "nuzulya safitri ilahude",
          "x1": -3.2217514514923096,
          "x2": -4.411211967468262
         },
         {
          "label": 1,
          "name": "terry george abisay",
          "x1": -3.193934917449951,
          "x2": -7.496850490570068
         },
         {
          "label": 1,
          "name": "alvin suparman",
          "x1": -2.5964114665985107,
          "x2": -7.158430099487305
         },
         {
          "label": 0,
          "name": "risky oktriani",
          "x1": -3.333930492401123,
          "x2": -4.839183330535889
         },
         {
          "label": 1,
          "name": "pandya adhiguna harsanto",
          "x1": 0.023440180346369743,
          "x2": -5.051825523376465
         },
         {
          "label": 1,
          "name": "amadeus sanda layuk",
          "x1": -0.582817554473877,
          "x2": -7.107869625091553
         },
         {
          "label": 0,
          "name": "yola septiani syarif",
          "x1": -3.507328987121582,
          "x2": -5.114007949829102
         },
         {
          "label": 0,
          "name": "i'ah fari'ah imaniah",
          "x1": -0.48439764976501465,
          "x2": -6.977723598480225
         },
         {
          "label": 1,
          "name": "mahyar nasution",
          "x1": -3.279144048690796,
          "x2": -6.735144138336182
         },
         {
          "label": 1,
          "name": "i nyoman sura brata",
          "x1": 0.5708534717559814,
          "x2": -4.6708550453186035
         },
         {
          "label": 1,
          "name": "soni satiawan",
          "x1": -0.8270390033721924,
          "x2": -2.891331672668457
         },
         {
          "label": 1,
          "name": "philip thomas",
          "x1": -2.964905261993408,
          "x2": -7.706017971038818
         },
         {
          "label": 1,
          "name": "gilang ramadhan",
          "x1": -0.7613909244537354,
          "x2": -4.029905796051025
         },
         {
          "label": 1,
          "name": "aldi afriansyah",
          "x1": 1.2023040056228638,
          "x2": -8.770750045776367
         },
         {
          "label": 0,
          "name": "yuniasti f putri",
          "x1": -3.703230619430542,
          "x2": -3.5737438201904297
         },
         {
          "label": 1,
          "name": "aldi muslim",
          "x1": -2.4890615940093994,
          "x2": -7.2895283699035645
         },
         {
          "label": 1,
          "name": "rizky yoga pratama",
          "x1": 0.8345426321029663,
          "x2": -4.727800369262695
         },
         {
          "label": 1,
          "name": "tahta muhammad",
          "x1": 3.3149032592773438,
          "x2": -5.014647960662842
         },
         {
          "label": 1,
          "name": "muhammad imam santoso",
          "x1": 3.089940071105957,
          "x2": -5.008141994476318
         },
         {
          "label": 1,
          "name": "arif afriyanto",
          "x1": -4.790085792541504,
          "x2": -6.200712203979492
         },
         {
          "label": 1,
          "name": "novriyansyah karnainta",
          "x1": -1.2213630676269531,
          "x2": -4.939221382141113
         },
         {
          "label": 1,
          "name": "made juli nugraha",
          "x1": 1.3744513988494873,
          "x2": -5.93967866897583
         },
         {
          "label": 0,
          "name": "septin aldila",
          "x1": -2.7796268463134766,
          "x2": -6.585546016693115
         },
         {
          "label": 1,
          "name": "muchammad harry prawiro",
          "x1": 3.395956039428711,
          "x2": -5.162644386291504
         },
         {
          "label": 1,
          "name": "ecep muhammad mujib",
          "x1": 3.5685362815856934,
          "x2": -4.753853797912598
         },
         {
          "label": 0,
          "name": "vania cindy mathilda",
          "x1": -1.4207247495651245,
          "x2": -5.425761699676514
         },
         {
          "label": 1,
          "name": "indra ginanjar",
          "x1": -1.167630910873413,
          "x2": -5.089162826538086
         },
         {
          "label": 1,
          "name": "raditya andy kurniawan",
          "x1": -1.0918875932693481,
          "x2": -1.486398458480835
         },
         {
          "label": 0,
          "name": "astri nur istyami",
          "x1": -3.3339614868164062,
          "x2": -4.952633380889893
         },
         {
          "label": 1,
          "name": "rengga firdhaus tri rahardjo",
          "x1": -0.3804475665092468,
          "x2": -6.282105445861816
         },
         {
          "label": 1,
          "name": "rama dhani wahono",
          "x1": 0.5524957776069641,
          "x2": -6.1794047355651855
         },
         {
          "label": 1,
          "name": "ardya dipta nandaviri",
          "x1": -0.1874314546585083,
          "x2": -4.726884841918945
         },
         {
          "label": 0,
          "name": "yohana bernadeth ratih ary hardini",
          "x1": -0.03591932728886604,
          "x2": -4.890166759490967
         },
         {
          "label": 1,
          "name": "rully tri cahyono",
          "x1": -3.873744010925293,
          "x2": -8.338461875915527
         },
         {
          "label": 0,
          "name": "veqi haslam faiza",
          "x1": -1.0525248050689697,
          "x2": -7.4019975662231445
         },
         {
          "label": 1,
          "name": "sirius m",
          "x1": -2.970881938934326,
          "x2": -7.800575256347656
         },
         {
          "label": 1,
          "name": "arya trismaputra",
          "x1": -3.4784305095672607,
          "x2": -2.415663480758667
         },
         {
          "label": 1,
          "name": "sofyan reza",
          "x1": -2.6815669536590576,
          "x2": -7.668512344360352
         },
         {
          "label": 1,
          "name": "asep tamar",
          "x1": -0.18350443243980408,
          "x2": -6.014461517333984
         },
         {
          "label": 1,
          "name": "m arizon",
          "x1": -2.836639165878296,
          "x2": -7.680652618408203
         },
         {
          "label": 0,
          "name": "erlin pratiwi",
          "x1": -4.043177604675293,
          "x2": -4.025928974151611
         },
         {
          "label": 1,
          "name": "hariadi aji",
          "x1": -1.8569360971450806,
          "x2": -6.318775653839111
         },
         {
          "label": 0,
          "name": "nadhilah shabrina",
          "x1": -0.5533158779144287,
          "x2": -7.360690593719482
         },
         {
          "label": 1,
          "name": "andi mahaga putra",
          "x1": -3.271450996398926,
          "x2": -2.33522367477417
         },
         {
          "label": 0,
          "name": "aline zivana",
          "x1": -2.4808712005615234,
          "x2": -5.92019510269165
         },
         {
          "label": 1,
          "name": "henry tri mukti rahadian",
          "x1": -1.3376761674880981,
          "x2": -6.121408939361572
         },
         {
          "label": 1,
          "name": "doddy iqbal b",
          "x1": -3.332463502883911,
          "x2": -8.236406326293945
         },
         {
          "label": 0,
          "name": "alia tri afifa",
          "x1": -2.493485450744629,
          "x2": -5.820712089538574
         },
         {
          "label": 1,
          "name": "amar hamzah suryono",
          "x1": 2.7466719150543213,
          "x2": -5.081058025360107
         },
         {
          "label": 1,
          "name": "albeth togu pardamean sinaga",
          "x1": -0.9506421089172363,
          "x2": -4.500006675720215
         },
         {
          "label": 0,
          "name": "endah widaningsih",
          "x1": -2.802696704864502,
          "x2": -5.9163689613342285
         },
         {
          "label": 0,
          "name": "ingrid zafira harvinia",
          "x1": -2.3732011318206787,
          "x2": -5.246438026428223
         },
         {
          "label": 0,
          "name": "adeline magdalena",
          "x1": -0.9191334247589111,
          "x2": -6.392902851104736
         },
         {
          "label": 1,
          "name": "sandi ramdhanni",
          "x1": -1.4796921014785767,
          "x2": -5.665421009063721
         },
         {
          "label": 1,
          "name": "awang sang jivi priswari",
          "x1": -1.512101650238037,
          "x2": -5.414178371429443
         },
         {
          "label": 1,
          "name": "yudha setia racana ganesha putra",
          "x1": -0.24736036360263824,
          "x2": -3.695770263671875
         },
         {
          "label": 0,
          "name": "feradini ardiyani",
          "x1": -2.0955660343170166,
          "x2": -4.876626014709473
         },
         {
          "label": 0,
          "name": "carry prameswari",
          "x1": -0.1069236472249031,
          "x2": -6.112176895141602
         },
         {
          "label": 0,
          "name": "rika rahida",
          "x1": -0.8422716856002808,
          "x2": -6.451691150665283
         },
         {
          "label": 1,
          "name": "fadly utama",
          "x1": -0.9463058710098267,
          "x2": -7.318894386291504
         },
         {
          "label": 1,
          "name": "muhamad daud fahreza",
          "x1": 3.3455052375793457,
          "x2": -5.153843402862549
         },
         {
          "label": 0,
          "name": "luna chairindy pratomo",
          "x1": -4.702186107635498,
          "x2": -7.769289970397949
         },
         {
          "label": 1,
          "name": "mico suryo atmahadi",
          "x1": -1.7993642091751099,
          "x2": -8.148151397705078
         },
         {
          "label": 1,
          "name": "yudi prasetyo handoko",
          "x1": 0.21988452970981598,
          "x2": -3.2068557739257812
         },
         {
          "label": 0,
          "name": "nurlaela qodariyah",
          "x1": -0.7948291897773743,
          "x2": -6.927809238433838
         },
         {
          "label": 1,
          "name": "heryanto",
          "x1": -4.768611907958984,
          "x2": -6.685520172119141
         },
         {
          "label": 0,
          "name": "dini paramita",
          "x1": -2.5627853870391846,
          "x2": -4.143049240112305
         },
         {
          "label": 1,
          "name": "muhammad noor adityana",
          "x1": 3.2041332721710205,
          "x2": -5.0769243240356445
         },
         {
          "label": 1,
          "name": "martin pasu",
          "x1": -3.3899567127227783,
          "x2": -7.178086757659912
         },
         {
          "label": 1,
          "name": "fajri septian",
          "x1": -3.9406306743621826,
          "x2": -5.229008197784424
         },
         {
          "label": 1,
          "name": "angga rachmansah",
          "x1": 0.8656623959541321,
          "x2": -6.461205005645752
         },
         {
          "label": 1,
          "name": "johan adiguna",
          "x1": -1.5164366960525513,
          "x2": -2.9738385677337646
         },
         {
          "label": 1,
          "name": "daud rachmat nafiawan",
          "x1": 0.9623783230781555,
          "x2": -6.826596736907959
         },
         {
          "label": 0,
          "name": "raden mutia ratna p",
          "x1": -2.693417549133301,
          "x2": -4.579631805419922
         },
         {
          "label": 1,
          "name": "r eko permono jati",
          "x1": -4.205635070800781,
          "x2": -8.162184715270996
         },
         {
          "label": 0,
          "name": "widya aulia",
          "x1": -2.5208804607391357,
          "x2": -6.857825756072998
         },
         {
          "label": 0,
          "name": "dwi pramesti suryandari",
          "x1": -2.5136280059814453,
          "x2": -4.545094013214111
         },
         {
          "label": 1,
          "name": "muhammad rijal khanief",
          "x1": 3.7098159790039062,
          "x2": -5.101563930511475
         },
         {
          "label": 0,
          "name": "anggit raksajati",
          "x1": -1.4849002361297607,
          "x2": -4.025088310241699
         },
         {
          "label": 0,
          "name": "dewantika kusuma pratiwi",
          "x1": -4.037478923797607,
          "x2": -4.23935079574585
         },
         {
          "label": 1,
          "name": "lizi l zaenufar",
          "x1": -1.7190827131271362,
          "x2": -7.39473819732666
         },
         {
          "label": 1,
          "name": "efriditya octriza ishak",
          "x1": -3.0938687324523926,
          "x2": -4.420118808746338
         },
         {
          "label": 1,
          "name": "mika hasiholan",
          "x1": -1.8747789859771729,
          "x2": -6.932645320892334
         },
         {
          "label": 1,
          "name": "muhammad haizal hafiz",
          "x1": 3.7420413494110107,
          "x2": -5.13325834274292
         },
         {
          "label": 1,
          "name": "irfan alfian saputra",
          "x1": -3.402451276779175,
          "x2": -2.1619434356689453
         },
         {
          "label": 1,
          "name": "rahmat ali fitrah",
          "x1": 0.5026211142539978,
          "x2": -7.037664890289307
         },
         {
          "label": 1,
          "name": "jaka rama putra",
          "x1": -3.2710835933685303,
          "x2": -2.116394519805908
         },
         {
          "label": 1,
          "name": "daniel kurniawan wijaya",
          "x1": -1.1837615966796875,
          "x2": -1.5380512475967407
         },
         {
          "label": 1,
          "name": "adityo indra",
          "x1": -4.177367210388184,
          "x2": -7.845153331756592
         },
         {
          "label": 0,
          "name": "vidya anggita",
          "x1": -1.4747314453125,
          "x2": -3.9472923278808594
         },
         {
          "label": 0,
          "name": "laura prilla sona hergitha",
          "x1": -0.9032630324363708,
          "x2": -7.548981666564941
         },
         {
          "label": 0,
          "name": "ni made hegard sukmawati",
          "x1": 0.18249262869358063,
          "x2": -6.2529191970825195
         },
         {
          "label": 0,
          "name": "nyssa auliana devi",
          "x1": -2.242649555206299,
          "x2": -5.986711502075195
         },
         {
          "label": 1,
          "name": "muhamad rendy haruman",
          "x1": 3.405984878540039,
          "x2": -4.844898223876953
         },
         {
          "label": 1,
          "name": "udi jumhawan",
          "x1": -2.3399157524108887,
          "x2": -8.75566291809082
         },
         {
          "label": 1,
          "name": "andi",
          "x1": -3.3932530879974365,
          "x2": -7.781985282897949
         },
         {
          "label": 0,
          "name": "sabrini",
          "x1": -3.006967782974243,
          "x2": -6.79566764831543
         },
         {
          "label": 0,
          "name": "diah wulandari",
          "x1": -0.9149073958396912,
          "x2": -6.057715892791748
         },
         {
          "label": 1,
          "name": "rahman adi pradana",
          "x1": 0.661310076713562,
          "x2": -5.088853359222412
         },
         {
          "label": 0,
          "name": "adwitya idzni dyah utami",
          "x1": -3.959603786468506,
          "x2": -4.771726608276367
         },
         {
          "label": 0,
          "name": "renata amelia",
          "x1": -2.4652390480041504,
          "x2": -6.147053241729736
         },
         {
          "label": 1,
          "name": "alfred raja duga",
          "x1": -1.2150774002075195,
          "x2": -7.207068920135498
         },
         {
          "label": 1,
          "name": "rizki perdana putera",
          "x1": -2.9723541736602783,
          "x2": -2.0275819301605225
         },
         {
          "label": 1,
          "name": "hardian setiawan winata",
          "x1": -0.656043529510498,
          "x2": -2.9125239849090576
         },
         {
          "label": 1,
          "name": "fajri kautsar bakhtie",
          "x1": -1.2093755006790161,
          "x2": -7.55849552154541
         },
         {
          "label": 1,
          "name": "franciscus robert simbolon",
          "x1": -3.8784406185150146,
          "x2": -7.714452743530273
         },
         {
          "label": 0,
          "name": "asri puji l",
          "x1": -2.9412810802459717,
          "x2": -7.373459339141846
         },
         {
          "label": 1,
          "name": "hery ramdhani",
          "x1": -2.545490026473999,
          "x2": -6.590251445770264
         },
         {
          "label": 1,
          "name": "ginan ginanjar pramadita",
          "x1": -1.350994348526001,
          "x2": -4.166529178619385
         },
         {
          "label": 1,
          "name": "joan gozaly",
          "x1": -3.476972818374634,
          "x2": -7.397014141082764
         },
         {
          "label": 1,
          "name": "wahyu prihandono",
          "x1": -4.678318500518799,
          "x2": -7.5259528160095215
         },
         {
          "label": 0,
          "name": "widyarini utami",
          "x1": -3.8618946075439453,
          "x2": -4.819334506988525
         },
         {
          "label": 1,
          "name": "debby permata putra",
          "x1": -3.3313193321228027,
          "x2": -2.0471866130828857
         },
         {
          "label": 0,
          "name": "naila fithria",
          "x1": -2.8664488792419434,
          "x2": -4.856996059417725
         },
         {
          "label": 0,
          "name": "acyntya rasmi sihprawerdhi",
          "x1": 0.3257031738758087,
          "x2": -3.9719226360321045
         },
         {
          "label": 0,
          "name": "corry theresia s",
          "x1": -3.209378719329834,
          "x2": -7.513676166534424
         },
         {
          "label": 0,
          "name": "tasya pasma haryani",
          "x1": -0.2618536949157715,
          "x2": -4.716878414154053
         },
         {
          "label": 1,
          "name": "heri ahmadi",
          "x1": 0.6863783001899719,
          "x2": -7.332376003265381
         },
         {
          "label": 0,
          "name": "danilah nur muslim",
          "x1": -2.4970319271087646,
          "x2": -7.200789451599121
         },
         {
          "label": 1,
          "name": "zulfan zahar",
          "x1": -1.1313142776489258,
          "x2": -7.28036642074585
         },
         {
          "label": 1,
          "name": "muhammad rendisyah afni",
          "x1": 3.5779218673706055,
          "x2": -5.069327354431152
         },
         {
          "label": 1,
          "name": "muhammad rizqie arbie",
          "x1": 3.9660937786102295,
          "x2": -4.936456203460693
         },
         {
          "label": 1,
          "name": "yanuar firman nugraha",
          "x1": 1.3408257961273193,
          "x2": -5.826659679412842
         },
         {
          "label": 0,
          "name": "ruth theresia",
          "x1": -3.0577516555786133,
          "x2": -7.394662380218506
         },
         {
          "label": 0,
          "name": "shelly wijaya",
          "x1": -1.4250290393829346,
          "x2": -9.269840240478516
         },
         {
          "label": 1,
          "name": "hadiman",
          "x1": -0.9985737800598145,
          "x2": -6.941680908203125
         },
         {
          "label": 1,
          "name": "andreas wisnu perdana",
          "x1": -0.4801735579967499,
          "x2": -5.3409342765808105
         },
         {
          "label": 1,
          "name": "alex salle karurung",
          "x1": -2.562346935272217,
          "x2": -7.3664374351501465
         },
         {
          "label": 1,
          "name": "antonius priguna wibisono",
          "x1": -4.935531139373779,
          "x2": -6.681346893310547
         },
         {
          "label": 0,
          "name": "gestria novirani",
          "x1": -3.4381215572357178,
          "x2": -5.255880832672119
         },
         {
          "label": 0,
          "name": "naida meliska",
          "x1": -2.0741186141967773,
          "x2": -6.4088239669799805
         },
         {
          "label": 1,
          "name": "oskar rahardian pramudya",
          "x1": 0.6391118168830872,
          "x2": -5.317969799041748
         },
         {
          "label": 0,
          "name": "benazir desytta rakhmaniah",
          "x1": 0.4869312644004822,
          "x2": -6.626648426055908
         },
         {
          "label": 1,
          "name": "kevin rizky lismana",
          "x1": -2.003650665283203,
          "x2": -6.529210090637207
         },
         {
          "label": 1,
          "name": "zulfan zazuli",
          "x1": -1.7303919792175293,
          "x2": -7.767388820648193
         },
         {
          "label": 0,
          "name": "zara zentira",
          "x1": -1.4270819425582886,
          "x2": -7.274651527404785
         },
         {
          "label": 1,
          "name": "aurio erdi",
          "x1": -3.167539358139038,
          "x2": -7.996640682220459
         },
         {
          "label": 1,
          "name": "akhmad rafiudin",
          "x1": 0.7004975080490112,
          "x2": -7.3547773361206055
         },
         {
          "label": 0,
          "name": "yuslia anggraeni",
          "x1": -1.5427395105361938,
          "x2": -4.06641149520874
         },
         {
          "label": 1,
          "name": "reza ardian",
          "x1": -1.6397720575332642,
          "x2": -6.281964302062988
         },
         {
          "label": 0,
          "name": "rifka aisyah",
          "x1": -1.3115381002426147,
          "x2": -7.97712516784668
         },
         {
          "label": 0,
          "name": "elsye agustina",
          "x1": -5.413145542144775,
          "x2": -5.423107624053955
         },
         {
          "label": 1,
          "name": "muhammad farishadi rukandi",
          "x1": 3.508406639099121,
          "x2": -4.991679668426514
         },
         {
          "label": 0,
          "name": "lia agustina",
          "x1": -5.36044454574585,
          "x2": -5.3543782234191895
         },
         {
          "label": 1,
          "name": "dedy tatanto",
          "x1": -5.304871082305908,
          "x2": -6.814408302307129
         },
         {
          "label": 1,
          "name": "ardigautama agusta",
          "x1": 0.31760892271995544,
          "x2": -5.455544948577881
         },
         {
          "label": 1,
          "name": "aep saepudin",
          "x1": -2.872073173522949,
          "x2": -8.500524520874023
         },
         {
          "label": 1,
          "name": "fadolly ardin",
          "x1": -2.5658066272735596,
          "x2": -8.093535423278809
         },
         {
          "label": 0,
          "name": "suraya",
          "x1": -1.9530141353607178,
          "x2": -8.577616691589355
         },
         {
          "label": 0,
          "name": "meswati fontianika",
          "x1": -3.7598228454589844,
          "x2": -4.827260494232178
         },
         {
          "label": 1,
          "name": "adi nuryadi",
          "x1": -2.074038028717041,
          "x2": -8.62094783782959
         },
         {
          "label": 0,
          "name": "julini suca piranti",
          "x1": -3.9456491470336914,
          "x2": -5.323307991027832
         },
         {
          "label": 1,
          "name": "albertus ditya",
          "x1": -2.969297170639038,
          "x2": -7.688963890075684
         },
         {
          "label": 1,
          "name": "ardha apriyanto",
          "x1": -4.890644073486328,
          "x2": -6.391379356384277
         },
         {
          "label": 1,
          "name": "fidelis galla limbong",
          "x1": -2.5923943519592285,
          "x2": -6.963318824768066
         },
         {
          "label": 0,
          "name": "maya anggiana",
          "x1": -0.9685276746749878,
          "x2": -4.0703558921813965
         },
         {
          "label": 1,
          "name": "wirio bagaskoro",
          "x1": -4.381497383117676,
          "x2": -8.369319915771484
         },
         {
          "label": 1,
          "name": "albert raditya sukiyanto",
          "x1": 0.0863787978887558,
          "x2": -3.899430513381958
         },
         {
          "label": 0,
          "name": "hanifah siregar",
          "x1": -1.1414175033569336,
          "x2": -7.0836896896362305
         },
         {
          "label": 1,
          "name": "muhammad nandya gustinufariza",
          "x1": 3.577148914337158,
          "x2": -5.335841178894043
         },
         {
          "label": 1,
          "name": "anggit saputra dwipramana",
          "x1": -2.742321729660034,
          "x2": -2.3328564167022705
         },
         {
          "label": 1,
          "name": "eko putro riyanto",
          "x1": -4.98527193069458,
          "x2": -7.055583477020264
         },
         {
          "label": 1,
          "name": "teguh kharisma wibowo",
          "x1": -5.632131576538086,
          "x2": -8.825385093688965
         },
         {
          "label": 1,
          "name": "yudha irmansyah siregar",
          "x1": 1.2893353700637817,
          "x2": -8.377786636352539
         },
         {
          "label": 1,
          "name": "gerry methew napitupulu",
          "x1": -3.0367608070373535,
          "x2": -7.76033353805542
         },
         {
          "label": 0,
          "name": "wini laela sulastri",
          "x1": -2.4065475463867188,
          "x2": -6.213794231414795
         },
         {
          "label": 0,
          "name": "zanzabila avia mexsida",
          "x1": -0.9176489114761353,
          "x2": -7.230683326721191
         },
         {
          "label": 1,
          "name": "sutrisno",
          "x1": -3.903071165084839,
          "x2": -7.952252388000488
         },
         {
          "label": 1,
          "name": "mohamad haekal",
          "x1": 2.8357551097869873,
          "x2": -5.296895980834961
         },
         {
          "label": 1,
          "name": "sondang maribun s",
          "x1": -3.6205570697784424,
          "x2": -7.642087936401367
         },
         {
          "label": 1,
          "name": "nico aditya simanjuntak",
          "x1": -4.0747971534729,
          "x2": -5.994140625
         },
         {
          "label": 0,
          "name": "mira vitania",
          "x1": -3.208725690841675,
          "x2": -4.976992607116699
         },
         {
          "label": 1,
          "name": "muhammad arif wicaksana",
          "x1": 3.7515666484832764,
          "x2": -5.235245704650879
         },
         {
          "label": 1,
          "name": "fahran reza",
          "x1": -1.1902036666870117,
          "x2": -7.267480850219727
         },
         {
          "label": 0,
          "name": "eveline kirana oey",
          "x1": -3.439451217651367,
          "x2": -6.778505325317383
         },
         {
          "label": 1,
          "name": "andri satria",
          "x1": -2.6631662845611572,
          "x2": -5.1428680419921875
         },
         {
          "label": 1,
          "name": "ade antonius situmorang",
          "x1": -4.541539669036865,
          "x2": -6.544533729553223
         },
         {
          "label": 0,
          "name": "rahmianti nurvita",
          "x1": -3.326827049255371,
          "x2": -4.8260650634765625
         },
         {
          "label": 0,
          "name": "pradina ayu anggraini",
          "x1": -1.440264105796814,
          "x2": -4.0922532081604
         },
         {
          "label": 1,
          "name": "heru windarto",
          "x1": -3.5333306789398193,
          "x2": -7.678218841552734
         },
         {
          "label": 1,
          "name": "fran kurnia",
          "x1": -1.3215744495391846,
          "x2": -1.752367377281189
         },
         {
          "label": 1,
          "name": "nugroho budi susilo",
          "x1": -4.346487522125244,
          "x2": -8.358905792236328
         },
         {
          "label": 1,
          "name": "edi suprayoga",
          "x1": -4.425118446350098,
          "x2": -7.801553249359131
         },
         {
          "label": 1,
          "name": "muhammad yukka harlanda",
          "x1": 3.6831300258636475,
          "x2": -5.373310565948486
         },
         {
          "label": 0,
          "name": "dame alvina naomi sitohang",
          "x1": -1.3701413869857788,
          "x2": -5.1706695556640625
         },
         {
          "label": 1,
          "name": "tessal maharizky febrian",
          "x1": -2.0418131351470947,
          "x2": -5.792852401733398
         },
         {
          "label": 0,
          "name": "inggita prasasya swasti",
          "x1": -2.4423413276672363,
          "x2": -4.035499572753906
         },
         {
          "label": 1,
          "name": "agung wulan piniji",
          "x1": -1.6653937101364136,
          "x2": -3.1176226139068604
         },
         {
          "label": 1,
          "name": "ardianto p butarbutar",
          "x1": -2.1196606159210205,
          "x2": -3.5923779010772705
         },
         {
          "label": 1,
          "name": "yosep jaya gunawan",
          "x1": -1.3887547254562378,
          "x2": -2.92226243019104
         },
         {
          "label": 1,
          "name": "stephen djohari",
          "x1": -3.319274663925171,
          "x2": -8.571725845336914
         },
         {
          "label": 0,
          "name": "berliana sakina",
          "x1": -1.80021333694458,
          "x2": -5.083352088928223
         },
         {
          "label": 1,
          "name": "michael enoh prasetya",
          "x1": 0.20944739878177643,
          "x2": -3.267256259918213
         },
         {
          "label": 1,
          "name": "meidy fitranto",
          "x1": -5.027422904968262,
          "x2": -6.3648858070373535
         },
         {
          "label": 0,
          "name": "betania",
          "x1": -3.3042144775390625,
          "x2": -6.0454559326171875
         },
         {
          "label": 0,
          "name": "selvis nyusjantik",
          "x1": -5.000190258026123,
          "x2": -5.988905429840088
         },
         {
          "label": 1,
          "name": "muhammad ridzki f",
          "x1": 3.8759572505950928,
          "x2": -4.9625325202941895
         },
         {
          "label": 1,
          "name": "deon arinaldo",
          "x1": -2.85939621925354,
          "x2": -6.5066962242126465
         },
         {
          "label": 1,
          "name": "riki putra",
          "x1": -3.7169899940490723,
          "x2": -2.8915491104125977
         },
         {
          "label": 0,
          "name": "vonny oktaviana sari",
          "x1": -3.16410493850708,
          "x2": -5.13417387008667
         },
         {
          "label": 1,
          "name": "isa yahya",
          "x1": -1.2470173835754395,
          "x2": -8.408004760742188
         },
         {
          "label": 1,
          "name": "yoga sandi perdana",
          "x1": -0.5547041296958923,
          "x2": -5.226692199707031
         },
         {
          "label": 1,
          "name": "saravanamuhunthan",
          "x1": -0.47139015793800354,
          "x2": -5.675691604614258
         },
         {
          "label": 1,
          "name": "felix s halim",
          "x1": -2.7118632793426514,
          "x2": -7.082844257354736
         },
         {
          "label": 1,
          "name": "rama masdian",
          "x1": 0.359619677066803,
          "x2": -5.724762439727783
         },
         {
          "label": 0,
          "name": "yustisia nio mahadewi",
          "x1": -3.8183727264404297,
          "x2": -4.9997477531433105
         },
         {
          "label": 0,
          "name": "anindita septadiani",
          "x1": -2.582899808883667,
          "x2": -4.828220367431641
         },
         {
          "label": 0,
          "name": "karlina indraswari",
          "x1": -1.4594402313232422,
          "x2": -5.192612171173096
         },
         {
          "label": 0,
          "name": "marina indrianti hidayat",
          "x1": -2.002279043197632,
          "x2": -4.836459636688232
         },
         {
          "label": 0,
          "name": "vonny gunawan",
          "x1": -1.3806580305099487,
          "x2": -2.89406681060791
         },
         {
          "label": 1,
          "name": "dendi ramdhani",
          "x1": -2.0349113941192627,
          "x2": -5.8519697189331055
         },
         {
          "label": 1,
          "name": "jeremy alva soetarman",
          "x1": -0.6424885988235474,
          "x2": -4.820987224578857
         },
         {
          "label": 0,
          "name": "micke rusmerryani",
          "x1": -3.0397350788116455,
          "x2": -7.604085445404053
         },
         {
          "label": 0,
          "name": "lely strauspalia",
          "x1": -2.587153911590576,
          "x2": -7.018649101257324
         },
         {
          "label": 1,
          "name": "dito haryo prasetyo",
          "x1": 0.23495760560035706,
          "x2": -3.1846539974212646
         },
         {
          "label": 0,
          "name": "rita yuliana",
          "x1": -3.103473424911499,
          "x2": -6.368088245391846
         },
         {
          "label": 0,
          "name": "dea fitri amelia",
          "x1": -2.4642481803894043,
          "x2": -6.085873603820801
         },
         {
          "label": 1,
          "name": "yohanes panji kristomo",
          "x1": -4.0940656661987305,
          "x2": -6.954674243927002
         },
         {
          "label": 1,
          "name": "bakti kurniawan",
          "x1": -1.1893421411514282,
          "x2": -1.5833353996276855
         },
         {
          "label": 1,
          "name": "haliman helexandra",
          "x1": -0.3723120391368866,
          "x2": -5.713423728942871
         },
         {
          "label": 1,
          "name": "hironimus setiajaya sulaiman",
          "x1": -1.8071799278259277,
          "x2": -6.2880859375
         },
         {
          "label": 1,
          "name": "aditya pratama putra kelana",
          "x1": 0.8109079599380493,
          "x2": -4.308242321014404
         },
         {
          "label": 1,
          "name": "arief krisna dana putra",
          "x1": -2.9534971714019775,
          "x2": -2.1582329273223877
         },
         {
          "label": 1,
          "name": "helmi indrajaya",
          "x1": -1.49885094165802,
          "x2": -9.10848331451416
         },
         {
          "label": 1,
          "name": "ricky kurnia chandra",
          "x1": -1.2384907007217407,
          "x2": -1.709161639213562
         },
         {
          "label": 1,
          "name": "made mahendra adyatman",
          "x1": 0.5371066331863403,
          "x2": -5.578243255615234
         },
         {
          "label": 1,
          "name": "pradita herdiansyah",
          "x1": 1.1916134357452393,
          "x2": -8.791743278503418
         },
         {
          "label": 0,
          "name": "dewi handayani",
          "x1": -1.0158624649047852,
          "x2": -4.809479236602783
         },
         {
          "label": 1,
          "name": "devis wawan saputra",
          "x1": -3.4541964530944824,
          "x2": -2.098433017730713
         },
         {
          "label": 1,
          "name": "willy sakareza",
          "x1": -1.807098150253296,
          "x2": -7.497526168823242
         },
         {
          "label": 0,
          "name": "wulan suci maria",
          "x1": -1.1447919607162476,
          "x2": -6.207128524780273
         },
         {
          "label": 1,
          "name": "cometta surya guritno",
          "x1": -4.01194953918457,
          "x2": -8.017006874084473
         },
         {
          "label": 1,
          "name": "daniel",
          "x1": -3.092160701751709,
          "x2": -6.501933574676514
         },
         {
          "label": 1,
          "name": "muhammad aji ardhiansyah",
          "x1": 3.6528947353363037,
          "x2": -5.211843967437744
         },
         {
          "label": 1,
          "name": "dinash aravind",
          "x1": -1.4292652606964111,
          "x2": -5.556640625
         },
         {
          "label": 1,
          "name": "dehendra permana",
          "x1": -0.17858369648456573,
          "x2": -4.894567966461182
         },
         {
          "label": 1,
          "name": "yustinus juan",
          "x1": -5.075762748718262,
          "x2": -5.745588779449463
         },
         {
          "label": 1,
          "name": "gusta ventura purba",
          "x1": -3.6619150638580322,
          "x2": -2.186920642852783
         },
         {
          "label": 1,
          "name": "rifki ade riyatna",
          "x1": -2.65730881690979,
          "x2": -5.812615871429443
         },
         {
          "label": 0,
          "name": "reni romasari rajagukguk",
          "x1": -2.1387197971343994,
          "x2": -6.677995681762695
         },
         {
          "label": 1,
          "name": "taopik hidayat",
          "x1": -0.44554612040519714,
          "x2": -8.661133766174316
         },
         {
          "label": 1,
          "name": "muhamad zakki baridwan",
          "x1": 3.574155330657959,
          "x2": -5.293747901916504
         },
         {
          "label": 1,
          "name": "nurul hadi",
          "x1": -2.211886405944824,
          "x2": -8.120516777038574
         },
         {
          "label": 0,
          "name": "yosi amelia",
          "x1": -2.634746789932251,
          "x2": -6.381162166595459
         },
         {
          "label": 1,
          "name": "ryan wahyudhi",
          "x1": -2.4270482063293457,
          "x2": -8.871454238891602
         },
         {
          "label": 0,
          "name": "adinda meutia hapsari",
          "x1": -1.697447419166565,
          "x2": -5.4277777671813965
         },
         {
          "label": 0,
          "name": "reffi erany",
          "x1": -3.2689175605773926,
          "x2": -7.574493408203125
         },
         {
          "label": 0,
          "name": "nyimas suryani",
          "x1": -2.5700008869171143,
          "x2": -6.596254348754883
         },
         {
          "label": 1,
          "name": "priyandi pranata kusumah",
          "x1": 0.7969887852668762,
          "x2": -4.60168981552124
         },
         {
          "label": 1,
          "name": "moses sitio",
          "x1": -3.830770492553711,
          "x2": -7.940736293792725
         },
         {
          "label": 1,
          "name": "rifki naji baraba",
          "x1": -1.068869709968567,
          "x2": -7.070038795471191
         },
         {
          "label": 1,
          "name": "yuditya pratama putra",
          "x1": 0.7993118762969971,
          "x2": -4.312160015106201
         },
         {
          "label": 1,
          "name": "havid agung haryosaputro",
          "x1": -3.5453009605407715,
          "x2": -2.0784432888031006
         },
         {
          "label": 1,
          "name": "anoffianton",
          "x1": -5.009728908538818,
          "x2": -6.317378044128418
         },
         {
          "label": 1,
          "name": "cosmas wibisono",
          "x1": -4.848973274230957,
          "x2": -8.668879508972168
         },
         {
          "label": 0,
          "name": "armelia aprilianti melkias",
          "x1": -2.5652916431427,
          "x2": -5.769270420074463
         },
         {
          "label": 1,
          "name": "mizwar irfan",
          "x1": -1.6559816598892212,
          "x2": -6.2094035148620605
         },
         {
          "label": 1,
          "name": "fikrie ahmad firmansyah",
          "x1": 1.3065264225006104,
          "x2": -8.308502197265625
         },
         {
          "label": 1,
          "name": "patuan david parulian batubara",
          "x1": -0.5488458871841431,
          "x2": -4.386660575866699
         },
         {
          "label": 0,
          "name": "melynessa intan artha helya s",
          "x1": -1.733827829360962,
          "x2": -5.226832389831543
         },
         {
          "label": 1,
          "name": "muhammad rendy f b",
          "x1": 3.602902412414551,
          "x2": -4.858728408813477
         },
         {
          "label": 0,
          "name": "novita saraswati",
          "x1": -2.4125590324401855,
          "x2": -4.059539318084717
         },
         {
          "label": 0,
          "name": "meirita ramdhani",
          "x1": -2.214977741241455,
          "x2": -4.5261688232421875
         },
         {
          "label": 0,
          "name": "arini ramdiani setiadji",
          "x1": -2.4757158756256104,
          "x2": -4.924628734588623
         },
         {
          "label": 1,
          "name": "qino",
          "x1": -3.5888102054595947,
          "x2": -7.986598968505859
         },
         {
          "label": 1,
          "name": "iqbal mitryaddinillah",
          "x1": -2.028320789337158,
          "x2": -6.834197998046875
         },
         {
          "label": 1,
          "name": "muhammad rizki",
          "x1": 3.95736026763916,
          "x2": -4.876981258392334
         },
         {
          "label": 0,
          "name": "nova virgiana",
          "x1": -3.3602123260498047,
          "x2": -5.496860027313232
         },
         {
          "label": 0,
          "name": "aulia qiranawangsih",
          "x1": -1.5598196983337402,
          "x2": -4.408998489379883
         },
         {
          "label": 1,
          "name": "ahmad qodrattullah",
          "x1": 0.5486032366752625,
          "x2": -7.468554973602295
         },
         {
          "label": 0,
          "name": "nor aqilah binti hassim",
          "x1": -1.8430027961730957,
          "x2": -6.18897008895874
         },
         {
          "label": 1,
          "name": "romadhon",
          "x1": -3.7806899547576904,
          "x2": -8.24077033996582
         },
         {
          "label": 1,
          "name": "indra wahyu",
          "x1": -0.430381178855896,
          "x2": -5.666345119476318
         },
         {
          "label": 0,
          "name": "dhyah annur",
          "x1": -2.2578558921813965,
          "x2": -7.915347576141357
         },
         {
          "label": 1,
          "name": "arif pranoto",
          "x1": -4.568389415740967,
          "x2": -7.970676422119141
         },
         {
          "label": 1,
          "name": "iman fauzi",
          "x1": -1.889393925666809,
          "x2": -7.275216579437256
         },
         {
          "label": 1,
          "name": "daniel sande bona",
          "x1": -2.53086256980896,
          "x2": -6.185079097747803
         },
         {
          "label": 1,
          "name": "adrian bahar",
          "x1": -1.3742451667785645,
          "x2": -6.3725104331970215
         },
         {
          "label": 1,
          "name": "abdul kholiq",
          "x1": -1.9386028051376343,
          "x2": -8.088980674743652
         },
         {
          "label": 0,
          "name": "menur widyasih",
          "x1": -3.6714441776275635,
          "x2": -7.714406490325928
         },
         {
          "label": 0,
          "name": "maria melisa s",
          "x1": -2.2723686695098877,
          "x2": -6.124814033508301
         },
         {
          "label": 1,
          "name": "abdullah hasni",
          "x1": -0.6961816549301147,
          "x2": -7.904382705688477
         },
         {
          "label": 0,
          "name": "destiarini",
          "x1": -3.408677577972412,
          "x2": -5.31572151184082
         },
         {
          "label": 1,
          "name": "m windi agustia",
          "x1": -5.312138080596924,
          "x2": -5.3309221267700195
         },
         {
          "label": 1,
          "name": "virnando janrad pakpahan",
          "x1": -0.05709433928132057,
          "x2": -4.902678489685059
         },
         {
          "label": 1,
          "name": "aldy pratama",
          "x1": 0.7840791940689087,
          "x2": -4.7155961990356445
         },
         {
          "label": 0,
          "name": "karina ayuningtyas",
          "x1": -3.7162842750549316,
          "x2": -4.169467449188232
         },
         {
          "label": 0,
          "name": "handanawarih pancamanto",
          "x1": -0.07894029468297958,
          "x2": -4.911949157714844
         },
         {
          "label": 1,
          "name": "made geminastika",
          "x1": -4.181943893432617,
          "x2": -5.318175315856934
         },
         {
          "label": 1,
          "name": "ferdian",
          "x1": -3.498911142349243,
          "x2": -6.559816360473633
         },
         {
          "label": 1,
          "name": "hendra ezer ritto",
          "x1": -3.266937494277954,
          "x2": -8.679705619812012
         },
         {
          "label": 1,
          "name": "muhammad ichsan",
          "x1": 3.2848494052886963,
          "x2": -5.0078511238098145
         },
         {
          "label": 1,
          "name": "valendra giandita",
          "x1": -0.7211373448371887,
          "x2": -5.539567947387695
         },
         {
          "label": 1,
          "name": "amri habibi siregar",
          "x1": -1.8119614124298096,
          "x2": -7.026959419250488
         },
         {
          "label": 0,
          "name": "vanessa letizia",
          "x1": -3.14668345451355,
          "x2": -6.431122303009033
         },
         {
          "label": 0,
          "name": "ariani intan utami",
          "x1": -2.5604538917541504,
          "x2": -4.503401279449463
         },
         {
          "label": 1,
          "name": "fx reymond sutandy",
          "x1": -3.9669711589813232,
          "x2": -7.523129463195801
         },
         {
          "label": 1,
          "name": "adityo pratomo",
          "x1": -4.314610004425049,
          "x2": -8.52529525756836
         },
         {
          "label": 0,
          "name": "rima puspita rahayu",
          "x1": -2.797485828399658,
          "x2": -3.4611399173736572
         },
         {
          "label": 1,
          "name": "albert rizaldi",
          "x1": -1.6222678422927856,
          "x2": -7.285123825073242
         },
         {
          "label": 0,
          "name": "dewi prihatini",
          "x1": -3.996478319168091,
          "x2": -4.114409923553467
         },
         {
          "label": 1,
          "name": "ardanto mohammad pramutadi",
          "x1": 2.761105537414551,
          "x2": -5.093389987945557
         },
         {
          "label": 1,
          "name": "pri dodhy agbar",
          "x1": -2.6224563121795654,
          "x2": -7.973470687866211
         },
         {
          "label": 1,
          "name": "achmad zaky",
          "x1": 0.9036871790885925,
          "x2": -7.405163288116455
         },
         {
          "label": 0,
          "name": "liyana rakinaturia",
          "x1": -1.4901856184005737,
          "x2": -4.746252536773682
         },
         {
          "label": 1,
          "name": "tommy hidayat santoso",
          "x1": -5.466440200805664,
          "x2": -6.618558406829834
         },
         {
          "label": 1,
          "name": "zarkasyi",
          "x1": -1.7891669273376465,
          "x2": -7.578088283538818
         },
         {
          "label": 1,
          "name": "oding aminudin",
          "x1": -2.722045421600342,
          "x2": -6.32948112487793
         },
         {
          "label": 1,
          "name": "pradipta atyanta",
          "x1": 0.5448015928268433,
          "x2": -4.2716193199157715
         },
         {
          "label": 1,
          "name": "ady rahman saputra",
          "x1": -3.3220996856689453,
          "x2": -2.019909381866455
         },
         {
          "label": 0,
          "name": "indriani noviana",
          "x1": -2.85378360748291,
          "x2": -5.368896961212158
         },
         {
          "label": 1,
          "name": "zaki ahmad fathoni",
          "x1": 0.8071587085723877,
          "x2": -7.360260009765625
         },
         {
          "label": 1,
          "name": "andhika eky saputra",
          "x1": -3.253073215484619,
          "x2": -2.2161078453063965
         },
         {
          "label": 0,
          "name": "cuti artini",
          "x1": -3.687505006790161,
          "x2": -4.932403564453125
         },
         {
          "label": 1,
          "name": "dhanang sulistianto",
          "x1": -4.944876194000244,
          "x2": -4.7907843589782715
         },
         {
          "label": 1,
          "name": "mohammad iman mahditama",
          "x1": 2.9562034606933594,
          "x2": -5.084415435791016
         },
         {
          "label": 1,
          "name": "jongguran sondang doli noviedo",
          "x1": -1.5479223728179932,
          "x2": -4.137150764465332
         },
         {
          "label": 1,
          "name": "erik seprian firmanik",
          "x1": -2.9644367694854736,
          "x2": -5.539205551147461
         },
         {
          "label": 1,
          "name": "chaidir hamid",
          "x1": -1.8335657119750977,
          "x2": -7.212397575378418
         },
         {
          "label": 1,
          "name": "tri widiansyah",
          "x1": 1.1918492317199707,
          "x2": -8.769304275512695
         },
         {
          "label": 1,
          "name": "nur mustaqim",
          "x1": -2.7087252140045166,
          "x2": -8.151165008544922
         },
         {
          "label": 1,
          "name": "budianto ajie nugroho",
          "x1": -5.071298122406006,
          "x2": -7.552620887756348
         },
         {
          "label": 1,
          "name": "krishna hidayat",
          "x1": -0.43354663252830505,
          "x2": -8.652277946472168
         },
         {
          "label": 0,
          "name": "prima besty asthary",
          "x1": 0.29523390531539917,
          "x2": -4.289261341094971
         },
         {
          "label": 1,
          "name": "trianto adiputro gunadi",
          "x1": -3.9106948375701904,
          "x2": -3.400552988052368
         },
         {
          "label": 0,
          "name": "ratna kirana",
          "x1": -0.9562581181526184,
          "x2": -4.554338455200195
         },
         {
          "label": 0,
          "name": "devita sari",
          "x1": -2.7772774696350098,
          "x2": -4.395684719085693
         },
         {
          "label": 1,
          "name": "rizky ramona",
          "x1": -1.6575618982315063,
          "x2": -7.126876354217529
         },
         {
          "label": 1,
          "name": "febriyanto",
          "x1": -4.756026744842529,
          "x2": -6.558238506317139
         },
         {
          "label": 0,
          "name": "atika permata istimelati",
          "x1": -4.03702974319458,
          "x2": -4.389011383056641
         },
         {
          "label": 0,
          "name": "atika iskandar",
          "x1": -0.9680809378623962,
          "x2": -5.773830413818359
         },
         {
          "label": 0,
          "name": "nuraini tjitra widya",
          "x1": -3.2384262084960938,
          "x2": -4.477001667022705
         },
         {
          "label": 0,
          "name": "risca mustika suciati",
          "x1": -3.0567855834960938,
          "x2": -4.671141624450684
         },
         {
          "label": 1,
          "name": "rakhmadian purnama",
          "x1": 0.7164546847343445,
          "x2": -5.771859169006348
         },
         {
          "label": 1,
          "name": "cahyo sukmono",
          "x1": -4.115413665771484,
          "x2": -8.490410804748535
         },
         {
          "label": 1,
          "name": "zainul manan",
          "x1": -1.423099160194397,
          "x2": -6.234955787658691
         },
         {
          "label": 1,
          "name": "ivan saputra",
          "x1": -3.4298458099365234,
          "x2": -2.131263017654419
         },
         {
          "label": 0,
          "name": "amalia fadilastuti agung widyati",
          "x1": -1.249696969985962,
          "x2": -6.797666549682617
         },
         {
          "label": 0,
          "name": "mena bertony ginting",
          "x1": -3.864609479904175,
          "x2": -6.165834903717041
         },
         {
          "label": 1,
          "name": "ardha rangga prasetya",
          "x1": 0.05541213974356651,
          "x2": -3.6252474784851074
         },
         {
          "label": 0,
          "name": "chastity emmanuelle",
          "x1": -3.1933014392852783,
          "x2": -7.281703472137451
         },
         {
          "label": 0,
          "name": "anisa nurani",
          "x1": -1.7635918855667114,
          "x2": -4.717754364013672
         },
         {
          "label": 1,
          "name": "narendi muhandri",
          "x1": -3.160292148590088,
          "x2": -8.348886489868164
         },
         {
          "label": 1,
          "name": "kenny aldrin angkasa pasaribu",
          "x1": -1.837842345237732,
          "x2": -4.845890522003174
         },
         {
          "label": 1,
          "name": "abdurachman",
          "x1": 0.7480790615081787,
          "x2": -6.999625205993652
         },
         {
          "label": 1,
          "name": "dwi wijayanto",
          "x1": -1.2530733346939087,
          "x2": -9.476901054382324
         },
         {
          "label": 1,
          "name": "muhammad nasrudin",
          "x1": 3.4547653198242188,
          "x2": -4.9035539627075195
         },
         {
          "label": 1,
          "name": "meiharriko",
          "x1": -2.5348052978515625,
          "x2": -7.668194770812988
         },
         {
          "label": 0,
          "name": "anandayu pradita",
          "x1": 0.17766860127449036,
          "x2": -4.532952785491943
         },
         {
          "label": 0,
          "name": "syula mardliana",
          "x1": -0.48943039774894714,
          "x2": -7.473397254943848
         },
         {
          "label": 1,
          "name": "ilham arif",
          "x1": -1.3872841596603394,
          "x2": -6.926675796508789
         },
         {
          "label": 0,
          "name": "dores framika",
          "x1": -2.525803327560425,
          "x2": -7.552903652191162
         },
         {
          "label": 1,
          "name": "bernadus danang p",
          "x1": -0.7030539512634277,
          "x2": -4.75507926940918
         },
         {
          "label": 1,
          "name": "rifthian suhada",
          "x1": -1.2584803104400635,
          "x2": -6.4628729820251465
         },
         {
          "label": 0,
          "name": "inte christinawati bu'ulolo",
          "x1": -4.712873935699463,
          "x2": -4.569873332977295
         },
         {
          "label": 1,
          "name": "primanio",
          "x1": -2.3453729152679443,
          "x2": -6.935790061950684
         },
         {
          "label": 1,
          "name": "muhamad novianto",
          "x1": 3.097262144088745,
          "x2": -4.969323635101318
         },
         {
          "label": 1,
          "name": "ariel wistantama",
          "x1": -1.3024635314941406,
          "x2": -5.691046237945557
         },
         {
          "label": 1,
          "name": "jan friadi sinaga",
          "x1": -1.6396359205245972,
          "x2": -5.041073799133301
         },
         {
          "label": 1,
          "name": "victor chandra",
          "x1": -0.337417870759964,
          "x2": -5.541759014129639
         },
         {
          "label": 1,
          "name": "ditto narapratama",
          "x1": 0.8224024772644043,
          "x2": -4.4383440017700195
         },
         {
          "label": 1,
          "name": "rangga satya prakoso",
          "x1": 0.0028046793304383755,
          "x2": -3.845783233642578
         },
         {
          "label": 1,
          "name": "mangaranap parulian sianturi",
          "x1": -1.296139121055603,
          "x2": -4.248444080352783
         },
         {
          "label": 1,
          "name": "joko lelono",
          "x1": -4.078836441040039,
          "x2": -8.399243354797363
         },
         {
          "label": 0,
          "name": "elvira hermawati",
          "x1": 0.8390218019485474,
          "x2": -6.389415740966797
         },
         {
          "label": 1,
          "name": "awlia kharis prasidhi",
          "x1": -1.9388083219528198,
          "x2": -5.136145114898682
         },
         {
          "label": 1,
          "name": "diki hartanto",
          "x1": -4.969074249267578,
          "x2": -6.82081413269043
         },
         {
          "label": 0,
          "name": "fadia dewanda",
          "x1": -0.49682778120040894,
          "x2": -6.153558254241943
         },
         {
          "label": 1,
          "name": "hasan ramdan",
          "x1": -0.39751484990119934,
          "x2": -5.606719017028809
         },
         {
          "label": 1,
          "name": "rizky usman",
          "x1": -1.8271571397781372,
          "x2": -7.169241905212402
         },
         {
          "label": 1,
          "name": "leonardy",
          "x1": -3.552788734436035,
          "x2": -8.001522064208984
         },
         {
          "label": 0,
          "name": "kartika kusuma p",
          "x1": -3.863801956176758,
          "x2": -4.183699607849121
         },
         {
          "label": 1,
          "name": "andrew hasoloan",
          "x1": -0.5546573400497437,
          "x2": -5.566323757171631
         },
         {
          "label": 1,
          "name": "muhammad ghifary",
          "x1": 3.588219404220581,
          "x2": -5.034308433532715
         },
         {
          "label": 1,
          "name": "hendra leo purba",
          "x1": -3.0831522941589355,
          "x2": -8.783882141113281
         },
         {
          "label": 0,
          "name": "fidya indah dewanti",
          "x1": -4.3604512214660645,
          "x2": -5.436114311218262
         },
         {
          "label": 1,
          "name": "marojahan mula timbul sigiro",
          "x1": -1.4963923692703247,
          "x2": -6.784446716308594
         },
         {
          "label": 1,
          "name": "arya bayu pradana",
          "x1": 0.2415296733379364,
          "x2": -4.565093040466309
         },
         {
          "label": 1,
          "name": "astro lihardo aloysius",
          "x1": -3.9767391681671143,
          "x2": -8.371467590332031
         },
         {
          "label": 0,
          "name": "mizamarta fadila",
          "x1": -0.8060619831085205,
          "x2": -7.021817684173584
         },
         {
          "label": 1,
          "name": "satrio haryoseno",
          "x1": -4.70173454284668,
          "x2": -8.186219215393066
         },
         {
          "label": 1,
          "name": "r.m. rizky hertansa",
          "x1": -1.6755033731460571,
          "x2": -7.125300407409668
         },
         {
          "label": 1,
          "name": "aditya pratama",
          "x1": 0.7656006217002869,
          "x2": -4.348576068878174
         },
         {
          "label": 1,
          "name": "firman ahmad kirana",
          "x1": 0.5847853422164917,
          "x2": -6.759248733520508
         },
         {
          "label": 1,
          "name": "aldyth sukapradja",
          "x1": 0.3068816661834717,
          "x2": -4.8698344230651855
         },
         {
          "label": 1,
          "name": "irvan aji pratama",
          "x1": 0.7686045169830322,
          "x2": -4.621665954589844
         },
         {
          "label": 1,
          "name": "kalaivani s. panneerselvam",
          "x1": -2.354071617126465,
          "x2": -5.765432357788086
         },
         {
          "label": 1,
          "name": "i made anantha setiawan",
          "x1": -0.6579656004905701,
          "x2": -2.966517448425293
         },
         {
          "label": 1,
          "name": "redayusa syofyano",
          "x1": -1.8260363340377808,
          "x2": -8.582728385925293
         },
         {
          "label": 1,
          "name": "rully fajri",
          "x1": -1.999402403831482,
          "x2": -8.087544441223145
         },
         {
          "label": 1,
          "name": "lucky aquita rakhmat",
          "x1": -0.28541043400764465,
          "x2": -7.546497821807861
         },
         {
          "label": 1,
          "name": "aditya syarief darmasetiawan",
          "x1": -0.005469199735671282,
          "x2": -3.9744644165039062
         },
         {
          "label": 1,
          "name": "yun yun zulpikor",
          "x1": -2.5010440349578857,
          "x2": -8.521269798278809
         },
         {
          "label": 0,
          "name": "sri purnamasari kartini",
          "x1": -2.175764560699463,
          "x2": -4.476296424865723
         },
         {
          "label": 1,
          "name": "simon sindhu hendradjaja",
          "x1": -1.6666067838668823,
          "x2": -9.075581550598145
         },
         {
          "label": 0,
          "name": "epi okti sari",
          "x1": -2.8261640071868896,
          "x2": -6.462885856628418
         },
         {
          "label": 0,
          "name": "kiki reza ayu masardi",
          "x1": -1.7343181371688843,
          "x2": -6.3678178787231445
         },
         {
          "label": 0,
          "name": "chantika rosmanti pratiwi",
          "x1": -3.6582190990448,
          "x2": -4.787100791931152
         },
         {
          "label": 1,
          "name": "epta febriansah",
          "x1": -3.2013072967529297,
          "x2": -6.09119987487793
         },
         {
          "label": 1,
          "name": "abas joni wibowo",
          "x1": -5.6082892417907715,
          "x2": -8.804299354553223
         },
         {
          "label": 1,
          "name": "rakhmat luqman ghifari",
          "x1": 0.4487024247646332,
          "x2": -7.091817855834961
         },
         {
          "label": 0,
          "name": "kusumastuti wiratnaningtyas",
          "x1": -3.6088619232177734,
          "x2": -4.545151710510254
         },
         {
          "label": 1,
          "name": "ferdian thung",
          "x1": -3.674539566040039,
          "x2": -6.365306854248047
         },
         {
          "label": 1,
          "name": "candra wana",
          "x1": -0.26624757051467896,
          "x2": -5.227334976196289
         },
         {
          "label": 1,
          "name": "firman nurrachman",
          "x1": 0.5378834009170532,
          "x2": -6.833407878875732
         },
         {
          "label": 1,
          "name": "rizki putra",
          "x1": -3.717353582382202,
          "x2": -2.7941699028015137
         },
         {
          "label": 1,
          "name": "agung gunawan",
          "x1": -1.3707871437072754,
          "x2": -2.8899598121643066
         },
         {
          "label": 0,
          "name": "wida warnita",
          "x1": -3.658982276916504,
          "x2": -4.9507551193237305
         },
         {
          "label": 1,
          "name": "christ marcel",
          "x1": -5.1738386154174805,
          "x2": -4.72380256652832
         },
         {
          "label": 1,
          "name": "fajar sastrowijoyo",
          "x1": -4.2579779624938965,
          "x2": -8.46445083618164
         },
         {
          "label": 1,
          "name": "batara nainggolan",
          "x1": -1.1524423360824585,
          "x2": -4.103428363800049
         },
         {
          "label": 1,
          "name": "tito daniswara",
          "x1": -3.450826644897461,
          "x2": -4.77038049697876
         },
         {
          "label": 0,
          "name": "sabriani suci zasneda",
          "x1": -2.1612420082092285,
          "x2": -5.367405891418457
         },
         {
          "label": 1,
          "name": "teuku naraski zahari",
          "x1": -1.256168246269226,
          "x2": -6.975254058837891
         },
         {
          "label": 1,
          "name": "zulfadlillah",
          "x1": -1.475537657737732,
          "x2": -7.832143306732178
         },
         {
          "label": 0,
          "name": "putri purbondaru",
          "x1": -3.7475972175598145,
          "x2": -2.769073486328125
         },
         {
          "label": 1,
          "name": "dennis chris tannia",
          "x1": -5.082608699798584,
          "x2": -4.568099021911621
         },
         {
          "label": 0,
          "name": "famelia nurlaela",
          "x1": -2.559462785720825,
          "x2": -6.462284564971924
         },
         {
          "label": 1,
          "name": "yunus amreh",
          "x1": -2.6614763736724854,
          "x2": -8.266958236694336
         },
         {
          "label": 1,
          "name": "evan setiawan riandi",
          "x1": -0.720451295375824,
          "x2": -2.92325496673584
         },
         {
          "label": 1,
          "name": "norontoko",
          "x1": -4.457744598388672,
          "x2": -8.175370216369629
         },
         {
          "label": 0,
          "name": "aniek widayanti",
          "x1": -4.377137660980225,
          "x2": -5.465195655822754
         },
         {
          "label": 1,
          "name": "dito eka cahya",
          "x1": -1.7194937467575073,
          "x2": -8.254717826843262
         },
         {
          "label": 0,
          "name": "dwi arryma niza",
          "x1": -1.6475228071212769,
          "x2": -5.959729194641113
         },
         {
          "label": 1,
          "name": "ario wulung",
          "x1": -3.212900161743164,
          "x2": -8.074910163879395
         },
         {
          "label": 1,
          "name": "handrian saeful qodar",
          "x1": -0.7188873291015625,
          "x2": -5.453461170196533
         },
         {
          "label": 1,
          "name": "taufik rossal sukma",
          "x1": -1.9759217500686646,
          "x2": -7.596309185028076
         },
         {
          "label": 0,
          "name": "maria anjelina",
          "x1": -1.7359919548034668,
          "x2": -5.280885696411133
         },
         {
          "label": 1,
          "name": "ujang suryana",
          "x1": -0.827987790107727,
          "x2": -4.910237789154053
         },
         {
          "label": 0,
          "name": "yenny minartina siahaan",
          "x1": -1.7687019109725952,
          "x2": -4.809422016143799
         },
         {
          "label": 1,
          "name": "muhammad afif gunung",
          "x1": 3.466456890106201,
          "x2": -4.866667747497559
         },
         {
          "label": 0,
          "name": "reni novianti",
          "x1": -3.642469882965088,
          "x2": -5.539575576782227
         },
         {
          "label": 0,
          "name": "dessy dwiyanti",
          "x1": -4.1061811447143555,
          "x2": -6.725305080413818
         },
         {
          "label": 1,
          "name": "harji wiga asmoko",
          "x1": -4.384130001068115,
          "x2": -8.496252059936523
         },
         {
          "label": 1,
          "name": "gunawan",
          "x1": -1.4054960012435913,
          "x2": -2.912508726119995
         },
         {
          "label": 1,
          "name": "tonni turnip",
          "x1": -3.781292200088501,
          "x2": -7.660909652709961
         },
         {
          "label": 1,
          "name": "m rasyid ridho",
          "x1": -2.750140905380249,
          "x2": -7.998990058898926
         },
         {
          "label": 1,
          "name": "iman adrianto",
          "x1": -4.712424278259277,
          "x2": -6.0712504386901855
         },
         {
          "label": 0,
          "name": "yenni lau",
          "x1": -3.4563348293304443,
          "x2": -7.408501148223877
         },
         {
          "label": 1,
          "name": "fikhi angga dhany",
          "x1": -0.8035694360733032,
          "x2": -3.7691657543182373
         },
         {
          "label": 1,
          "name": "yoppy hockiyanto",
          "x1": -4.686385631561279,
          "x2": -7.047102451324463
         },
         {
          "label": 1,
          "name": "iwa kartiwa",
          "x1": -3.9326653480529785,
          "x2": -4.44386100769043
         },
         {
          "label": 1,
          "name": "ichsan permana putra",
          "x1": -2.95786190032959,
          "x2": -2.115581512451172
         },
         {
          "label": 0,
          "name": "masyithah",
          "x1": -1.701374888420105,
          "x2": -7.956501007080078
         },
         {
          "label": 0,
          "name": "astri pradiptaningtyas",
          "x1": -2.4745242595672607,
          "x2": -3.932877779006958
         },
         {
          "label": 1,
          "name": "cecep setiadi",
          "x1": -0.44495272636413574,
          "x2": -2.90539813041687
         },
         {
          "label": 1,
          "name": "jimmy",
          "x1": -3.2958126068115234,
          "x2": -8.170286178588867
         },
         {
          "label": 1,
          "name": "oktanu riyanto",
          "x1": -4.949657917022705,
          "x2": -6.710242748260498
         },
         {
          "label": 1,
          "name": "fransisco tulus pandapotan simamora",
          "x1": -4.301923751831055,
          "x2": -6.3913373947143555
         },
         {
          "label": 1,
          "name": "agung laksono wahyu putranto",
          "x1": -3.619459629058838,
          "x2": -2.0505948066711426
         },
         {
          "label": 1,
          "name": "yosafat eka prasetya p",
          "x1": 0.25494271516799927,
          "x2": -3.3169021606445312
         },
         {
          "label": 1,
          "name": "hari suharto",
          "x1": -2.8966240882873535,
          "x2": -8.115567207336426
         },
         {
          "label": 0,
          "name": "lya yuniasti",
          "x1": -3.8130829334259033,
          "x2": -4.365758895874023
         },
         {
          "label": 1,
          "name": "a reizky azhar",
          "x1": -1.2910356521606445,
          "x2": -7.127691745758057
         },
         {
          "label": 1,
          "name": "brian hutama susilo",
          "x1": -3.3707644939422607,
          "x2": -6.2052788734436035
         },
         {
          "label": 0,
          "name": "alif kartika",
          "x1": -1.6906734704971313,
          "x2": -7.486069202423096
         },
         {
          "label": 0,
          "name": "fransisca febriani",
          "x1": -2.2229158878326416,
          "x2": -5.419818878173828
         },
         {
          "label": 1,
          "name": "aldrian reza",
          "x1": -1.8254119157791138,
          "x2": -6.439130783081055
         },
         {
          "label": 0,
          "name": "imelda victoria imang",
          "x1": -2.5292470455169678,
          "x2": -5.671587944030762
         },
         {
          "label": 1,
          "name": "hardy kesuma",
          "x1": -2.002347230911255,
          "x2": -8.338998794555664
         },
         {
          "label": 0,
          "name": "fadhila nuansa adhi",
          "x1": -0.5422773957252502,
          "x2": -7.3222761154174805
         },
         {
          "label": 1,
          "name": "pujiara simarmata",
          "x1": 0.4443853497505188,
          "x2": -5.0458855628967285
         },
         {
          "label": 1,
          "name": "suharta",
          "x1": -2.790989398956299,
          "x2": -8.03213882446289
         },
         {
          "label": 0,
          "name": "merry dwi jayanti",
          "x1": -1.2948633432388306,
          "x2": -9.448443412780762
         },
         {
          "label": 0,
          "name": "sutina",
          "x1": -3.4455132484436035,
          "x2": -6.948358535766602
         },
         {
          "label": 1,
          "name": "mohamad saiful hidayat",
          "x1": 3.063678741455078,
          "x2": -5.349177837371826
         },
         {
          "label": 1,
          "name": "anandya wardhana",
          "x1": -0.17775847017765045,
          "x2": -4.907484531402588
         },
         {
          "label": 1,
          "name": "hanindyo wirotomo",
          "x1": -4.767398834228516,
          "x2": -7.671043395996094
         },
         {
          "label": 0,
          "name": "lovita ghassini",
          "x1": -3.3788397312164307,
          "x2": -5.97476863861084
         },
         {
          "label": 1,
          "name": "andika surya brata",
          "x1": 0.4856676459312439,
          "x2": -4.823854923248291
         },
         {
          "label": 0,
          "name": "sri konsep harum w",
          "x1": -3.0558688640594482,
          "x2": -7.8508710861206055
         },
         {
          "label": 0,
          "name": "firna safitri",
          "x1": -3.214374303817749,
          "x2": -4.339588642120361
         },
         {
          "label": 1,
          "name": "enriko panindoan tua siregar",
          "x1": -4.03812313079834,
          "x2": -5.8382720947265625
         },
         {
          "label": 0,
          "name": "nilamsari citra pangestu",
          "x1": -1.9118095636367798,
          "x2": -4.237987518310547
         },
         {
          "label": 0,
          "name": "rohidayah binti abd majid",
          "x1": -0.5293983221054077,
          "x2": -8.354425430297852
         },
         {
          "label": 1,
          "name": "bagus krestiono",
          "x1": -4.4515700340271,
          "x2": -8.610320091247559
         },
         {
          "label": 0,
          "name": "fadylah",
          "x1": -1.480638861656189,
          "x2": -7.985344409942627
         },
         {
          "label": 0,
          "name": "rosni lumbantoruan",
          "x1": -4.838871955871582,
          "x2": -6.747652053833008
         },
         {
          "label": 1,
          "name": "muhammad fathi yakan musthofa",
          "x1": 3.5802066326141357,
          "x2": -5.3468523025512695
         },
         {
          "label": 1,
          "name": "sunu widigdya dewanto",
          "x1": -5.187643527984619,
          "x2": -6.3184685707092285
         },
         {
          "label": 1,
          "name": "dhanang wiedi ardian",
          "x1": -1.0757068395614624,
          "x2": -5.5537519454956055
         },
         {
          "label": 1,
          "name": "ibnu maulana",
          "x1": -0.33750683069229126,
          "x2": -7.664931774139404
         },
         {
          "label": 1,
          "name": "arya putra kurniawan",
          "x1": -1.2156829833984375,
          "x2": -1.5554836988449097
         },
         {
          "label": 1,
          "name": "yoel krisnanda sumitro",
          "x1": -3.890083074569702,
          "x2": -7.302589416503906
         },
         {
          "label": 1,
          "name": "aditya nurfebriartanto",
          "x1": 0.03941087797284126,
          "x2": -3.95658540725708
         },
         {
          "label": 0,
          "name": "avniar noviantini k",
          "x1": -3.442783832550049,
          "x2": -5.413020610809326
         },
         {
          "label": 1,
          "name": "muhammar qashidi",
          "x1": 3.5276498794555664,
          "x2": -4.987821102142334
         },
         {
          "label": 1,
          "name": "aristama ramadhani",
          "x1": 0.7210543751716614,
          "x2": -5.660219669342041
         },
         {
          "label": 1,
          "name": "sigit wirawan",
          "x1": -1.3718641996383667,
          "x2": -5.425815582275391
         },
         {
          "label": 1,
          "name": "arga dinata",
          "x1": -1.144956111907959,
          "x2": -4.657758712768555
         },
         {
          "label": 0,
          "name": "annelis a c",
          "x1": -2.996405601501465,
          "x2": -6.604816436767578
         },
         {
          "label": 1,
          "name": "bagus narendra hutama",
          "x1": -0.1616494506597519,
          "x2": -5.697084426879883
         },
         {
          "label": 1,
          "name": "luchana lamierza yusup",
          "x1": -0.5496348142623901,
          "x2": -7.56641149520874
         },
         {
          "label": 0,
          "name": "annisa ramdhaningtias",
          "x1": -1.4137814044952393,
          "x2": -4.66917085647583
         },
         {
          "label": 1,
          "name": "dinda ori prayoga",
          "x1": -4.598749160766602,
          "x2": -7.689517021179199
         },
         {
          "label": 1,
          "name": "ramadhan adi nugroho",
          "x1": 0.7694124579429626,
          "x2": -5.887057781219482
         },
         {
          "label": 1,
          "name": "ricky gilbert fernando",
          "x1": -4.099581241607666,
          "x2": -7.403079509735107
         },
         {
          "label": 0,
          "name": "riani rilanda",
          "x1": -2.3305182456970215,
          "x2": -5.101870059967041
         },
         {
          "label": 1,
          "name": "albaihaqi",
          "x1": -1.2949953079223633,
          "x2": -7.37841272354126
         },
         {
          "label": 1,
          "name": "jati pharmadita",
          "x1": 0.34808290004730225,
          "x2": -6.456737518310547
         },
         {
          "label": 1,
          "name": "doni arzinal",
          "x1": -2.796762704849243,
          "x2": -6.214001655578613
         },
         {
          "label": 0,
          "name": "septine wulandini",
          "x1": -3.082479238510132,
          "x2": -6.057460784912109
         },
         {
          "label": 1,
          "name": "shandy francisca",
          "x1": -0.25933608412742615,
          "x2": -6.022409439086914
         },
         {
          "label": 1,
          "name": "syamsuar syamsuddin",
          "x1": 1.0745973587036133,
          "x2": -8.73842716217041
         },
         {
          "label": 1,
          "name": "ravi fahsa",
          "x1": -1.4004637002944946,
          "x2": -7.525169372558594
         },
         {
          "label": 1,
          "name": "oki rizaldi",
          "x1": -1.7538851499557495,
          "x2": -6.920361042022705
         },
         {
          "label": 0,
          "name": "nur fajriah rachmah",
          "x1": 0.6305079460144043,
          "x2": -7.301103591918945
         },
         {
          "label": 1,
          "name": "ade prayuda noras",
          "x1": 0.10101267695426941,
          "x2": -4.7165021896362305
         },
         {
          "label": 0,
          "name": "farha binti zakaria",
          "x1": -1.142316460609436,
          "x2": -6.867237567901611
         },
         {
          "label": 1,
          "name": "aldimas kharunia zaman",
          "x1": -0.13685010373592377,
          "x2": -6.5666823387146
         },
         {
          "label": 1,
          "name": "achmad gentur maulana",
          "x1": -0.2204076051712036,
          "x2": -7.647688865661621
         },
         {
          "label": 1,
          "name": "martin laurel s t",
          "x1": -3.1230905055999756,
          "x2": -7.4862518310546875
         },
         {
          "label": 0,
          "name": "bunga dwijayanti",
          "x1": -1.209286093711853,
          "x2": -9.540955543518066
         },
         {
          "label": 0,
          "name": "titri yan rizki",
          "x1": -2.0322699546813965,
          "x2": -6.376867771148682
         },
         {
          "label": 0,
          "name": "irma juniati",
          "x1": -3.6945130825042725,
          "x2": -4.954568386077881
         },
         {
          "label": 1,
          "name": "barry rimukti",
          "x1": -2.694964647293091,
          "x2": -7.830012798309326
         },
         {
          "label": 0,
          "name": "rizkiwati f djangko",
          "x1": -1.782496452331543,
          "x2": -6.358739376068115
         },
         {
          "label": 0,
          "name": "yoshita angelina sutanto",
          "x1": -4.647974014282227,
          "x2": -5.592276096343994
         },
         {
          "label": 1,
          "name": "leo yulyardi",
          "x1": -2.5396459102630615,
          "x2": -8.088393211364746
         },
         {
          "label": 0,
          "name": "andini suciningtyas putri",
          "x1": -3.472567319869995,
          "x2": -5.169045925140381
         },
         {
          "label": 1,
          "name": "subaryani dambawati harjaya",
          "x1": -0.4338367283344269,
          "x2": -4.448616027832031
         },
         {
          "label": 1,
          "name": "fajar ismail jala putra p",
          "x1": -3.357290506362915,
          "x2": -2.274125337600708
         },
         {
          "label": 0,
          "name": "widia desrianti",
          "x1": -3.993009090423584,
          "x2": -4.913471698760986
         },
         {
          "label": 1,
          "name": "ekasih pardomuan",
          "x1": -2.6783206462860107,
          "x2": -7.934920310974121
         },
         {
          "label": 1,
          "name": "fatrian rubiansyah rusydy",
          "x1": 1.2594997882843018,
          "x2": -8.759212493896484
         },
         {
          "label": 0,
          "name": "inge annisa fitri",
          "x1": -3.1541736125946045,
          "x2": -4.611717700958252
         },
         {
          "label": 1,
          "name": "rio azwad pattiwangi",
          "x1": -2.7349092960357666,
          "x2": -4.384119987487793
         },
         {
          "label": 0,
          "name": "qisthina ghaisani",
          "x1": -3.0012893676757812,
          "x2": -5.602217197418213
         },
         {
          "label": 1,
          "name": "habiburrohman fajarsyah",
          "x1": 0.6704083681106567,
          "x2": -7.424877166748047
         },
         {
          "label": 0,
          "name": "rika suryati",
          "x1": -2.4769272804260254,
          "x2": -7.99888277053833
         },
         {
          "label": 1,
          "name": "hendy",
          "x1": -3.2790443897247314,
          "x2": -8.508164405822754
         },
         {
          "label": 1,
          "name": "rizky ayub ginting",
          "x1": -3.794546365737915,
          "x2": -6.082287311553955
         },
         {
          "label": 0,
          "name": "putri astriani",
          "x1": -3.65515398979187,
          "x2": -3.6201329231262207
         },
         {
          "label": 1,
          "name": "bagus ilman",
          "x1": -2.4040989875793457,
          "x2": -7.416858196258545
         },
         {
          "label": 1,
          "name": "rhesa adythia",
          "x1": -2.6726789474487305,
          "x2": -7.283576965332031
         },
         {
          "label": 1,
          "name": "istantyo triono",
          "x1": -4.649116516113281,
          "x2": -7.619062900543213
         },
         {
          "label": 0,
          "name": "mega permata deis",
          "x1": -0.4368416666984558,
          "x2": -4.372106552124023
         },
         {
          "label": 1,
          "name": "alwi sami",
          "x1": -2.357264518737793,
          "x2": -6.889833450317383
         },
         {
          "label": 1,
          "name": "derry fachri",
          "x1": -3.1670610904693604,
          "x2": -7.7197394371032715
         },
         {
          "label": 1,
          "name": "anggi putra yanse",
          "x1": -3.1034727096557617,
          "x2": -2.369987964630127
         },
         {
          "label": 1,
          "name": "muhammad syaifun nizar",
          "x1": 3.6375792026519775,
          "x2": -5.157212734222412
         },
         {
          "label": 0,
          "name": "mona nufaila",
          "x1": -0.6673092842102051,
          "x2": -7.408379554748535
         },
         {
          "label": 1,
          "name": "mochamad lujeng pratiktama",
          "x1": 1.4312777519226074,
          "x2": -4.83875036239624
         },
         {
          "label": 1,
          "name": "raka winaga",
          "x1": -1.1179356575012207,
          "x2": -4.600780010223389
         },
         {
          "label": 0,
          "name": "elih nurcahyani",
          "x1": -2.6561224460601807,
          "x2": -7.498767852783203
         },
         {
          "label": 1,
          "name": "muhammad sajjad",
          "x1": 3.4380457401275635,
          "x2": -5.1849188804626465
         },
         {
          "label": 1,
          "name": "adrianus rizqi anugrahanto",
          "x1": 1.1082381010055542,
          "x2": -5.69477653503418
         },
         {
          "label": 0,
          "name": "lailatul badriyah",
          "x1": -0.798065185546875,
          "x2": -7.483823776245117
         },
         {
          "label": 1,
          "name": "chandra wirawan",
          "x1": -0.3082357347011566,
          "x2": -5.236828327178955
         },
         {
          "label": 1,
          "name": "i gede suryana saptawirawan",
          "x1": -0.4538068473339081,
          "x2": -4.2764668464660645
         },
         {
          "label": 1,
          "name": "muhammad nauvall j",
          "x1": 3.463428497314453,
          "x2": -5.276225566864014
         },
         {
          "label": 1,
          "name": "ronald",
          "x1": -3.7213032245635986,
          "x2": -7.9351630210876465
         },
         {
          "label": 1,
          "name": "guntur susanto",
          "x1": -5.427009105682373,
          "x2": -6.47435998916626
         },
         {
          "label": 0,
          "name": "fleuri paramita aprianti",
          "x1": -2.448699951171875,
          "x2": -3.8593177795410156
         },
         {
          "label": 1,
          "name": "tyas rangga kristianto",
          "x1": -4.895994663238525,
          "x2": -4.556819438934326
         },
         {
          "label": 0,
          "name": "jessica chouvani",
          "x1": -3.630077362060547,
          "x2": -7.602686405181885
         },
         {
          "label": 1,
          "name": "krisna kharisma nugraha",
          "x1": 1.2059853076934814,
          "x2": -5.946530342102051
         },
         {
          "label": 1,
          "name": "iput heri kurniawan",
          "x1": -1.21242094039917,
          "x2": -1.5971038341522217
         },
         {
          "label": 1,
          "name": "nikko martono",
          "x1": -4.408679962158203,
          "x2": -7.98229455947876
         },
         {
          "label": 0,
          "name": "ratna ayu wulandari",
          "x1": -0.7954193949699402,
          "x2": -6.0137224197387695
         },
         {
          "label": 0,
          "name": "andha rezeita sumara",
          "x1": 0.055420681834220886,
          "x2": -5.926483154296875
         },
         {
          "label": 1,
          "name": "aulia fitrah",
          "x1": -2.3513710498809814,
          "x2": -6.70311164855957
         },
         {
          "label": 1,
          "name": "alfaidhul akbar",
          "x1": -0.7960395216941833,
          "x2": -7.397434234619141
         },
         {
          "label": 0,
          "name": "vina lusiana nurjanah",
          "x1": -1.8752080202102661,
          "x2": -4.886559963226318
         },
         {
          "label": 0,
          "name": "santi puspitasari",
          "x1": -2.679208278656006,
          "x2": -3.6869914531707764
         },
         {
          "label": 0,
          "name": "yazmin hawa binti abd rashid",
          "x1": -1.4318208694458008,
          "x2": -6.232592582702637
         },
         {
          "label": 1,
          "name": "humisar alprialdus sinaga",
          "x1": -2.2639119625091553,
          "x2": -5.169160842895508
         },
         {
          "label": 1,
          "name": "wahyu budiman indraputra",
          "x1": -3.3728373050689697,
          "x2": -2.362452507019043
         },
         {
          "label": 1,
          "name": "kurnia adji",
          "x1": -1.3906352519989014,
          "x2": -1.8594471216201782
         },
         {
          "label": 0,
          "name": "widi widiati",
          "x1": -4.191356658935547,
          "x2": -4.858935832977295
         },
         {
          "label": 0,
          "name": "yosi ayu aulia",
          "x1": -2.8517909049987793,
          "x2": -6.704173564910889
         },
         {
          "label": 0,
          "name": "octari afianty s p",
          "x1": -3.4774272441864014,
          "x2": -4.883708477020264
         },
         {
          "label": 1,
          "name": "gromiko andronov tambunan",
          "x1": -4.403003215789795,
          "x2": -6.911863803863525
         },
         {
          "label": 1,
          "name": "m kharisma murtipratama",
          "x1": 1.003951072692871,
          "x2": -4.846652984619141
         },
         {
          "label": 0,
          "name": "anggi alisia putri",
          "x1": -3.1799652576446533,
          "x2": -3.437389612197876
         },
         {
          "label": 0,
          "name": "siti eka yulianti",
          "x1": -3.870154619216919,
          "x2": -5.865555763244629
         },
         {
          "label": 1,
          "name": "aris firman",
          "x1": -1.841104507446289,
          "x2": -6.672348976135254
         },
         {
          "label": 1,
          "name": "arrijal sidik",
          "x1": -1.8987025022506714,
          "x2": -6.478003025054932
         },
         {
          "label": 1,
          "name": "henry mesach adiprabowo",
          "x1": -5.287609577178955,
          "x2": -8.604132652282715
         },
         {
          "label": 1,
          "name": "amri fatehuddin siddiq",
          "x1": -2.316899061203003,
          "x2": -8.157505989074707
         },
         {
          "label": 1,
          "name": "wahyu hendro setyawan",
          "x1": -0.438739538192749,
          "x2": -3.5020618438720703
         },
         {
          "label": 1,
          "name": "alhadi okta triansyah",
          "x1": 1.1524689197540283,
          "x2": -8.778101921081543
         },
         {
          "label": 1,
          "name": "syafran hadi",
          "x1": -0.4103313684463501,
          "x2": -6.570607662200928
         },
         {
          "label": 0,
          "name": "adeline pramudita",
          "x1": -0.4068131446838379,
          "x2": -4.853972434997559
         },
         {
          "label": 1,
          "name": "qiyam padriansy",
          "x1": 1.1310365200042725,
          "x2": -8.723848342895508
         },
         {
          "label": 1,
          "name": "sornong maulana",
          "x1": -0.4273863732814789,
          "x2": -7.6776347160339355
         },
         {
          "label": 1,
          "name": "arief rachman",
          "x1": 0.48562535643577576,
          "x2": -6.855882167816162
         },
         {
          "label": 1,
          "name": "ruhul firdaus",
          "x1": -2.1767985820770264,
          "x2": -8.14029598236084
         },
         {
          "label": 1,
          "name": "luthfi azizi gumay",
          "x1": -1.5874391794204712,
          "x2": -7.690872669219971
         },
         {
          "label": 0,
          "name": "amalia dwi putri",
          "x1": -3.6024580001831055,
          "x2": -2.8064889907836914
         },
         {
          "label": 0,
          "name": "deti nurdianti kuswatiningsih",
          "x1": -4.650439739227295,
          "x2": -5.118534564971924
         },
         {
          "label": 0,
          "name": "raja yulita i s",
          "x1": -2.6288459300994873,
          "x2": -6.789146900177002
         },
         {
          "label": 0,
          "name": "gusti ayu meliati",
          "x1": -5.25980806350708,
          "x2": -5.330231189727783
         },
         {
          "label": 1,
          "name": "nur hatta krisna tri aditya",
          "x1": -2.2863378524780273,
          "x2": -4.3382086753845215
         },
         {
          "label": 0,
          "name": "mega putri afrianti",
          "x1": -3.462709426879883,
          "x2": -3.5029170513153076
         },
         {
          "label": 1,
          "name": "rizky jatnika sahputra",
          "x1": -3.4050166606903076,
          "x2": -2.4324445724487305
         },
         {
          "label": 0,
          "name": "christianty",
          "x1": -5.045620918273926,
          "x2": -4.577647686004639
         },
         {
          "label": 1,
          "name": "erick saul",
          "x1": -3.081869602203369,
          "x2": -7.891733169555664
         },
         {
          "label": 0,
          "name": "nurlinawati",
          "x1": -3.7041516304016113,
          "x2": -5.354590892791748
         },
         {
          "label": 0,
          "name": "tety benedicta wydiabhakti",
          "x1": -0.5512282848358154,
          "x2": -2.898226737976074
         },
         {
          "label": 1,
          "name": "erland erlangga chitra",
          "x1": -1.210733413696289,
          "x2": -3.875810384750366
         },
         {
          "label": 1,
          "name": "riedo waren",
          "x1": -3.549752950668335,
          "x2": -7.8242106437683105
         },
         {
          "label": 1,
          "name": "hastomo ardy",
          "x1": -3.867457628250122,
          "x2": -8.566892623901367
         },
         {
          "label": 1,
          "name": "rendy",
          "x1": -3.3025598526000977,
          "x2": -8.490297317504883
         },
         {
          "label": 1,
          "name": "fajar setiawan",
          "x1": -0.6741788983345032,
          "x2": -2.8991801738739014
         },
         {
          "label": 1,
          "name": "johanes simon petrus",
          "x1": -3.9023590087890625,
          "x2": -7.478208065032959
         },
         {
          "label": 0,
          "name": "fitri nuraeni",
          "x1": -3.1567142009735107,
          "x2": -4.679419040679932
         },
         {
          "label": 1,
          "name": "aditya perdana suherman putra",
          "x1": -2.934255361557007,
          "x2": -2.0345141887664795
         },
         {
          "label": 0,
          "name": "dhita yollanda",
          "x1": -0.9576514363288879,
          "x2": -6.193053722381592
         },
         {
          "label": 1,
          "name": "akhmad rustanadi",
          "x1": 0.8548667430877686,
          "x2": -7.275068283081055
         },
         {
          "label": 0,
          "name": "dwita indrariani",
          "x1": -2.298330545425415,
          "x2": -4.839678764343262
         },
         {
          "label": 1,
          "name": "alvin andhika zulen",
          "x1": -2.377835273742676,
          "x2": -5.977630615234375
         },
         {
          "label": 1,
          "name": "johannes ricky sihombing",
          "x1": -3.9483540058135986,
          "x2": -7.057613372802734
         },
         {
          "label": 1,
          "name": "galang perdana ananto",
          "x1": -0.7690452337265015,
          "x2": -4.252161026000977
         },
         {
          "label": 1,
          "name": "tendy sarwono",
          "x1": -3.942767381668091,
          "x2": -7.974562644958496
         },
         {
          "label": 1,
          "name": "bagus adi prabowo",
          "x1": -5.221737384796143,
          "x2": -8.597930908203125
         },
         {
          "label": 1,
          "name": "adhitya mahendra",
          "x1": 0.38452619314193726,
          "x2": -5.572967529296875
         },
         {
          "label": 1,
          "name": "novenra satria",
          "x1": -2.810152053833008,
          "x2": -5.17158842086792
         },
         {
          "label": 1,
          "name": "fadli satrio fadjri",
          "x1": -2.5810577869415283,
          "x2": -5.429004192352295
         },
         {
          "label": 0,
          "name": "shany dewi bilqis hasani",
          "x1": -2.8784000873565674,
          "x2": -5.702929496765137
         },
         {
          "label": 1,
          "name": "zainal abidin",
          "x1": -2.555225372314453,
          "x2": -5.638012409210205
         },
         {
          "label": 1,
          "name": "lukito perkasa",
          "x1": -2.2857820987701416,
          "x2": -7.6433329582214355
         },
         {
          "label": 1,
          "name": "ibnu hafidz arief",
          "x1": -2.029681444168091,
          "x2": -7.450402736663818
         },
         {
          "label": 0,
          "name": "rita renata",
          "x1": -2.9410367012023926,
          "x2": -4.7785210609436035
         },
         {
          "label": 1,
          "name": "fuad fadhli",
          "x1": -1.3994070291519165,
          "x2": -7.947529315948486
         },
         {
          "label": 1,
          "name": "yudhi ishna satriawan",
          "x1": -2.5119078159332275,
          "x2": -4.581219673156738
         },
         {
          "label": 1,
          "name": "rahadian nursatiana",
          "x1": -1.1873201131820679,
          "x2": -4.837459087371826
         },
         {
          "label": 0,
          "name": "janetta wiryana",
          "x1": -1.0629870891571045,
          "x2": -4.764446258544922
         },
         {
          "label": 1,
          "name": "teguh pribadi dwi nugroho",
          "x1": -4.968183517456055,
          "x2": -7.90446662902832
         },
         {
          "label": 0,
          "name": "siska",
          "x1": -3.0163328647613525,
          "x2": -7.519196033477783
         },
         {
          "label": 0,
          "name": "natal",
          "x1": -2.920928716659546,
          "x2": -7.083147048950195
         },
         {
          "label": 1,
          "name": "andy'es fourman duta akbar sudirja",
          "x1": -0.20218811929225922,
          "x2": -5.630695819854736
         },
         {
          "label": 0,
          "name": "agustina",
          "x1": -5.368682861328125,
          "x2": -5.390672206878662
         },
         {
          "label": 0,
          "name": "amy hadiastuti",
          "x1": -2.8511717319488525,
          "x2": -4.438612937927246
         },
         {
          "label": 1,
          "name": "rif'ani arzaq",
          "x1": -1.6055052280426025,
          "x2": -6.085965633392334
         },
         {
          "label": 1,
          "name": "wahyu adhi prasetyo",
          "x1": 0.1680404245853424,
          "x2": -3.254047393798828
         },
         {
          "label": 1,
          "name": "ajar ashaq darussalam",
          "x1": -0.26443445682525635,
          "x2": -6.864283561706543
         },
         {
          "label": 0,
          "name": "riana zevanisa arsyi",
          "x1": -2.0779998302459717,
          "x2": -5.156826496124268
         },
         {
          "label": 1,
          "name": "riza irawan",
          "x1": -1.4548524618148804,
          "x2": -5.6485819816589355
         },
         {
          "label": 1,
          "name": "muhammad indra zulmi",
          "x1": 3.529104232788086,
          "x2": -4.935562610626221
         },
         {
          "label": 0,
          "name": "caesarrya ratriloendessy maharani",
          "x1": 0.2347467988729477,
          "x2": -5.811563491821289
         },
         {
          "label": 0,
          "name": "junessa palao kurniadi",
          "x1": -1.386555790901184,
          "x2": -1.8671746253967285
         },
         {
          "label": 1,
          "name": "erik jeremia maruli siagian",
          "x1": -2.36769962310791,
          "x2": -5.558834552764893
         },
         {
          "label": 0,
          "name": "fanny aditya putri",
          "x1": 0.11915931850671768,
          "x2": -3.992798089981079
         },
         {
          "label": 1,
          "name": "humasak tommy argo simanjuntak",
          "x1": -4.24993371963501,
          "x2": -6.107332229614258
         },
         {
          "label": 1,
          "name": "ibnu mas'ud",
          "x1": -2.3531088829040527,
          "x2": -8.40687084197998
         },
         {
          "label": 0,
          "name": "rina mariyana",
          "x1": -1.4494154453277588,
          "x2": -4.937374591827393
         },
         {
          "label": 0,
          "name": "hanny",
          "x1": -3.7234864234924316,
          "x2": -7.1907639503479
         },
         {
          "label": 1,
          "name": "yayen sihombing",
          "x1": -3.9226436614990234,
          "x2": -7.05086612701416
         },
         {
          "label": 1,
          "name": "joshua christian tumboimbela",
          "x1": -5.0196943283081055,
          "x2": -4.589229106903076
         },
         {
          "label": 0,
          "name": "endah reni pusvitasari",
          "x1": -2.750519037246704,
          "x2": -3.7439513206481934
         },
         {
          "label": 1,
          "name": "erlan agus salim",
          "x1": -1.2966244220733643,
          "x2": -6.95959997177124
         },
         {
          "label": 1,
          "name": "amorsa erlosima prianda",
          "x1": -1.6109089851379395,
          "x2": -5.476466655731201
         },
         {
          "label": 0,
          "name": "nurhayati",
          "x1": -2.142808675765991,
          "x2": -7.964770317077637
         },
         {
          "label": 1,
          "name": "boanerges thendie surya s",
          "x1": -3.594099760055542,
          "x2": -6.9559454917907715
         },
         {
          "label": 1,
          "name": "vicky ruliansatri",
          "x1": -2.9778337478637695,
          "x2": -5.010638236999512
         },
         {
          "label": 1,
          "name": "hadi gunawan",
          "x1": -1.4588276147842407,
          "x2": -2.9162490367889404
         },
         {
          "label": 0,
          "name": "imania mustika purwitaningtyas",
          "x1": -3.5597784519195557,
          "x2": -4.580959796905518
         },
         {
          "label": 0,
          "name": "nida mariam",
          "x1": -1.2535035610198975,
          "x2": -6.157416343688965
         },
         {
          "label": 1,
          "name": "pherto rimos",
          "x1": -4.1220927238464355,
          "x2": -8.093771934509277
         },
         {
          "label": 0,
          "name": "rosianna novita br. simorangkir",
          "x1": -4.314381122589111,
          "x2": -6.132477760314941
         },
         {
          "label": 1,
          "name": "r raditya yudha wiranegara",
          "x1": 0.20467764139175415,
          "x2": -4.032290935516357
         },
         {
          "label": 1,
          "name": "muhammad rizki anggia",
          "x1": 3.935715913772583,
          "x2": -4.902745723724365
         },
         {
          "label": 1,
          "name": "guiliano fernando",
          "x1": -4.148012638092041,
          "x2": -7.302180290222168
         },
         {
          "label": 1,
          "name": "maulana abduh",
          "x1": -0.37050217390060425,
          "x2": -7.690759658813477
         },
         {
          "label": 1,
          "name": "adi nawa irawan putro",
          "x1": -0.9545915722846985,
          "x2": -5.190072059631348
         },
         {
          "label": 1,
          "name": "handy christian",
          "x1": -5.082181930541992,
          "x2": -4.550473690032959
         },
         {
          "label": 1,
          "name": "rega kristian",
          "x1": -4.920726299285889,
          "x2": -4.525186061859131
         },
         {
          "label": 0,
          "name": "jaclyn",
          "x1": -2.831921100616455,
          "x2": -7.771121501922607
         },
         {
          "label": 1,
          "name": "juanda volo sinaga",
          "x1": -0.6670867800712585,
          "x2": -5.357594013214111
         },
         {
          "label": 1,
          "name": "junius simbolon",
          "x1": -3.77900767326355,
          "x2": -7.782272815704346
         },
         {
          "label": 0,
          "name": "lusi novi yanti",
          "x1": -3.961158514022827,
          "x2": -5.590192794799805
         },
         {
          "label": 1,
          "name": "hilman fathurrahman",
          "x1": 0.49992865324020386,
          "x2": -7.146897792816162
         },
         {
          "label": 1,
          "name": "muhammad rudi hariyanto",
          "x1": 3.6347358226776123,
          "x2": -5.042338848114014
         },
         {
          "label": 1,
          "name": "beni gunadi",
          "x1": -1.6423671245574951,
          "x2": -3.0797033309936523
         },
         {
          "label": 1,
          "name": "afiga putra bhakti",
          "x1": -3.294229507446289,
          "x2": -2.390685796737671
         },
         {
          "label": 0,
          "name": "novita budi lestari",
          "x1": -3.049208879470825,
          "x2": -4.390965938568115
         },
         {
          "label": 1,
          "name": "r joko prasetyo utama",
          "x1": 0.22356697916984558,
          "x2": -3.1971068382263184
         },
         {
          "label": 1,
          "name": "stephen herlambang",
          "x1": -3.6693532466888428,
          "x2": -7.0923991203308105
         },
         {
          "label": 0,
          "name": "dwinita kusumawardani",
          "x1": -0.29459038376808167,
          "x2": -7.131932258605957
         },
         {
          "label": 1,
          "name": "farid ardian",
          "x1": -1.5296069383621216,
          "x2": -6.165168762207031
         },
         {
          "label": 1,
          "name": "adrian pramudito",
          "x1": -0.5331502556800842,
          "x2": -4.812036991119385
         },
         {
          "label": 1,
          "name": "m masadhi praguna s",
          "x1": -0.009933356195688248,
          "x2": -6.129798889160156
         },
         {
          "label": 1,
          "name": "mourice c k woran",
          "x1": -4.0764994621276855,
          "x2": -7.998826026916504
         },
         {
          "label": 1,
          "name": "hari chairul suhud",
          "x1": -2.2394840717315674,
          "x2": -7.9748735427856445
         },
         {
          "label": 1,
          "name": "trisna wanto",
          "x1": -5.20589017868042,
          "x2": -6.409317970275879
         },
         {
          "label": 1,
          "name": "m riza irmawan",
          "x1": -1.4590319395065308,
          "x2": -5.686622619628906
         },
         {
          "label": 1,
          "name": "siddhi adhikihal",
          "x1": -0.9212263822555542,
          "x2": -6.970398426055908
         },
         {
          "label": 0,
          "name": "anisa amelia",
          "x1": -2.3679866790771484,
          "x2": -6.070055961608887
         },
         {
          "label": 1,
          "name": "syabaruddin malik",
          "x1": -2.4731361865997314,
          "x2": -8.490360260009766
         },
         {
          "label": 0,
          "name": "nadiroh",
          "x1": -3.235849142074585,
          "x2": -8.047574043273926
         },
         {
          "label": 1,
          "name": "miftahurrohman",
          "x1": 0.44459980726242065,
          "x2": -7.292433738708496
         },
         {
          "label": 0,
          "name": "ilma andayana",
          "x1": -0.6083481907844543,
          "x2": -5.0703229904174805
         },
         {
          "label": 1,
          "name": "daud bonatua tyson pangaribuan",
          "x1": -0.9418826699256897,
          "x2": -4.226193904876709
         },
         {
          "label": 0,
          "name": "razana binti adam lee",
          "x1": -1.0131070613861084,
          "x2": -5.120154857635498
         },
         {
          "label": 0,
          "name": "nadia clairine salim",
          "x1": -2.092860221862793,
          "x2": -5.447982311248779
         },
         {
          "label": 0,
          "name": "prasasta anindita",
          "x1": -2.4378600120544434,
          "x2": -4.050373077392578
         },
         {
          "label": 1,
          "name": "bambang cahyoniarso",
          "x1": -1.42770254611969,
          "x2": -4.514220714569092
         },
         {
          "label": 0,
          "name": "stephanie",
          "x1": -3.6490883827209473,
          "x2": -7.018625259399414
         },
         {
          "label": 0,
          "name": "agneesia kristiyani sumardi",
          "x1": -2.7630090713500977,
          "x2": -5.088953495025635
         },
         {
          "label": 1,
          "name": "riky regandara",
          "x1": -0.7678734064102173,
          "x2": -6.03919792175293
         },
         {
          "label": 0,
          "name": "sri julia",
          "x1": -2.5719807147979736,
          "x2": -7.17587423324585
         },
         {
          "label": 1,
          "name": "herga resa prasetya",
          "x1": 0.25111204385757446,
          "x2": -3.337177038192749
         },
         {
          "label": 1,
          "name": "teddy jayadi",
          "x1": -1.706007957458496,
          "x2": -8.750551223754883
         },
         {
          "label": 1,
          "name": "aqsath rasyid naradhipa",
          "x1": 0.2257341593503952,
          "x2": -5.767070770263672
         },
         {
          "label": 0,
          "name": "tiara puspasari",
          "x1": -2.6270666122436523,
          "x2": -3.7027347087860107
         },
         {
          "label": 1,
          "name": "rendra bayu haristyawan",
          "x1": -0.2548728883266449,
          "x2": -3.9500324726104736
         },
         {
          "label": 1,
          "name": "i gede alfianzen",
          "x1": -3.325284242630005,
          "x2": -6.738170146942139
         },
         {
          "label": 1,
          "name": "harry satriyo hendharto",
          "x1": -4.605743408203125,
          "x2": -8.017777442932129
         },
         {
          "label": 0,
          "name": "dinda ayu deliana",
          "x1": -1.9645477533340454,
          "x2": -5.679656028747559
         },
         {
          "label": 1,
          "name": "johan kartono",
          "x1": -4.650157451629639,
          "x2": -7.514671325683594
         },
         {
          "label": 0,
          "name": "tina kusumaningrum",
          "x1": -1.765597939491272,
          "x2": -8.538873672485352
         },
         {
          "label": 1,
          "name": "saidatul syazzni awal ludin",
          "x1": -2.638124465942383,
          "x2": -4.783368110656738
         },
         {
          "label": 1,
          "name": "alan tunjung arimurti",
          "x1": -2.138437032699585,
          "x2": -3.9463863372802734
         },
         {
          "label": 1,
          "name": "donny prasetyobudi",
          "x1": 0.21535532176494598,
          "x2": -3.184025526046753
         },
         {
          "label": 1,
          "name": "afghan nuraga",
          "x1": 1.1681524515151978,
          "x2": -5.8050127029418945
         },
         {
          "label": 1,
          "name": "adhitya gandaryus saputro",
          "x1": -3.3457868099212646,
          "x2": -2.140596389770508
         },
         {
          "label": 1,
          "name": "khaerul hatta",
          "x1": -0.9694485068321228,
          "x2": -7.8158392906188965
         },
         {
          "label": 0,
          "name": "riescha puri gayatri",
          "x1": -3.392241954803467,
          "x2": -2.9358580112457275
         },
         {
          "label": 1,
          "name": "ali zaenal abidin",
          "x1": -2.4673566818237305,
          "x2": -5.567856311798096
         },
         {
          "label": 1,
          "name": "ronny",
          "x1": -3.862755537033081,
          "x2": -7.815771579742432
         },
         {
          "label": 1,
          "name": "dedi",
          "x1": -3.2372071743011475,
          "x2": -8.05221939086914
         },
         {
          "label": 1,
          "name": "alit wicaksana suwirya",
          "x1": -1.9853284358978271,
          "x2": -5.149875640869141
         },
         {
          "label": 0,
          "name": "prita purwijanarti",
          "x1": -3.2222747802734375,
          "x2": -3.9505488872528076
         },
         {
          "label": 1,
          "name": "suharto",
          "x1": -3.0615923404693604,
          "x2": -8.18331527709961
         },
         {
          "label": 0,
          "name": "ayu paranitha hartono putri",
          "x1": -3.103241443634033,
          "x2": -2.8686275482177734
         },
         {
          "label": 1,
          "name": "andy trirakhmadi",
          "x1": 0.7565262317657471,
          "x2": -6.99833345413208
         },
         {
          "label": 1,
          "name": "teguh maulana",
          "x1": -0.29627129435539246,
          "x2": -7.661080837249756
         },
         {
          "label": 0,
          "name": "rosniar eliana",
          "x1": -2.648261070251465,
          "x2": -5.831526756286621
         },
         {
          "label": 1,
          "name": "irfan hamzah",
          "x1": -0.9078075885772705,
          "x2": -7.274399757385254
         },
         {
          "label": 1,
          "name": "dicky indra putra",
          "x1": -3.53963303565979,
          "x2": -2.465585947036743
         },
         {
          "label": 1,
          "name": "salman muttaqien",
          "x1": -2.882983446121216,
          "x2": -6.895649433135986
         },
         {
          "label": 0,
          "name": "harni harumi pusparani",
          "x1": -2.298666000366211,
          "x2": -4.255486011505127
         },
         {
          "label": 0,
          "name": "maulidiah permata",
          "x1": -0.3755033314228058,
          "x2": -4.4466962814331055
         },
         {
          "label": 1,
          "name": "kevin jonathan",
          "x1": -4.323720455169678,
          "x2": -7.007567882537842
         },
         {
          "label": 1,
          "name": "deddy bastian sinaga",
          "x1": -3.6752214431762695,
          "x2": -5.451541900634766
         },
         {
          "label": 0,
          "name": "dina mariana",
          "x1": -1.561557412147522,
          "x2": -5.068549633026123
         },
         {
          "label": 1,
          "name": "shandy yudha isa",
          "x1": -0.3281567394733429,
          "x2": -6.330245018005371
         },
         {
          "label": 1,
          "name": "afrian rifai",
          "x1": -2.2815873622894287,
          "x2": -5.6323113441467285
         },
         {
          "label": 1,
          "name": "marvin christian nantung",
          "x1": -5.071001052856445,
          "x2": -4.559264659881592
         },
         {
          "label": 1,
          "name": "yuanda y",
          "x1": -2.113191843032837,
          "x2": -8.49481201171875
         },
         {
          "label": 1,
          "name": "dion phandu",
          "x1": -4.3042426109313965,
          "x2": -7.697739124298096
         },
         {
          "label": 1,
          "name": "adrianus yosia",
          "x1": -3.8205771446228027,
          "x2": -6.0351996421813965
         },
         {
          "label": 1,
          "name": "raden nur dias muhammad",
          "x1": 3.486323595046997,
          "x2": -4.9728617668151855
         },
         {
          "label": 1,
          "name": "raden sasangka ardi nugraha",
          "x1": 0.48593753576278687,
          "x2": -5.2254252433776855
         },
         {
          "label": 1,
          "name": "hardiono kusumodewo",
          "x1": -4.107682704925537,
          "x2": -8.510553359985352
         },
         {
          "label": 1,
          "name": "m. indra pratama putra",
          "x1": 0.8519518971443176,
          "x2": -4.380467414855957
         },
         {
          "label": 0,
          "name": "adhiti larasati",
          "x1": -2.233825206756592,
          "x2": -4.173800945281982
         },
         {
          "label": 0,
          "name": "paramita",
          "x1": -2.575655221939087,
          "x2": -3.996730089187622
         },
         {
          "label": 0,
          "name": "nadia hamama",
          "x1": 0.8506202697753906,
          "x2": -5.75188684463501
         },
         {
          "label": 1,
          "name": "herum petrus manalu",
          "x1": -2.8709681034088135,
          "x2": -7.924623966217041
         },
         {
          "label": 1,
          "name": "fajar adityanto",
          "x1": 0.10776718705892563,
          "x2": -4.026958465576172
         },
         {
          "label": 0,
          "name": "cicilia valenciana",
          "x1": -2.586265802383423,
          "x2": -5.76451301574707
         },
         {
          "label": 0,
          "name": "oktaviani",
          "x1": -3.478194236755371,
          "x2": -5.596002101898193
         },
         {
          "label": 0,
          "name": "sandra hani prasetyo",
          "x1": 0.20525924861431122,
          "x2": -3.5750892162323
         },
         {
          "label": 1,
          "name": "prima ahmad wihardi",
          "x1": 0.7116051316261292,
          "x2": -7.239398002624512
         },
         {
          "label": 0,
          "name": "kharisma putri aurum",
          "x1": -3.4803922176361084,
          "x2": -2.7843432426452637
         },
         {
          "label": 0,
          "name": "elfina debora",
          "x1": -3.101182460784912,
          "x2": -6.859295845031738
         },
         {
          "label": 1,
          "name": "ardika maulana",
          "x1": -0.3102898895740509,
          "x2": -7.578335762023926
         },
         {
          "label": 0,
          "name": "suci hendrina",
          "x1": -3.2909677028656006,
          "x2": -8.615965843200684
         },
         {
          "label": 1,
          "name": "sripardi jamelina",
          "x1": -2.424626111984253,
          "x2": -6.043703079223633
         },
         {
          "label": 0,
          "name": "nurmala rusydi",
          "x1": -2.4042606353759766,
          "x2": -8.218717575073242
         },
         {
          "label": 1,
          "name": "danny eldo",
          "x1": -3.5999186038970947,
          "x2": -7.386122703552246
         },
         {
          "label": 1,
          "name": "febryansyah",
          "x1": 1.0718783140182495,
          "x2": -8.509544372558594
         },
         {
          "label": 0,
          "name": "sandra jati purwantari",
          "x1": -2.2021291255950928,
          "x2": -4.078767776489258
         },
         {
          "label": 1,
          "name": "dida sadariksa",
          "x1": -1.9919726848602295,
          "x2": -5.863158702850342
         },
         {
          "label": 1,
          "name": "akhmad nursyamsy fahrurryza",
          "x1": 0.7624120712280273,
          "x2": -7.6422271728515625
         },
         {
          "label": 1,
          "name": "andri fauzi",
          "x1": -1.8289984464645386,
          "x2": -7.213219165802002
         },
         {
          "label": 1,
          "name": "riza saputra",
          "x1": -3.4677188396453857,
          "x2": -2.2356984615325928
         },
         {
          "label": 1,
          "name": "lutfi mulyadi",
          "x1": -2.065492630004883,
          "x2": -8.284442901611328
         },
         {
          "label": 1,
          "name": "buddy hermawan saputra",
          "x1": -3.360231637954712,
          "x2": -2.0473577976226807
         },
         {
          "label": 0,
          "name": "riska arliana",
          "x1": -1.9070149660110474,
          "x2": -5.243274688720703
         },
         {
          "label": 0,
          "name": "sabrina valentina",
          "x1": -2.533754825592041,
          "x2": -5.46418571472168
         },
         {
          "label": 0,
          "name": "intan nur hilmi",
          "x1": -3.455050230026245,
          "x2": -5.825469970703125
         },
         {
          "label": 1,
          "name": "rizki habibie",
          "x1": -1.747299313545227,
          "x2": -7.045547962188721
         },
         {
          "label": 1,
          "name": "kalman emry wijaya",
          "x1": -1.306145429611206,
          "x2": -9.352825164794922
         },
         {
          "label": 1,
          "name": "akhmad zakky saefuddin",
          "x1": 0.7974287271499634,
          "x2": -7.326356887817383
         },
         {
          "label": 0,
          "name": "nova suliska",
          "x1": -3.090620279312134,
          "x2": -7.662322044372559
         },
         {
          "label": 1,
          "name": "ngurah aryadhita pranata",
          "x1": 0.1321447640657425,
          "x2": -4.508100986480713
         },
         {
          "label": 1,
          "name": "aditya pradana",
          "x1": 0.23816539347171783,
          "x2": -4.298175811767578
         },
         {
          "label": 1,
          "name": "rinaldi sudarwoto",
          "x1": -2.6692771911621094,
          "x2": -6.283932685852051
         },
         {
          "label": 1,
          "name": "fakhri afiff",
          "x1": -1.4884432554244995,
          "x2": -7.548492908477783
         },
         {
          "label": 0,
          "name": "yunia syaffitri",
          "x1": -3.4631597995758057,
          "x2": -4.158989429473877
         },
         {
          "label": 1,
          "name": "nasri",
          "x1": -2.9286649227142334,
          "x2": -7.301796913146973
         },
         {
          "label": 0,
          "name": "dwi ratnasari",
          "x1": -2.4730911254882812,
          "x2": -4.36922550201416
         },
         {
          "label": 1,
          "name": "taufiq muhammadi",
          "x1": 3.493619680404663,
          "x2": -4.916653633117676
         },
         {
          "label": 1,
          "name": "ryard rakhmat mukhdiar",
          "x1": 0.682261049747467,
          "x2": -7.269880294799805
         },
         {
          "label": 0,
          "name": "rizkiana novitasari",
          "x1": -2.8554625511169434,
          "x2": -4.722082614898682
         },
         {
          "label": 0,
          "name": "dina noviana puji hastuti",
          "x1": -3.4337918758392334,
          "x2": -5.384676456451416
         },
         {
          "label": 1,
          "name": "rian aditiana",
          "x1": -1.8521841764450073,
          "x2": -4.9701948165893555
         },
         {
          "label": 0,
          "name": "megawati zunita",
          "x1": -3.950040340423584,
          "x2": -4.691075801849365
         },
         {
          "label": 0,
          "name": "siska fipiyana kurnia sari",
          "x1": -2.2271969318389893,
          "x2": -4.869195461273193
         },
         {
          "label": 1,
          "name": "muhammad asad",
          "x1": 3.4432599544525146,
          "x2": -5.06269645690918
         },
         {
          "label": 1,
          "name": "mohammad dimas",
          "x1": 3.008657455444336,
          "x2": -5.080153465270996
         },
         {
          "label": 1,
          "name": "anto halleyano",
          "x1": -4.0187177658081055,
          "x2": -6.967548370361328
         },
         {
          "label": 0,
          "name": "nitia rahmi",
          "x1": -3.088001012802124,
          "x2": -4.9359354972839355
         },
         {
          "label": 1,
          "name": "harry firmansyah",
          "x1": 1.2939562797546387,
          "x2": -8.362632751464844
         },
         {
          "label": 1,
          "name": "ferry gunawan",
          "x1": -1.3634921312332153,
          "x2": -2.9428012371063232
         },
         {
          "label": 0,
          "name": "florensia eterno",
          "x1": -3.750426769256592,
          "x2": -7.462899684906006
         },
         {
          "label": 1,
          "name": "yudha pratomo",
          "x1": -4.155862808227539,
          "x2": -8.653704643249512
         },
         {
          "label": 0,
          "name": "nika yunitri",
          "x1": -3.7735016345977783,
          "x2": -4.617428779602051
         },
         {
          "label": 0,
          "name": "puji astari",
          "x1": -2.908320188522339,
          "x2": -4.29703426361084
         },
         {
          "label": 1,
          "name": "yuris mulya saputra",
          "x1": -3.58003830909729,
          "x2": -2.185570478439331
         },
         {
          "label": 1,
          "name": "ganesha tri chandrasa",
          "x1": -0.272779643535614,
          "x2": -5.396783828735352
         },
         {
          "label": 1,
          "name": "alfonsus hartanto sakti wibowo",
          "x1": -5.164210796356201,
          "x2": -7.114778518676758
         },
         {
          "label": 1,
          "name": "fajar teguh pratomo",
          "x1": -4.011740684509277,
          "x2": -8.660962104797363
         },
         {
          "label": 1,
          "name": "bonang firmansyah",
          "x1": 1.3607311248779297,
          "x2": -8.410294532775879
         },
         {
          "label": 0,
          "name": "sabrina diandra",
          "x1": -1.2220689058303833,
          "x2": -5.272441864013672
         },
         {
          "label": 0,
          "name": "rosalina prasetio",
          "x1": -0.022611435502767563,
          "x2": -3.1590750217437744
         },
         {
          "label": 1,
          "name": "prasetyo andy wicaksono",
          "x1": -4.840852737426758,
          "x2": -8.72823715209961
         },
         {
          "label": 1,
          "name": "rayhan fajusha",
          "x1": -0.7068848013877869,
          "x2": -7.0009870529174805
         },
         {
          "label": 0,
          "name": "risky triadini",
          "x1": -3.2034199237823486,
          "x2": -4.739863872528076
         },
         {
          "label": 0,
          "name": "wildha andari",
          "x1": -0.8602227568626404,
          "x2": -6.04915714263916
         },
         {
          "label": 1,
          "name": "benhard adolf ramot saragi",
          "x1": 0.06805533170700073,
          "x2": -5.971217632293701
         },
         {
          "label": 1,
          "name": "usama juniansyah fauzi",
          "x1": 1.128472089767456,
          "x2": -8.529718399047852
         },
         {
          "label": 0,
          "name": "rini amelia",
          "x1": -2.502779483795166,
          "x2": -6.204902648925781
         },
         {
          "label": 1,
          "name": "joni wintarja",
          "x1": -3.270092248916626,
          "x2": -6.248457908630371
         },
         {
          "label": 1,
          "name": "gumilar rahmat hidayat",
          "x1": -0.13374640047550201,
          "x2": -8.31573486328125
         },
         {
          "label": 0,
          "name": "lolita marheni",
          "x1": -1.9263989925384521,
          "x2": -6.708764553070068
         },
         {
          "label": 1,
          "name": "cornelius damar hanung darpito",
          "x1": -0.8161752223968506,
          "x2": -5.792780876159668
         },
         {
          "label": 1,
          "name": "putrasandy dana riawan",
          "x1": -0.1865912675857544,
          "x2": -4.842888355255127
         },
         {
          "label": 1,
          "name": "adrianus pradipta triestanto wibowo",
          "x1": -3.8783364295959473,
          "x2": -3.478454828262329
         },
         {
          "label": 0,
          "name": "gina iswary",
          "x1": -2.8032655715942383,
          "x2": -7.122991561889648
         },
         {
          "label": 1,
          "name": "dimas aryo budi sandyatmojo",
          "x1": -3.6912715435028076,
          "x2": -8.364241600036621
         },
         {
          "label": 1,
          "name": "dodi afriadi",
          "x1": -2.429236888885498,
          "x2": -6.864349842071533
         },
         {
          "label": 0,
          "name": "eka pratiwi",
          "x1": -3.9327526092529297,
          "x2": -3.9745771884918213
         },
         {
          "label": 1,
          "name": "m. hadi mahmudi",
          "x1": 0.013395752757787704,
          "x2": -7.380743026733398
         },
         {
          "label": 1,
          "name": "daniel agung t s",
          "x1": -1.7139158248901367,
          "x2": -3.174161434173584
         },
         {
          "label": 1,
          "name": "garibaldy wibowo mukti",
          "x1": -5.6509575843811035,
          "x2": -8.826573371887207
         },
         {
          "label": 0,
          "name": "maderil ventria",
          "x1": -2.9849963188171387,
          "x2": -6.142265319824219
         },
         {
          "label": 0,
          "name": "dwi fajar saputri",
          "x1": -3.4601004123687744,
          "x2": -2.3845252990722656
         },
         {
          "label": 0,
          "name": "ivi intan hanifah",
          "x1": -1.8873348236083984,
          "x2": -5.774519443511963
         },
         {
          "label": 0,
          "name": "nurul hafsah asriningtyas",
          "x1": -2.6637423038482666,
          "x2": -5.417652130126953
         },
         {
          "label": 1,
          "name": "faisal abdul hakim",
          "x1": -0.7409968972206116,
          "x2": -7.550769329071045
         },
         {
          "label": 0,
          "name": "ria sri rahayu",
          "x1": -1.35374116897583,
          "x2": -6.339020252227783
         },
         {
          "label": 1,
          "name": "akhmad arfiyan",
          "x1": 0.8132423758506775,
          "x2": -7.215630054473877
         },
         {
          "label": 0,
          "name": "wiwin winiarti",
          "x1": -4.069334030151367,
          "x2": -4.9352192878723145
         },
         {
          "label": 1,
          "name": "leonard theodore s",
          "x1": -3.6204724311828613,
          "x2": -7.940018653869629
         },
         {
          "label": 1,
          "name": "ignatius prasetya dwi wibawa",
          "x1": 0.06984226405620575,
          "x2": -3.8712716102600098
         },
         {
          "label": 1,
          "name": "aussa valen sibuea",
          "x1": -3.1901185512542725,
          "x2": -6.843173027038574
         },
         {
          "label": 0,
          "name": "desy lewimori simbolon",
          "x1": -3.863558292388916,
          "x2": -7.825376987457275
         },
         {
          "label": 1,
          "name": "daniel",
          "x1": -3.0503079891204834,
          "x2": -6.370450019836426
         },
         {
          "label": 0,
          "name": "rima idhia sejati",
          "x1": -1.8793679475784302,
          "x2": -5.797279357910156
         },
         {
          "label": 1,
          "name": "tommy pratama sasmita atmaja",
          "x1": 0.9806544184684753,
          "x2": -4.723538398742676
         },
         {
          "label": 0,
          "name": "finela amelisa",
          "x1": -2.416109561920166,
          "x2": -6.298373699188232
         },
         {
          "label": 1,
          "name": "ronny setiawan",
          "x1": -0.6990547180175781,
          "x2": -2.8052425384521484
         },
         {
          "label": 1,
          "name": "sukresno dwicahyo sariaji",
          "x1": -2.4200167655944824,
          "x2": -5.537537097930908
         },
         {
          "label": 0,
          "name": "pratiwi woro riesandhini",
          "x1": -3.9559741020202637,
          "x2": -3.9871973991394043
         },
         {
          "label": 1,
          "name": "farhan febrianto",
          "x1": -4.86033296585083,
          "x2": -6.281952857971191
         },
         {
          "label": 0,
          "name": "dwiastuti cahyaningrum",
          "x1": -3.601266622543335,
          "x2": -4.719785213470459
         },
         {
          "label": 0,
          "name": "dzulianur mutsla",
          "x1": -2.450061321258545,
          "x2": -7.412273406982422
         },
         {
          "label": 1,
          "name": "tommy",
          "x1": -3.634653091430664,
          "x2": -8.424385070800781
         },
         {
          "label": 1,
          "name": "rifki rizki arief",
          "x1": -1.7826193571090698,
          "x2": -6.786636829376221
         },
         {
          "label": 1,
          "name": "r akbar wibawa kusumah",
          "x1": -1.0463529825210571,
          "x2": -8.18988037109375
         },
         {
          "label": 1,
          "name": "vino soaduon hamonangan",
          "x1": -4.245004653930664,
          "x2": -6.413538932800293
         },
         {
          "label": 0,
          "name": "yedika sari",
          "x1": -1.9204387664794922,
          "x2": -6.2086920738220215
         },
         {
          "label": 0,
          "name": "magdalena marlin amanda",
          "x1": -0.018076738342642784,
          "x2": -5.251518249511719
         },
         {
          "label": 1,
          "name": "yvan christian",
          "x1": -5.069395065307617,
          "x2": -4.542507648468018
         },
         {
          "label": 1,
          "name": "muhammad ridho fithri wikarta",
          "x1": 3.800565242767334,
          "x2": -5.004700183868408
         },
         {
          "label": 0,
          "name": "nia yuniarti",
          "x1": -3.8155460357666016,
          "x2": -4.526824951171875
         },
         {
          "label": 1,
          "name": "andreas agustinus",
          "x1": -5.425122261047363,
          "x2": -5.439282417297363
         },
         {
          "label": 1,
          "name": "sylvan ramadanel abdinni",
          "x1": -1.1105815172195435,
          "x2": -5.217532634735107
         },
         {
          "label": 1,
          "name": "ade syarifuddin",
          "x1": -2.454448699951172,
          "x2": -8.451380729675293
         },
         {
          "label": 1,
          "name": "riki tasrianto",
          "x1": -4.42299747467041,
          "x2": -5.331381320953369
         },
         {
          "label": 1,
          "name": "munajat mubaraq",
          "x1": -1.3648695945739746,
          "x2": -7.114019393920898
         },
         {
          "label": 1,
          "name": "risky nugraha",
          "x1": 1.3868834972381592,
          "x2": -5.892360687255859
         },
         {
          "label": 0,
          "name": "devy freshia",
          "x1": -3.1900694370269775,
          "x2": -7.71624231338501
         },
         {
          "label": 1,
          "name": "suryadi",
          "x1": -2.100010395050049,
          "x2": -8.694725036621094
         },
         {
          "label": 1,
          "name": "asido simarangkir",
          "x1": -2.9494616985321045,
          "x2": -6.795713901519775
         },
         {
          "label": 1,
          "name": "harry setyawan",
          "x1": -0.4563954472541809,
          "x2": -3.3357646465301514
         },
         {
          "label": 1,
          "name": "raden aditya satrya wibawa u",
          "x1": 0.058240197598934174,
          "x2": -3.9531209468841553
         },
         {
          "label": 1,
          "name": "soni maula harriz",
          "x1": -1.4533462524414062,
          "x2": -6.857161521911621
         },
         {
          "label": 1,
          "name": "ivan efriza",
          "x1": -1.81056547164917,
          "x2": -6.7186150550842285
         },
         {
          "label": 0,
          "name": "ika sukmawati",
          "x1": -4.144486904144287,
          "x2": -4.413465976715088
         },
         {
          "label": 0,
          "name": "afrilla anggriani",
          "x1": -1.8275045156478882,
          "x2": -4.209892272949219
         },
         {
          "label": 1,
          "name": "satrio adi rukmono",
          "x1": -4.646790027618408,
          "x2": -8.326066017150879
         },
         {
          "label": 1,
          "name": "afief helmi baasir",
          "x1": -1.8649243116378784,
          "x2": -7.46391487121582
         },
         {
          "label": 0,
          "name": "pebyani",
          "x1": -3.4497857093811035,
          "x2": -6.659391403198242
         },
         {
          "label": 1,
          "name": "hans gunawan rimbualam",
          "x1": -1.3658961057662964,
          "x2": -3.0086607933044434
         },
         {
          "label": 0,
          "name": "auni damia aqilah abdul raof",
          "x1": -0.7528730630874634,
          "x2": -7.652339935302734
         },
         {
          "label": 1,
          "name": "muhammad tiza multazam nasution",
          "x1": 3.567584753036499,
          "x2": -5.164172649383545
         },
         {
          "label": 0,
          "name": "jenny rizkiana",
          "x1": -2.299535036087036,
          "x2": -6.446409702301025
         },
         {
          "label": 0,
          "name": "nooryza martihandini",
          "x1": -4.5175461769104,
          "x2": -7.236690044403076
         },
         {
          "label": 0,
          "name": "dian syam nurlia",
          "x1": 1.0536340475082397,
          "x2": -8.86878490447998
         },
         {
          "label": 1,
          "name": "langlang budiaji",
          "x1": -1.1798927783966064,
          "x2": -3.9888343811035156
         },
         {
          "label": 1,
          "name": "zulkifli",
          "x1": -2.0656676292419434,
          "x2": -8.058284759521484
         },
         {
          "label": 1,
          "name": "iwan ihwanushofa",
          "x1": -1.814836859703064,
          "x2": -6.652268409729004
         },
         {
          "label": 1,
          "name": "sriyatno",
          "x1": -3.9988536834716797,
          "x2": -7.871026515960693
         },
         {
          "label": 1,
          "name": "muchamad rizal anshori",
          "x1": 2.964205026626587,
          "x2": -5.320283889770508
         },
         {
          "label": 1,
          "name": "ricky wicaksono",
          "x1": -4.850914478302002,
          "x2": -8.732650756835938
         },
         {
          "label": 1,
          "name": "wiliam",
          "x1": -2.2904984951019287,
          "x2": -6.9006547927856445
         },
         {
          "label": 0,
          "name": "farah anisa setyawati",
          "x1": -0.812719464302063,
          "x2": -3.114675283432007
         },
         {
          "label": 1,
          "name": "bayu sentany",
          "x1": -2.340104579925537,
          "x2": -8.509201049804688
         },
         {
          "label": 1,
          "name": "chandra permana",
          "x1": -0.21867269277572632,
          "x2": -4.987165451049805
         },
         {
          "label": 1,
          "name": "ridho muhtasor pandita",
          "x1": -2.5705883502960205,
          "x2": -4.469066619873047
         },
         {
          "label": 1,
          "name": "octaviandy giri putra",
          "x1": -3.6662402153015137,
          "x2": -2.9218482971191406
         },
         {
          "label": 0,
          "name": "larsa pranenza rahila faby",
          "x1": 0.282103031873703,
          "x2": -6.360544204711914
         },
         {
          "label": 0,
          "name": "irianti adi putri",
          "x1": -3.773512363433838,
          "x2": -3.4187111854553223
         },
         {
          "label": 0,
          "name": "naomi gustaria arum",
          "x1": -1.8209421634674072,
          "x2": -5.322333335876465
         },
         {
          "label": 1,
          "name": "adrito pranandria",
          "x1": -1.4993116855621338,
          "x2": -5.040368556976318
         },
         {
          "label": 0,
          "name": "dikeu antika",
          "x1": -2.1084654331207275,
          "x2": -7.52799654006958
         },
         {
          "label": 0,
          "name": "hana nur fitriana",
          "x1": -2.1865313053131104,
          "x2": -4.838048458099365
         },
         {
          "label": 1,
          "name": "zakka fauzan muhammad",
          "x1": 3.6688356399536133,
          "x2": -5.364250659942627
         },
         {
          "label": 1,
          "name": "adi krishna",
          "x1": -1.9326958656311035,
          "x2": -6.666734218597412
         },
         {
          "label": 0,
          "name": "ella angreni sihombing",
          "x1": -3.2938854694366455,
          "x2": -6.031080722808838
         },
         {
          "label": 0,
          "name": "baitha santika",
          "x1": -3.7988181114196777,
          "x2": -5.969120502471924
         },
         {
          "label": 0,
          "name": "kartika akbaria",
          "x1": -1.1609928607940674,
          "x2": -7.381314277648926
         },
         {
          "label": 1,
          "name": "dragondi",
          "x1": -3.54781174659729,
          "x2": -8.042555809020996
         },
         {
          "label": 1,
          "name": "bilal adi akbar",
          "x1": -0.9290765523910522,
          "x2": -7.265316963195801
         },
         {
          "label": 1,
          "name": "fendy",
          "x1": -3.3079614639282227,
          "x2": -8.446959495544434
         },
         {
          "label": 1,
          "name": "agus sutopo",
          "x1": -4.331766128540039,
          "x2": -8.580941200256348
         },
         {
          "label": 1,
          "name": "ilmam mukhlis sanggomaro",
          "x1": -1.4213838577270508,
          "x2": -6.398317813873291
         },
         {
          "label": 1,
          "name": "mario aditya",
          "x1": 0.17598240077495575,
          "x2": -4.010093688964844
         },
         {
          "label": 0,
          "name": "iradani katalia",
          "x1": -1.8464971780776978,
          "x2": -4.935901641845703
         },
         {
          "label": 1,
          "name": "st aditya fari muharwan",
          "x1": 0.03610406070947647,
          "x2": -4.1207275390625
         },
         {
          "label": 1,
          "name": "benadri m benyamin",
          "x1": -3.2045881748199463,
          "x2": -6.785322189331055
         },
         {
          "label": 0,
          "name": "lovinta happy atrinawati",
          "x1": -2.9610965251922607,
          "x2": -4.387281894683838
         },
         {
          "label": 0,
          "name": "feby aprilianty",
          "x1": -3.5713069438934326,
          "x2": -6.329065322875977
         },
         {
          "label": 1,
          "name": "ivan kurniawan",
          "x1": -1.1693891286849976,
          "x2": -1.5572432279586792
         },
         {
          "label": 1,
          "name": "indra pratama tejaseputra",
          "x1": 0.8708624839782715,
          "x2": -4.431787014007568
         },
         {
          "label": 1,
          "name": "diky irpanaputra",
          "x1": -3.308062791824341,
          "x2": -2.4534502029418945
         },
         {
          "label": 1,
          "name": "ridwan aldilah",
          "x1": -1.3779796361923218,
          "x2": -6.5083909034729
         },
         {
          "label": 0,
          "name": "khairul syazwani binti mohd arpan",
          "x1": -2.7565810680389404,
          "x2": -5.6487932205200195
         },
         {
          "label": 0,
          "name": "navessa padma tania",
          "x1": -0.6890913844108582,
          "x2": -4.876084804534912
         },
         {
          "label": 1,
          "name": "khalifa aldila putra",
          "x1": -3.4498674869537354,
          "x2": -2.296464204788208
         },
         {
          "label": 0,
          "name": "lidiawati",
          "x1": -4.1750168800354,
          "x2": -4.615035533905029
         },
         {
          "label": 0,
          "name": "luthfia fajrina",
          "x1": -2.6727981567382812,
          "x2": -5.919158458709717
         },
         {
          "label": 1,
          "name": "sugiono",
          "x1": -4.1808366775512695,
          "x2": -8.307746887207031
         },
         {
          "label": 1,
          "name": "febi mardianto",
          "x1": -4.932280540466309,
          "x2": -6.300583839416504
         },
         {
          "label": 0,
          "name": "diny fadlilia",
          "x1": -2.3485090732574463,
          "x2": -6.824011325836182
         },
         {
          "label": 0,
          "name": "kosasih lorencia",
          "x1": -3.4886553287506104,
          "x2": -7.404937744140625
         },
         {
          "label": 0,
          "name": "indri widyastuti legowo",
          "x1": -4.312828063964844,
          "x2": -4.885789394378662
         },
         {
          "label": 0,
          "name": "riska widyasari",
          "x1": -2.381469488143921,
          "x2": -4.38660192489624
         },
         {
          "label": 1,
          "name": "mario aldisaputra taufik",
          "x1": -3.401984214782715,
          "x2": -2.3537228107452393
         },
         {
          "label": 1,
          "name": "andika kurniawan susilo",
          "x1": -1.1463264226913452,
          "x2": -1.517899513244629
         },
         {
          "label": 0,
          "name": "riska milza khalida",
          "x1": -1.9308966398239136,
          "x2": -6.675807476043701
         },
         {
          "label": 0,
          "name": "linda sari",
          "x1": -2.2691619396209717,
          "x2": -5.728088855743408
         },
         {
          "label": 1,
          "name": "denny nugrahadi",
          "x1": 1.408524513244629,
          "x2": -5.977701663970947
         },
         {
          "label": 1,
          "name": "fandi yogiswara",
          "x1": -1.8904962539672852,
          "x2": -7.309070110321045
         },
         {
          "label": 1,
          "name": "muhammad rifki",
          "x1": 3.7995808124542236,
          "x2": -4.945803642272949
         },
         {
          "label": 1,
          "name": "boy hendra nainggolan",
          "x1": -1.3925741910934448,
          "x2": -4.097158908843994
         },
         {
          "label": 1,
          "name": "chandra sutikno oemarjadi",
          "x1": -0.480835884809494,
          "x2": -5.656737804412842
         },
         {
          "label": 1,
          "name": "dhani dwi putera",
          "x1": -3.504713535308838,
          "x2": -2.798799991607666
         },
         {
          "label": 1,
          "name": "josef novan adrian lumbantobing",
          "x1": -4.362113952636719,
          "x2": -6.3039069175720215
         },
         {
          "label": 1,
          "name": "firman",
          "x1": -2.375258445739746,
          "x2": -7.224450588226318
         },
         {
          "label": 1,
          "name": "josua morgen simatupang",
          "x1": -4.1058220863342285,
          "x2": -6.611414432525635
         },
         {
          "label": 0,
          "name": "erfina",
          "x1": -3.1042377948760986,
          "x2": -7.19254732131958
         },
         {
          "label": 0,
          "name": "febriya antensari",
          "x1": -4.601064205169678,
          "x2": -6.227193355560303
         },
         {
          "label": 1,
          "name": "najib baedlowi",
          "x1": -5.508772373199463,
          "x2": -8.733511924743652
         },
         {
          "label": 1,
          "name": "samuel romora damanik",
          "x1": -0.7574509382247925,
          "x2": -5.9484028816223145
         },
         {
          "label": 1,
          "name": "hutomo haryo wibhowo",
          "x1": -5.56290864944458,
          "x2": -8.712569236755371
         },
         {
          "label": 1,
          "name": "eka yusrianto toisutta",
          "x1": -4.776180744171143,
          "x2": -5.588594913482666
         },
         {
          "label": 0,
          "name": "ima andari utami",
          "x1": -1.400242805480957,
          "x2": -5.369368076324463
         },
         {
          "label": 1,
          "name": "william cendra",
          "x1": -2.0852439403533936,
          "x2": -6.638326644897461
         },
         {
          "label": 1,
          "name": "fariz cesa",
          "x1": -1.8837350606918335,
          "x2": -7.094363212585449
         },
         {
          "label": 1,
          "name": "atep salman farisyi",
          "x1": -1.4687508344650269,
          "x2": -6.348360061645508
         },
         {
          "label": 1,
          "name": "eric",
          "x1": -3.246534585952759,
          "x2": -7.705782890319824
         },
         {
          "label": 1,
          "name": "aditia zulfikar",
          "x1": -1.7215616703033447,
          "x2": -7.56801700592041
         },
         {
          "label": 0,
          "name": "dwita rismayasari",
          "x1": -2.3852527141571045,
          "x2": -4.150177955627441
         },
         {
          "label": 1,
          "name": "harry budiman",
          "x1": -2.0238869190216064,
          "x2": -7.598390102386475
         },
         {
          "label": 1,
          "name": "paolo bundong sihite",
          "x1": -4.210290908813477,
          "x2": -7.758340835571289
         },
         {
          "label": 1,
          "name": "gama prayoga",
          "x1": 0.6694650650024414,
          "x2": -4.705423355102539
         },
         {
          "label": 0,
          "name": "riri puspita sari",
          "x1": -2.830099582672119,
          "x2": -3.616568088531494
         },
         {
          "label": 1,
          "name": "david susanto",
          "x1": -5.459264278411865,
          "x2": -6.589728355407715
         },
         {
          "label": 1,
          "name": "nugraha yohannes arifpin",
          "x1": 1.3661247491836548,
          "x2": -5.918311595916748
         },
         {
          "label": 1,
          "name": "baskara nugraha prabawa",
          "x1": 0.8907472491264343,
          "x2": -5.566373348236084
         },
         {
          "label": 1,
          "name": "raditya danu w",
          "x1": 0.12200208753347397,
          "x2": -4.082742691040039
         },
         {
          "label": 0,
          "name": "marsiana anggieta",
          "x1": -1.0642051696777344,
          "x2": -3.98966646194458
         },
         {
          "label": 0,
          "name": "yussi asri widyastari",
          "x1": -2.6434342861175537,
          "x2": -4.292418003082275
         },
         {
          "label": 1,
          "name": "jimmy fernando basagok pangaribuan",
          "x1": -1.120682954788208,
          "x2": -4.434004306793213
         },
         {
          "label": 0,
          "name": "hastari kusumawardhani",
          "x1": -0.2209283411502838,
          "x2": -7.027548789978027
         },
         {
          "label": 1,
          "name": "ivan darmawan syahbana",
          "x1": -0.07619818300008774,
          "x2": -5.038397789001465
         },
         {
          "label": 1,
          "name": "iqbal takodama",
          "x1": -0.6198955774307251,
          "x2": -6.756146430969238
         },
         {
          "label": 0,
          "name": "ernita",
          "x1": -3.321986436843872,
          "x2": -6.248484134674072
         },
         {
          "label": 0,
          "name": "thazin aungsoe",
          "x1": -3.591171979904175,
          "x2": -6.800169944763184
         },
         {
          "label": 0,
          "name": "austin dini gusli",
          "x1": -5.2574944496154785,
          "x2": -5.324575424194336
         },
         {
          "label": 1,
          "name": "christopher k",
          "x1": -5.209089279174805,
          "x2": -4.853917598724365
         },
         {
          "label": 1,
          "name": "husnul abady",
          "x1": -2.1351964473724365,
          "x2": -8.321925163269043
         },
         {
          "label": 1,
          "name": "jati raharja",
          "x1": -1.211870789527893,
          "x2": -6.992140293121338
         },
         {
          "label": 1,
          "name": "vicky achmad ginanjar",
          "x1": 0.876450777053833,
          "x2": -7.2189788818359375
         },
         {
          "label": 1,
          "name": "arief rahman dasril",
          "x1": 0.46031466126441956,
          "x2": -6.885855197906494
         },
         {
          "label": 0,
          "name": "anita nur fitriana",
          "x1": -2.5440797805786133,
          "x2": -4.672573566436768
         },
         {
          "label": 1,
          "name": "randy ryantama",
          "x1": -0.12973599135875702,
          "x2": -5.263537406921387
         },
         {
          "label": 1,
          "name": "ahmad setiawan",
          "x1": -0.6206668615341187,
          "x2": -2.918304443359375
         },
         {
          "label": 1,
          "name": "aldi syahputra",
          "x1": -3.5158936977386475,
          "x2": -2.2559165954589844
         },
         {
          "label": 0,
          "name": "dyah ayu lestari",
          "x1": -1.3989237546920776,
          "x2": -8.194609642028809
         },
         {
          "label": 1,
          "name": "riky ciayadi",
          "x1": -4.106087684631348,
          "x2": -6.9537129402160645
         },
         {
          "label": 0,
          "name": "nurul fadnany putri",
          "x1": -2.228414535522461,
          "x2": -8.17726993560791
         },
         {
          "label": 1,
          "name": "saepudin",
          "x1": -2.839005708694458,
          "x2": -8.529457092285156
         },
         {
          "label": 1,
          "name": "hengki putra sahana",
          "x1": -3.1945765018463135,
          "x2": -2.3682258129119873
         },
         {
          "label": 0,
          "name": "aqmarina andira",
          "x1": -1.273275375366211,
          "x2": -5.260920524597168
         },
         {
          "label": 0,
          "name": "alinda dwitawidi",
          "x1": -3.8978633880615234,
          "x2": -4.900128364562988
         },
         {
          "label": 1,
          "name": "endro limart hutauruk",
          "x1": -3.001239061355591,
          "x2": -8.38783073425293
         },
         {
          "label": 1,
          "name": "muhammad ilyas kusumalaga",
          "x1": 3.568061590194702,
          "x2": -5.341403007507324
         },
         {
          "label": 0,
          "name": "irsalina salsabila suprapto",
          "x1": -2.0563058853149414,
          "x2": -4.908007621765137
         },
         {
          "label": 0,
          "name": "ni made dwi ryaumariastini",
          "x1": -2.784452199935913,
          "x2": -5.3633198738098145
         },
         {
          "label": 0,
          "name": "megawati aviantari",
          "x1": -3.4387288093566895,
          "x2": -4.7703938484191895
         },
         {
          "label": 1,
          "name": "fransiscus paulus purba",
          "x1": -4.2850661277771,
          "x2": -6.760005474090576
         },
         {
          "label": 1,
          "name": "ilhami nur",
          "x1": -2.2627058029174805,
          "x2": -7.1466383934021
         },
         {
          "label": 0,
          "name": "devi natalia silitonga",
          "x1": -2.439138412475586,
          "x2": -5.877353668212891
         },
         {
          "label": 1,
          "name": "emeraldo arias huvat",
          "x1": -2.1295526027679443,
          "x2": -6.144852638244629
         },
         {
          "label": 1,
          "name": "rendy saputra",
          "x1": -3.4839954376220703,
          "x2": -2.1386427879333496
         },
         {
          "label": 0,
          "name": "erlina",
          "x1": -3.188866376876831,
          "x2": -7.022607803344727
         },
         {
          "label": 0,
          "name": "andri dewi kurniawati",
          "x1": -1.2864806652069092,
          "x2": -1.6781383752822876
         },
         {
          "label": 0,
          "name": "dina sri dora br damanik",
          "x1": -1.2936187982559204,
          "x2": -5.3236403465271
         },
         {
          "label": 0,
          "name": "siti suci printiasti",
          "x1": -3.9060018062591553,
          "x2": -4.698008060455322
         },
         {
          "label": 1,
          "name": "dimas satriawulan",
          "x1": -2.5333147048950195,
          "x2": -4.668602466583252
         },
         {
          "label": 0,
          "name": "risa triandari",
          "x1": -2.6128499507904053,
          "x2": -5.045727252960205
         },
         {
          "label": 1,
          "name": "andhika ekananda",
          "x1": -0.5084553360939026,
          "x2": -5.637690544128418
         },
         {
          "label": 0,
          "name": "tara indira",
          "x1": -1.224244475364685,
          "x2": -5.482775688171387
         },
         {
          "label": 1,
          "name": "muchtar benny jremia silalahi",
          "x1": -1.923206090927124,
          "x2": -5.927810192108154
         },
         {
          "label": 1,
          "name": "taufik adi nugraha",
          "x1": 1.4082024097442627,
          "x2": -5.883499622344971
         },
         {
          "label": 1,
          "name": "tulus sendiko",
          "x1": -3.0239295959472656,
          "x2": -8.532931327819824
         },
         {
          "label": 1,
          "name": "dwi beni iswadi",
          "x1": -4.0742506980896,
          "x2": -5.048095226287842
         },
         {
          "label": 0,
          "name": "nelma samsuarini",
          "x1": -2.122917413711548,
          "x2": -5.879210472106934
         },
         {
          "label": 1,
          "name": "ivan nugraha",
          "x1": 1.3256726264953613,
          "x2": -5.9021453857421875
         },
         {
          "label": 1,
          "name": "alvensus sihotang",
          "x1": -3.7504591941833496,
          "x2": -6.89425802230835
         },
         {
          "label": 1,
          "name": "fazri azhar ramdani",
          "x1": -0.907168984413147,
          "x2": -6.233246803283691
         },
         {
          "label": 0,
          "name": "metri annisa arrum",
          "x1": -2.558089256286621,
          "x2": -5.272733688354492
         },
         {
          "label": 0,
          "name": "nurani dharmaputri",
          "x1": -3.241473913192749,
          "x2": -2.606398344039917
         },
         {
          "label": 1,
          "name": "anthony",
          "x1": -4.2499895095825195,
          "x2": -7.062056064605713
         },
         {
          "label": 1,
          "name": "m. ikhsan",
          "x1": -2.3895423412323,
          "x2": -7.472866535186768
         },
         {
          "label": 1,
          "name": "fuad fajri",
          "x1": -1.3867170810699463,
          "x2": -7.754173278808594
         },
         {
          "label": 0,
          "name": "dewi suryanti",
          "x1": -4.094834804534912,
          "x2": -6.78359317779541
         },
         {
          "label": 1,
          "name": "usamah",
          "x1": -2.0482394695281982,
          "x2": -7.892216682434082
         },
         {
          "label": 1,
          "name": "jesta",
          "x1": -3.400423288345337,
          "x2": -7.347255229949951
         },
         {
          "label": 1,
          "name": "cahli suhendi",
          "x1": -3.1368398666381836,
          "x2": -8.595907211303711
         },
         {
          "label": 0,
          "name": "eka fitri puspitasari",
          "x1": -2.872713565826416,
          "x2": -3.626497268676758
         },
         {
          "label": 1,
          "name": "gaos mulyawan",
          "x1": -1.2040021419525146,
          "x2": -3.2984890937805176
         },
         {
          "label": 1,
          "name": "radityo dharmaputra",
          "x1": -3.5542895793914795,
          "x2": -2.2623631954193115
         },
         {
          "label": 1,
          "name": "muhammad irham wafi",
          "x1": 3.5973896980285645,
          "x2": -5.0329999923706055
         },
         {
          "label": 0,
          "name": "nadya fadila",
          "x1": -0.7545619606971741,
          "x2": -7.218209743499756
         },
         {
          "label": 0,
          "name": "novena ami soetharyo",
          "x1": -4.653321743011475,
          "x2": -7.711319446563721
         },
         {
          "label": 1,
          "name": "sahril afandi sitompul",
          "x1": -2.0438966751098633,
          "x2": -6.299247741699219
         },
         {
          "label": 1,
          "name": "luther tambok halomoan simanjuntak",
          "x1": -4.275022029876709,
          "x2": -6.128437519073486
         },
         {
          "label": 1,
          "name": "daniel pardamean samosir",
          "x1": -0.858906626701355,
          "x2": -5.605007648468018
         },
         {
          "label": 1,
          "name": "mas andhika kaharudin",
          "x1": -0.2414330393075943,
          "x2": -6.068549156188965
         },
         {
          "label": 1,
          "name": "handrita darda",
          "x1": -0.6724668145179749,
          "x2": -5.974274158477783
         },
         {
          "label": 0,
          "name": "nurana indah paramita",
          "x1": -1.706207513809204,
          "x2": -4.176089763641357
         },
         {
          "label": 1,
          "name": "andar marunung tua",
          "x1": -0.8142090439796448,
          "x2": -5.715622901916504
         },
         {
          "label": 1,
          "name": "mazmur arnoldi simanjuntak",
          "x1": -4.166101455688477,
          "x2": -6.0359039306640625
         },
         {
          "label": 1,
          "name": "abi praya nandya purusa",
          "x1": 0.1738598644733429,
          "x2": -4.595201015472412
         },
         {
          "label": 1,
          "name": "tirto soenaryo",
          "x1": -4.326000690460205,
          "x2": -8.1391019821167
         },
         {
          "label": 1,
          "name": "muhamad koyimatu",
          "x1": 3.320183277130127,
          "x2": -4.988889217376709
         },
         {
          "label": 0,
          "name": "putri dwi utari",
          "x1": -3.69962215423584,
          "x2": -2.995558500289917
         },
         {
          "label": 1,
          "name": "andhika desya anggrashari",
          "x1": 0.16463452577590942,
          "x2": -5.28303337097168
         },
         {
          "label": 1,
          "name": "aji agraning bawono",
          "x1": -1.5002100467681885,
          "x2": -4.211761474609375
         },
         {
          "label": 0,
          "name": "rika fithri nurani buana",
          "x1": -2.311528444290161,
          "x2": -4.658271789550781
         },
         {
          "label": 1,
          "name": "taufiq hilal tawab",
          "x1": -1.0268046855926514,
          "x2": -7.403869152069092
         },
         {
          "label": 1,
          "name": "irvan prayogo",
          "x1": -4.6024041175842285,
          "x2": -7.949935436248779
         },
         {
          "label": 0,
          "name": "renita fransisca ompusunggu",
          "x1": -4.214792728424072,
          "x2": -6.632046222686768
         },
         {
          "label": 1,
          "name": "sekar monikus hariando hutagalung",
          "x1": -1.0627480745315552,
          "x2": -5.83629846572876
         },
         {
          "label": 1,
          "name": "azki hakim azhari",
          "x1": -1.4213966131210327,
          "x2": -7.229978084564209
         },
         {
          "label": 0,
          "name": "dominica gabriella rorek",
          "x1": -2.8275721073150635,
          "x2": -7.5544843673706055
         },
         {
          "label": 1,
          "name": "vingga ardente valentino",
          "x1": -3.7768540382385254,
          "x2": -6.145684719085693
         },
         {
          "label": 0,
          "name": "rahardini nurina h",
          "x1": -2.6976065635681152,
          "x2": -5.192494869232178
         },
         {
          "label": 0,
          "name": "rifni puspita sari haryono",
          "x1": -2.7782862186431885,
          "x2": -3.6423873901367188
         },
         {
          "label": 0,
          "name": "icha isana febriana",
          "x1": -1.9446823596954346,
          "x2": -5.103959083557129
         },
         {
          "label": 0,
          "name": "febya nurnadiati",
          "x1": -2.0837290287017822,
          "x2": -7.6399431228637695
         },
         {
          "label": 1,
          "name": "yusuf adriansyah tedjowahono",
          "x1": 1.185845971107483,
          "x2": -8.733216285705566
         },
         {
          "label": 1,
          "name": "arizal ibnu sukirno",
          "x1": -1.7556074857711792,
          "x2": -6.874639511108398
         },
         {
          "label": 1,
          "name": "rezza mahyudin",
          "x1": -2.2641284465789795,
          "x2": -8.579535484313965
         },
         {
          "label": 0,
          "name": "annisa astuti purwanto",
          "x1": -4.347748279571533,
          "x2": -5.385736465454102
         },
         {
          "label": 0,
          "name": "andina chotimah",
          "x1": -0.8826682567596436,
          "x2": -6.404732704162598
         },
         {
          "label": 0,
          "name": "dian novitasari",
          "x1": -3.076845645904541,
          "x2": -4.924777030944824
         },
         {
          "label": 1,
          "name": "wachid fahryandanu",
          "x1": -0.47971242666244507,
          "x2": -5.425848007202148
         },
         {
          "label": 1,
          "name": "ilham akbar pane",
          "x1": -0.5764496922492981,
          "x2": -6.762364387512207
         },
         {
          "label": 0,
          "name": "dhearty diakta dare",
          "x1": -0.35165542364120483,
          "x2": -6.107956409454346
         },
         {
          "label": 1,
          "name": "andreas kurniawan",
          "x1": -1.1545073986053467,
          "x2": -1.53992760181427
         },
         {
          "label": 1,
          "name": "indra hayadi",
          "x1": -0.43629857897758484,
          "x2": -6.0330891609191895
         },
         {
          "label": 0,
          "name": "nurul hayani",
          "x1": -2.239030599594116,
          "x2": -8.008086204528809
         },
         {
          "label": 1,
          "name": "muhamad nur hidayat",
          "x1": 3.3248496055603027,
          "x2": -5.018272399902344
         },
         {
          "label": 1,
          "name": "abednego oscar tanuwijaya",
          "x1": -1.2919865846633911,
          "x2": -9.18613052368164
         },
         {
          "label": 0,
          "name": "siti arina safarina",
          "x1": -2.344404458999634,
          "x2": -4.556756019592285
         },
         {
          "label": 0,
          "name": "felicia mettaswari",
          "x1": -2.42008900642395,
          "x2": -6.045948505401611
         },
         {
          "label": 1,
          "name": "holly pasman",
          "x1": -2.869115114212036,
          "x2": -7.9227094650268555
         },
         {
          "label": 1,
          "name": "muhammad rihan handaulah",
          "x1": 3.6682708263397217,
          "x2": -5.378046035766602
         },
         {
          "label": 1,
          "name": "eka sanjaya kalianda",
          "x1": -0.6602634191513062,
          "x2": -5.038551330566406
         },
         {
          "label": 1,
          "name": "prasasti yudaprawira",
          "x1": -2.21634840965271,
          "x2": -4.001272201538086
         },
         {
          "label": 1,
          "name": "rudy kusdiantara",
          "x1": -3.925447702407837,
          "x2": -5.678256988525391
         },
         {
          "label": 1,
          "name": "andika putra nugroho",
          "x1": -3.2881829738616943,
          "x2": -2.4258029460906982
         },
         {
          "label": 1,
          "name": "senna gumilar",
          "x1": -2.7212932109832764,
          "x2": -7.3377180099487305
         },
         {
          "label": 1,
          "name": "chandra simanjuntak",
          "x1": -0.41453319787979126,
          "x2": -5.500697135925293
         },
         {
          "label": 1,
          "name": "arif hanindyo",
          "x1": -1.8816331624984741,
          "x2": -6.016171455383301
         },
         {
          "label": 1,
          "name": "rifky syariati",
          "x1": -2.7357139587402344,
          "x2": -5.872530937194824
         },
         {
          "label": 1,
          "name": "firdi mulia",
          "x1": -2.4996161460876465,
          "x2": -7.233667850494385
         },
         {
          "label": 1,
          "name": "puja pramudya",
          "x1": 0.31867069005966187,
          "x2": -5.04233455657959
         },
         {
          "label": 1,
          "name": "rian afriana",
          "x1": -1.886044979095459,
          "x2": -4.984465599060059
         },
         {
          "label": 1,
          "name": "tommy reynalda",
          "x1": -3.62351655960083,
          "x2": -8.121087074279785
         },
         {
          "label": 0,
          "name": "lintang laras ratri",
          "x1": -1.7832485437393188,
          "x2": -4.177265167236328
         },
         {
          "label": 0,
          "name": "randu dwisyanjani",
          "x1": -1.0677573680877686,
          "x2": -4.894312381744385
         },
         {
          "label": 1,
          "name": "galuh b worosunti",
          "x1": -4.120053768157959,
          "x2": -8.249423027038574
         },
         {
          "label": 1,
          "name": "pandu kuntoaji",
          "x1": -5.068963527679443,
          "x2": -6.760965347290039
         },
         {
          "label": 0,
          "name": "citra puspita",
          "x1": -3.240225315093994,
          "x2": -3.697457790374756
         },
         {
          "label": 1,
          "name": "dwitiyo abhirama",
          "x1": -0.1968829482793808,
          "x2": -6.400019645690918
         },
         {
          "label": 1,
          "name": "dani andipa keliat",
          "x1": -1.8875895738601685,
          "x2": -5.274001598358154
         },
         {
          "label": 0,
          "name": "dewi lestari ayu ningtyas",
          "x1": -3.6977500915527344,
          "x2": -4.159943103790283
         },
         {
          "label": 1,
          "name": "luthfiadi amri hermana",
          "x1": -2.3860936164855957,
          "x2": -5.1794047355651855
         },
         {
          "label": 1,
          "name": "totoh abdul matin",
          "x1": -3.7131683826446533,
          "x2": -8.356793403625488
         },
         {
          "label": 1,
          "name": "rizal",
          "x1": -1.8115262985229492,
          "x2": -7.34953498840332
         },
         {
          "label": 1,
          "name": "didit tri rahardian",
          "x1": -1.4390944242477417,
          "x2": -6.175580978393555
         },
         {
          "label": 1,
          "name": "decky darisman",
          "x1": -1.5830317735671997,
          "x2": -6.5267815589904785
         },
         {
          "label": 0,
          "name": "adinda fathimah k",
          "x1": -1.0176628828048706,
          "x2": -6.404946327209473
         },
         {
          "label": 0,
          "name": "uli apriani pemilia s",
          "x1": -2.579972267150879,
          "x2": -5.600610733032227
         },
         {
          "label": 1,
          "name": "wisnu fajar baskoro",
          "x1": -4.296180725097656,
          "x2": -8.447370529174805
         },
         {
          "label": 1,
          "name": "arya adi wibawa",
          "x1": -0.3624015748500824,
          "x2": -4.512216567993164
         },
         {
          "label": 0,
          "name": "yasmin putri hasanah",
          "x1": -2.2087502479553223,
          "x2": -5.493508815765381
         },
         {
          "label": 1,
          "name": "hafidz effendi",
          "x1": -2.938859462738037,
          "x2": -7.475893497467041
         },
         {
          "label": 0,
          "name": "nadia fithriani",
          "x1": -2.8093934059143066,
          "x2": -4.958014488220215
         },
         {
          "label": 1,
          "name": "joko ari wibowo",
          "x1": -5.647043228149414,
          "x2": -8.825197219848633
         },
         {
          "label": 1,
          "name": "yossy pradanasmara putra",
          "x1": -3.265164613723755,
          "x2": -1.935783863067627
         },
         {
          "label": 1,
          "name": "tatan firmansyah",
          "x1": 1.3310292959213257,
          "x2": -8.423662185668945
         },
         {
          "label": 1,
          "name": "yusuf purna yudhanto",
          "x1": -2.481812000274658,
          "x2": -8.695690155029297
         },
         {
          "label": 0,
          "name": "meri agustina",
          "x1": -5.3525800704956055,
          "x2": -5.366238117218018
         },
         {
          "label": 0,
          "name": "riska agustin susilo",
          "x1": -5.444699764251709,
          "x2": -5.4412455558776855
         },
         {
          "label": 1,
          "name": "fariz achmad purnomosidhi",
          "x1": 0.8071733713150024,
          "x2": -7.377694129943848
         },
         {
          "label": 0,
          "name": "erna verawati hutagalung",
          "x1": -1.2276920080184937,
          "x2": -3.4937825202941895
         },
         {
          "label": 0,
          "name": "desi hadiati",
          "x1": -3.9264886379241943,
          "x2": -4.829536437988281
         },
         {
          "label": 0,
          "name": "liswati",
          "x1": -4.134324550628662,
          "x2": -4.634365081787109
         },
         {
          "label": 1,
          "name": "rado riady",
          "x1": -2.550825595855713,
          "x2": -7.790868282318115
         },
         {
          "label": 1,
          "name": "riza taftazani",
          "x1": -1.4500892162322998,
          "x2": -7.229551792144775
         },
         {
          "label": 0,
          "name": "riyenni",
          "x1": -3.6103579998016357,
          "x2": -7.394418716430664
         },
         {
          "label": 1,
          "name": "arif eka syahputra",
          "x1": -3.4446682929992676,
          "x2": -2.331883430480957
         },
         {
          "label": 1,
          "name": "timothy reinaldo",
          "x1": -3.735680103302002,
          "x2": -7.838288307189941
         },
         {
          "label": 0,
          "name": "novita fajriah",
          "x1": -3.1720142364501953,
          "x2": -5.553572177886963
         },
         {
          "label": 1,
          "name": "muhammad zulkifli",
          "x1": 3.7123420238494873,
          "x2": -4.767067909240723
         },
         {
          "label": 1,
          "name": "muhammad fariz",
          "x1": 3.7348129749298096,
          "x2": -5.078009128570557
         },
         {
          "label": 0,
          "name": "sofi siti shofiyah",
          "x1": -3.942998170852661,
          "x2": -5.395512104034424
         },
         {
          "label": 1,
          "name": "surya kresnanda",
          "x1": -0.6772948503494263,
          "x2": -5.386715888977051
         },
         {
          "label": 1,
          "name": "jupiter midian nababan",
          "x1": -3.3995089530944824,
          "x2": -5.4626946449279785
         },
         {
          "label": 1,
          "name": "angga nugraha",
          "x1": 1.2776994705200195,
          "x2": -5.838690757751465
         },
         {
          "label": 0,
          "name": "citra nurwani",
          "x1": -3.0731394290924072,
          "x2": -4.7547736167907715
         },
         {
          "label": 1,
          "name": "edy suwito",
          "x1": -3.606050729751587,
          "x2": -8.201543807983398
         },
         {
          "label": 1,
          "name": "raphon prima",
          "x1": -2.313453197479248,
          "x2": -7.2202959060668945
         },
         {
          "label": 0,
          "name": "maria magdalena kristanti nainggolan",
          "x1": -1.6772087812423706,
          "x2": -4.157060623168945
         },
         {
          "label": 0,
          "name": "riana hapsari putri",
          "x1": -3.1654016971588135,
          "x2": -3.043578863143921
         },
         {
          "label": 0,
          "name": "intan nuni wahyuni",
          "x1": -3.7849490642547607,
          "x2": -4.654038906097412
         },
         {
          "label": 0,
          "name": "wulandari",
          "x1": -1.0178440809249878,
          "x2": -6.210445880889893
         },
         {
          "label": 1,
          "name": "teuku reza auliandra isma",
          "x1": -0.5337024927139282,
          "x2": -6.026731967926025
         },
         {
          "label": 1,
          "name": "putra hadinata susanto",
          "x1": -3.4381163120269775,
          "x2": -2.2342803478240967
         },
         {
          "label": 1,
          "name": "mochamad taufik nugraha",
          "x1": 1.5950647592544556,
          "x2": -5.761446475982666
         },
         {
          "label": 1,
          "name": "hadi saloko",
          "x1": -3.205497980117798,
          "x2": -8.29942512512207
         },
         {
          "label": 0,
          "name": "armiin stefani",
          "x1": -3.207545757293701,
          "x2": -5.743264675140381
         },
         {
          "label": 1,
          "name": "nur mubarokah",
          "x1": -2.1526920795440674,
          "x2": -7.940281867980957
         },
         {
          "label": 0,
          "name": "faradila aisnaini",
          "x1": -1.9095512628555298,
          "x2": -5.490642070770264
         },
         {
          "label": 1,
          "name": "rian apriandi",
          "x1": -1.970636010169983,
          "x2": -5.185842990875244
         },
         {
          "label": 1,
          "name": "michel edisen",
          "x1": -3.1526541709899902,
          "x2": -8.155186653137207
         },
         {
          "label": 0,
          "name": "amalia rahmah",
          "x1": 0.5829777717590332,
          "x2": -6.958318710327148
         },
         {
          "label": 1,
          "name": "edy krismanto sipayung",
          "x1": -5.163398265838623,
          "x2": -6.470511436462402
         },
         {
          "label": 1,
          "name": "i nyoman primayana",
          "x1": -1.1658133268356323,
          "x2": -5.210109233856201
         },
         {
          "label": 1,
          "name": "dipo adriansyah",
          "x1": 1.1841957569122314,
          "x2": -8.764284133911133
         },
         {
          "label": 0,
          "name": "aditha rachmanti",
          "x1": 0.5749134421348572,
          "x2": -6.558970928192139
         },
         {
          "label": 1,
          "name": "panji aji wibowo",
          "x1": -5.591760635375977,
          "x2": -8.800250053405762
         },
         {
          "label": 1,
          "name": "ibnul qoyyim",
          "x1": -3.5609586238861084,
          "x2": -8.211896896362305
         },
         {
          "label": 0,
          "name": "shanthini devi mahalingam",
          "x1": -1.5864148139953613,
          "x2": -5.79106330871582
         },
         {
          "label": 1,
          "name": "fuad habib",
          "x1": -1.725125789642334,
          "x2": -7.916591644287109
         },
         {
          "label": 1,
          "name": "teddy swastiadi ambaryanto",
          "x1": -4.67830753326416,
          "x2": -5.747296333312988
         },
         {
          "label": 1,
          "name": "fadlyan noor",
          "x1": -3.5605950355529785,
          "x2": -7.602943420410156
         },
         {
          "label": 1,
          "name": "andika perdana putera",
          "x1": -2.9024903774261475,
          "x2": -2.0301480293273926
         },
         {
          "label": 1,
          "name": "arvandi mahry",
          "x1": -0.8986533284187317,
          "x2": -6.648702144622803
         },
         {
          "label": 1,
          "name": "m husni syahbani",
          "x1": -2.625457525253296,
          "x2": -6.201963901519775
         },
         {
          "label": 1,
          "name": "riyan adi prayogo",
          "x1": -4.588541507720947,
          "x2": -7.524931907653809
         },
         {
          "label": 1,
          "name": "taufik akbar",
          "x1": -1.260692834854126,
          "x2": -7.583794116973877
         },
         {
          "label": 1,
          "name": "zia al akbar",
          "x1": -0.8877584934234619,
          "x2": -7.209736347198486
         },
         {
          "label": 1,
          "name": "antonius yongki wijaya",
          "x1": -1.1996759176254272,
          "x2": -9.568344116210938
         },
         {
          "label": 1,
          "name": "muhammad ardhan rafsanjani",
          "x1": 3.331995725631714,
          "x2": -5.268627166748047
         },
         {
          "label": 1,
          "name": "andi saputra",
          "x1": -3.4280247688293457,
          "x2": -2.2660183906555176
         },
         {
          "label": 1,
          "name": "widya nuriama firdansyah",
          "x1": 1.2885512113571167,
          "x2": -8.627898216247559
         },
         {
          "label": 0,
          "name": "iftitah rohman hukama",
          "x1": 0.5224685072898865,
          "x2": -7.220922946929932
         },
         {
          "label": 0,
          "name": "lim yehan",
          "x1": -3.040787935256958,
          "x2": -7.180009365081787
         },
         {
          "label": 0,
          "name": "fida zahra hanifa",
          "x1": -0.5634701251983643,
          "x2": -7.1381049156188965
         },
         {
          "label": 1,
          "name": "adistian hanggara atmanegara",
          "x1": -0.3905610144138336,
          "x2": -4.200193405151367
         },
         {
          "label": 1,
          "name": "jaenudin",
          "x1": -2.7621004581451416,
          "x2": -8.362680435180664
         },
         {
          "label": 0,
          "name": "indah dewi puspitasari",
          "x1": -2.838223934173584,
          "x2": -3.6937437057495117
         },
         {
          "label": 0,
          "name": "gita dwi lestari",
          "x1": -3.0367255210876465,
          "x2": -4.3813605308532715
         },
         {
          "label": 1,
          "name": "andrew pratomo budianto",
          "x1": -5.039461612701416,
          "x2": -6.657087802886963
         },
         {
          "label": 1,
          "name": "budiono suhartanto",
          "x1": -5.052505016326904,
          "x2": -7.194157600402832
         },
         {
          "label": 0,
          "name": "dina silvi noviana",
          "x1": -3.3065459728240967,
          "x2": -5.514857769012451
         },
         {
          "label": 1,
          "name": "ismanidar",
          "x1": -1.7955801486968994,
          "x2": -6.290639877319336
         },
         {
          "label": 1,
          "name": "yosef sukianto",
          "x1": -5.252565860748291,
          "x2": -6.548038005828857
         },
         {
          "label": 1,
          "name": "yatrizal",
          "x1": -1.6102792024612427,
          "x2": -7.351345539093018
         },
         {
          "label": 0,
          "name": "rachmawati",
          "x1": 0.9644127488136292,
          "x2": -6.744026184082031
         },
         {
          "label": 1,
          "name": "andi setiawan",
          "x1": -0.6839063763618469,
          "x2": -2.8513309955596924
         },
         {
          "label": 0,
          "name": "anjani puspadianti a m",
          "x1": -1.7566403150558472,
          "x2": -4.796814441680908
         },
         {
          "label": 1,
          "name": "indraprasta risaldi",
          "x1": -2.091233968734741,
          "x2": -4.037413597106934
         },
         {
          "label": 1,
          "name": "dipowiguno",
          "x1": -3.8924994468688965,
          "x2": -8.316203117370605
         },
         {
          "label": 0,
          "name": "nursyamsiah pertiwi",
          "x1": -4.0627827644348145,
          "x2": -4.415548324584961
         },
         {
          "label": 0,
          "name": "atiek puspa fadhilah",
          "x1": -0.8993775248527527,
          "x2": -7.403385639190674
         },
         {
          "label": 0,
          "name": "kallista nadia adrianne",
          "x1": -1.8198530673980713,
          "x2": -4.987150192260742
         },
         {
          "label": 1,
          "name": "andhika budi hermawan",
          "x1": -0.0002531240461394191,
          "x2": -5.744204521179199
         },
         {
          "label": 1,
          "name": "nico setiawan",
          "x1": -0.718950092792511,
          "x2": -2.816063404083252
         },
         {
          "label": 0,
          "name": "vidya rachmawati afiat",
          "x1": 1.0153311491012573,
          "x2": -6.607951641082764
         },
         {
          "label": 1,
          "name": "iqbal santosa",
          "x1": -5.460240840911865,
          "x2": -6.650434970855713
         },
         {
          "label": 0,
          "name": "rahmadiane oktaheptavia",
          "x1": 0.811672568321228,
          "x2": -6.613104820251465
         },
         {
          "label": 1,
          "name": "mulkan",
          "x1": -2.4814648628234863,
          "x2": -7.893828868865967
         },
         {
          "label": 1,
          "name": "peter hamonangan lumban tobing",
          "x1": -4.360681533813477,
          "x2": -6.380478858947754
         },
         {
          "label": 1,
          "name": "gilang hardadi",
          "x1": -0.9864321351051331,
          "x2": -4.044308185577393
         },
         {
          "label": 1,
          "name": "handoko",
          "x1": -4.174259662628174,
          "x2": -7.632221221923828
         },
         {
          "label": 1,
          "name": "muhammad prima maliki",
          "x1": 3.7417900562286377,
          "x2": -5.018605709075928
         },
         {
          "label": 1,
          "name": "januar wahyudinata",
          "x1": -2.5719797611236572,
          "x2": -9.014452934265137
         },
         {
          "label": 1,
          "name": "alvin pradana",
          "x1": -0.5303401947021484,
          "x2": -4.942869663238525
         },
         {
          "label": 1,
          "name": "tantan targuna",
          "x1": -1.682267665863037,
          "x2": -3.3789641857147217
         },
         {
          "label": 1,
          "name": "ivan pradhana harka",
          "x1": 0.0614803284406662,
          "x2": -4.839040756225586
         },
         {
          "label": 1,
          "name": "geovani erry bramantyo",
          "x1": -4.382364273071289,
          "x2": -7.21742582321167
         },
         {
          "label": 1,
          "name": "deka aditia adam",
          "x1": -0.3221845328807831,
          "x2": -6.17282247543335
         },
         {
          "label": 1,
          "name": "mangasi napitupulu",
          "x1": -3.912257194519043,
          "x2": -6.734398365020752
         },
         {
          "label": 1,
          "name": "andy bhakti arifman",
          "x1": -1.4704173803329468,
          "x2": -5.849672317504883
         },
         {
          "label": 1,
          "name": "leonard roy aditya s",
          "x1": 0.15467587113380432,
          "x2": -4.017247200012207
         },
         {
          "label": 0,
          "name": "arifa elfanisa",
          "x1": -1.494133710861206,
          "x2": -6.392520427703857
         },
         {
          "label": 1,
          "name": "destien indirawati widyatmiko",
          "x1": -4.256110191345215,
          "x2": -4.569772243499756
         },
         {
          "label": 1,
          "name": "rudianto",
          "x1": -5.058718204498291,
          "x2": -6.411967754364014
         },
         {
          "label": 0,
          "name": "asrininda ferialdy",
          "x1": -2.3933393955230713,
          "x2": -5.7179975509643555
         },
         {
          "label": 0,
          "name": "friska m malau",
          "x1": -1.7001800537109375,
          "x2": -7.30277156829834
         },
         {
          "label": 1,
          "name": "muhammad ichwan yuliawan",
          "x1": 3.4699718952178955,
          "x2": -5.280481338500977
         },
         {
          "label": 1,
          "name": "erwinsyah maulana",
          "x1": -0.12824173271656036,
          "x2": -7.720127582550049
         },
         {
          "label": 1,
          "name": "try suciptan",
          "x1": -3.6232900619506836,
          "x2": -7.0822434425354
         },
         {
          "label": 1,
          "name": "galih sandy agung",
          "x1": -1.6251569986343384,
          "x2": -3.0931198596954346
         },
         {
          "label": 0,
          "name": "dinar citra indar hutami",
          "x1": -2.17452073097229,
          "x2": -4.20224142074585
         },
         {
          "label": 0,
          "name": "hartati",
          "x1": -2.7482950687408447,
          "x2": -7.819483757019043
         },
         {
          "label": 0,
          "name": "utammi sri lestari",
          "x1": -3.0965659618377686,
          "x2": -4.303261756896973
         },
         {
          "label": 0,
          "name": "rohana udur h",
          "x1": -2.251150131225586,
          "x2": -8.079991340637207
         },
         {
          "label": 0,
          "name": "ayudia subakti putri",
          "x1": -3.758906602859497,
          "x2": -3.2682607173919678
         },
         {
          "label": 0,
          "name": "dina paramitha anggraeni h",
          "x1": -1.563362717628479,
          "x2": -4.101260662078857
         },
         {
          "label": 1,
          "name": "hendra yusrizal",
          "x1": -3.051293134689331,
          "x2": -8.738080024719238
         },
         {
          "label": 1,
          "name": "alvin ivan handoko",
          "x1": -2.919797658920288,
          "x2": -6.000483512878418
         },
         {
          "label": 1,
          "name": "ardi yoga pradana",
          "x1": 0.06929316371679306,
          "x2": -4.52987813949585
         },
         {
          "label": 0,
          "name": "nurul maulidiah",
          "x1": -2.265054225921631,
          "x2": -7.625781059265137
         },
         {
          "label": 1,
          "name": "almando geraldi",
          "x1": -0.9758852124214172,
          "x2": -6.102479457855225
         },
         {
          "label": 1,
          "name": "hasbar",
          "x1": -2.1461453437805176,
          "x2": -7.840041637420654
         },
         {
          "label": 1,
          "name": "achmad syaiful m",
          "x1": 0.8995890021324158,
          "x2": -7.444340705871582
         },
         {
          "label": 1,
          "name": "nugraha arifianto",
          "x1": 1.2686517238616943,
          "x2": -5.908064365386963
         },
         {
          "label": 1,
          "name": "imam indra gunawan",
          "x1": -1.3385896682739258,
          "x2": -2.9796080589294434
         },
         {
          "label": 1,
          "name": "farhan asyifa",
          "x1": -0.7295457720756531,
          "x2": -7.025435447692871
         },
         {
          "label": 0,
          "name": "jessica devina",
          "x1": -3.282259464263916,
          "x2": -6.735100746154785
         },
         {
          "label": 0,
          "name": "dara gendys werynda",
          "x1": -0.5127861499786377,
          "x2": -6.166794776916504
         },
         {
          "label": 1,
          "name": "denny kristian",
          "x1": -5.018693923950195,
          "x2": -4.644723415374756
         },
         {
          "label": 1,
          "name": "berliandi manik",
          "x1": -2.5834619998931885,
          "x2": -5.541357040405273
         },
         {
          "label": 1,
          "name": "muhamad wildan aji handoko",
          "x1": 3.4266560077667236,
          "x2": -5.211747646331787
         },
         {
          "label": 1,
          "name": "gunawan sutanto",
          "x1": -1.5107934474945068,
          "x2": -3.0026772022247314
         },
         {
          "label": 0,
          "name": "dewi safitri",
          "x1": -3.3070547580718994,
          "x2": -4.3856425285339355
         },
         {
          "label": 1,
          "name": "rogate s t saragih",
          "x1": -2.706190347671509,
          "x2": -6.8760247230529785
         },
         {
          "label": 1,
          "name": "ardiansyah",
          "x1": 1.1977685689926147,
          "x2": -8.76494026184082
         },
         {
          "label": 0,
          "name": "salsabila",
          "x1": -1.3570117950439453,
          "x2": -6.947158336639404
         },
         {
          "label": 1,
          "name": "ari akbar",
          "x1": -1.1022202968597412,
          "x2": -7.068563461303711
         },
         {
          "label": 1,
          "name": "pradana gilang perwira",
          "x1": -0.7373130321502686,
          "x2": -4.090427875518799
         },
         {
          "label": 1,
          "name": "kemas zakki arief",
          "x1": -1.555095911026001,
          "x2": -6.763636589050293
         },
         {
          "label": 1,
          "name": "ridwan napit angga p",
          "x1": -1.061669945716858,
          "x2": -4.02541971206665
         },
         {
          "label": 0,
          "name": "naimah hamid balfas",
          "x1": -0.456202894449234,
          "x2": -7.14884614944458
         },
         {
          "label": 1,
          "name": "ronald",
          "x1": -3.633898973464966,
          "x2": -7.935944557189941
         },
         {
          "label": 1,
          "name": "stefanus astrianto nugroho",
          "x1": -5.150187015533447,
          "x2": -7.418030261993408
         },
         {
          "label": 1,
          "name": "rifki ferdinal",
          "x1": -2.9289000034332275,
          "x2": -6.3613786697387695
         },
         {
          "label": 1,
          "name": "yudi setiawan",
          "x1": -0.7054709792137146,
          "x2": -2.809436321258545
         },
         {
          "label": 1,
          "name": "indra sanjaya",
          "x1": -0.3869011104106903,
          "x2": -5.271345138549805
         },
         {
          "label": 1,
          "name": "samuel kurnianto",
          "x1": -1.3817459344863892,
          "x2": -1.8327274322509766
         },
         {
          "label": 1,
          "name": "fendy bong",
          "x1": -3.5393967628479004,
          "x2": -8.36429500579834
         },
         {
          "label": 1,
          "name": "adhia prenata p h",
          "x1": 0.573623538017273,
          "x2": -4.734720230102539
         },
         {
          "label": 1,
          "name": "silmy mawaliya muslim",
          "x1": -2.1898601055145264,
          "x2": -6.931095123291016
         },
         {
          "label": 1,
          "name": "franky d samosir",
          "x1": -2.8660805225372314,
          "x2": -7.028019428253174
         },
         {
          "label": 1,
          "name": "ferry",
          "x1": -3.2915754318237305,
          "x2": -7.780239582061768
         },
         {
          "label": 0,
          "name": "hanifa terissa",
          "x1": -1.9001377820968628,
          "x2": -6.316845417022705
         },
         {
          "label": 0,
          "name": "zafirah munirah binti mustafa",
          "x1": 0.24321866035461426,
          "x2": -7.1270670890808105
         },
         {
          "label": 0,
          "name": "gabriela crystina parera",
          "x1": -0.006762353237718344,
          "x2": -5.799685001373291
         },
         {
          "label": 1,
          "name": "fadjar",
          "x1": -1.4473310708999634,
          "x2": -7.696022987365723
         },
         {
          "label": 1,
          "name": "zaki abdussalam",
          "x1": -0.8240865468978882,
          "x2": -7.253072261810303
         },
         {
          "label": 1,
          "name": "aris priatama",
          "x1": 0.5903335809707642,
          "x2": -4.912755966186523
         },
         {
          "label": 1,
          "name": "christian octavius sartiono",
          "x1": -5.051466941833496,
          "x2": -4.557687282562256
         },
         {
          "label": 1,
          "name": "hariman l r n",
          "x1": -1.4536422491073608,
          "x2": -6.798595428466797
         },
         {
          "label": 1,
          "name": "fandi gunawan sianipar",
          "x1": -1.4718362092971802,
          "x2": -3.674675464630127
         },
         {
          "label": 1,
          "name": "nurul burhan",
          "x1": -2.2301535606384277,
          "x2": -8.124831199645996
         },
         {
          "label": 0,
          "name": "sylvia ayu bethari",
          "x1": -1.6069588661193848,
          "x2": -7.935763835906982
         },
         {
          "label": 1,
          "name": "muhammad andreaz navaro",
          "x1": 3.3998470306396484,
          "x2": -5.152566909790039
         },
         {
          "label": 1,
          "name": "ditya hesti hutomo",
          "x1": -3.9337337017059326,
          "x2": -8.409451484680176
         },
         {
          "label": 1,
          "name": "teddy dahlan manurung",
          "x1": -0.8375929594039917,
          "x2": -6.111057758331299
         },
         {
          "label": 1,
          "name": "ide mahendra",
          "x1": -3.066701889038086,
          "x2": -8.766538619995117
         },
         {
          "label": 0,
          "name": "mirna andara octoria",
          "x1": -1.332867980003357,
          "x2": -5.327530860900879
         },
         {
          "label": 1,
          "name": "ikra amesta wisnu",
          "x1": -2.367262125015259,
          "x2": -7.115710258483887
         },
         {
          "label": 0,
          "name": "nur aisyah safitri",
          "x1": -3.299532413482666,
          "x2": -4.268367767333984
         },
         {
          "label": 1,
          "name": "aries karyadi",
          "x1": -1.8528963327407837,
          "x2": -6.469601154327393
         },
         {
          "label": 0,
          "name": "noor azizah b",
          "x1": -3.107440710067749,
          "x2": -7.984619617462158
         },
         {
          "label": 0,
          "name": "reni fauziah",
          "x1": -1.790023684501648,
          "x2": -7.39337682723999
         },
         {
          "label": 1,
          "name": "aris wibowo",
          "x1": -5.611875057220459,
          "x2": -8.808114051818848
         },
         {
          "label": 0,
          "name": "komang sawitri",
          "x1": -2.928783416748047,
          "x2": -5.297156810760498
         },
         {
          "label": 1,
          "name": "hamdi widyawan rotib",
          "x1": -4.238134384155273,
          "x2": -4.674905300140381
         },
         {
          "label": 1,
          "name": "yoga seftian dwiandana",
          "x1": -1.1799601316452026,
          "x2": -5.17007303237915
         },
         {
          "label": 0,
          "name": "ozi jumadila",
          "x1": -2.1099040508270264,
          "x2": -8.22166919708252
         },
         {
          "label": 0,
          "name": "rani resanti",
          "x1": -3.7732017040252686,
          "x2": -5.730652809143066
         },
         {
          "label": 0,
          "name": "regina anindita",
          "x1": -2.6327192783355713,
          "x2": -4.914853096008301
         },
         {
          "label": 0,
          "name": "nita selifiana",
          "x1": -3.031231164932251,
          "x2": -5.702305793762207
         },
         {
          "label": 0,
          "name": "desi ika rachmawati sambas",
          "x1": 0.8836272358894348,
          "x2": -6.5456013679504395
         },
         {
          "label": 0,
          "name": "sayyidati mirah fadillah",
          "x1": -0.5344074964523315,
          "x2": -7.85478401184082
         },
         {
          "label": 1,
          "name": "puspoko ponco ratno",
          "x1": -4.563343048095703,
          "x2": -8.061422348022461
         },
         {
          "label": 1,
          "name": "joko pramono napitupulu",
          "x1": -4.851795673370361,
          "x2": -7.545096397399902
         },
         {
          "label": 1,
          "name": "bayu ahadi artanggaprana",
          "x1": -0.19591403007507324,
          "x2": -4.268818378448486
         },
         {
          "label": 0,
          "name": "kintari cita",
          "x1": -3.0911762714385986,
          "x2": -4.460062026977539
         },
         {
          "label": 1,
          "name": "alexander lung angkiriwang",
          "x1": -1.26193106174469,
          "x2": -3.871974468231201
         },
         {
          "label": 1,
          "name": "pungki surya",
          "x1": -2.139312744140625,
          "x2": -8.658879280090332
         },
         {
          "label": 0,
          "name": "tetarani fitriasih",
          "x1": -3.2507762908935547,
          "x2": -4.446354866027832
         },
         {
          "label": 1,
          "name": "alfredo sugiarto",
          "x1": -3.270923614501953,
          "x2": -8.021589279174805
         },
         {
          "label": 1,
          "name": "raymond samuel parlindungan",
          "x1": -1.002068281173706,
          "x2": -4.93426513671875
         },
         {
          "label": 0,
          "name": "irma dwidiani",
          "x1": -3.9057624340057373,
          "x2": -5.0182013511657715
         },
         {
          "label": 1,
          "name": "nur rahim bima dwi putra",
          "x1": -3.572509288787842,
          "x2": -2.6540026664733887
         },
         {
          "label": 1,
          "name": "fery armando soedarmo",
          "x1": -0.6155220866203308,
          "x2": -5.08590841293335
         },
         {
          "label": 1,
          "name": "andi muh ibnu rusjid",
          "x1": -2.7458343505859375,
          "x2": -8.39065933227539
         },
         {
          "label": 1,
          "name": "indrasatya pramudita",
          "x1": 0.5660059452056885,
          "x2": -4.33287239074707
         },
         {
          "label": 1,
          "name": "amando putra ersaid",
          "x1": -3.335761070251465,
          "x2": -2.1881673336029053
         },
         {
          "label": 1,
          "name": "teddy susanto",
          "x1": -5.447248935699463,
          "x2": -6.637726783752441
         },
         {
          "label": 1,
          "name": "tessa ramsky",
          "x1": -2.6481809616088867,
          "x2": -7.006694316864014
         },
         {
          "label": 0,
          "name": "ruth fergie panggabean",
          "x1": -1.3179526329040527,
          "x2": -3.8377411365509033
         },
         {
          "label": 0,
          "name": "indriany ameka",
          "x1": -1.7541325092315674,
          "x2": -5.562534809112549
         },
         {
          "label": 1,
          "name": "agung wahyu saputro",
          "x1": -3.6247336864471436,
          "x2": -2.0329222679138184
         },
         {
          "label": 1,
          "name": "irman gustaman",
          "x1": -2.1575093269348145,
          "x2": -7.187662124633789
         },
         {
          "label": 0,
          "name": "andini warih wedaringtyas",
          "x1": -2.1949450969696045,
          "x2": -4.673184394836426
         },
         {
          "label": 1,
          "name": "yongky tria putra",
          "x1": -3.6947779655456543,
          "x2": -2.6777334213256836
         },
         {
          "label": 0,
          "name": "ellen natasia",
          "x1": -2.879565477371216,
          "x2": -6.545238494873047
         },
         {
          "label": 1,
          "name": "rizal fauzi",
          "x1": -1.564718246459961,
          "x2": -7.392290115356445
         },
         {
          "label": 1,
          "name": "badai krisantoro saputra",
          "x1": -3.3432297706604004,
          "x2": -2.1916024684906006
         },
         {
          "label": 0,
          "name": "erika pritasari wybawa",
          "x1": -2.379899740219116,
          "x2": -3.9993817806243896
         },
         {
          "label": 0,
          "name": "siti rahmawati",
          "x1": 0.9794567823410034,
          "x2": -6.725825786590576
         },
         {
          "label": 1,
          "name": "federik",
          "x1": -3.270853281021118,
          "x2": -7.781443119049072
         },
         {
          "label": 1,
          "name": "david prastyan",
          "x1": -0.3861134946346283,
          "x2": -4.968486785888672
         },
         {
          "label": 1,
          "name": "david prambudi sahara",
          "x1": 0.08272439986467361,
          "x2": -6.2021260261535645
         },
         {
          "label": 0,
          "name": "yoanita warapsari",
          "x1": -2.290250062942505,
          "x2": -3.991055727005005
         },
         {
          "label": 0,
          "name": "pratiwi winata",
          "x1": -3.978546380996704,
          "x2": -3.895249843597412
         },
         {
          "label": 1,
          "name": "redi aditama",
          "x1": -0.3204493820667267,
          "x2": -6.195302963256836
         },
         {
          "label": 0,
          "name": "fina silvia",
          "x1": -3.3198273181915283,
          "x2": -6.069702625274658
         },
         {
          "label": 0,
          "name": "silvia widya mardiana",
          "x1": -1.428810954093933,
          "x2": -5.518303871154785
         },
         {
          "label": 1,
          "name": "arry rahmadi",
          "x1": 0.6737065315246582,
          "x2": -7.225874900817871
         },
         {
          "label": 0,
          "name": "metri paramita",
          "x1": -2.5916595458984375,
          "x2": -4.010992527008057
         },
         {
          "label": 1,
          "name": "heldi gumilang",
          "x1": -2.8236358165740967,
          "x2": -6.794936180114746
         },
         {
          "label": 0,
          "name": "johanna petra soleman",
          "x1": -0.7211846709251404,
          "x2": -5.238403797149658
         },
         {
          "label": 0,
          "name": "amelia ivonila ilahude",
          "x1": -2.3793447017669678,
          "x2": -6.266592025756836
         },
         {
          "label": 1,
          "name": "fari aditya gatam",
          "x1": 0.14779314398765564,
          "x2": -4.077786922454834
         },
         {
          "label": 1,
          "name": "rizky arief wibawa",
          "x1": -1.52462899684906,
          "x2": -5.974842548370361
         },
         {
          "label": 1,
          "name": "gilang fardanea",
          "x1": -1.1501737833023071,
          "x2": -3.8977057933807373
         },
         {
          "label": 1,
          "name": "ignatius yoannes baptista aditya eka prabawa widyawisesa",
          "x1": -0.01980590634047985,
          "x2": -3.965493679046631
         },
         {
          "label": 1,
          "name": "danang triantoro murdiansyah",
          "x1": 1.287110686302185,
          "x2": -8.472005844116211
         },
         {
          "label": 0,
          "name": "mariska aldetha a",
          "x1": -1.1198943853378296,
          "x2": -6.414454460144043
         },
         {
          "label": 1,
          "name": "hakim yudo pradono",
          "x1": -4.170851230621338,
          "x2": -8.453998565673828
         },
         {
          "label": 1,
          "name": "parlin sitorus",
          "x1": -3.4030778408050537,
          "x2": -7.968678951263428
         },
         {
          "label": 1,
          "name": "andreas yonas",
          "x1": -0.5695357918739319,
          "x2": -5.452105522155762
         },
         {
          "label": 0,
          "name": "patricia naulitua lumban gaol",
          "x1": -1.2759698629379272,
          "x2": -4.296982765197754
         },
         {
          "label": 1,
          "name": "ismail hidayat",
          "x1": -0.43985140323638916,
          "x2": -8.550314903259277
         },
         {
          "label": 1,
          "name": "ilham hamid",
          "x1": -1.904638409614563,
          "x2": -7.0246901512146
         },
         {
          "label": 1,
          "name": "muhammad panji s",
          "x1": 3.3926877975463867,
          "x2": -4.996405601501465
         },
         {
          "label": 1,
          "name": "januar mukti kurniawan",
          "x1": -1.1741667985916138,
          "x2": -1.5625965595245361
         },
         {
          "label": 1,
          "name": "gamas yudi wibowo",
          "x1": -5.6026716232299805,
          "x2": -8.815947532653809
         },
         {
          "label": 0,
          "name": "widya dista novia putri",
          "x1": -3.7333672046661377,
          "x2": -3.2626309394836426
         },
         {
          "label": 1,
          "name": "wilson kurniawan",
          "x1": -1.1593141555786133,
          "x2": -1.5509896278381348
         },
         {
          "label": 0,
          "name": "endah nur endah",
          "x1": -2.923147439956665,
          "x2": -7.96884298324585
         },
         {
          "label": 0,
          "name": "vilandri astarini",
          "x1": -2.3841917514801025,
          "x2": -4.96714973449707
         },
         {
          "label": 0,
          "name": "sandia primeia",
          "x1": -1.788641095161438,
          "x2": -5.5066609382629395
         },
         {
          "label": 0,
          "name": "putri rine anggreini",
          "x1": -3.4928908348083496,
          "x2": -3.317115306854248
         },
         {
          "label": 1,
          "name": "hans kristian",
          "x1": -4.990557670593262,
          "x2": -4.569984436035156
         },
         {
          "label": 0,
          "name": "annise azalia",
          "x1": -2.2897181510925293,
          "x2": -5.873104095458984
         },
         {
          "label": 1,
          "name": "achmad firdaus",
          "x1": 0.8789374232292175,
          "x2": -7.440276145935059
         },
         {
          "label": 0,
          "name": "benazir fathia",
          "x1": -1.5603933334350586,
          "x2": -7.093409061431885
         },
         {
          "label": 1,
          "name": "baskoro tejo",
          "x1": -4.308988094329834,
          "x2": -8.357178688049316
         },
         {
          "label": 1,
          "name": "fajri syah allam",
          "x1": -1.1535747051239014,
          "x2": -7.714920520782471
         },
         {
          "label": 1,
          "name": "eko tri wahyudi",
          "x1": -2.8514604568481445,
          "x2": -9.005341529846191
         },
         {
          "label": 1,
          "name": "michael stephen halomoan",
          "x1": -3.590679407119751,
          "x2": -7.060089588165283
         },
         {
          "label": 0,
          "name": "istiyati inayah",
          "x1": -4.209426403045654,
          "x2": -5.253122806549072
         },
         {
          "label": 1,
          "name": "fariz ismi",
          "x1": -2.0116312503814697,
          "x2": -6.728646278381348
         },
         {
          "label": 1,
          "name": "taufan wiguna",
          "x1": -1.5178769826889038,
          "x2": -3.031038999557495
         },
         {
          "label": 1,
          "name": "edho prima arief",
          "x1": -2.1663365364074707,
          "x2": -7.451430797576904
         },
         {
          "label": 0,
          "name": "eka mukti arifah",
          "x1": -1.4520145654678345,
          "x2": -7.41449499130249
         },
         {
          "label": 1,
          "name": "nikki dibya wardhana",
          "x1": -0.8463086485862732,
          "x2": -5.735322952270508
         },
         {
          "label": 0,
          "name": "anggi maulida",
          "x1": -1.316889762878418,
          "x2": -4.003268241882324
         },
         {
          "label": 1,
          "name": "januar dwiatma permana",
          "x1": -0.3756016492843628,
          "x2": -4.586512088775635
         },
         {
          "label": 1,
          "name": "yosia adriel kornelius",
          "x1": -3.4617903232574463,
          "x2": -6.221630096435547
         },
         {
          "label": 1,
          "name": "roberta adjiviantoro",
          "x1": -4.916012763977051,
          "x2": -7.070796966552734
         },
         {
          "label": 1,
          "name": "helmy muslim sutarto",
          "x1": -3.012310743331909,
          "x2": -8.072888374328613
         },
         {
          "label": 1,
          "name": "ahmad fairuz",
          "x1": 0.6798837184906006,
          "x2": -7.444424629211426
         },
         {
          "label": 0,
          "name": "clarissa angga gunawan",
          "x1": -1.2492647171020508,
          "x2": -3.339099407196045
         },
         {
          "label": 1,
          "name": "bambang aryo nugroho",
          "x1": -4.977931976318359,
          "x2": -7.775033473968506
         },
         {
          "label": 1,
          "name": "diego julianus a",
          "x1": -2.6157548427581787,
          "x2": -7.066660404205322
         },
         {
          "label": 1,
          "name": "budi fani tarigan",
          "x1": -2.1716954708099365,
          "x2": -5.7340826988220215
         },
         {
          "label": 1,
          "name": "fredrik leonardo",
          "x1": -3.555248737335205,
          "x2": -7.805419921875
         },
         {
          "label": 1,
          "name": "fela rizki wardana",
          "x1": -1.2425434589385986,
          "x2": -5.9920268058776855
         },
         {
          "label": 1,
          "name": "evan oktavianus",
          "x1": -3.5118296146392822,
          "x2": -5.593202590942383
         },
         {
          "label": 1,
          "name": "rianto wibowo",
          "x1": -5.681727886199951,
          "x2": -8.776688575744629
         },
         {
          "label": 0,
          "name": "hilda nurlaeli",
          "x1": -2.586758613586426,
          "x2": -6.931224822998047
         },
         {
          "label": 0,
          "name": "frikza etsia pramadina",
          "x1": 0.49575626850128174,
          "x2": -4.555051803588867
         },
         {
          "label": 0,
          "name": "irma palupi",
          "x1": -2.4355573654174805,
          "x2": -7.2415666580200195
         },
         {
          "label": 0,
          "name": "fitaria setioso",
          "x1": -3.3234004974365234,
          "x2": -4.686814308166504
         },
         {
          "label": 1,
          "name": "yudawan aji pratomo",
          "x1": -4.755204200744629,
          "x2": -7.693068504333496
         },
         {
          "label": 0,
          "name": "bestri aprilia",
          "x1": -2.8082330226898193,
          "x2": -6.600074768066406
         },
         {
          "label": 0,
          "name": "warhamni",
          "x1": -1.8327443599700928,
          "x2": -7.199438571929932
         },
         {
          "label": 1,
          "name": "yana septiana",
          "x1": -1.2176483869552612,
          "x2": -4.750056266784668
         },
         {
          "label": 1,
          "name": "ersam richard parura",
          "x1": -0.06638287007808685,
          "x2": -6.1173553466796875
         },
         {
          "label": 0,
          "name": "endah agustina lestari",
          "x1": -5.334233283996582,
          "x2": -5.321770191192627
         },
         {
          "label": 1,
          "name": "suryadi",
          "x1": -2.077456474304199,
          "x2": -8.677327156066895
         },
         {
          "label": 0,
          "name": "yenny delvia rosa br sinaga",
          "x1": -2.7590830326080322,
          "x2": -5.794445991516113
         },
         {
          "label": 0,
          "name": "chitra risnayanti",
          "x1": -4.147871494293213,
          "x2": -5.474985122680664
         },
         {
          "label": 1,
          "name": "hardian prabianto",
          "x1": -4.782217502593994,
          "x2": -6.166778564453125
         },
         {
          "label": 1,
          "name": "boylan pardosi",
          "x1": -3.538142681121826,
          "x2": -7.975070476531982
         },
         {
          "label": 1,
          "name": "ahmad reza",
          "x1": 0.7898540496826172,
          "x2": -7.357850551605225
         },
         {
          "label": 0,
          "name": "mia wismiati",
          "x1": -3.8283865451812744,
          "x2": -5.108907699584961
         },
         {
          "label": 0,
          "name": "fitria soeyono",
          "x1": -4.478487014770508,
          "x2": -7.754654884338379
         },
         {
          "label": 1,
          "name": "ruben junus silaban",
          "x1": -3.795626640319824,
          "x2": -6.748759746551514
         },
         {
          "label": 0,
          "name": "amalina ghaisani komarudin",
          "x1": -1.4457457065582275,
          "x2": -5.052155017852783
         },
         {
          "label": 0,
          "name": "puri purwantini",
          "x1": -3.6796481609344482,
          "x2": -3.405315399169922
         },
         {
          "label": 1,
          "name": "zikril hakim",
          "x1": -1.9234416484832764,
          "x2": -7.486588478088379
         },
         {
          "label": 1,
          "name": "m bagir",
          "x1": -2.4396169185638428,
          "x2": -7.641629695892334
         },
         {
          "label": 1,
          "name": "irfan siddik",
          "x1": -2.025379180908203,
          "x2": -7.2640886306762695
         },
         {
          "label": 0,
          "name": "feby anggraeni",
          "x1": -3.349137783050537,
          "x2": -6.624568462371826
         },
         {
          "label": 0,
          "name": "yusy novia",
          "x1": -3.8013904094696045,
          "x2": -8.094852447509766
         },
         {
          "label": 0,
          "name": "mirna nurmeilasari",
          "x1": -2.093766450881958,
          "x2": -5.728119850158691
         },
         {
          "label": 0,
          "name": "cut duhita handaru",
          "x1": -0.8473325371742249,
          "x2": -6.123553276062012
         },
         {
          "label": 1,
          "name": "gilang pandu winata",
          "x1": -1.1721004247665405,
          "x2": -4.046062469482422
         },
         {
          "label": 1,
          "name": "muhammad fikri ramadhana",
          "x1": 3.304438591003418,
          "x2": -5.1460747718811035
         },
         {
          "label": 1,
          "name": "budi satrio",
          "x1": -3.947983741760254,
          "x2": -8.46491813659668
         },
         {
          "label": 0,
          "name": "sarah rasyidah",
          "x1": -0.18897689878940582,
          "x2": -6.5243353843688965
         },
         {
          "label": 1,
          "name": "radius nagassa setyo suryadharma",
          "x1": 0.279485285282135,
          "x2": -3.5204074382781982
         },
         {
          "label": 1,
          "name": "muchamad ramdhan",
          "x1": 2.8725316524505615,
          "x2": -5.221324920654297
         },
         {
          "label": 1,
          "name": "fabio dwi tangguh putra",
          "x1": -3.1492345333099365,
          "x2": -2.4503417015075684
         },
         {
          "label": 1,
          "name": "ridha budi nugraha",
          "x1": 1.4146543741226196,
          "x2": -5.8987555503845215
         },
         {
          "label": 0,
          "name": "luciana tri handayani",
          "x1": -1.146262764930725,
          "x2": -4.712709903717041
         },
         {
          "label": 0,
          "name": "gusti intania primagustia noor",
          "x1": -5.227384567260742,
          "x2": -5.222611427307129
         },
         {
          "label": 1,
          "name": "vilfredo marojahan naibaho",
          "x1": 0.02529839053750038,
          "x2": -6.5834808349609375
         },
         {
          "label": 1,
          "name": "deni arifakhroji",
          "x1": -1.736667275428772,
          "x2": -6.415891647338867
         },
         {
          "label": 0,
          "name": "indahyu b l s",
          "x1": -2.5165719985961914,
          "x2": -8.425958633422852
         },
         {
          "label": 1,
          "name": "antonius l tobing",
          "x1": -5.030635833740234,
          "x2": -6.533830165863037
         },
         {
          "label": 0,
          "name": "aprilia setiyarti rahmani",
          "x1": -2.413142442703247,
          "x2": -5.648044586181641
         },
         {
          "label": 1,
          "name": "hendy sutanto",
          "x1": -5.2836127281188965,
          "x2": -6.824509620666504
         },
         {
          "label": 1,
          "name": "vandy putrandika",
          "x1": -3.1908023357391357,
          "x2": -2.4228219985961914
         },
         {
          "label": 1,
          "name": "gesa falugon",
          "x1": -2.8286020755767822,
          "x2": -7.5890350341796875
         },
         {
          "label": 1,
          "name": "adrianto",
          "x1": -5.0466742515563965,
          "x2": -6.303055763244629
         },
         {
          "label": 1,
          "name": "riyo pradibtya",
          "x1": -4.544864654541016,
          "x2": -7.46370792388916
         },
         {
          "label": 0,
          "name": "indriana apriani",
          "x1": -2.012861728668213,
          "x2": -5.038110256195068
         },
         {
          "label": 1,
          "name": "rico pradityo",
          "x1": -4.521646022796631,
          "x2": -7.755959987640381
         },
         {
          "label": 1,
          "name": "baharudin j muhammad",
          "x1": 3.573833703994751,
          "x2": -5.048837661743164
         },
         {
          "label": 1,
          "name": "wahyu pitoyo",
          "x1": -2.977548837661743,
          "x2": -8.915833473205566
         },
         {
          "label": 1,
          "name": "arianda akbar setiawan",
          "x1": -0.6184740662574768,
          "x2": -3.067692756652832
         },
         {
          "label": 1,
          "name": "rano",
          "x1": -3.7707927227020264,
          "x2": -7.9145331382751465
         },
         {
          "label": 0,
          "name": "aurista woro pratiwi",
          "x1": -3.971315383911133,
          "x2": -3.9455926418304443
         },
         {
          "label": 1,
          "name": "roland l buulolo",
          "x1": -3.5136077404022217,
          "x2": -8.285338401794434
         },
         {
          "label": 0,
          "name": "prisanti putri",
          "x1": -3.7170119285583496,
          "x2": -3.19437313079834
         },
         {
          "label": 0,
          "name": "j y nurin a i",
          "x1": -3.5299792289733887,
          "x2": -6.5257062911987305
         },
         {
          "label": 0,
          "name": "novita nurul fitriyani",
          "x1": -2.9232895374298096,
          "x2": -4.688796520233154
         },
         {
          "label": 1,
          "name": "gibsi situmorang",
          "x1": -3.443988561630249,
          "x2": -6.918087005615234
         },
         {
          "label": 1,
          "name": "banar singgih nugroho",
          "x1": -4.998050212860107,
          "x2": -7.765909671783447
         },
         {
          "label": 1,
          "name": "alrizal diyatno",
          "x1": -1.5854847431182861,
          "x2": -7.242883682250977
         },
         {
          "label": 0,
          "name": "mutia santoso",
          "x1": -5.4535813331604,
          "x2": -6.60601282119751
         },
         {
          "label": 0,
          "name": "dwi rachmawati",
          "x1": 0.9729937314987183,
          "x2": -6.6846842765808105
         },
         {
          "label": 1,
          "name": "augusta adha",
          "x1": 0.3268164098262787,
          "x2": -5.728679656982422
         },
         {
          "label": 1,
          "name": "muhammad zacky asy'ari",
          "x1": 3.7711777687072754,
          "x2": -5.234822750091553
         },
         {
          "label": 1,
          "name": "oryza nicodemus tarigan",
          "x1": -2.5999510288238525,
          "x2": -5.117324352264404
         },
         {
          "label": 1,
          "name": "bastian saputra",
          "x1": -3.4771530628204346,
          "x2": -2.181133270263672
         },
         {
          "label": 0,
          "name": "indah nurwulan",
          "x1": -1.0055792331695557,
          "x2": -6.264530658721924
         },
         {
          "label": 1,
          "name": "m hasbi hasan",
          "x1": -1.7215298414230347,
          "x2": -6.584495544433594
         },
         {
          "label": 0,
          "name": "lilyk eka suranny",
          "x1": -3.311676263809204,
          "x2": -7.341536521911621
         },
         {
          "label": 1,
          "name": "aryo wicaksono",
          "x1": -4.804646968841553,
          "x2": -8.722392082214355
         },
         {
          "label": 0,
          "name": "elfina",
          "x1": -3.0912258625030518,
          "x2": -7.003265380859375
         },
         {
          "label": 0,
          "name": "dewi setyowulan",
          "x1": -3.5848140716552734,
          "x2": -7.617613792419434
         },
         {
          "label": 0,
          "name": "santustya karunika",
          "x1": -1.7969704866409302,
          "x2": -5.960826396942139
         },
         {
          "label": 1,
          "name": "erik agustinus susanto",
          "x1": -5.475053787231445,
          "x2": -5.478477478027344
         },
         {
          "label": 1,
          "name": "ivan nurseptian",
          "x1": -3.731745481491089,
          "x2": -5.436859130859375
         },
         {
          "label": 1,
          "name": "nikolai ramos adelbert sirait",
          "x1": -1.6872689723968506,
          "x2": -5.584191799163818
         },
         {
          "label": 1,
          "name": "sujono",
          "x1": -4.05120849609375,
          "x2": -8.36752700805664
         },
         {
          "label": 1,
          "name": "m. hanief hilmy",
          "x1": -2.6565401554107666,
          "x2": -6.7095112800598145
         },
         {
          "label": 1,
          "name": "raden mas dewandanu",
          "x1": -0.3059714138507843,
          "x2": -5.848455429077148
         },
         {
          "label": 1,
          "name": "kadek fendy sutrisna",
          "x1": -3.475003719329834,
          "x2": -7.050858974456787
         },
         {
          "label": 1,
          "name": "eko mujiono",
          "x1": -4.099397659301758,
          "x2": -8.394721984863281
         },
         {
          "label": 1,
          "name": "fery santosa",
          "x1": -5.47245454788208,
          "x2": -6.673802375793457
         },
         {
          "label": 1,
          "name": "billi aryawima",
          "x1": -2.0160508155822754,
          "x2": -6.79697322845459
         },
         {
          "label": 1,
          "name": "moch choirul anwar",
          "x1": -0.9244332313537598,
          "x2": -7.735229969024658
         },
         {
          "label": 1,
          "name": "muhammad iqbal faisal",
          "x1": 3.4998035430908203,
          "x2": -5.302465915679932
         },
         {
          "label": 1,
          "name": "andreas parry lietara",
          "x1": 0.05418005585670471,
          "x2": -5.651854515075684
         },
         {
          "label": 0,
          "name": "dwilya amadea",
          "x1": -0.721173882484436,
          "x2": -6.874485492706299
         },
         {
          "label": 1,
          "name": "rady raziman dypatra",
          "x1": 0.6086881756782532,
          "x2": -4.847155570983887
         },
         {
          "label": 1,
          "name": "reza pramata",
          "x1": 0.761604905128479,
          "x2": -4.745355606079102
         },
         {
          "label": 0,
          "name": "arlavinda rezqita",
          "x1": -2.581108570098877,
          "x2": -5.74251651763916
         },
         {
          "label": 0,
          "name": "khadijah",
          "x1": -1.4345099925994873,
          "x2": -7.941126823425293
         },
         {
          "label": 1,
          "name": "turgod nainggolan",
          "x1": -1.3372191190719604,
          "x2": -3.9663350582122803
         },
         {
          "label": 1,
          "name": "rian ferdian",
          "x1": -3.102325201034546,
          "x2": -5.949172496795654
         },
         {
          "label": 1,
          "name": "sang putu ariesta indra permana",
          "x1": -2.818547010421753,
          "x2": -2.1736268997192383
         },
         {
          "label": 0,
          "name": "dinda elefani",
          "x1": -2.9864978790283203,
          "x2": -6.1552629470825195
         },
         {
          "label": 1,
          "name": "syafrullah",
          "x1": -1.0922391414642334,
          "x2": -7.918420314788818
         },
         {
          "label": 1,
          "name": "raden dhany rahadian sastra atmadja",
          "x1": 0.44824978709220886,
          "x2": -5.109274864196777
         },
         {
          "label": 1,
          "name": "chandra jinata",
          "x1": -0.39312437176704407,
          "x2": -5.364517688751221
         },
         {
          "label": 0,
          "name": "amalia istiqlali adiba",
          "x1": -1.2694065570831299,
          "x2": -6.762753963470459
         },
         {
          "label": 1,
          "name": "eko januari wahyudi",
          "x1": -2.7041242122650146,
          "x2": -9.025247573852539
         },
         {
          "label": 0,
          "name": "dinar yarani",
          "x1": -1.65972101688385,
          "x2": -5.086256980895996
         },
         {
          "label": 0,
          "name": "annapurni devi sabapathy",
          "x1": -1.0349096059799194,
          "x2": -4.709011077880859
         },
         {
          "label": 1,
          "name": "giantara renaldi",
          "x1": -1.6868157386779785,
          "x2": -4.568370342254639
         },
         {
          "label": 1,
          "name": "muhamad miftachudin",
          "x1": 3.4034383296966553,
          "x2": -4.9474687576293945
         },
         {
          "label": 1,
          "name": "adrianto",
          "x1": -5.059389591217041,
          "x2": -6.328047275543213
         },
         {
          "label": 1,
          "name": "kukuh nasrul wicaksono",
          "x1": -4.809032917022705,
          "x2": -8.74449348449707
         },
         {
          "label": 1,
          "name": "i made aditya s",
          "x1": 0.058971039950847626,
          "x2": -4.153850078582764
         },
         {
          "label": 1,
          "name": "tobias prawira tumbuan",
          "x1": -2.456336736679077,
          "x2": -4.1887688636779785
         },
         {
          "label": 0,
          "name": "eli komalawati",
          "x1": -4.142627239227295,
          "x2": -4.528443336486816
         },
         {
          "label": 0,
          "name": "nurieta rizky oktavia eka putri",
          "x1": -3.4273674488067627,
          "x2": -2.7187705039978027
         },
         {
          "label": 1,
          "name": "azfar abimoto",
          "x1": -3.5859079360961914,
          "x2": -8.197772026062012
         },
         {
          "label": 1,
          "name": "danar tri yurindatama",
          "x1": -1.105625033378601,
          "x2": -5.135433673858643
         },
         {
          "label": 1,
          "name": "glen christian",
          "x1": -5.1092729568481445,
          "x2": -4.568674564361572
         },
         {
          "label": 1,
          "name": "fahmi rahmadani",
          "x1": 0.7187293171882629,
          "x2": -7.085984230041504
         },
         {
          "label": 1,
          "name": "muhamad faisal baehaki",
          "x1": 3.463069200515747,
          "x2": -5.407931327819824
         },
         {
          "label": 1,
          "name": "dedy firmansyah",
          "x1": 1.3118319511413574,
          "x2": -8.400238037109375
         },
         {
          "label": 1,
          "name": "grandis ardhi seto p",
          "x1": -1.934585690498352,
          "x2": -7.1719136238098145
         },
         {
          "label": 1,
          "name": "merrick jonathan",
          "x1": -4.3795342445373535,
          "x2": -7.094668865203857
         },
         {
          "label": 1,
          "name": "eka satrya bontang koesuma wardhana",
          "x1": -0.40834152698516846,
          "x2": -4.484084129333496
         },
         {
          "label": 0,
          "name": "novi kumala sari",
          "x1": -2.1040375232696533,
          "x2": -5.844317436218262
         },
         {
          "label": 1,
          "name": "dadan wardana",
          "x1": -0.05094948783516884,
          "x2": -5.11644172668457
         },
         {
          "label": 1,
          "name": "andika mulrosha",
          "x1": -0.8427007794380188,
          "x2": -6.616880893707275
         },
         {
          "label": 1,
          "name": "felisianus arnold ekachandra wibisono",
          "x1": -1.005274772644043,
          "x2": -5.058087348937988
         },
         {
          "label": 1,
          "name": "benny nafariza",
          "x1": -2.174558162689209,
          "x2": -6.494754791259766
         },
         {
          "label": 0,
          "name": "yuli nurmalasari",
          "x1": -2.1693716049194336,
          "x2": -6.0250349044799805
         },
         {
          "label": 0,
          "name": "yusnita yunus",
          "x1": -2.4956860542297363,
          "x2": -8.65941047668457
         },
         {
          "label": 1,
          "name": "thomas junior sembiring",
          "x1": -3.789848804473877,
          "x2": -7.299487590789795
         },
         {
          "label": 1,
          "name": "harun",
          "x1": -2.4209163188934326,
          "x2": -7.886074066162109
         },
         {
          "label": 1,
          "name": "dwiyananta sumarwoto",
          "x1": -4.820082187652588,
          "x2": -5.984863758087158
         },
         {
          "label": 0,
          "name": "amanda lestari",
          "x1": -1.1698005199432373,
          "x2": -5.870206832885742
         },
         {
          "label": 0,
          "name": "fina ginting",
          "x1": -3.812136650085449,
          "x2": -5.978687286376953
         },
         {
          "label": 1,
          "name": "rizki perdana putra",
          "x1": -2.966024398803711,
          "x2": -2.0408670902252197
         },
         {
          "label": 1,
          "name": "christian gunawan",
          "x1": -5.124766826629639,
          "x2": -4.508868217468262
         },
         {
          "label": 1,
          "name": "willya hendra",
          "x1": -3.0307559967041016,
          "x2": -8.760153770446777
         },
         {
          "label": 1,
          "name": "aga dian baskara",
          "x1": -0.4977013170719147,
          "x2": -4.7044878005981445
         },
         {
          "label": 0,
          "name": "dwinta widyastuti",
          "x1": -4.242721080780029,
          "x2": -4.8784613609313965
         },
         {
          "label": 1,
          "name": "almadani jayadi",
          "x1": -0.43888628482818604,
          "x2": -5.274217128753662
         },
         {
          "label": 1,
          "name": "dono p h s",
          "x1": -3.9913489818573,
          "x2": -8.311348915100098
         },
         {
          "label": 1,
          "name": "amin mutohar",
          "x1": -1.893022894859314,
          "x2": -7.438950538635254
         },
         {
          "label": 0,
          "name": "karina apriana",
          "x1": -1.8285226821899414,
          "x2": -4.949530601501465
         },
         {
          "label": 0,
          "name": "frilla ariani",
          "x1": -2.196892738342285,
          "x2": -5.2953386306762695
         },
         {
          "label": 1,
          "name": "muharram leo augusta",
          "x1": 0.5223746299743652,
          "x2": -5.688365459442139
         },
         {
          "label": 0,
          "name": "stephanie liana utami sutoko",
          "x1": -4.863739967346191,
          "x2": -5.242153167724609
         },
         {
          "label": 1,
          "name": "raden aditya wibawa sakti",
          "x1": 0.07575200498104095,
          "x2": -3.9675991535186768
         },
         {
          "label": 0,
          "name": "arina rahmawati",
          "x1": 0.9186214804649353,
          "x2": -6.695742607116699
         },
         {
          "label": 1,
          "name": "jonathan julian",
          "x1": -4.375511169433594,
          "x2": -7.015091419219971
         },
         {
          "label": 1,
          "name": "anggia riksa ramadhan",
          "x1": 0.41319313645362854,
          "x2": -5.394165515899658
         },
         {
          "label": 1,
          "name": "virza saputra",
          "x1": -3.455150604248047,
          "x2": -2.2507498264312744
         },
         {
          "label": 1,
          "name": "daud yusup tanghamap",
          "x1": 0.09763950854539871,
          "x2": -5.300419807434082
         },
         {
          "label": 1,
          "name": "yudha indrawan",
          "x1": -0.37315163016319275,
          "x2": -5.387645244598389
         },
         {
          "label": 1,
          "name": "raihan lukman mahfoedz",
          "x1": -0.03093618154525757,
          "x2": -6.58699893951416
         },
         {
          "label": 1,
          "name": "haris setiawan",
          "x1": -0.7130866646766663,
          "x2": -2.890241861343384
         },
         {
          "label": 0,
          "name": "dian larasati",
          "x1": -2.181264877319336,
          "x2": -4.446511268615723
         },
         {
          "label": 0,
          "name": "niluh made dwita ginantari",
          "x1": -2.5622963905334473,
          "x2": -4.47341251373291
         },
         {
          "label": 0,
          "name": "dinie dyah ayu p",
          "x1": -1.9490375518798828,
          "x2": -8.673866271972656
         },
         {
          "label": 1,
          "name": "malendra rusni",
          "x1": -2.9225034713745117,
          "x2": -8.53648567199707
         },
         {
          "label": 1,
          "name": "ivan kristianto singgih",
          "x1": -4.947197437286377,
          "x2": -4.70680046081543
         },
         {
          "label": 0,
          "name": "alifia",
          "x1": -2.3159611225128174,
          "x2": -6.870316982269287
         },
         {
          "label": 1,
          "name": "cherindra ekapramudya s",
          "x1": 0.38108494877815247,
          "x2": -4.909259796142578
         },
         {
          "label": 1,
          "name": "arief budiman",
          "x1": -2.0411791801452637,
          "x2": -7.485253810882568
         },
         {
          "label": 1,
          "name": "bagus pradistyo utomo",
          "x1": -4.435618877410889,
          "x2": -8.590658187866211
         },
         {
          "label": 0,
          "name": "dona yuliati",
          "x1": -3.096790313720703,
          "x2": -6.648568153381348
         },
         {
          "label": 0,
          "name": "novie sri wahyuni",
          "x1": -3.0043957233428955,
          "x2": -8.800105094909668
         },
         {
          "label": 1,
          "name": "hendi s",
          "x1": -3.23465895652771,
          "x2": -8.538886070251465
         },
         {
          "label": 1,
          "name": "aris irmi",
          "x1": -2.171175479888916,
          "x2": -6.812655925750732
         },
         {
          "label": 1,
          "name": "panji wicaksono",
          "x1": -4.812915802001953,
          "x2": -8.719062805175781
         },
         {
          "label": 1,
          "name": "ibnu sutowo",
          "x1": -4.156160354614258,
          "x2": -8.329475402832031
         },
         {
          "label": 0,
          "name": "justisia duhita dewi",
          "x1": -3.9257452487945557,
          "x2": -4.803961277008057
         },
         {
          "label": 1,
          "name": "martin susanto",
          "x1": -5.218267917633057,
          "x2": -6.6517486572265625
         },
         {
          "label": 1,
          "name": "lucas bonifasio nugraha perdana hardjosoekanta",
          "x1": -0.28325843811035156,
          "x2": -4.777127265930176
         },
         {
          "label": 0,
          "name": "siti mardiyah",
          "x1": -3.98441481590271,
          "x2": -5.7333831787109375
         },
         {
          "label": 1,
          "name": "ryan imansyah",
          "x1": 1.1014386415481567,
          "x2": -8.321023941040039
         },
         {
          "label": 1,
          "name": "oka mahendra saputra",
          "x1": -3.2832744121551514,
          "x2": -2.099097490310669
         },
         {
          "label": 0,
          "name": "fitria adani",
          "x1": -3.095292091369629,
          "x2": -4.553912162780762
         },
         {
          "label": 0,
          "name": "ingrid puspita",
          "x1": -3.2027525901794434,
          "x2": -3.767557382583618
         },
         {
          "label": 1,
          "name": "ashari budi nugraha",
          "x1": 1.3483974933624268,
          "x2": -5.899348258972168
         },
         {
          "label": 0,
          "name": "ni'mah lidinillah",
          "x1": -2.122936964035034,
          "x2": -6.783721923828125
         },
         {
          "label": 1,
          "name": "dirga rikandhi",
          "x1": -1.5432254076004028,
          "x2": -6.432754993438721
         },
         {
          "label": 1,
          "name": "aditya renatus",
          "x1": 0.15037009119987488,
          "x2": -4.018696308135986
         },
         {
          "label": 0,
          "name": "adeline",
          "x1": -3.11564564704895,
          "x2": -6.904687881469727
         },
         {
          "label": 0,
          "name": "habiba sariwibawa ahmad zaeni",
          "x1": 0.9379941821098328,
          "x2": -6.880064010620117
         },
         {
          "label": 0,
          "name": "fitriani wulandari",
          "x1": -2.438554048538208,
          "x2": -4.922270774841309
         },
         {
          "label": 1,
          "name": "muhammad effendi kusuma adipati",
          "x1": 3.568450450897217,
          "x2": -4.997471809387207
         },
         {
          "label": 0,
          "name": "melati arum ekasari",
          "x1": -2.2356860637664795,
          "x2": -5.91494083404541
         },
         {
          "label": 1,
          "name": "ridho harry taufan pardede",
          "x1": -0.16400939226150513,
          "x2": -6.122104644775391
         },
         {
          "label": 1,
          "name": "alfan farizki wicaksono",
          "x1": -4.827814102172852,
          "x2": -8.724629402160645
         },
         {
          "label": 0,
          "name": "anggita hapsari grisatya",
          "x1": -2.3221311569213867,
          "x2": -3.844209909439087
         },
         {
          "label": 0,
          "name": "fitri setya mukti ningsih",
          "x1": -3.5302839279174805,
          "x2": -4.95284366607666
         },
         {
          "label": 1,
          "name": "deden",
          "x1": -3.250562906265259,
          "x2": -7.935264587402344
         },
         {
          "label": 1,
          "name": "diaz palestine",
          "x1": -3.285109758377075,
          "x2": -6.453124523162842
         },
         {
          "label": 0,
          "name": "mutiara ayuningtias",
          "x1": -3.603442430496216,
          "x2": -4.398636341094971
         },
         {
          "label": 1,
          "name": "agus deni purnama",
          "x1": -0.38048985600471497,
          "x2": -6.089278697967529
         },
         {
          "label": 0,
          "name": "rira nurmaida",
          "x1": -1.0671042203903198,
          "x2": -5.895027160644531
         },
         {
          "label": 1,
          "name": "yoseph suryadharma",
          "x1": 0.30530980229377747,
          "x2": -3.552792549133301
         },
         {
          "label": 0,
          "name": "i g a asthelita savitri sari",
          "x1": -2.573111057281494,
          "x2": -3.9009311199188232
         },
         {
          "label": 0,
          "name": "nur liyana binti roslan",
          "x1": -3.3991830348968506,
          "x2": -5.537703990936279
         },
         {
          "label": 1,
          "name": "iqbal noerman",
          "x1": -2.9407832622528076,
          "x2": -7.2558979988098145
         },
         {
          "label": 1,
          "name": "aditya priyo nugroho",
          "x1": -4.828024864196777,
          "x2": -7.783869743347168
         },
         {
          "label": 1,
          "name": "trian widya effransa",
          "x1": -1.9683456420898438,
          "x2": -5.249622821807861
         },
         {
          "label": 1,
          "name": "fahmy",
          "x1": -1.8669931888580322,
          "x2": -8.071554183959961
         },
         {
          "label": 1,
          "name": "ananta bagas rinarta",
          "x1": -0.9990330338478088,
          "x2": -4.352395057678223
         },
         {
          "label": 1,
          "name": "agung kurnia",
          "x1": -1.39642333984375,
          "x2": -2.1479129791259766
         },
         {
          "label": 1,
          "name": "agung dharmanto",
          "x1": -1.6314135789871216,
          "x2": -3.138284921646118
         },
         {
          "label": 1,
          "name": "rengga kharisma",
          "x1": -1.3438470363616943,
          "x2": -6.615225315093994
         },
         {
          "label": 1,
          "name": "ahmad yuda pranata",
          "x1": 0.6189249753952026,
          "x2": -4.576032638549805
         },
         {
          "label": 0,
          "name": "birgitta alfa maresha p",
          "x1": -0.6600474715232849,
          "x2": -6.460657119750977
         },
         {
          "label": 1,
          "name": "fadillah purnama rezha",
          "x1": -0.6880975365638733,
          "x2": -6.9908037185668945
         },
         {
          "label": 0,
          "name": "ismi ridha asy-syifaa",
          "x1": -1.3097448348999023,
          "x2": -7.923717498779297
         },
         {
          "label": 1,
          "name": "ekkal dinanto",
          "x1": -4.792819976806641,
          "x2": -6.348397254943848
         },
         {
          "label": 1,
          "name": "afrian idrus",
          "x1": -3.4222047328948975,
          "x2": -5.91032075881958
         },
         {
          "label": 1,
          "name": "fredrik l s l gaol",
          "x1": -3.1162798404693604,
          "x2": -7.59609317779541
         },
         {
          "label": 0,
          "name": "yunita farmianti",
          "x1": -3.2772014141082764,
          "x2": -4.741745471954346
         },
         {
          "label": 1,
          "name": "gerdhy ferdian",
          "x1": -3.427647590637207,
          "x2": -6.546451568603516
         },
         {
          "label": 1,
          "name": "krisna larmiana",
          "x1": -1.876846194267273,
          "x2": -5.126175880432129
         },
         {
          "label": 0,
          "name": "winda sartika",
          "x1": -2.3053171634674072,
          "x2": -5.726588726043701
         },
         {
          "label": 1,
          "name": "willy wirawan",
          "x1": -1.3395488262176514,
          "x2": -5.48141622543335
         },
         {
          "label": 0,
          "name": "dian rahmawati",
          "x1": 0.9402780532836914,
          "x2": -6.6806721687316895
         },
         {
          "label": 1,
          "name": "rayersad saesar a",
          "x1": -2.4692232608795166,
          "x2": -6.92153263092041
         },
         {
          "label": 0,
          "name": "della kemalasari",
          "x1": -1.833909034729004,
          "x2": -6.008154392242432
         },
         {
          "label": 0,
          "name": "anis istiqomah",
          "x1": -3.713029146194458,
          "x2": -5.406078815460205
         },
         {
          "label": 1,
          "name": "rudy arbi halasan",
          "x1": -0.5014598965644836,
          "x2": -6.689204216003418
         },
         {
          "label": 1,
          "name": "edyanta samuel surbakti",
          "x1": -5.143377780914307,
          "x2": -6.328832626342773
         },
         {
          "label": 1,
          "name": "tris indra pratama",
          "x1": 0.7761290073394775,
          "x2": -4.567965030670166
         },
         {
          "label": 1,
          "name": "muhamad arief akbar",
          "x1": 3.7923455238342285,
          "x2": -5.144171237945557
         },
         {
          "label": 1,
          "name": "eka adhitya kurniawan",
          "x1": -1.109947681427002,
          "x2": -1.4950488805770874
         },
         {
          "label": 0,
          "name": "kory pranita andriyati",
          "x1": -1.8463515043258667,
          "x2": -4.731333255767822
         },
         {
          "label": 0,
          "name": "fitria dwi ayuningtyas",
          "x1": -3.6746110916137695,
          "x2": -4.177029132843018
         },
         {
          "label": 0,
          "name": "lina marliana s",
          "x1": -1.6751797199249268,
          "x2": -5.156423568725586
         },
         {
          "label": 1,
          "name": "indra irawan",
          "x1": -0.5914183259010315,
          "x2": -5.273303985595703
         },
         {
          "label": 1,
          "name": "garry gulfiano pane",
          "x1": -1.08877432346344,
          "x2": -4.505385875701904
         },
         {
          "label": 0,
          "name": "zilva rifanti latifa",
          "x1": -1.5214288234710693,
          "x2": -6.9332404136657715
         },
         {
          "label": 0,
          "name": "mutiara widawati",
          "x1": -4.130755424499512,
          "x2": -4.36613655090332
         },
         {
          "label": 1,
          "name": "aditya maulana yusuf",
          "x1": -0.34038451313972473,
          "x2": -7.6482062339782715
         },
         {
          "label": 1,
          "name": "andri hardiansyah",
          "x1": 1.2484582662582397,
          "x2": -8.746904373168945
         },
         {
          "label": 0,
          "name": "shinta ayunia",
          "x1": -3.745408296585083,
          "x2": -4.492816925048828
         },
         {
          "label": 1,
          "name": "gilang wisyatama",
          "x1": -0.8905726671218872,
          "x2": -4.012246131896973
         },
         {
          "label": 0,
          "name": "risfania swardita",
          "x1": -1.8576916456222534,
          "x2": -5.605908393859863
         },
         {
          "label": 1,
          "name": "ignatius garry ongiriwalu",
          "x1": -3.45011568069458,
          "x2": -6.0888800621032715
         },
         {
          "label": 1,
          "name": "okky kusuma",
          "x1": -2.2358944416046143,
          "x2": -8.369786262512207
         },
         {
          "label": 0,
          "name": "eliza bratadjaja",
          "x1": -1.2188007831573486,
          "x2": -6.869724750518799
         },
         {
          "label": 1,
          "name": "rifqy hakimi",
          "x1": -1.9591470956802368,
          "x2": -7.299655437469482
         },
         {
          "label": 1,
          "name": "edi junedi",
          "x1": -3.1157424449920654,
          "x2": -8.21947956085205
         },
         {
          "label": 1,
          "name": "bayu adi dharma",
          "x1": 0.0035052308812737465,
          "x2": -6.371700286865234
         },
         {
          "label": 1,
          "name": "yudhistira wongso",
          "x1": -3.040926456451416,
          "x2": -9.194779396057129
         },
         {
          "label": 1,
          "name": "akhmad muchlisin",
          "x1": 0.8711951375007629,
          "x2": -7.443399906158447
         },
         {
          "label": 0,
          "name": "werdi isna retnowati",
          "x1": -4.112983226776123,
          "x2": -4.59364128112793
         },
         {
          "label": 0,
          "name": "retnoastuti ratih listyorini",
          "x1": -4.233189105987549,
          "x2": -4.649562835693359
         },
         {
          "label": 1,
          "name": "rizcky tamarany",
          "x1": 0.04017737880349159,
          "x2": -6.077986240386963
         },
         {
          "label": 1,
          "name": "awaluddin",
          "x1": -2.522754669189453,
          "x2": -8.712428092956543
         },
         {
          "label": 0,
          "name": "sutinah",
          "x1": -3.429492712020874,
          "x2": -6.872812747955322
         },
         {
          "label": 0,
          "name": "rini carolina simanjuntak",
          "x1": -4.0031208992004395,
          "x2": -5.848924160003662
         },
         {
          "label": 1,
          "name": "yan piter joyo pramono",
          "x1": -4.569956302642822,
          "x2": -8.114007949829102
         },
         {
          "label": 0,
          "name": "pretty rosanawita",
          "x1": -3.137134313583374,
          "x2": -4.588137149810791
         },
         {
          "label": 1,
          "name": "steven romario t tarigan",
          "x1": -2.81899356842041,
          "x2": -5.010467529296875
         },
         {
          "label": 0,
          "name": "murani dwihapsari",
          "x1": -2.409745931625366,
          "x2": -4.512670516967773
         },
         {
          "label": 1,
          "name": "wisnu manupraba",
          "x1": -2.4354007244110107,
          "x2": -7.484644412994385
         },
         {
          "label": 1,
          "name": "imam maulana",
          "x1": -0.27212798595428467,
          "x2": -7.604374885559082
         },
         {
          "label": 1,
          "name": "maximillian eureka stef dondo",
          "x1": -2.4046828746795654,
          "x2": -6.9975104331970215
         },
         {
          "label": 1,
          "name": "rico milza",
          "x1": -2.380882501602173,
          "x2": -7.564115047454834
         },
         {
          "label": 1,
          "name": "aditya banuaji",
          "x1": 0.09330946952104568,
          "x2": -4.029990196228027
         },
         {
          "label": 0,
          "name": "indriani rustomo",
          "x1": -3.8415284156799316,
          "x2": -6.208207607269287
         },
         {
          "label": 1,
          "name": "anwari ilman",
          "x1": -1.521445631980896,
          "x2": -5.6500091552734375
         },
         {
          "label": 1,
          "name": "kopdi kardi saragih",
          "x1": -1.4275550842285156,
          "x2": -6.5951457023620605
         },
         {
          "label": 1,
          "name": "romanus prima k",
          "x1": -2.2319717407226562,
          "x2": -7.089483737945557
         },
         {
          "label": 1,
          "name": "ilham arta p",
          "x1": -0.7359696626663208,
          "x2": -6.706231594085693
         },
         {
          "label": 1,
          "name": "berli setiadi",
          "x1": -0.4641658663749695,
          "x2": -2.9101829528808594
         },
         {
          "label": 0,
          "name": "putri syirfasari",
          "x1": -3.187469244003296,
          "x2": -3.3436148166656494
         },
         {
          "label": 1,
          "name": "salman muhammad ibadurrahman",
          "x1": 3.5530760288238525,
          "x2": -5.241399765014648
         },
         {
          "label": 1,
          "name": "mohd hafis zaireen b. jamaludin",
          "x1": -0.24068894982337952,
          "x2": -6.534860134124756
         },
         {
          "label": 1,
          "name": "eko budhi susanto",
          "x1": -5.438030242919922,
          "x2": -6.588648796081543
         },
         {
          "label": 1,
          "name": "sekuntry m togatorop",
          "x1": -4.605603218078613,
          "x2": -8.005382537841797
         },
         {
          "label": 1,
          "name": "josua johan p sipayung",
          "x1": -3.936784505844116,
          "x2": -6.7921576499938965
         },
         {
          "label": 1,
          "name": "irpan waliana",
          "x1": -1.6345916986465454,
          "x2": -4.890840530395508
         },
         {
          "label": 0,
          "name": "tiffany adriana",
          "x1": -1.9112335443496704,
          "x2": -5.184028148651123
         },
         {
          "label": 1,
          "name": "feidy timotius",
          "x1": -3.7220704555511475,
          "x2": -7.889310836791992
         },
         {
          "label": 1,
          "name": "giovanni sutanto",
          "x1": -4.663891315460205,
          "x2": -5.771153926849365
         },
         {
          "label": 0,
          "name": "winiarti",
          "x1": -3.8665096759796143,
          "x2": -4.910629749298096
         },
         {
          "label": 1,
          "name": "muhamad bintang hadi prayoga",
          "x1": 2.825765609741211,
          "x2": -5.114604949951172
         },
         {
          "label": 1,
          "name": "reyza hamida praja",
          "x1": 0.027952339500188828,
          "x2": -6.172646999359131
         },
         {
          "label": 1,
          "name": "rachmad awaluddin",
          "x1": 0.8981299996376038,
          "x2": -7.213509559631348
         },
         {
          "label": 1,
          "name": "tresnadi prabowo",
          "x1": -5.259036064147949,
          "x2": -8.60926628112793
         },
         {
          "label": 1,
          "name": "aldrin maulana",
          "x1": -0.3187609612941742,
          "x2": -7.591972827911377
         },
         {
          "label": 1,
          "name": "dandy rieza auliandri",
          "x1": -0.8648266196250916,
          "x2": -5.661544322967529
         },
         {
          "label": 0,
          "name": "silmi marisa",
          "x1": -2.077648878097534,
          "x2": -6.4302496910095215
         },
         {
          "label": 1,
          "name": "muhammad iqbal",
          "x1": 3.413327693939209,
          "x2": -5.077409267425537
         },
         {
          "label": 0,
          "name": "irma ardianti",
          "x1": -4.263149261474609,
          "x2": -5.866731643676758
         },
         {
          "label": 1,
          "name": "afif saputra",
          "x1": -3.493508815765381,
          "x2": -2.236494541168213
         },
         {
          "label": 1,
          "name": "yulius satriadi gunawan",
          "x1": -2.588226318359375,
          "x2": -4.581479549407959
         },
         {
          "label": 1,
          "name": "risvan dirza",
          "x1": -1.8060976266860962,
          "x2": -6.838284969329834
         },
         {
          "label": 1,
          "name": "rifqi ardliansyah",
          "x1": 1.15474534034729,
          "x2": -8.828261375427246
         },
         {
          "label": 0,
          "name": "atyka limiharja",
          "x1": -1.3632183074951172,
          "x2": -7.223567008972168
         },
         {
          "label": 1,
          "name": "mangisi dedy putrawan sinaga",
          "x1": -1.6731611490249634,
          "x2": -3.6460137367248535
         },
         {
          "label": 0,
          "name": "christine elizabeth",
          "x1": -5.027429580688477,
          "x2": -4.603492736816406
         },
         {
          "label": 0,
          "name": "grace yudistira",
          "x1": -2.9656546115875244,
          "x2": -9.195687294006348
         },
         {
          "label": 0,
          "name": "gayatri eka saputri",
          "x1": -3.396174669265747,
          "x2": -2.6792304515838623
         },
         {
          "label": 1,
          "name": "andri zainudin",
          "x1": -2.697498083114624,
          "x2": -5.990059852600098
         },
         {
          "label": 0,
          "name": "siti hazar",
          "x1": -2.4773941040039062,
          "x2": -7.416019439697266
         },
         {
          "label": 0,
          "name": "nurlayla arbie",
          "x1": -1.159959316253662,
          "x2": -7.2019782066345215
         },
         {
          "label": 1,
          "name": "wisnu eka prawira",
          "x1": -2.684626817703247,
          "x2": -4.1755146980285645
         },
         {
          "label": 1,
          "name": "endy firmansyah",
          "x1": 1.3548599481582642,
          "x2": -8.449542999267578
         },
         {
          "label": 1,
          "name": "fahrul rozi",
          "x1": -2.0152781009674072,
          "x2": -8.124341011047363
         },
         {
          "label": 1,
          "name": "ilham inawel",
          "x1": -2.245617389678955,
          "x2": -6.883874416351318
         },
         {
          "label": 0,
          "name": "winda winanti",
          "x1": -3.8591737747192383,
          "x2": -5.467774868011475
         },
         {
          "label": 1,
          "name": "dion",
          "x1": -3.6304712295532227,
          "x2": -8.139032363891602
         },
         {
          "label": 0,
          "name": "putri vinta kemala",
          "x1": -3.711977958679199,
          "x2": -2.75846529006958
         },
         {
          "label": 0,
          "name": "adisti meidinasari",
          "x1": -2.7436957359313965,
          "x2": -4.583151340484619
         },
         {
          "label": 0,
          "name": "annisa",
          "x1": -2.822941780090332,
          "x2": -6.516773700714111
         },
         {
          "label": 1,
          "name": "edwin wibisono",
          "x1": -4.140513896942139,
          "x2": -7.864231109619141
         },
         {
          "label": 1,
          "name": "aditya farhan arif",
          "x1": 0.017670977860689163,
          "x2": -4.154325485229492
         },
         {
          "label": 0,
          "name": "atika dewi marwati",
          "x1": -4.043785572052002,
          "x2": -4.329723834991455
         },
         {
          "label": 1,
          "name": "fauzan akbary",
          "x1": -1.1089011430740356,
          "x2": -7.4931559562683105
         },
         {
          "label": 0,
          "name": "kartika ayuning tias",
          "x1": -3.6806275844573975,
          "x2": -4.344935894012451
         },
         {
          "label": 0,
          "name": "asri puspitasari",
          "x1": -2.7561697959899902,
          "x2": -3.657421350479126
         },
         {
          "label": 1,
          "name": "aa pian nopiana",
          "x1": -1.6932380199432373,
          "x2": -4.8867597579956055
         },
         {
          "label": 0,
          "name": "suci lestari solihat",
          "x1": -3.0533254146575928,
          "x2": -4.3059000968933105
         },
         {
          "label": 1,
          "name": "caesario permana",
          "x1": -0.5688928365707397,
          "x2": -4.489602565765381
         },
         {
          "label": 1,
          "name": "raden aprian diaz novandi",
          "x1": -1.6223419904708862,
          "x2": -5.18206262588501
         },
         {
          "label": 0,
          "name": "dina rizkita sari",
          "x1": -2.6376309394836426,
          "x2": -4.59796667098999
         },
         {
          "label": 0,
          "name": "liesdha nurfitrina",
          "x1": -3.0412957668304443,
          "x2": -4.758535385131836
         },
         {
          "label": 1,
          "name": "m hafiz iqbal",
          "x1": -1.615985631942749,
          "x2": -7.523455619812012
         },
         {
          "label": 1,
          "name": "yudi priyadi",
          "x1": -4.313363552093506,
          "x2": -7.1844162940979
         },
         {
          "label": 1,
          "name": "christopher pelayo harsamto",
          "x1": -4.809077739715576,
          "x2": -6.769335746765137
         },
         {
          "label": 1,
          "name": "muhammad insan kamil",
          "x1": 3.337285041809082,
          "x2": -4.9961934089660645
         },
         {
          "label": 1,
          "name": "arief eko prasetyo",
          "x1": 0.19742625951766968,
          "x2": -3.1830382347106934
         },
         {
          "label": 1,
          "name": "irfan syanjaya",
          "x1": 0.8935189247131348,
          "x2": -8.358321189880371
         },
         {
          "label": 1,
          "name": "tulus imaro",
          "x1": -3.0532381534576416,
          "x2": -8.113086700439453
         },
         {
          "label": 1,
          "name": "sulistya adhiutama putra",
          "x1": -3.3054909706115723,
          "x2": -2.0835611820220947
         },
         {
          "label": 0,
          "name": "yoan primadisya sulistyo",
          "x1": -3.612877607345581,
          "x2": -5.078067302703857
         },
         {
          "label": 1,
          "name": "bimas abimanyu",
          "x1": -2.1438965797424316,
          "x2": -7.206233024597168
         },
         {
          "label": 1,
          "name": "randi rakhman",
          "x1": 0.6138883829116821,
          "x2": -6.742877960205078
         },
         {
          "label": 0,
          "name": "carolyn endiana",
          "x1": -3.02620267868042,
          "x2": -6.251373291015625
         },
         {
          "label": 1,
          "name": "geri noorzaman",
          "x1": -3.974576234817505,
          "x2": -7.575677871704102
         },
         {
          "label": 1,
          "name": "oky firmansyah",
          "x1": 1.3034896850585938,
          "x2": -8.402735710144043
         },
         {
          "label": 0,
          "name": "mia gusmaharani",
          "x1": -1.4721839427947998,
          "x2": -5.156421184539795
         },
         {
          "label": 1,
          "name": "kiki justino",
          "x1": -3.546560287475586,
          "x2": -7.165926933288574
         },
         {
          "label": 1,
          "name": "kevin marvin",
          "x1": -3.3133928775787354,
          "x2": -6.330557823181152
         },
         {
          "label": 0,
          "name": "devina saputra",
          "x1": -3.4970569610595703,
          "x2": -2.2057013511657715
         },
         {
          "label": 1,
          "name": "salik mukhlishin",
          "x1": -2.21577787399292,
          "x2": -7.6533637046813965
         },
         {
          "label": 1,
          "name": "chandra yudi kusuma",
          "x1": -1.6058789491653442,
          "x2": -8.456990242004395
         },
         {
          "label": 1,
          "name": "alvin giovanni",
          "x1": -3.2126381397247314,
          "x2": -5.834151744842529
         },
         {
          "label": 0,
          "name": "rahmawati rahayu",
          "x1": 0.8832570910453796,
          "x2": -6.7796502113342285
         },
         {
          "label": 1,
          "name": "pongga dikdya wardaya",
          "x1": 0.010642103850841522,
          "x2": -4.398141384124756
         },
         {
          "label": 0,
          "name": "meillya fitriaty",
          "x1": -3.404945135116577,
          "x2": -4.454354763031006
         },
         {
          "label": 0,
          "name": "riangguna eloni",
          "x1": -1.6798837184906006,
          "x2": -3.875403642654419
         },
         {
          "label": 1,
          "name": "mohamad faqih aldias",
          "x1": 2.931318998336792,
          "x2": -5.346336841583252
         },
         {
          "label": 0,
          "name": "martha yuanita permata sari",
          "x1": -0.5854713320732117,
          "x2": -4.083073616027832
         },
         {
          "label": 0,
          "name": "shindy prafita utami",
          "x1": -2.809391498565674,
          "x2": -4.016294002532959
         },
         {
          "label": 1,
          "name": "delfin zega",
          "x1": -3.1040172576904297,
          "x2": -6.9948859214782715
         },
         {
          "label": 1,
          "name": "fahriansyah",
          "x1": 1.1470046043395996,
          "x2": -8.722431182861328
         },
         {
          "label": 1,
          "name": "eldo gustian hariadi",
          "x1": -1.9717211723327637,
          "x2": -6.129134654998779
         },
         {
          "label": 1,
          "name": "aswan p lubis",
          "x1": -3.239863634109497,
          "x2": -7.393609523773193
         },
         {
          "label": 0,
          "name": "ruri nur baytun",
          "x1": -2.3384573459625244,
          "x2": -8.11258602142334
         },
         {
          "label": 1,
          "name": "randy kelana",
          "x1": -0.5936931371688843,
          "x2": -5.616395950317383
         },
         {
          "label": 0,
          "name": "indah edria amorita",
          "x1": -1.6191625595092773,
          "x2": -5.344264507293701
         },
         {
          "label": 1,
          "name": "ardimas andi purwita",
          "x1": -1.4979028701782227,
          "x2": -5.832454681396484
         },
         {
          "label": 1,
          "name": "tendy saktyaji",
          "x1": -3.300297498703003,
          "x2": -8.404631614685059
         },
         {
          "label": 1,
          "name": "jouvan radziska irwan",
          "x1": -1.1436936855316162,
          "x2": -5.470342636108398
         },
         {
          "label": 1,
          "name": "fahmi septian",
          "x1": -3.4808285236358643,
          "x2": -5.670777797698975
         },
         {
          "label": 0,
          "name": "renita kumalasari",
          "x1": -2.051417827606201,
          "x2": -5.5688157081604
         },
         {
          "label": 0,
          "name": "mustika suci jungjunan",
          "x1": -4.967909812927246,
          "x2": -5.838873863220215
         },
         {
          "label": 0,
          "name": "sundari eko wati",
          "x1": -2.601008176803589,
          "x2": -6.303421974182129
         },
         {
          "label": 1,
          "name": "alex rivando a b",
          "x1": -2.301964282989502,
          "x2": -6.301655292510986
         },
         {
          "label": 0,
          "name": "suhelda",
          "x1": -2.683788299560547,
          "x2": -8.289294242858887
         },
         {
          "label": 0,
          "name": "nabila as'ad",
          "x1": -0.9001132845878601,
          "x2": -7.155500888824463
         },
         {
          "label": 0,
          "name": "made cynthia rini",
          "x1": -2.794132947921753,
          "x2": -5.616049766540527
         },
         {
          "label": 1,
          "name": "sujarwadi",
          "x1": -1.7946058511734009,
          "x2": -8.079419136047363
         },
         {
          "label": 1,
          "name": "reza aditya permadi",
          "x1": 0.07739193737506866,
          "x2": -4.134570121765137
         },
         {
          "label": 1,
          "name": "ajat ramahwanto",
          "x1": -4.8581976890563965,
          "x2": -6.083405494689941
         },
         {
          "label": 0,
          "name": "phelia",
          "x1": -2.943657636642456,
          "x2": -7.094165802001953
         },
         {
          "label": 0,
          "name": "miarani juangsa",
          "x1": -1.564520239830017,
          "x2": -4.54337215423584
         },
         {
          "label": 1,
          "name": "lestian atmopawiro",
          "x1": -3.0180795192718506,
          "x2": -5.02024507522583
         },
         {
          "label": 1,
          "name": "vipassi",
          "x1": -3.064640998840332,
          "x2": -7.356034278869629
         },
         {
          "label": 1,
          "name": "david soendoro",
          "x1": -3.8126351833343506,
          "x2": -8.17911434173584
         },
         {
          "label": 1,
          "name": "farid hanafia",
          "x1": -0.9221587777137756,
          "x2": -6.639852523803711
         },
         {
          "label": 1,
          "name": "edo jalu bramantya",
          "x1": -0.1691122055053711,
          "x2": -5.512452602386475
         },
         {
          "label": 0,
          "name": "sarra husnul khotimah",
          "x1": 0.09380140155553818,
          "x2": -7.367341995239258
         },
         {
          "label": 1,
          "name": "imaduddin amin",
          "x1": -2.530909776687622,
          "x2": -6.534655570983887
         },
         {
          "label": 0,
          "name": "rasi fitria",
          "x1": -3.2540512084960938,
          "x2": -4.340352535247803
         },
         {
          "label": 1,
          "name": "reza rizki tri putra",
          "x1": -3.669116735458374,
          "x2": -2.834400177001953
         },
         {
          "label": 1,
          "name": "agus praditya tampubolon",
          "x1": 0.7617647051811218,
          "x2": -4.350959300994873
         },
         {
          "label": 1,
          "name": "herianto",
          "x1": -4.905970096588135,
          "x2": -6.416696071624756
         },
         {
          "label": 0,
          "name": "emma marintan s turnip",
          "x1": -1.8123670816421509,
          "x2": -5.599996566772461
         },
         {
          "label": 1,
          "name": "ivan satrio wongso",
          "x1": -4.795026779174805,
          "x2": -8.362922668457031
         },
         {
          "label": 1,
          "name": "deri meidian ramdhani",
          "x1": -2.037092924118042,
          "x2": -5.230853080749512
         },
         {
          "label": 0,
          "name": "mayang arum prastiti",
          "x1": -3.7552218437194824,
          "x2": -5.3901824951171875
         },
         {
          "label": 1,
          "name": "ezidin reski",
          "x1": -3.2073071002960205,
          "x2": -7.863684177398682
         },
         {
          "label": 1,
          "name": "nuraga muliawan",
          "x1": -1.3250175714492798,
          "x2": -3.3954432010650635
         },
         {
          "label": 1,
          "name": "tommy raharja",
          "x1": -3.8876686096191406,
          "x2": -8.639599800109863
         },
         {
          "label": 1,
          "name": "dadan damayandri syaeful millah saputra",
          "x1": -0.5474687814712524,
          "x2": -5.107184886932373
         },
         {
          "label": 1,
          "name": "ari kurniawan saputra",
          "x1": -1.2119699716567993,
          "x2": -1.5633305311203003
         },
         {
          "label": 1,
          "name": "ferry ardian",
          "x1": -3.273475408554077,
          "x2": -6.493474960327148
         },
         {
          "label": 0,
          "name": "karinidya ristiniati",
          "x1": -2.9917805194854736,
          "x2": -4.741305351257324
         },
         {
          "label": 0,
          "name": "wiwit kurniasih tulus handayani",
          "x1": -3.3015809059143066,
          "x2": -4.869054317474365
         },
         {
          "label": 1,
          "name": "agus wahyu jatmiko",
          "x1": -5.447391033172607,
          "x2": -5.980422496795654
         },
         {
          "label": 1,
          "name": "achmad subban malik",
          "x1": 0.9287009835243225,
          "x2": -7.350070476531982
         },
         {
          "label": 0,
          "name": "bunga galuh kirana",
          "x1": -1.100268006324768,
          "x2": -3.7295539379119873
         },
         {
          "label": 0,
          "name": "wafiq auliana handayani",
          "x1": -1.138335943222046,
          "x2": -4.731337547302246
         },
         {
          "label": 1,
          "name": "rifky tri putra",
          "x1": -3.7100470066070557,
          "x2": -2.886880397796631
         },
         {
          "label": 0,
          "name": "fella falencia",
          "x1": -2.533888339996338,
          "x2": -7.111590385437012
         },
         {
          "label": 1,
          "name": "aditya kurniawan",
          "x1": -1.1154584884643555,
          "x2": -1.5331555604934692
         },
         {
          "label": 1,
          "name": "apri kamayudi",
          "x1": -1.3449387550354004,
          "x2": -6.698227882385254
         },
         {
          "label": 1,
          "name": "aditya rizkiadi chernadi",
          "x1": 0.07753591984510422,
          "x2": -4.054671764373779
         },
         {
          "label": 1,
          "name": "thomas budiarto",
          "x1": -3.143425226211548,
          "x2": -8.35467529296875
         },
         {
          "label": 1,
          "name": "andhika hendra estrada suwanto",
          "x1": -0.0006592983263544738,
          "x2": -5.2765913009643555
         },
         {
          "label": 1,
          "name": "aska narendra",
          "x1": -0.41521427035331726,
          "x2": -5.374510288238525
         },
         {
          "label": 1,
          "name": "enrico aryyaguna",
          "x1": -3.017834186553955,
          "x2": -6.963519096374512
         },
         {
          "label": 1,
          "name": "febri ardiansyah",
          "x1": 1.2059131860733032,
          "x2": -8.801398277282715
         },
         {
          "label": 1,
          "name": "eko mahar diputra",
          "x1": -3.569017171859741,
          "x2": -2.3871803283691406
         },
         {
          "label": 1,
          "name": "anggi satrio",
          "x1": -2.901313066482544,
          "x2": -5.230854511260986
         },
         {
          "label": 1,
          "name": "adam maulana musthafa",
          "x1": 3.5236122608184814,
          "x2": -5.47270393371582
         },
         {
          "label": 1,
          "name": "chrismas isa benny de lima",
          "x1": -2.1606059074401855,
          "x2": -6.384837627410889
         },
         {
          "label": 0,
          "name": "fitri meiriza",
          "x1": -3.2740719318389893,
          "x2": -4.408427715301514
         },
         {
          "label": 1,
          "name": "ridho destianto e",
          "x1": -4.908669471740723,
          "x2": -6.34377384185791
         },
         {
          "label": 0,
          "name": "rafi herfini",
          "x1": -2.696430206298828,
          "x2": -7.390761375427246
         },
         {
          "label": 0,
          "name": "duma irene mitalevanie",
          "x1": -3.2201762199401855,
          "x2": -6.619408130645752
         },
         {
          "label": 0,
          "name": "neshya maya putri",
          "x1": -3.4519362449645996,
          "x2": -2.316925287246704
         },
         {
          "label": 1,
          "name": "aswin aridiyanto",
          "x1": -4.839786529541016,
          "x2": -6.039644718170166
         },
         {
          "label": 1,
          "name": "nur syazreen abdullah sidit",
          "x1": -0.84479820728302,
          "x2": -7.983283042907715
         },
         {
          "label": 1,
          "name": "chandra kurniawan",
          "x1": -1.1731022596359253,
          "x2": -1.5683534145355225
         },
         {
          "label": 1,
          "name": "kiagus luthfy hamzah",
          "x1": -1.5562231540679932,
          "x2": -7.809338092803955
         },
         {
          "label": 1,
          "name": "faldi rhayhan",
          "x1": -0.9308692216873169,
          "x2": -7.2204365730285645
         },
         {
          "label": 1,
          "name": "danto prihandono",
          "x1": -4.865847587585449,
          "x2": -7.425869464874268
         },
         {
          "label": 1,
          "name": "tuan manotar aritonang",
          "x1": -1.1872262954711914,
          "x2": -4.347162246704102
         },
         {
          "label": 1,
          "name": "azi ginanjar nugraha",
          "x1": 1.1667838096618652,
          "x2": -5.726179599761963
         },
         {
          "label": 1,
          "name": "samuel rivai sitindaon",
          "x1": -2.5624964237213135,
          "x2": -6.268287658691406
         },
         {
          "label": 1,
          "name": "aa haeruman azam",
          "x1": -0.009251448325812817,
          "x2": -6.75238561630249
         },
         {
          "label": 1,
          "name": "firman",
          "x1": -2.439199686050415,
          "x2": -7.234405040740967
         },
         {
          "label": 1,
          "name": "yoga pratama",
          "x1": 0.8032735586166382,
          "x2": -4.723170280456543
         },
         {
          "label": 1,
          "name": "dwi wiradita",
          "x1": -3.770817756652832,
          "x2": -4.857843399047852
         },
         {
          "label": 1,
          "name": "yang tiono decca sakti",
          "x1": -4.557028770446777,
          "x2": -8.031620979309082
         },
         {
          "label": 1,
          "name": "yanuar basuki",
          "x1": -1.800078272819519,
          "x2": -7.9423112869262695
         },
         {
          "label": 1,
          "name": "gilang satria prayoga",
          "x1": -1.6298346519470215,
          "x2": -3.802581548690796
         },
         {
          "label": 1,
          "name": "rudy irianto simangunsong",
          "x1": -4.452908039093018,
          "x2": -6.463931560516357
         },
         {
          "label": 1,
          "name": "meifrinaldi",
          "x1": -2.6979362964630127,
          "x2": -6.3307013511657715
         },
         {
          "label": 1,
          "name": "bimo editri putranto",
          "x1": -3.9018361568450928,
          "x2": -3.1154751777648926
         },
         {
          "label": 1,
          "name": "danurwendo arief setio wicaksono",
          "x1": -4.837299346923828,
          "x2": -8.708643913269043
         },
         {
          "label": 1,
          "name": "dedy asdiawan wibowo",
          "x1": -5.5521626472473145,
          "x2": -8.744696617126465
         },
         {
          "label": 0,
          "name": "bunga wijayanti",
          "x1": -1.217603325843811,
          "x2": -9.532397270202637
         },
         {
          "label": 1,
          "name": "nanang faruk abdul naser",
          "x1": -0.8877146244049072,
          "x2": -4.6716203689575195
         },
         {
          "label": 1,
          "name": "aldo triputra",
          "x1": -3.711960554122925,
          "x2": -2.7127041816711426
         },
         {
          "label": 0,
          "name": "zilfahmiati",
          "x1": -1.6589702367782593,
          "x2": -7.3488006591796875
         },
         {
          "label": 1,
          "name": "dody suryadi",
          "x1": -2.076956272125244,
          "x2": -8.748955726623535
         },
         {
          "label": 0,
          "name": "dorothea petra paskani",
          "x1": -3.4452009201049805,
          "x2": -2.3456971645355225
         },
         {
          "label": 1,
          "name": "dandan anugrah",
          "x1": -0.08458619564771652,
          "x2": -5.231152057647705
         },
         {
          "label": 1,
          "name": "michael jubel herbert tunggul hasintongan hutagalung",
          "x1": -1.2366065979003906,
          "x2": -3.953843116760254
         },
         {
          "label": 0,
          "name": "catherine raditya tanardi",
          "x1": -0.09883259981870651,
          "x2": -4.111435413360596
         },
         {
          "label": 1,
          "name": "sinjaya",
          "x1": -1.4946608543395996,
          "x2": -9.179981231689453
         },
         {
          "label": 1,
          "name": "edward thoeng",
          "x1": -3.5087430477142334,
          "x2": -8.01914119720459
         },
         {
          "label": 1,
          "name": "agung dimas kurniawan",
          "x1": -1.1603493690490723,
          "x2": -1.643621802330017
         },
         {
          "label": 0,
          "name": "maria dewi magdalena",
          "x1": -0.8858247399330139,
          "x2": -6.360062599182129
         },
         {
          "label": 1,
          "name": "martua arthur jonathan",
          "x1": -4.460920333862305,
          "x2": -7.1634840965271
         },
         {
          "label": 1,
          "name": "muhammad berlan",
          "x1": 3.533640146255493,
          "x2": -4.933896064758301
         },
         {
          "label": 1,
          "name": "boma harahap",
          "x1": -0.0019150573061779141,
          "x2": -6.755033016204834
         },
         {
          "label": 0,
          "name": "arini syahradzi",
          "x1": -2.253744602203369,
          "x2": -5.397574424743652
         },
         {
          "label": 0,
          "name": "rizki insyani",
          "x1": -2.0095152854919434,
          "x2": -6.371805667877197
         },
         {
          "label": 1,
          "name": "irfan dwi aditya",
          "x1": -0.09442972391843796,
          "x2": -4.019252300262451
         },
         {
          "label": 0,
          "name": "martalia wahyu sukmayanti",
          "x1": -0.5234726667404175,
          "x2": -7.644693374633789
         },
         {
          "label": 0,
          "name": "gemita ria the",
          "x1": -3.176626682281494,
          "x2": -4.888978958129883
         },
         {
          "label": 0,
          "name": "wiwit ridhani r",
          "x1": -3.527613639831543,
          "x2": -4.507894039154053
         },
         {
          "label": 1,
          "name": "batara bonatua yosafat",
          "x1": 0.18911972641944885,
          "x2": -4.612147331237793
         },
         {
          "label": 1,
          "name": "ripandy adha",
          "x1": -0.3348015546798706,
          "x2": -6.227765083312988
         },
         {
          "label": 0,
          "name": "astari dwiranti",
          "x1": -2.66485595703125,
          "x2": -4.318479061126709
         },
         {
          "label": 1,
          "name": "aditya utomo",
          "x1": -4.096340656280518,
          "x2": -8.552640914916992
         },
         {
          "label": 0,
          "name": "sheni riantika",
          "x1": -3.506807327270508,
          "x2": -5.156430721282959
         },
         {
          "label": 0,
          "name": "oktaria ardia rahmah",
          "x1": 0.8217695355415344,
          "x2": -6.731280326843262
         },
         {
          "label": 0,
          "name": "gestin mey ekawati",
          "x1": -4.155433654785156,
          "x2": -4.63076639175415
         },
         {
          "label": 0,
          "name": "nyayu siti nurainun",
          "x1": -3.7268614768981934,
          "x2": -6.231233596801758
         },
         {
          "label": 1,
          "name": "bagus sudiro",
          "x1": -4.338996410369873,
          "x2": -8.604535102844238
         },
         {
          "label": 0,
          "name": "velianti",
          "x1": -3.648909330368042,
          "x2": -6.273237228393555
         },
         {
          "label": 1,
          "name": "sanrio hernanto",
          "x1": -4.811729431152344,
          "x2": -6.59862756729126
         },
         {
          "label": 0,
          "name": "ester yuliari",
          "x1": -2.9121944904327393,
          "x2": -7.479793071746826
         },
         {
          "label": 1,
          "name": "steven taslim",
          "x1": -3.608487606048584,
          "x2": -7.074591159820557
         },
         {
          "label": 1,
          "name": "ragil rudi priyanto",
          "x1": -4.808428764343262,
          "x2": -6.673404693603516
         },
         {
          "label": 1,
          "name": "ahmad kamalur ridho",
          "x1": 0.8548567891120911,
          "x2": -7.2735443115234375
         },
         {
          "label": 1,
          "name": "a m surya nugraha",
          "x1": 1.3421343564987183,
          "x2": -5.858816623687744
         },
         {
          "label": 0,
          "name": "intan sherlin",
          "x1": -3.5434563159942627,
          "x2": -6.545509338378906
         },
         {
          "label": 1,
          "name": "ginanjar kusuma wijaya",
          "x1": -1.2161861658096313,
          "x2": -8.998327255249023
         },
         {
          "label": 1,
          "name": "r candra permana",
          "x1": -0.32342976331710815,
          "x2": -4.800596237182617
         },
         {
          "label": 1,
          "name": "abu hanifah",
          "x1": -1.001120686531067,
          "x2": -7.253861427307129
         },
         {
          "label": 0,
          "name": "syifa latifah zahra",
          "x1": -0.7279947996139526,
          "x2": -7.289977073669434
         },
         {
          "label": 1,
          "name": "fahmi tafwidli",
          "x1": -1.5624185800552368,
          "x2": -7.5474348068237305
         },
         {
          "label": 1,
          "name": "roynardus febrian s",
          "x1": -3.3545336723327637,
          "x2": -6.226236343383789
         },
         {
          "label": 1,
          "name": "rosi ari ramdani",
          "x1": -1.6595714092254639,
          "x2": -5.553074836730957
         },
         {
          "label": 0,
          "name": "laksita gayuhaningtyas",
          "x1": -3.630855083465576,
          "x2": -4.1553568840026855
         },
         {
          "label": 0,
          "name": "amirah adlia",
          "x1": -0.819882333278656,
          "x2": -6.841795444488525
         },
         {
          "label": 1,
          "name": "mohammad indratama",
          "x1": 2.8098068237304688,
          "x2": -5.074053764343262
         },
         {
          "label": 0,
          "name": "indri ayu lestari",
          "x1": -2.626099109649658,
          "x2": -5.049147605895996
         },
         {
          "label": 1,
          "name": "reza syariza",
          "x1": -1.510129451751709,
          "x2": -7.560091495513916
         },
         {
          "label": 1,
          "name": "mochamad ikrar pradana",
          "x1": 0.9668763875961304,
          "x2": -5.230376720428467
         },
         {
          "label": 1,
          "name": "marko kanadi",
          "x1": -1.0678263902664185,
          "x2": -6.501297473907471
         },
         {
          "label": 1,
          "name": "danang purnomo",
          "x1": -4.2912774085998535,
          "x2": -7.0366740226745605
         },
         {
          "label": 0,
          "name": "amalia azlin",
          "x1": -1.3289728164672852,
          "x2": -6.72257137298584
         },
         {
          "label": 1,
          "name": "anggi yugantoro",
          "x1": -4.911560535430908,
          "x2": -7.294832229614258
         },
         {
          "label": 1,
          "name": "theo amudi",
          "x1": -2.8020706176757812,
          "x2": -8.456822395324707
         },
         {
          "label": 1,
          "name": "muchamad surya prasetyo",
          "x1": 0.3616224527359009,
          "x2": -3.5134952068328857
         },
         {
          "label": 0,
          "name": "fitri meilawati",
          "x1": -3.4280295372009277,
          "x2": -4.434661865234375
         },
         {
          "label": 1,
          "name": "david salim",
          "x1": -2.1244635581970215,
          "x2": -6.726719379425049
         },
         {
          "label": 0,
          "name": "pamela dwirahmariany",
          "x1": 0.6568644046783447,
          "x2": -6.928354263305664
         },
         {
          "label": 1,
          "name": "ferdinand romuli",
          "x1": -4.077744960784912,
          "x2": -7.275506973266602
         },
         {
          "label": 1,
          "name": "satriyo prabowo",
          "x1": -5.258897304534912,
          "x2": -8.663642883300781
         },
         {
          "label": 1,
          "name": "allosiyus hendrikus heriyono",
          "x1": -3.0439789295196533,
          "x2": -8.54319953918457
         },
         {
          "label": 1,
          "name": "noha muhamad",
          "x1": 3.144634485244751,
          "x2": -5.047557353973389
         },
         {
          "label": 1,
          "name": "muhammad hasan sirojuddiin",
          "x1": 3.3833460807800293,
          "x2": -4.9424591064453125
         },
         {
          "label": 0,
          "name": "nurul rizka hadiningsih",
          "x1": -3.2455837726593018,
          "x2": -5.739690780639648
         },
         {
          "label": 1,
          "name": "muhammad riza putra",
          "x1": 3.85414981842041,
          "x2": -4.96759033203125
         },
         {
          "label": 1,
          "name": "wahyu fahmy wisudawan",
          "x1": -0.8852066993713379,
          "x2": -8.446253776550293
         },
         {
          "label": 1,
          "name": "lukito jaya",
          "x1": -1.6597557067871094,
          "x2": -9.00213623046875
         },
         {
          "label": 1,
          "name": "yehan ersad",
          "x1": -3.0084495544433594,
          "x2": -7.153850078582764
         },
         {
          "label": 1,
          "name": "giovani haryadi",
          "x1": -0.8111528754234314,
          "x2": -6.609836101531982
         },
         {
          "label": 1,
          "name": "ahmad mujahid",
          "x1": 0.732589066028595,
          "x2": -7.428128242492676
         },
         {
          "label": 0,
          "name": "nadhira ayuningtyas",
          "x1": -3.6914501190185547,
          "x2": -4.199484825134277
         },
         {
          "label": 0,
          "name": "christine elishian",
          "x1": -5.052099704742432,
          "x2": -4.557107448577881
         },
         {
          "label": 1,
          "name": "yuyus jayusman",
          "x1": -2.4166061878204346,
          "x2": -8.662064552307129
         },
         {
          "label": 1,
          "name": "edwin anwar",
          "x1": -3.428349018096924,
          "x2": -7.11858606338501
         },
         {
          "label": 1,
          "name": "raden hidayat tri purnomo",
          "x1": -0.4356098473072052,
          "x2": -8.684176445007324
         },
         {
          "label": 1,
          "name": "r rakhmad aryo baskoro",
          "x1": 0.38745614886283875,
          "x2": -7.266071319580078
         },
         {
          "label": 1,
          "name": "erzi muharsa",
          "x1": -2.5172765254974365,
          "x2": -7.888179779052734
         },
         {
          "label": 0,
          "name": "vaniessa dewi hapsari",
          "x1": -2.5054221153259277,
          "x2": -5.240113735198975
         },
         {
          "label": 1,
          "name": "muhamad fajrin rasyid",
          "x1": 3.3592638969421387,
          "x2": -5.163729190826416
         },
         {
          "label": 0,
          "name": "rizka ita yuanita",
          "x1": -3.1010935306549072,
          "x2": -4.624200344085693
         },
         {
          "label": 1,
          "name": "prayudi noverri",
          "x1": -4.336133003234863,
          "x2": -7.706369400024414
         },
         {
          "label": 0,
          "name": "surani ningsih",
          "x1": -3.363095998764038,
          "x2": -5.675705909729004
         },
         {
          "label": 0,
          "name": "maria puspita ayudiah r",
          "x1": -2.7289695739746094,
          "x2": -3.572406053543091
         },
         {
          "label": 1,
          "name": "muhammad ferdyansyah sechan",
          "x1": 3.634371280670166,
          "x2": -5.208026885986328
         },
         {
          "label": 1,
          "name": "ahmad irwiyan haq",
          "x1": 0.681995689868927,
          "x2": -7.034422397613525
         },
         {
          "label": 1,
          "name": "m risa ridwan j c",
          "x1": -1.8648195266723633,
          "x2": -6.0603766441345215
         },
         {
          "label": 1,
          "name": "asnanda wardono",
          "x1": -0.27159106731414795,
          "x2": -5.285030364990234
         },
         {
          "label": 1,
          "name": "anriansyah renggaman",
          "x1": 1.328378677368164,
          "x2": -8.469988822937012
         },
         {
          "label": 0,
          "name": "bestia arkiani",
          "x1": -3.466085910797119,
          "x2": -5.139084815979004
         },
         {
          "label": 0,
          "name": "citra aryani sjahrir",
          "x1": -2.491849899291992,
          "x2": -5.23000431060791
         },
         {
          "label": 0,
          "name": "rafika",
          "x1": -2.093970537185669,
          "x2": -7.53036642074585
         },
         {
          "label": 1,
          "name": "rimeldi",
          "x1": -3.0265445709228516,
          "x2": -7.573307037353516
         },
         {
          "label": 1,
          "name": "mohammad jawair",
          "x1": 3.064046859741211,
          "x2": -5.200586318969727
         },
         {
          "label": 1,
          "name": "sendy",
          "x1": -3.330369472503662,
          "x2": -8.414875030517578
         },
         {
          "label": 1,
          "name": "rahmat fauzi kamal",
          "x1": 0.5290966033935547,
          "x2": -7.105815887451172
         },
         {
          "label": 0,
          "name": "astri prabawanti",
          "x1": -2.721743106842041,
          "x2": -4.379001140594482
         },
         {
          "label": 1,
          "name": "wendy rahman malonda",
          "x1": 0.3085066080093384,
          "x2": -6.475186347961426
         },
         {
          "label": 0,
          "name": "dellyna septia",
          "x1": -3.0062201023101807,
          "x2": -6.702965259552002
         },
         {
          "label": 1,
          "name": "afit nursyalam",
          "x1": -1.8955519199371338,
          "x2": -7.661709308624268
         },
         {
          "label": 1,
          "name": "erwin hardjadinata",
          "x1": -1.1404352188110352,
          "x2": -4.93242073059082
         },
         {
          "label": 0,
          "name": "batari saraswati",
          "x1": -2.3654046058654785,
          "x2": -3.999135971069336
         },
         {
          "label": 1,
          "name": "fadli rohman",
          "x1": 0.45220866799354553,
          "x2": -7.588474750518799
         },
         {
          "label": 1,
          "name": "mohammad ubaidillah",
          "x1": 3.078371286392212,
          "x2": -5.279041290283203
         },
         {
          "label": 1,
          "name": "yuandra ismiraldi",
          "x1": -1.1568461656570435,
          "x2": -5.816537380218506
         },
         {
          "label": 0,
          "name": "syafrina nurwardani",
          "x1": -1.681278944015503,
          "x2": -4.802548408508301
         },
         {
          "label": 1,
          "name": "khairul sakban",
          "x1": -0.9692090153694153,
          "x2": -7.781843662261963
         },
         {
          "label": 1,
          "name": "pahmi utamaraja ginting",
          "x1": -1.8504685163497925,
          "x2": -4.150060653686523
         },
         {
          "label": 0,
          "name": "marsha francinne",
          "x1": -0.11456837505102158,
          "x2": -6.4876298904418945
         },
         {
          "label": 1,
          "name": "alsasian atmopawiro",
          "x1": -2.16019868850708,
          "x2": -4.886452674865723
         },
         {
          "label": 1,
          "name": "ekky al ghazaly",
          "x1": -1.6664097309112549,
          "x2": -8.004582405090332
         },
         {
          "label": 1,
          "name": "yudi dharma burnama",
          "x1": 0.05710531771183014,
          "x2": -6.406920433044434
         },
         {
          "label": 0,
          "name": "raissa listy almanda",
          "x1": -1.559380054473877,
          "x2": -6.166506290435791
         },
         {
          "label": 1,
          "name": "ikhsan utama",
          "x1": -1.965531349182129,
          "x2": -7.484363555908203
         },
         {
          "label": 1,
          "name": "aditya dewanto hartono",
          "x1": -4.8519978523254395,
          "x2": -7.424977779388428
         },
         {
          "label": 1,
          "name": "m. rinno odhiphyansyah mazani",
          "x1": 1.1063473224639893,
          "x2": -8.290940284729004
         },
         {
          "label": 1,
          "name": "harris gocciardi",
          "x1": -1.806558609008789,
          "x2": -6.462399482727051
         },
         {
          "label": 1,
          "name": "ruly resfiandhi",
          "x1": -3.101832389831543,
          "x2": -7.519535064697266
         },
         {
          "label": 1,
          "name": "folorensus panambang pane",
          "x1": -0.9238569140434265,
          "x2": -4.683155059814453
         },
         {
          "label": 1,
          "name": "m fajri bayu anbya",
          "x1": -1.287794828414917,
          "x2": -8.055304527282715
         },
         {
          "label": 1,
          "name": "muhammad yudhistira azis",
          "x1": 3.6021640300750732,
          "x2": -4.913389682769775
         },
         {
          "label": 0,
          "name": "darra ruyanti",
          "x1": -3.874331474304199,
          "x2": -5.580564975738525
         },
         {
          "label": 0,
          "name": "kiki rizki",
          "x1": -1.714913010597229,
          "x2": -6.887103080749512
         },
         {
          "label": 0,
          "name": "syifa qonita",
          "x1": -3.4257113933563232,
          "x2": -6.079970836639404
         },
         {
          "label": 0,
          "name": "nurhabibah",
          "x1": -2.0620856285095215,
          "x2": -7.954670429229736
         },
         {
          "label": 1,
          "name": "didik pramuji",
          "x1": -2.2489421367645264,
          "x2": -7.329587459564209
         },
         {
          "label": 1,
          "name": "aditya purwa santika",
          "x1": 0.0542382150888443,
          "x2": -3.981065511703491
         },
         {
          "label": 1,
          "name": "satria rahmadika",
          "x1": 0.8319408297538757,
          "x2": -6.75243616104126
         },
         {
          "label": 1,
          "name": "rudi m p purba",
          "x1": -2.5940566062927246,
          "x2": -8.32959270477295
         },
         {
          "label": 1,
          "name": "muhammad shiddiq al hanif",
          "x1": 3.5908501148223877,
          "x2": -4.987325191497803
         },
         {
          "label": 1,
          "name": "moh. yanuar erdian kusuma romadhona",
          "x1": 0.6646134257316589,
          "x2": -5.788209438323975
         },
         {
          "label": 1,
          "name": "stefan anggana putra",
          "x1": -2.6638731956481934,
          "x2": -2.3113348484039307
         },
         {
          "label": 1,
          "name": "virgo davinci tarigan",
          "x1": -3.125767946243286,
          "x2": -5.127009391784668
         },
         {
          "label": 0,
          "name": "shafiqah binti adam",
          "x1": -1.1733121871948242,
          "x2": -6.591864109039307
         },
         {
          "label": 1,
          "name": "rendo doli",
          "x1": -3.524362087249756,
          "x2": -8.37398910522461
         },
         {
          "label": 1,
          "name": "iasci simanjuntak",
          "x1": -3.9834799766540527,
          "x2": -5.9973554611206055
         },
         {
          "label": 1,
          "name": "daniel y e aritonang",
          "x1": -2.372201919555664,
          "x2": -5.722928047180176
         },
         {
          "label": 0,
          "name": "alvina kusumadewi kuncoro",
          "x1": -1.7861312627792358,
          "x2": -8.551161766052246
         },
         {
          "label": 1,
          "name": "jeffrey kurniawan",
          "x1": -1.1963129043579102,
          "x2": -1.5953736305236816
         },
         {
          "label": 1,
          "name": "chrisnelson",
          "x1": -5.168093204498291,
          "x2": -4.758758544921875
         },
         {
          "label": 1,
          "name": "luky",
          "x1": -2.544454574584961,
          "x2": -8.104249000549316
         },
         {
          "label": 1,
          "name": "ryvo octaviano",
          "x1": -3.5246284008026123,
          "x2": -5.651710510253906
         },
         {
          "label": 1,
          "name": "harry murti nugroho",
          "x1": -4.801009178161621,
          "x2": -7.882508754730225
         },
         {
          "label": 0,
          "name": "lelly dwi ambarini",
          "x1": -2.4545323848724365,
          "x2": -6.6053147315979
         },
         {
          "label": 1,
          "name": "gamma andika perdana",
          "x1": -0.31440791487693787,
          "x2": -5.178630828857422
         },
         {
          "label": 1,
          "name": "dimas permana",
          "x1": -0.4460412859916687,
          "x2": -4.563051700592041
         },
         {
          "label": 0,
          "name": "anindia rahmiwati",
          "x1": -2.4022743701934814,
          "x2": -4.652924537658691
         },
         {
          "label": 1,
          "name": "ashri perdana feizal",
          "x1": -1.2392776012420654,
          "x2": -6.541872024536133
         },
         {
          "label": 0,
          "name": "rizky amanda",
          "x1": -0.45945414900779724,
          "x2": -6.231081008911133
         },
         {
          "label": 1,
          "name": "r raka angling dipura",
          "x1": -1.4411677122116089,
          "x2": -4.079212188720703
         },
         {
          "label": 0,
          "name": "maria mortalisa ariani",
          "x1": -1.9514906406402588,
          "x2": -5.401700973510742
         },
         {
          "label": 1,
          "name": "hary noor baetana",
          "x1": -4.594423770904541,
          "x2": -7.371431827545166
         },
         {
          "label": 0,
          "name": "shofia aniisa",
          "x1": -2.7835605144500732,
          "x2": -5.615330219268799
         },
         {
          "label": 1,
          "name": "rahmat eldhie s",
          "x1": 0.4914757013320923,
          "x2": -7.37262487411499
         },
         {
          "label": 1,
          "name": "khanestyo",
          "x1": -3.7392067909240723,
          "x2": -7.176004886627197
         },
         {
          "label": 1,
          "name": "akhmad yulianto",
          "x1": -4.949461460113525,
          "x2": -6.404759407043457
         },
         {
          "label": 0,
          "name": "martha viona sentosa",
          "x1": -4.653614521026611,
          "x2": -6.967676639556885
         },
         {
          "label": 0,
          "name": "roro indriati",
          "x1": -4.295115947723389,
          "x2": -8.154252052307129
         },
         {
          "label": 0,
          "name": "dianna cucu haryono",
          "x1": -4.597507476806641,
          "x2": -7.58699893951416
         },
         {
          "label": 0,
          "name": "bahana wiradanti",
          "x1": -0.9098525643348694,
          "x2": -4.750616550445557
         },
         {
          "label": 1,
          "name": "yohannes christian sitompul",
          "x1": -5.07469367980957,
          "x2": -4.632155418395996
         },
         {
          "label": 1,
          "name": "rizki fadlilah rachmat",
          "x1": 0.6390941143035889,
          "x2": -7.411666393280029
         },
         {
          "label": 1,
          "name": "ivan ade sofiyan",
          "x1": -2.478299140930176,
          "x2": -5.9457197189331055
         },
         {
          "label": 1,
          "name": "ade fadli",
          "x1": -1.5167912244796753,
          "x2": -7.892483711242676
         },
         {
          "label": 1,
          "name": "taufik abidin",
          "x1": -1.8949681520462036,
          "x2": -7.680542469024658
         },
         {
          "label": 1,
          "name": "firdaus tejo rahardani",
          "x1": -0.6555453538894653,
          "x2": -6.311829090118408
         },
         {
          "label": 0,
          "name": "irma herdiyanti",
          "x1": -4.259693622589111,
          "x2": -5.836505889892578
         },
         {
          "label": 1,
          "name": "okto solideo silaban",
          "x1": -4.193187236785889,
          "x2": -7.59106969833374
         },
         {
          "label": 1,
          "name": "ivan fabianto",
          "x1": -4.859409809112549,
          "x2": -6.143577575683594
         },
         {
          "label": 1,
          "name": "rihandian nedya pratama",
          "x1": 0.6796362996101379,
          "x2": -4.646270751953125
         },
         {
          "label": 1,
          "name": "irfan hidayat",
          "x1": -0.43240684270858765,
          "x2": -8.664173126220703
         },
         {
          "label": 1,
          "name": "ridha novrizal",
          "x1": -1.6912519931793213,
          "x2": -7.059937000274658
         },
         {
          "label": 1,
          "name": "kristian harianja",
          "x1": -4.907258987426758,
          "x2": -4.542532444000244
         },
         {
          "label": 0,
          "name": "belinda febrianie",
          "x1": -2.96183705329895,
          "x2": -6.125882625579834
         },
         {
          "label": 1,
          "name": "david christian sulaeman",
          "x1": -5.050892353057861,
          "x2": -4.540849208831787
         },
         {
          "label": 0,
          "name": "ira susanty",
          "x1": -5.430777549743652,
          "x2": -6.493008613586426
         },
         {
          "label": 1,
          "name": "raden rinan dimas wibowo",
          "x1": -1.31367027759552,
          "x2": -5.350838661193848
         },
         {
          "label": 1,
          "name": "randi yusuf",
          "x1": -2.740105628967285,
          "x2": -8.470723152160645
         },
         {
          "label": 1,
          "name": "yovan andika putra",
          "x1": -3.2296106815338135,
          "x2": -2.368126153945923
         },
         {
          "label": 1,
          "name": "mohamad fikri",
          "x1": 2.9353301525115967,
          "x2": -5.416653633117676
         },
         {
          "label": 1,
          "name": "riko ringgoanto",
          "x1": -4.776162624359131,
          "x2": -7.792926788330078
         },
         {
          "label": 1,
          "name": "oddy anggadi pranidhana",
          "x1": -0.46998465061187744,
          "x2": -4.147921562194824
         },
         {
          "label": 1,
          "name": "gerald dharmawan",
          "x1": 0.20637962222099304,
          "x2": -5.593123435974121
         },
         {
          "label": 1,
          "name": "dwianto dana satriya",
          "x1": -4.854033470153809,
          "x2": -6.014850616455078
         },
         {
          "label": 1,
          "name": "heri sutikno",
          "x1": -3.461559772491455,
          "x2": -7.937805652618408
         },
         {
          "label": 0,
          "name": "shinta mustika",
          "x1": -3.1625356674194336,
          "x2": -7.079097270965576
         },
         {
          "label": 0,
          "name": "dewi handayani",
          "x1": -1.0210059881210327,
          "x2": -4.805124282836914
         },
         {
          "label": 0,
          "name": "dian sinthari rahayu",
          "x1": -1.2250792980194092,
          "x2": -6.2831926345825195
         },
         {
          "label": 1,
          "name": "muhammad randy desmond ibrahim",
          "x1": 3.525083541870117,
          "x2": -4.908519744873047
         },
         {
          "label": 0,
          "name": "hestia hartini martayoga",
          "x1": -3.5757062435150146,
          "x2": -5.364686965942383
         },
         {
          "label": 1,
          "name": "indra satyabrata",
          "x1": 0.5650885701179504,
          "x2": -4.474952220916748
         },
         {
          "label": 1,
          "name": "intar abimantrana",
          "x1": -1.3436278104782104,
          "x2": -4.220530033111572
         },
         {
          "label": 1,
          "name": "stephanus",
          "x1": -3.7549242973327637,
          "x2": -7.110180377960205
         },
         {
          "label": 1,
          "name": "arvin probosucitro",
          "x1": -4.327982425689697,
          "x2": -8.242385864257812
         },
         {
          "label": 0,
          "name": "ike mediawati",
          "x1": -4.155337333679199,
          "x2": -4.528958320617676
         },
         {
          "label": 1,
          "name": "heru arifin",
          "x1": -2.7535970211029053,
          "x2": -7.513880252838135
         },
         {
          "label": 1,
          "name": "mirza bamanto",
          "x1": -4.199026584625244,
          "x2": -6.753283977508545
         },
         {
          "label": 0,
          "name": "rima mustika sari",
          "x1": -2.5808281898498535,
          "x2": -4.781998157501221
         },
         {
          "label": 1,
          "name": "dimas agil triatmojo",
          "x1": -3.7240872383117676,
          "x2": -8.226343154907227
         },
         {
          "label": 0,
          "name": "popy purnamila",
          "x1": -2.5770297050476074,
          "x2": -7.890766620635986
         },
         {
          "label": 1,
          "name": "james filipus",
          "x1": -2.9482619762420654,
          "x2": -7.373481273651123
         },
         {
          "label": 1,
          "name": "nico resando nainggolan",
          "x1": -1.3998682498931885,
          "x2": -4.062464237213135
         },
         {
          "label": 0,
          "name": "made dian susantha",
          "x1": -0.5536057353019714,
          "x2": -6.077582359313965
         },
         {
          "label": 1,
          "name": "etikha",
          "x1": -2.293843984603882,
          "x2": -7.6676740646362305
         },
         {
          "label": 0,
          "name": "lidia natania liman",
          "x1": -1.7981550693511963,
          "x2": -5.006410598754883
         },
         {
          "label": 1,
          "name": "ramot dame deswanto sijabat",
          "x1": -4.763527870178223,
          "x2": -5.930908679962158
         },
         {
          "label": 0,
          "name": "andya anggarini",
          "x1": -1.3077741861343384,
          "x2": -4.000494956970215
         },
         {
          "label": 1,
          "name": "zukrodin",
          "x1": -3.2678754329681396,
          "x2": -8.229148864746094
         },
         {
          "label": 0,
          "name": "maya rhamdhanika",
          "x1": 0.40202096104621887,
          "x2": -6.2130513191223145
         },
         {
          "label": 0,
          "name": "anggia faolina",
          "x1": -1.2873564958572388,
          "x2": -4.039512634277344
         },
         {
          "label": 0,
          "name": "monita pasaribu",
          "x1": -2.593463659286499,
          "x2": -4.019473075866699
         },
         {
          "label": 1,
          "name": "ahmad arif",
          "x1": 0.7258796691894531,
          "x2": -7.35805606842041
         },
         {
          "label": 0,
          "name": "mutia prabawati",
          "x1": -4.091406345367432,
          "x2": -4.21737003326416
         },
         {
          "label": 1,
          "name": "yusran aldila",
          "x1": -1.2856379747390747,
          "x2": -6.896132469177246
         },
         {
          "label": 0,
          "name": "rifina yanurita afandi",
          "x1": -2.103212833404541,
          "x2": -4.76691198348999
         },
         {
          "label": 1,
          "name": "bangkit anugerah fadhillah",
          "x1": -0.40670648217201233,
          "x2": -6.96443510055542
         },
         {
          "label": 1,
          "name": "muhammad norman nurhakim",
          "x1": 3.582460641860962,
          "x2": -5.011393070220947
         },
         {
          "label": 1,
          "name": "ryan jonathan",
          "x1": -4.336855888366699,
          "x2": -6.979272842407227
         },
         {
          "label": 1,
          "name": "rahadiyan dewangga prawira wisesa",
          "x1": -0.24040137231349945,
          "x2": -4.3221282958984375
         },
         {
          "label": 1,
          "name": "mohammad yun'im hakim",
          "x1": 3.114140510559082,
          "x2": -5.004492282867432
         },
         {
          "label": 0,
          "name": "sharlini eriza putri",
          "x1": -3.5078210830688477,
          "x2": -3.0882372856140137
         },
         {
          "label": 0,
          "name": "cahyantari ekaputri",
          "x1": -3.3934574127197266,
          "x2": -2.654311180114746
         },
         {
          "label": 1,
          "name": "puger haryo pamungkas",
          "x1": -2.624441146850586,
          "x2": -8.040605545043945
         },
         {
          "label": 1,
          "name": "andika pratama",
          "x1": 0.7506299018859863,
          "x2": -4.654909610748291
         },
         {
          "label": 1,
          "name": "eros sidney erriyantoro",
          "x1": -4.9117302894592285,
          "x2": -6.930531978607178
         },
         {
          "label": 1,
          "name": "akbar ilham manangkasi",
          "x1": -0.5652739405632019,
          "x2": -6.570148468017578
         },
         {
          "label": 0,
          "name": "natasha amelia sinuhaji",
          "x1": -1.7551926374435425,
          "x2": -5.059112071990967
         },
         {
          "label": 1,
          "name": "periawan",
          "x1": -2.963862180709839,
          "x2": -6.039501190185547
         },
         {
          "label": 1,
          "name": "bangkit satya budi",
          "x1": -2.4546282291412354,
          "x2": -7.716297626495361
         },
         {
          "label": 1,
          "name": "adri kristian",
          "x1": -4.8643012046813965,
          "x2": -4.53193998336792
         },
         {
          "label": 1,
          "name": "kartiko",
          "x1": -2.242830276489258,
          "x2": -7.580016613006592
         },
         {
          "label": 0,
          "name": "yudhiza ghaztela",
          "x1": -1.5929137468338013,
          "x2": -7.94169282913208
         },
         {
          "label": 1,
          "name": "krisjanuardi aditomo",
          "x1": -4.510199546813965,
          "x2": -6.053759574890137
         },
         {
          "label": 1,
          "name": "armin",
          "x1": -2.5288023948669434,
          "x2": -7.528758525848389
         },
         {
          "label": 0,
          "name": "amalia fajriyanti",
          "x1": -1.3076972961425781,
          "x2": -6.945521831512451
         },
         {
          "label": 1,
          "name": "fendi yusuf",
          "x1": -2.8776662349700928,
          "x2": -8.543781280517578
         },
         {
          "label": 0,
          "name": "winahyu setyo utami",
          "x1": -3.947939872741699,
          "x2": -4.9635090827941895
         },
         {
          "label": 1,
          "name": "aen nuril hadi",
          "x1": -2.186563014984131,
          "x2": -8.084975242614746
         },
         {
          "label": 1,
          "name": "i gusti ngurah pandu wijaya",
          "x1": -5.328300476074219,
          "x2": -5.325887203216553
         },
         {
          "label": 1,
          "name": "sendri eko widiyanto",
          "x1": -4.9347686767578125,
          "x2": -6.315352439880371
         },
         {
          "label": 0,
          "name": "desty andayani",
          "x1": -0.9682983160018921,
          "x2": -4.823298931121826
         },
         {
          "label": 1,
          "name": "deni sartika",
          "x1": -2.285694122314453,
          "x2": -7.195789337158203
         },
         {
          "label": 0,
          "name": "deci zulvi amelia",
          "x1": -2.4049911499023438,
          "x2": -6.312258243560791
         },
         {
          "label": 0,
          "name": "evri marta risal",
          "x1": -1.9975413084030151,
          "x2": -5.929563522338867
         },
         {
          "label": 1,
          "name": "arya dwi santoso",
          "x1": -5.431453227996826,
          "x2": -6.649045944213867
         },
         {
          "label": 1,
          "name": "mochamad rizky ramadhan",
          "x1": 2.760662794113159,
          "x2": -5.36426305770874
         },
         {
          "label": 1,
          "name": "wildan aliviyarda",
          "x1": -1.0347539186477661,
          "x2": -5.758965492248535
         },
         {
          "label": 1,
          "name": "ahmad ridwan sigit",
          "x1": 0.8068872094154358,
          "x2": -7.349503040313721
         },
         {
          "label": 0,
          "name": "intan marita anggraini",
          "x1": -1.7731554508209229,
          "x2": -4.139895915985107
         },
         {
          "label": 1,
          "name": "rifandi",
          "x1": -2.0226242542266846,
          "x2": -7.3108811378479
         },
         {
          "label": 1,
          "name": "indra wahyudhin fathona",
          "x1": -0.5340140461921692,
          "x2": -5.555957317352295
         },
         {
          "label": 0,
          "name": "ruth fransiska siagian",
          "x1": -2.271467447280884,
          "x2": -5.140180587768555
         },
         {
          "label": 1,
          "name": "rinaldi",
          "x1": -2.783392906188965,
          "x2": -6.407857894897461
         },
         {
          "label": 0,
          "name": "deisha kusumaningsih",
          "x1": -1.9760494232177734,
          "x2": -8.385668754577637
         },
         {
          "label": 0,
          "name": "ajeng dwi intan amelia",
          "x1": -2.2970778942108154,
          "x2": -5.74741268157959
         },
         {
          "label": 1,
          "name": "sukanto",
          "x1": -5.276004791259766,
          "x2": -6.579780101776123
         },
         {
          "label": 0,
          "name": "nina yuliana",
          "x1": -1.9819090366363525,
          "x2": -5.150516510009766
         },
         {
          "label": 0,
          "name": "cella rachma carissa",
          "x1": 0.43966320157051086,
          "x2": -6.785171031951904
         },
         {
          "label": 1,
          "name": "mochamad raditya pradana",
          "x1": 0.9938219785690308,
          "x2": -5.112981796264648
         },
         {
          "label": 1,
          "name": "maulana annafi",
          "x1": -0.3310108184814453,
          "x2": -7.600887298583984
         },
         {
          "label": 1,
          "name": "ertanto vetra",
          "x1": -4.825089454650879,
          "x2": -6.807895183563232
         },
         {
          "label": 1,
          "name": "christophorus n k",
          "x1": -5.188115119934082,
          "x2": -4.857807636260986
         },
         {
          "label": 1,
          "name": "i made ranadipta nugraha",
          "x1": 0.5969187021255493,
          "x2": -5.172249794006348
         },
         {
          "label": 0,
          "name": "rien rakhmana",
          "x1": 0.5041534304618835,
          "x2": -6.730481147766113
         },
         {
          "label": 1,
          "name": "muhamad agil najib",
          "x1": 3.3346097469329834,
          "x2": -5.171566963195801
         },
         {
          "label": 0,
          "name": "yustina dea dimyatine",
          "x1": -4.213879585266113,
          "x2": -5.2417216300964355
         },
         {
          "label": 0,
          "name": "dwiputri maulidina",
          "x1": -3.6699626445770264,
          "x2": -2.981235980987549
         },
         {
          "label": 1,
          "name": "christoper janwar saputra sinaga",
          "x1": -2.9374139308929443,
          "x2": -2.224616050720215
         },
         {
          "label": 1,
          "name": "satria wibowo",
          "x1": -5.594536781311035,
          "x2": -8.811439514160156
         },
         {
          "label": 0,
          "name": "anastasia ary noviyanti",
          "x1": -2.2886736392974854,
          "x2": -4.470500946044922
         },
         {
          "label": 1,
          "name": "mario halim",
          "x1": -1.8019647598266602,
          "x2": -6.922199249267578
         },
         {
          "label": 1,
          "name": "muhamad aji",
          "x1": 3.32419753074646,
          "x2": -5.070085525512695
         },
         {
          "label": 1,
          "name": "chivalrist fandim masyuntoro",
          "x1": -4.386445999145508,
          "x2": -5.722077369689941
         },
         {
          "label": 1,
          "name": "farid ardiansyah",
          "x1": 1.1228115558624268,
          "x2": -8.724176406860352
         },
         {
          "label": 1,
          "name": "hamdi reza de surya",
          "x1": -1.941933035850525,
          "x2": -8.615142822265625
         },
         {
          "label": 1,
          "name": "edith nurhidayat kurniawan santosa",
          "x1": -1.1262553930282593,
          "x2": -1.508533000946045
         },
         {
          "label": 0,
          "name": "arviani",
          "x1": -3.2122364044189453,
          "x2": -5.598885536193848
         },
         {
          "label": 0,
          "name": "resty yulidayani",
          "x1": -1.3576325178146362,
          "x2": -8.539163589477539
         },
         {
          "label": 1,
          "name": "r muchamad bayu sakti pratama",
          "x1": 1.0682682991027832,
          "x2": -4.690288066864014
         },
         {
          "label": 0,
          "name": "natalia evelyn",
          "x1": -2.5697381496429443,
          "x2": -6.085750102996826
         },
         {
          "label": 0,
          "name": "catherine tobing",
          "x1": -3.7695345878601074,
          "x2": -6.495228290557861
         },
         {
          "label": 0,
          "name": "astri yunfia",
          "x1": -3.510004997253418,
          "x2": -4.232093334197998
         },
         {
          "label": 1,
          "name": "moh. taufan tripurnasatria",
          "x1": -3.2303457260131836,
          "x2": -3.255571126937866
         },
         {
          "label": 1,
          "name": "hadi teguh yudistira",
          "x1": -2.9450483322143555,
          "x2": -9.197884559631348
         },
         {
          "label": 0,
          "name": "dinda prasetya satiti",
          "x1": -0.1690109372138977,
          "x2": -3.8517792224884033
         },
         {
          "label": 1,
          "name": "firdauzi rizky amisty",
          "x1": -1.941467046737671,
          "x2": -6.6431779861450195
         },
         {
          "label": 1,
          "name": "komang gita agastya",
          "x1": -1.1422107219696045,
          "x2": -3.8415822982788086
         },
         {
          "label": 1,
          "name": "lisnanda alam perdana",
          "x1": -0.4611422121524811,
          "x2": -5.062110424041748
         },
         {
          "label": 0,
          "name": "ajeng kurnia",
          "x1": -1.3795197010040283,
          "x2": -1.8569843769073486
         },
         {
          "label": 0,
          "name": "indria gusmelli",
          "x1": -3.1538383960723877,
          "x2": -6.307551383972168
         },
         {
          "label": 1,
          "name": "encep saefful alam",
          "x1": -2.6467783451080322,
          "x2": -7.329408645629883
         },
         {
          "label": 1,
          "name": "ersa lutfi fauzi",
          "x1": -1.6576875448226929,
          "x2": -7.472142219543457
         },
         {
          "label": 0,
          "name": "kristina m siahaan",
          "x1": -3.1229641437530518,
          "x2": -4.990181922912598
         },
         {
          "label": 0,
          "name": "cynthia oey",
          "x1": -4.063222408294678,
          "x2": -7.126789569854736
         },
         {
          "label": 1,
          "name": "andre tambajong",
          "x1": -0.5451846718788147,
          "x2": -5.700632095336914
         },
         {
          "label": 1,
          "name": "dimas hermawan",
          "x1": 0.11946548521518707,
          "x2": -5.6661810874938965
         },
         {
          "label": 1,
          "name": "arif budiarto",
          "x1": -2.7933595180511475,
          "x2": -8.067458152770996
         },
         {
          "label": 0,
          "name": "imania rosemawati",
          "x1": -2.0018084049224854,
          "x2": -5.5549774169921875
         },
         {
          "label": 1,
          "name": "adi setia perwira",
          "x1": -0.4249946177005768,
          "x2": -2.993695020675659
         },
         {
          "label": 0,
          "name": "nurhartati s",
          "x1": -2.8660545349121094,
          "x2": -7.943941593170166
         },
         {
          "label": 0,
          "name": "ellsie viendra permana",
          "x1": -0.3033081293106079,
          "x2": -4.811818599700928
         },
         {
          "label": 1,
          "name": "adrian pratama",
          "x1": 0.7649774551391602,
          "x2": -4.631322383880615
         },
         {
          "label": 0,
          "name": "nurdinintya athari s",
          "x1": -2.708094358444214,
          "x2": -5.087100982666016
         },
         {
          "label": 1,
          "name": "dimas hadi prabowo",
          "x1": -5.318556308746338,
          "x2": -8.628416061401367
         },
         {
          "label": 1,
          "name": "raditya mohamadi kusuma wardhana",
          "x1": 1.1368452310562134,
          "x2": -5.313053607940674
         },
         {
          "label": 1,
          "name": "suharman saputra",
          "x1": -3.3314199447631836,
          "x2": -2.0692873001098633
         },
         {
          "label": 0,
          "name": "lina anugerah e w",
          "x1": 1.2402012348175049,
          "x2": -5.9431304931640625
         },
         {
          "label": 1,
          "name": "mulki hakiem adli mustaqiem",
          "x1": 3.790620803833008,
          "x2": -4.760231971740723
         },
         {
          "label": 1,
          "name": "agung hery haryanto",
          "x1": -4.661303520202637,
          "x2": -6.7431135177612305
         },
         {
          "label": 1,
          "name": "reddy gautama hasianta",
          "x1": 0.29654741287231445,
          "x2": -5.358712196350098
         },
         {
          "label": 0,
          "name": "ayunda aulia valencia",
          "x1": -1.7677754163742065,
          "x2": -6.203477382659912
         },
         {
          "label": 1,
          "name": "tording sitorus",
          "x1": -3.7218282222747803,
          "x2": -7.971294403076172
         },
         {
          "label": 1,
          "name": "richard tino andrean silaen",
          "x1": -0.8224937915802002,
          "x2": -5.378899574279785
         },
         {
          "label": 1,
          "name": "abu rizal mahdi",
          "x1": -1.5290465354919434,
          "x2": -7.642009258270264
         },
         {
          "label": 0,
          "name": "andra riandita",
          "x1": -0.9349817633628845,
          "x2": -5.407521724700928
         },
         {
          "label": 1,
          "name": "urpi hakim",
          "x1": -2.0514755249023438,
          "x2": -7.633993148803711
         },
         {
          "label": 1,
          "name": "redya febriyanto",
          "x1": -4.787237167358398,
          "x2": -6.546255111694336
         },
         {
          "label": 1,
          "name": "ronald pramasta",
          "x1": 0.6785006523132324,
          "x2": -4.768044948577881
         },
         {
          "label": 1,
          "name": "troy richman",
          "x1": -3.5742876529693604,
          "x2": -8.112669944763184
         },
         {
          "label": 1,
          "name": "albert julian",
          "x1": -2.8342690467834473,
          "x2": -7.270313262939453
         },
         {
          "label": 1,
          "name": "nicky satrio sugiharto",
          "x1": -4.680113792419434,
          "x2": -8.199313163757324
         },
         {
          "label": 1,
          "name": "junarih",
          "x1": -2.7457432746887207,
          "x2": -7.523031711578369
         },
         {
          "label": 1,
          "name": "dwi santosa",
          "x1": -5.424294948577881,
          "x2": -6.67563009262085
         },
         {
          "label": 1,
          "name": "dipo pramudito pangestu",
          "x1": -0.4160226881504059,
          "x2": -4.68045711517334
         },
         {
          "label": 1,
          "name": "ahmad zamakhsyari sidiq",
          "x1": 0.8445640802383423,
          "x2": -7.297312259674072
         },
         {
          "label": 0,
          "name": "gita ratna lukitasari",
          "x1": -2.3602449893951416,
          "x2": -3.982207775115967
         },
         {
          "label": 1,
          "name": "eprido meiladi",
          "x1": -2.4757306575775146,
          "x2": -7.2137770652771
         },
         {
          "label": 0,
          "name": "gressia melissa",
          "x1": -2.7681875228881836,
          "x2": -6.646279335021973
         },
         {
          "label": 1,
          "name": "beni kusuma atmaja",
          "x1": -1.6760683059692383,
          "x2": -8.430622100830078
         },
         {
          "label": 1,
          "name": "fikri yunus",
          "x1": -2.532804489135742,
          "x2": -8.35074520111084
         },
         {
          "label": 0,
          "name": "isthy eka rahmadini",
          "x1": 0.6485006809234619,
          "x2": -7.269741535186768
         },
         {
          "label": 0,
          "name": "fitri puspita putri",
          "x1": -3.388685703277588,
          "x2": -3.3908743858337402
         },
         {
          "label": 0,
          "name": "paramita devi dianantari",
          "x1": -2.071777105331421,
          "x2": -4.013399600982666
         },
         {
          "label": 0,
          "name": "arsvida yustisia sylvani",
          "x1": -3.3217809200286865,
          "x2": -4.525787353515625
         },
         {
          "label": 0,
          "name": "lesiana puspa dewi",
          "x1": -3.035250425338745,
          "x2": -6.328251361846924
         },
         {
          "label": 0,
          "name": "fatimah larasati h",
          "x1": -2.24916934967041,
          "x2": -4.048825740814209
         },
         {
          "label": 1,
          "name": "anindito priyambudi",
          "x1": -4.186156272888184,
          "x2": -6.5663886070251465
         },
         {
          "label": 1,
          "name": "wintang haryokusuma",
          "x1": -1.6105499267578125,
          "x2": -8.485918998718262
         },
         {
          "label": 1,
          "name": "nogista antanuri",
          "x1": -4.415030479431152,
          "x2": -5.6108222007751465
         },
         {
          "label": 1,
          "name": "riza danu barustan abdullah",
          "x1": -0.4770953357219696,
          "x2": -7.715073108673096
         },
         {
          "label": 1,
          "name": "yuamar imarrazan basarah",
          "x1": 0.6652098298072815,
          "x2": -5.74757194519043
         },
         {
          "label": 1,
          "name": "irawan surya kusuma",
          "x1": -1.2236886024475098,
          "x2": -8.312103271484375
         },
         {
          "label": 0,
          "name": "ira rahmayunita",
          "x1": 0.6827195882797241,
          "x2": -6.874826908111572
         },
         {
          "label": 0,
          "name": "fitria titisari",
          "x1": -3.3604037761688232,
          "x2": -4.288426399230957
         },
         {
          "label": 1,
          "name": "panji adyatama",
          "x1": 0.5416600704193115,
          "x2": -4.7088775634765625
         },
         {
          "label": 1,
          "name": "tirta rona m s",
          "x1": -3.606400728225708,
          "x2": -7.590012550354004
         },
         {
          "label": 0,
          "name": "nova maulani",
          "x1": -0.35352039337158203,
          "x2": -7.654995441436768
         },
         {
          "label": 1,
          "name": "panji prabowo",
          "x1": -5.234116554260254,
          "x2": -8.58661937713623
         },
         {
          "label": 0,
          "name": "rd roro astria p",
          "x1": -4.364032745361328,
          "x2": -8.228416442871094
         },
         {
          "label": 1,
          "name": "bima anggun putra",
          "x1": -3.1564745903015137,
          "x2": -2.4087765216827393
         },
         {
          "label": 0,
          "name": "eva naulina simarmata",
          "x1": -1.3574053049087524,
          "x2": -5.056551456451416
         },
         {
          "label": 1,
          "name": "dian azizi",
          "x1": -2.2664623260498047,
          "x2": -6.365378379821777
         },
         {
          "label": 1,
          "name": "mulyono",
          "x1": -3.952862024307251,
          "x2": -8.388068199157715
         },
         {
          "label": 1,
          "name": "petrick gideon effendi",
          "x1": -3.386187791824341,
          "x2": -7.652754306793213
         },
         {
          "label": 1,
          "name": "mohamad firda fauzan",
          "x1": 2.8295323848724365,
          "x2": -5.274767875671387
         },
         {
          "label": 1,
          "name": "bambang eko prabowo",
          "x1": -5.186603546142578,
          "x2": -8.54417610168457
         },
         {
          "label": 1,
          "name": "ahmad efendi",
          "x1": 0.38035276532173157,
          "x2": -7.405080318450928
         },
         {
          "label": 0,
          "name": "anisa rahmalia",
          "x1": 0.5094295144081116,
          "x2": -6.694656848907471
         },
         {
          "label": 1,
          "name": "muhammad fajri alhaq",
          "x1": 3.5549373626708984,
          "x2": -5.276604175567627
         },
         {
          "label": 1,
          "name": "brian andreas josep",
          "x1": -0.6450729370117188,
          "x2": -5.3913960456848145
         },
         {
          "label": 0,
          "name": "teta pratiwi",
          "x1": -3.9177086353302,
          "x2": -3.9292314052581787
         },
         {
          "label": 0,
          "name": "rizki diah elvandari",
          "x1": -1.813166618347168,
          "x2": -6.355625152587891
         },
         {
          "label": 1,
          "name": "rismaysa tri yoga",
          "x1": -2.9108054637908936,
          "x2": -5.11265230178833
         },
         {
          "label": 1,
          "name": "noverdi hardianto gajah",
          "x1": -4.655172348022461,
          "x2": -6.088079452514648
         },
         {
          "label": 0,
          "name": "adinda aulianova",
          "x1": -1.7395665645599365,
          "x2": -5.894023895263672
         },
         {
          "label": 0,
          "name": "josephine margaretha siahaan",
          "x1": -1.2372606992721558,
          "x2": -5.512698650360107
         },
         {
          "label": 1,
          "name": "amrih setiyono",
          "x1": -4.298637390136719,
          "x2": -8.016499519348145
         },
         {
          "label": 1,
          "name": "agung prasetyo nugroho",
          "x1": -5.033724308013916,
          "x2": -7.891879558563232
         },
         {
          "label": 1,
          "name": "syukron maknun",
          "x1": -3.661600112915039,
          "x2": -8.025379180908203
         },
         {
          "label": 1,
          "name": "ranuh haris setiyawan",
          "x1": -0.6995063424110413,
          "x2": -2.9704320430755615
         },
         {
          "label": 1,
          "name": "dimas wibowo",
          "x1": -5.585208892822266,
          "x2": -8.797205924987793
         },
         {
          "label": 1,
          "name": "jagat batara",
          "x1": 0.05947587639093399,
          "x2": -4.789438247680664
         },
         {
          "label": 1,
          "name": "ridwan permana",
          "x1": -0.5300455689430237,
          "x2": -4.44157600402832
         },
         {
          "label": 1,
          "name": "hamami nomeira",
          "x1": -1.711729884147644,
          "x2": -7.136467933654785
         },
         {
          "label": 1,
          "name": "fery hidayat",
          "x1": -0.47271254658699036,
          "x2": -8.692245483398438
         },
         {
          "label": 1,
          "name": "ahmad syihan",
          "x1": 0.7745636701583862,
          "x2": -7.275718688964844
         },
         {
          "label": 1,
          "name": "aditya kusuma wijaya",
          "x1": -0.998367190361023,
          "x2": -8.683122634887695
         },
         {
          "label": 0,
          "name": "rosyidah khairun nafisah",
          "x1": -0.6074634790420532,
          "x2": -6.9686279296875
         },
         {
          "label": 0,
          "name": "meutia faradilla",
          "x1": -0.9335001707077026,
          "x2": -7.134878635406494
         },
         {
          "label": 1,
          "name": "edwin a sujudi",
          "x1": -2.696413040161133,
          "x2": -8.545866966247559
         },
         {
          "label": 0,
          "name": "edistri nur fathya",
          "x1": -3.0507612228393555,
          "x2": -5.16497278213501
         },
         {
          "label": 1,
          "name": "r hardika cahya nugraha",
          "x1": 1.1225250959396362,
          "x2": -5.7221360206604
         },
         {
          "label": 0,
          "name": "mei winaningthias",
          "x1": -3.3297042846679688,
          "x2": -5.542355537414551
         },
         {
          "label": 1,
          "name": "uma maheswary apparavoo",
          "x1": 0.6477639675140381,
          "x2": -5.035653591156006
         },
         {
          "label": 0,
          "name": "windeati argapadmi",
          "x1": -3.026052474975586,
          "x2": -4.844254493713379
         },
         {
          "label": 0,
          "name": "inna rubhasy",
          "x1": -2.632789373397827,
          "x2": -7.469892978668213
         },
         {
          "label": 0,
          "name": "triana mustika rukmi",
          "x1": -3.0385499000549316,
          "x2": -4.990246772766113
         },
         {
          "label": 0,
          "name": "wulandari",
          "x1": -1.0130054950714111,
          "x2": -6.1831889152526855
         },
         {
          "label": 1,
          "name": "heru hermawan",
          "x1": 0.1620781123638153,
          "x2": -5.595070838928223
         },
         {
          "label": 1,
          "name": "anas d. tawaruddin hutabarat",
          "x1": -0.1888294368982315,
          "x2": -4.367579460144043
         },
         {
          "label": 0,
          "name": "ghaida tsurayya",
          "x1": -0.5647982954978943,
          "x2": -8.640390396118164
         },
         {
          "label": 0,
          "name": "gisca tamara",
          "x1": 0.4260576367378235,
          "x2": -5.070922374725342
         },
         {
          "label": 0,
          "name": "gema puspa sari",
          "x1": -2.4900906085968018,
          "x2": -3.8602657318115234
         },
         {
          "label": 0,
          "name": "dian puspita dewi",
          "x1": -3.71761417388916,
          "x2": -4.419201850891113
         },
         {
          "label": 1,
          "name": "zulfikry",
          "x1": -2.2259273529052734,
          "x2": -8.102008819580078
         },
         {
          "label": 0,
          "name": "yuniwati",
          "x1": -3.937396764755249,
          "x2": -4.756218910217285
         },
         {
          "label": 1,
          "name": "muhamad kasyful fuadi",
          "x1": 3.4208970069885254,
          "x2": -5.080604076385498
         },
         {
          "label": 1,
          "name": "muhamad noer samsoe",
          "x1": 3.257441759109497,
          "x2": -4.962416172027588
         },
         {
          "label": 1,
          "name": "ade prima sakti perangin angin",
          "x1": -1.327717900276184,
          "x2": -4.022212028503418
         },
         {
          "label": 1,
          "name": "farhan",
          "x1": -1.228710651397705,
          "x2": -7.266156196594238
         },
         {
          "label": 1,
          "name": "aditya septian perdana",
          "x1": -0.21113687753677368,
          "x2": -4.065992832183838
         },
         {
          "label": 1,
          "name": "dimas ariotomo",
          "x1": -3.6870625019073486,
          "x2": -8.277335166931152
         },
         {
          "label": 1,
          "name": "novri arfan",
          "x1": -2.951017379760742,
          "x2": -5.844240188598633
         },
         {
          "label": 0,
          "name": "anis kamilah hayati",
          "x1": -0.7751076817512512,
          "x2": -8.143553733825684
         },
         {
          "label": 1,
          "name": "aditya harza indrawan",
          "x1": -0.046257320791482925,
          "x2": -4.426657199859619
         },
         {
          "label": 1,
          "name": "ramon rusli",
          "x1": -3.253159523010254,
          "x2": -7.8786940574646
         },
         {
          "label": 1,
          "name": "fendy hartanto",
          "x1": -5.104197025299072,
          "x2": -7.011711597442627
         },
         {
          "label": 1,
          "name": "bayu pawitra",
          "x1": -2.6125409603118896,
          "x2": -4.034093379974365
         },
         {
          "label": 1,
          "name": "made widhi surya atman",
          "x1": 0.20270936191082,
          "x2": -6.384845733642578
         },
         {
          "label": 0,
          "name": "adiska fardani",
          "x1": -1.1999605894088745,
          "x2": -5.775542736053467
         },
         {
          "label": 0,
          "name": "helen julian",
          "x1": -2.952568769454956,
          "x2": -7.120251655578613
         },
         {
          "label": 1,
          "name": "muhammad rizky",
          "x1": 3.9039998054504395,
          "x2": -4.886658668518066
         },
         {
          "label": 1,
          "name": "tito isromi h",
          "x1": -3.8524246215820312,
          "x2": -8.271379470825195
         },
         {
          "label": 0,
          "name": "hera rosmiati",
          "x1": -2.7398135662078857,
          "x2": -7.314103603363037
         },
         {
          "label": 1,
          "name": "aditya idamsyah",
          "x1": 0.19954469799995422,
          "x2": -4.119401931762695
         },
         {
          "label": 0,
          "name": "selviana",
          "x1": -3.09820556640625,
          "x2": -6.357814311981201
         },
         {
          "label": 1,
          "name": "abdul karim soleh",
          "x1": -0.8959910273551941,
          "x2": -7.938006401062012
         },
         {
          "label": 1,
          "name": "hideo gunawan",
          "x1": -1.3942646980285645,
          "x2": -2.9083380699157715
         },
         {
          "label": 0,
          "name": "gana respati",
          "x1": -2.6388864517211914,
          "x2": -6.350614547729492
         },
         {
          "label": 0,
          "name": "ariefina rahardyani",
          "x1": -1.3919692039489746,
          "x2": -4.992147922515869
         },
         {
          "label": 1,
          "name": "muhammad fahmi",
          "x1": 3.4822447299957275,
          "x2": -5.029463291168213
         },
         {
          "label": 1,
          "name": "gurit nugroho dwie baskoro",
          "x1": -4.84138822555542,
          "x2": -8.010064125061035
         },
         {
          "label": 1,
          "name": "oktaf priatna",
          "x1": -3.039529323577881,
          "x2": -4.77345609664917
         },
         {
          "label": 1,
          "name": "andreas nugroho jati",
          "x1": -4.881881237030029,
          "x2": -7.549254894256592
         },
         {
          "label": 1,
          "name": "affan arif nurfarhan",
          "x1": -0.5999494194984436,
          "x2": -6.979913711547852
         },
         {
          "label": 1,
          "name": "jimmy karisma ramadhan",
          "x1": 0.6886881589889526,
          "x2": -5.6652679443359375
         },
         {
          "label": 0,
          "name": "dhisa minerva",
          "x1": -2.2737483978271484,
          "x2": -6.84141731262207
         },
         {
          "label": 1,
          "name": "robert kuncoro",
          "x1": -4.388133525848389,
          "x2": -8.183220863342285
         },
         {
          "label": 0,
          "name": "chairunisha",
          "x1": -2.2650203704833984,
          "x2": -7.271833896636963
         },
         {
          "label": 1,
          "name": "fuji hafidz pramudia",
          "x1": -0.2883007228374481,
          "x2": -6.920392990112305
         },
         {
          "label": 0,
          "name": "astrid ayuningtyas",
          "x1": -3.6561694145202637,
          "x2": -4.161306858062744
         },
         {
          "label": 0,
          "name": "adisty pravitasari",
          "x1": -2.295626401901245,
          "x2": -3.9120376110076904
         },
         {
          "label": 1,
          "name": "dwitiya kramadhira p",
          "x1": 0.08212330937385559,
          "x2": -6.254653453826904
         },
         {
          "label": 1,
          "name": "badruzaman",
          "x1": -0.5709467530250549,
          "x2": -6.602383613586426
         },
         {
          "label": 1,
          "name": "khoirush sholih ridhwaana akbar",
          "x1": -0.5711069703102112,
          "x2": -6.90976619720459
         },
         {
          "label": 0,
          "name": "yasi dani",
          "x1": -2.4609570503234863,
          "x2": -6.307027339935303
         },
         {
          "label": 1,
          "name": "drestanta yudha satya",
          "x1": 0.3956536054611206,
          "x2": -4.47084903717041
         },
         {
          "label": 1,
          "name": "nicolas andres",
          "x1": -0.6330045461654663,
          "x2": -5.646685600280762
         },
         {
          "label": 1,
          "name": "andre candra wijaya",
          "x1": -0.24480168521404266,
          "x2": -5.331202507019043
         },
         {
          "label": 0,
          "name": "tazkiyah izzati",
          "x1": -1.4341800212860107,
          "x2": -7.385727405548096
         },
         {
          "label": 0,
          "name": "anna marcellina w",
          "x1": -1.6666966676712036,
          "x2": -5.374814033508301
         },
         {
          "label": 0,
          "name": "reisha humaira",
          "x1": -0.11175516992807388,
          "x2": -7.243943214416504
         },
         {
          "label": 1,
          "name": "zamruddin yusuf n",
          "x1": -2.5922129154205322,
          "x2": -8.601225852966309
         },
         {
          "label": 0,
          "name": "sila wiyanti putri",
          "x1": -3.709505081176758,
          "x2": -3.384120225906372
         },
         {
          "label": 1,
          "name": "poso nugraha pulungan",
          "x1": 1.3365453481674194,
          "x2": -5.873511791229248
         },
         {
          "label": 1,
          "name": "raditya arief",
          "x1": 0.1307920664548874,
          "x2": -4.0518903732299805
         },
         {
          "label": 1,
          "name": "muhammad hafifi bin zainal abidin",
          "x1": 3.5687873363494873,
          "x2": -5.017985820770264
         },
         {
          "label": 1,
          "name": "achmad sidhi purnama",
          "x1": 0.8544173836708069,
          "x2": -7.318127632141113
         },
         {
          "label": 0,
          "name": "tjokorde istri armina padmasawitri",
          "x1": -2.5988500118255615,
          "x2": -4.654315948486328
         },
         {
          "label": 0,
          "name": "ratih amelia",
          "x1": -2.361940860748291,
          "x2": -6.285024166107178
         },
         {
          "label": 0,
          "name": "ernestasia siahaan",
          "x1": -1.7089639902114868,
          "x2": -4.9036431312561035
         },
         {
          "label": 1,
          "name": "saesarian izwardy",
          "x1": -2.1245970726013184,
          "x2": -4.98405647277832
         },
         {
          "label": 1,
          "name": "aditya wardhana",
          "x1": 0.036898113787174225,
          "x2": -4.355372905731201
         },
         {
          "label": 0,
          "name": "etsuroyya ewidyasari anward",
          "x1": -1.9377187490463257,
          "x2": -4.588478088378906
         },
         {
          "label": 1,
          "name": "arliandra",
          "x1": -0.9980879426002502,
          "x2": -5.861502647399902
         },
         {
          "label": 1,
          "name": "hadrian inosensius suwanto",
          "x1": -4.295567512512207,
          "x2": -6.283890247344971
         },
         {
          "label": 0,
          "name": "liza nastasyia zulkarnain",
          "x1": -1.6973742246627808,
          "x2": -4.945180416107178
         },
         {
          "label": 1,
          "name": "ryan sosiawan",
          "x1": -0.8483628034591675,
          "x2": -3.068272352218628
         },
         {
          "label": 0,
          "name": "dini khoirun nisa",
          "x1": -2.9505624771118164,
          "x2": -5.768221855163574
         },
         {
          "label": 1,
          "name": "leonardus gilang ginting prabowo",
          "x1": -1.3283971548080444,
          "x2": -4.008815288543701
         },
         {
          "label": 0,
          "name": "vanny erliana kusumawardhani",
          "x1": -1.1728949546813965,
          "x2": -4.677742004394531
         },
         {
          "label": 1,
          "name": "reza rahman mohammad",
          "x1": 3.0644290447235107,
          "x2": -5.204257965087891
         },
         {
          "label": 1,
          "name": "seto prabowo",
          "x1": -5.216846466064453,
          "x2": -8.59251880645752
         },
         {
          "label": 0,
          "name": "utami aria puteri",
          "x1": -3.5570602416992188,
          "x2": -3.0022897720336914
         },
         {
          "label": 1,
          "name": "nario dwi anggoro",
          "x1": -4.7031097412109375,
          "x2": -7.928279876708984
         },
         {
          "label": 1,
          "name": "fikri rahmansyah",
          "x1": 1.2320659160614014,
          "x2": -8.277421951293945
         },
         {
          "label": 1,
          "name": "ari wibowo",
          "x1": -5.628770351409912,
          "x2": -8.81204891204834
         },
         {
          "label": 1,
          "name": "muchamad ridlo widiawan",
          "x1": 3.072183132171631,
          "x2": -5.534388542175293
         },
         {
          "label": 0,
          "name": "shendiary aviolanda",
          "x1": -0.8937684893608093,
          "x2": -6.065389633178711
         },
         {
          "label": 1,
          "name": "rezandi laksana",
          "x1": -0.5112042427062988,
          "x2": -5.698988914489746
         },
         {
          "label": 1,
          "name": "mokhammad gati jayeng wibowo",
          "x1": -5.409162998199463,
          "x2": -8.792525291442871
         },
         {
          "label": 1,
          "name": "christian gamayiel sembiring meliala",
          "x1": -2.4953296184539795,
          "x2": -5.708204746246338
         },
         {
          "label": 0,
          "name": "prasetyaningtyas ekarini",
          "x1": -3.6226847171783447,
          "x2": -4.1697096824646
         },
         {
          "label": 1,
          "name": "nur sidik cahyono",
          "x1": -3.9812939167022705,
          "x2": -8.483854293823242
         },
         {
          "label": 1,
          "name": "hendra nainggolan",
          "x1": -1.3462224006652832,
          "x2": -4.102090835571289
         },
         {
          "label": 1,
          "name": "antony abirawa",
          "x1": -4.767462730407715,
          "x2": -6.0461812019348145
         },
         {
          "label": 1,
          "name": "satwika listyana",
          "x1": -1.7518006563186646,
          "x2": -5.934762477874756
         },
         {
          "label": 1,
          "name": "danny sumithio",
          "x1": -3.7438642978668213,
          "x2": -7.173389911651611
         },
         {
          "label": 1,
          "name": "ananta wiguna firdaus",
          "x1": -1.4476248025894165,
          "x2": -3.1960787773132324
         },
         {
          "label": 1,
          "name": "muhammad amrimirza",
          "x1": 3.692918539047241,
          "x2": -5.040256023406982
         },
         {
          "label": 0,
          "name": "santi setyaningsih",
          "x1": -3.6537346839904785,
          "x2": -5.4587321281433105
         },
         {
          "label": 1,
          "name": "rias andrika",
          "x1": -2.4490082263946533,
          "x2": -5.306819915771484
         },
         {
          "label": 0,
          "name": "dian sobandiah",
          "x1": -1.890499234199524,
          "x2": -5.890541076660156
         },
         {
          "label": 1,
          "name": "prisanto novapriya maulido",
          "x1": -4.82244348526001,
          "x2": -6.714848041534424
         },
         {
          "label": 1,
          "name": "lunel candra",
          "x1": -0.6063541769981384,
          "x2": -5.734132766723633
         },
         {
          "label": 1,
          "name": "adhityo wicaksono",
          "x1": -4.844351768493652,
          "x2": -8.709240913391113
         },
         {
          "label": 1,
          "name": "taufiq hidayat",
          "x1": -0.45135554671287537,
          "x2": -8.643975257873535
         },
         {
          "label": 1,
          "name": "dominikus damas putranto",
          "x1": -3.386535167694092,
          "x2": -2.249135732650757
         },
         {
          "label": 1,
          "name": "almendo rafki",
          "x1": -2.621166467666626,
          "x2": -7.417538642883301
         },
         {
          "label": 1,
          "name": "ronald hartono",
          "x1": -4.479467868804932,
          "x2": -7.57245397567749
         },
         {
          "label": 1,
          "name": "firdaus sustanto",
          "x1": -5.435600757598877,
          "x2": -6.5124311447143555
         },
         {
          "label": 1,
          "name": "rizki ramadhana",
          "x1": 0.33897385001182556,
          "x2": -5.975703239440918
         },
         {
          "label": 1,
          "name": "salman faisal",
          "x1": -1.5438202619552612,
          "x2": -6.6842546463012695
         },
         {
          "label": 1,
          "name": "mulo priyo mulyono",
          "x1": -3.9975082874298096,
          "x2": -8.409316062927246
         },
         {
          "label": 0,
          "name": "sumi karyuni",
          "x1": -2.3981244564056396,
          "x2": -8.365795135498047
         },
         {
          "label": 0,
          "name": "mayerni sidabalok",
          "x1": -1.7929798364639282,
          "x2": -6.382968902587891
         },
         {
          "label": 0,
          "name": "iis siti aisah",
          "x1": -3.9210057258605957,
          "x2": -5.2629828453063965
         },
         {
          "label": 1,
          "name": "yohenry prakasa",
          "x1": 0.08591245114803314,
          "x2": -4.76869010925293
         },
         {
          "label": 1,
          "name": "leanddas nurdiwijayanto",
          "x1": -1.2394781112670898,
          "x2": -9.476675033569336
         },
         {
          "label": 1,
          "name": "eldi firmansyah nasution",
          "x1": 1.328546166419983,
          "x2": -8.416110038757324
         },
         {
          "label": 0,
          "name": "asri wulandari",
          "x1": -1.139898657798767,
          "x2": -6.103918552398682
         },
         {
          "label": 1,
          "name": "zainal abidin",
          "x1": -2.6041104793548584,
          "x2": -5.569775104522705
         },
         {
          "label": 0,
          "name": "prinandita adhika",
          "x1": -1.2928977012634277,
          "x2": -5.582967758178711
         },
         {
          "label": 0,
          "name": "gita septhianie",
          "x1": -3.3686416149139404,
          "x2": -5.3984694480896
         },
         {
          "label": 0,
          "name": "khairunnisa binti hasbullah",
          "x1": -2.5208146572113037,
          "x2": -5.931236267089844
         },
         {
          "label": 0,
          "name": "pratisara satwika anindita",
          "x1": -2.2546186447143555,
          "x2": -4.0738420486450195
         },
         {
          "label": 0,
          "name": "nuri trianti",
          "x1": -3.331059217453003,
          "x2": -4.697017669677734
         },
         {
          "label": 1,
          "name": "zora yuliardi",
          "x1": -2.623363971710205,
          "x2": -7.2217488288879395
         },
         {
          "label": 1,
          "name": "richard susanto",
          "x1": -5.257925510406494,
          "x2": -6.630672454833984
         },
         {
          "label": 1,
          "name": "sudhista f wira p",
          "x1": -2.964271068572998,
          "x2": -9.185835838317871
         },
         {
          "label": 1,
          "name": "luthfi hady",
          "x1": -2.081402540206909,
          "x2": -8.222845077514648
         },
         {
          "label": 0,
          "name": "fitrisia",
          "x1": -3.359375238418579,
          "x2": -4.387413501739502
         },
         {
          "label": 0,
          "name": "leni junita rotua",
          "x1": -3.390561103820801,
          "x2": -5.972211837768555
         },
         {
          "label": 1,
          "name": "muhamad anang zamroni",
          "x1": 3.276508092880249,
          "x2": -5.217262268066406
         },
         {
          "label": 1,
          "name": "yovian dinata chandra",
          "x1": -0.7905738353729248,
          "x2": -5.381246566772461
         },
         {
          "label": 1,
          "name": "wahana adhi wibowo",
          "x1": -5.593970775604248,
          "x2": -8.72506332397461
         },
         {
          "label": 0,
          "name": "nofania arindah",
          "x1": -1.6585465669631958,
          "x2": -5.614058494567871
         },
         {
          "label": 1,
          "name": "charles hariyadi",
          "x1": -1.7123820781707764,
          "x2": -6.4905195236206055
         },
         {
          "label": 0,
          "name": "dwi nuraini siregar",
          "x1": -3.0633344650268555,
          "x2": -5.409832000732422
         },
         {
          "label": 1,
          "name": "reza yudha pramono",
          "x1": -4.134211540222168,
          "x2": -8.637242317199707
         },
         {
          "label": 0,
          "name": "hanna putri bayu siregar",
          "x1": -3.2168006896972656,
          "x2": -2.6018145084381104
         },
         {
          "label": 1,
          "name": "ridwan iskandar",
          "x1": -1.0540711879730225,
          "x2": -5.6706461906433105
         },
         {
          "label": 0,
          "name": "ester romauli sitorus",
          "x1": -3.3561089038848877,
          "x2": -7.942351818084717
         },
         {
          "label": 0,
          "name": "wanti",
          "x1": -4.285669326782227,
          "x2": -6.428185939788818
         },
         {
          "label": 1,
          "name": "mohammad fazrin assidiqy",
          "x1": 3.1322362422943115,
          "x2": -5.134146213531494
         },
         {
          "label": 0,
          "name": "sevie",
          "x1": -3.3036715984344482,
          "x2": -7.440356731414795
         },
         {
          "label": 0,
          "name": "kuspremati berlinestri",
          "x1": -3.066182851791382,
          "x2": -6.851831436157227
         },
         {
          "label": 1,
          "name": "hadi wijaya",
          "x1": -1.3215153217315674,
          "x2": -9.155238151550293
         },
         {
          "label": 1,
          "name": "robbie arsyadanie",
          "x1": -1.069698452949524,
          "x2": -5.69011926651001
         },
         {
          "label": 1,
          "name": "rahmat syahrullah",
          "x1": 0.3440202474594116,
          "x2": -7.49174690246582
         },
         {
          "label": 1,
          "name": "erwan yonata",
          "x1": -4.126222133636475,
          "x2": -6.911687850952148
         },
         {
          "label": 0,
          "name": "nazerita nidyasari",
          "x1": -2.247750997543335,
          "x2": -4.381922721862793
         },
         {
          "label": 1,
          "name": "izki aldrin iswarna",
          "x1": -2.0192959308624268,
          "x2": -5.936676025390625
         },
         {
          "label": 1,
          "name": "toni alchofino",
          "x1": -4.325386047363281,
          "x2": -7.490102291107178
         },
         {
          "label": 1,
          "name": "zulkifli",
          "x1": -2.053574800491333,
          "x2": -8.066295623779297
         },
         {
          "label": 0,
          "name": "yolanda afianto bastari",
          "x1": -1.3328697681427002,
          "x2": -5.079761981964111
         },
         {
          "label": 1,
          "name": "zainal muttaqien",
          "x1": -2.9103848934173584,
          "x2": -6.750443458557129
         },
         {
          "label": 1,
          "name": "hasymy arief",
          "x1": -1.5073482990264893,
          "x2": -7.926827430725098
         },
         {
          "label": 1,
          "name": "irwan sirait",
          "x1": -1.445074200630188,
          "x2": -5.55643892288208
         },
         {
          "label": 0,
          "name": "adinda ihsani putri",
          "x1": -3.09505295753479,
          "x2": -3.161938190460205
         },
         {
          "label": 1,
          "name": "wisnu wijanarko",
          "x1": -3.3191134929656982,
          "x2": -7.340716361999512
         },
         {
          "label": 0,
          "name": "liherlinah",
          "x1": -3.0134706497192383,
          "x2": -7.083910942077637
         },
         {
          "label": 1,
          "name": "fikri irsyad",
          "x1": -2.356698751449585,
          "x2": -6.9084038734436035
         },
         {
          "label": 0,
          "name": "agnes hartanti",
          "x1": -3.8721609115600586,
          "x2": -5.829627513885498
         },
         {
          "label": 1,
          "name": "mohammad gilang kautzar hw",
          "x1": 3.0178797245025635,
          "x2": -5.195681095123291
         },
         {
          "label": 1,
          "name": "bramono prabowo",
          "x1": -5.1630096435546875,
          "x2": -8.550553321838379
         },
         {
          "label": 0,
          "name": "palomita nurhasanah",
          "x1": -2.2950658798217773,
          "x2": -5.508808135986328
         },
         {
          "label": 0,
          "name": "dian novita",
          "x1": -3.3617005348205566,
          "x2": -5.447295665740967
         },
         {
          "label": 1,
          "name": "tri fatirahman",
          "x1": 0.45387449860572815,
          "x2": -7.112727642059326
         },
         {
          "label": 0,
          "name": "marcel",
          "x1": -2.678187847137451,
          "x2": -7.739096164703369
         },
         {
          "label": 1,
          "name": "raden ananta",
          "x1": -0.7748138308525085,
          "x2": -4.821496963500977
         },
         {
          "label": 0,
          "name": "rr hermala yuniaji",
          "x1": -2.633807420730591,
          "x2": -7.290413856506348
         },
         {
          "label": 1,
          "name": "mu'thi abdillah",
          "x1": -1.0761172771453857,
          "x2": -7.95565128326416
         },
         {
          "label": 0,
          "name": "ayu dinda marita",
          "x1": -1.2550647258758545,
          "x2": -5.384634494781494
         },
         {
          "label": 0,
          "name": "devi herlianty stefanus",
          "x1": -3.783165454864502,
          "x2": -6.555614948272705
         },
         {
          "label": 1,
          "name": "yayan suryana",
          "x1": -0.8404079079627991,
          "x2": -4.849460124969482
         },
         {
          "label": 1,
          "name": "dede bachtiar",
          "x1": -3.262833833694458,
          "x2": -7.895291328430176
         },
         {
          "label": 0,
          "name": "rima hasanah",
          "x1": -0.4904262125492096,
          "x2": -6.8183207511901855
         },
         {
          "label": 0,
          "name": "dea marsendah",
          "x1": -0.3653099238872528,
          "x2": -6.407036304473877
         },
         {
          "label": 1,
          "name": "margani muhammad iqbal",
          "x1": 3.5457603931427,
          "x2": -5.129167556762695
         },
         {
          "label": 1,
          "name": "adam b a arrieta",
          "x1": -0.48465001583099365,
          "x2": -5.906868934631348
         },
         {
          "label": 1,
          "name": "bagus adiwiluhung riwanto",
          "x1": -1.8638017177581787,
          "x2": -3.13446307182312
         },
         {
          "label": 1,
          "name": "ferdy chrisnardy",
          "x1": -3.348886013031006,
          "x2": -7.6777119636535645
         },
         {
          "label": 1,
          "name": "kurniaji",
          "x1": -1.404309868812561,
          "x2": -1.8334293365478516
         },
         {
          "label": 0,
          "name": "glenda enzy vyona",
          "x1": -3.4272923469543457,
          "x2": -7.8646345138549805
         },
         {
          "label": 0,
          "name": "astrid parama ningrum",
          "x1": -1.9585307836532593,
          "x2": -4.483682632446289
         },
         {
          "label": 1,
          "name": "neppa nurrohman assidiqi",
          "x1": -0.8654680252075195,
          "x2": -4.636516571044922
         },
         {
          "label": 1,
          "name": "rachmat gilang permata",
          "x1": -0.4930126667022705,
          "x2": -4.205950736999512
         },
         {
          "label": 1,
          "name": "teddy kusuma wardhana",
          "x1": -0.21037547290325165,
          "x2": -7.181220531463623
         },
         {
          "label": 1,
          "name": "shaliny a p sivanganam",
          "x1": -1.5973092317581177,
          "x2": -5.203868865966797
         },
         {
          "label": 1,
          "name": "wafdan musa nursakti",
          "x1": -0.9514138698577881,
          "x2": -6.942800998687744
         },
         {
          "label": 1,
          "name": "maranu ricardo",
          "x1": -0.8617837429046631,
          "x2": -6.491323471069336
         },
         {
          "label": 1,
          "name": "andri awal aspari",
          "x1": -1.4843376874923706,
          "x2": -5.579545497894287
         },
         {
          "label": 0,
          "name": "anggita karlesa",
          "x1": -1.2834950685501099,
          "x2": -3.892341136932373
         },
         {
          "label": 1,
          "name": "khasin fuadi",
          "x1": -1.939123511314392,
          "x2": -6.784423828125
         },
         {
          "label": 1,
          "name": "januar arief",
          "x1": -1.2114460468292236,
          "x2": -6.868228912353516
         },
         {
          "label": 1,
          "name": "ivan barus",
          "x1": -2.4917001724243164,
          "x2": -7.534318447113037
         },
         {
          "label": 1,
          "name": "rahmat ranudigdo",
          "x1": 0.6824482679367065,
          "x2": -7.175317287445068
         },
         {
          "label": 1,
          "name": "abednego noelandri silitonga",
          "x1": -1.4048447608947754,
          "x2": -4.4996562004089355
         },
         {
          "label": 1,
          "name": "yuda faisal yushendri",
          "x1": -2.8143815994262695,
          "x2": -8.636609077453613
         },
         {
          "label": 1,
          "name": "prayudi herdiyanto",
          "x1": -4.828848838806152,
          "x2": -6.632876396179199
         },
         {
          "label": 1,
          "name": "asmoro santo",
          "x1": -5.382740497589111,
          "x2": -6.7157158851623535
         },
         {
          "label": 1,
          "name": "arya pramudya",
          "x1": 0.4814508855342865,
          "x2": -4.833245754241943
         },
         {
          "label": 0,
          "name": "yoan felanny l",
          "x1": -3.590134382247925,
          "x2": -7.337239742279053
         },
         {
          "label": 1,
          "name": "andri wijayanto",
          "x1": -1.2387688159942627,
          "x2": -9.506491661071777
         },
         {
          "label": 0,
          "name": "farrah hanifah",
          "x1": -0.6964669227600098,
          "x2": -7.180467128753662
         },
         {
          "label": 1,
          "name": "susilo japip",
          "x1": -3.118030548095703,
          "x2": -7.529425144195557
         },
         {
          "label": 1,
          "name": "khumaedy",
          "x1": -2.2613365650177,
          "x2": -8.3309907913208
         },
         {
          "label": 0,
          "name": "henny firdaus",
          "x1": -3.2860147953033447,
          "x2": -7.884437084197998
         },
         {
          "label": 1,
          "name": "gilang airlangga",
          "x1": -1.2425835132598877,
          "x2": -3.870750904083252
         },
         {
          "label": 1,
          "name": "bayu apriansyah",
          "x1": 1.170534610748291,
          "x2": -8.749199867248535
         },
         {
          "label": 0,
          "name": "gia pusfita",
          "x1": -3.209118127822876,
          "x2": -3.824315309524536
         },
         {
          "label": 1,
          "name": "gian ganjar zatnika",
          "x1": -1.1779872179031372,
          "x2": -4.098868370056152
         },
         {
          "label": 1,
          "name": "rama adhitia",
          "x1": 0.015824703499674797,
          "x2": -6.290689468383789
         },
         {
          "label": 1,
          "name": "enggar subono",
          "x1": -4.122550010681152,
          "x2": -8.128239631652832
         },
         {
          "label": 1,
          "name": "muchamad rahadian a",
          "x1": 1.1537463665008545,
          "x2": -5.480990886688232
         },
         {
          "label": 1,
          "name": "hendro maulana sugandi",
          "x1": -0.2910785675048828,
          "x2": -7.2942585945129395
         },
         {
          "label": 1,
          "name": "biko gilang kahfi",
          "x1": -2.0208942890167236,
          "x2": -7.0148024559021
         },
         {
          "label": 0,
          "name": "anggrahaeni dewi selfitri",
          "x1": -3.1382014751434326,
          "x2": -4.857339382171631
         },
         {
          "label": 1,
          "name": "ajie revy priambudi",
          "x1": -2.717211961746216,
          "x2": -7.049675941467285
         },
         {
          "label": 0,
          "name": "ima purnamasari",
          "x1": -1.8894742727279663,
          "x2": -4.573903560638428
         },
         {
          "label": 1,
          "name": "jonly mangahit parulian",
          "x1": -1.1985728740692139,
          "x2": -4.338656902313232
         },
         {
          "label": 1,
          "name": "afrizal manaf",
          "x1": -1.184980034828186,
          "x2": -6.648312091827393
         },
         {
          "label": 1,
          "name": "angga muhamad fuady",
          "x1": 3.228370428085327,
          "x2": -5.136206150054932
         },
         {
          "label": 1,
          "name": "anthony hartanto",
          "x1": -5.0095953941345215,
          "x2": -7.145538806915283
         },
         {
          "label": 1,
          "name": "peter wijaya",
          "x1": -1.3864774703979492,
          "x2": -9.338114738464355
         },
         {
          "label": 1,
          "name": "ferry pranolo",
          "x1": -4.440587043762207,
          "x2": -7.90247106552124
         },
         {
          "label": 1,
          "name": "ronald osmond",
          "x1": -3.902865171432495,
          "x2": -7.883088111877441
         },
         {
          "label": 1,
          "name": "renaldy nurdwinanto",
          "x1": -4.62397575378418,
          "x2": -6.281524658203125
         },
         {
          "label": 0,
          "name": "galuh estu winahyu",
          "x1": -3.5355782508850098,
          "x2": -6.921578407287598
         },
         {
          "label": 1,
          "name": "felix",
          "x1": -2.997307538986206,
          "x2": -7.270697116851807
         },
         {
          "label": 0,
          "name": "kinanti karunia putrigustiarti",
          "x1": -3.4490253925323486,
          "x2": -4.034292697906494
         },
         {
          "label": 1,
          "name": "darius varianemil",
          "x1": -2.093687057495117,
          "x2": -5.519115447998047
         },
         {
          "label": 1,
          "name": "irfan habibie m",
          "x1": -1.7761647701263428,
          "x2": -7.071120738983154
         },
         {
          "label": 1,
          "name": "fasriansyah nurma'rufin",
          "x1": 1.304478406906128,
          "x2": -8.58014965057373
         },
         {
          "label": 1,
          "name": "ghufran rahmat putra",
          "x1": 0.5039939880371094,
          "x2": -7.153000831604004
         },
         {
          "label": 1,
          "name": "galih surya permana",
          "x1": -0.44790205359458923,
          "x2": -4.390432834625244
         },
         {
          "label": 1,
          "name": "yulianto",
          "x1": -4.985947132110596,
          "x2": -6.3708906173706055
         },
         {
          "label": 1,
          "name": "daniel tulus diputra",
          "x1": -3.640061855316162,
          "x2": -2.532970428466797
         },
         {
          "label": 1,
          "name": "sena satyadarma wahyudin",
          "x1": -0.05052366107702255,
          "x2": -4.18752908706665
         },
         {
          "label": 1,
          "name": "aruno sri basundoro",
          "x1": -4.334880828857422,
          "x2": -8.345638275146484
         },
         {
          "label": 1,
          "name": "adhi nugraha",
          "x1": 1.3707486391067505,
          "x2": -5.915945529937744
         },
         {
          "label": 0,
          "name": "melly wihera yulinda",
          "x1": -2.904886484146118,
          "x2": -7.019979953765869
         },
         {
          "label": 1,
          "name": "raka pradipta nandiwardhana",
          "x1": 0.16711550951004028,
          "x2": -4.683897018432617
         },
         {
          "label": 1,
          "name": "dody kurniadi",
          "x1": -2.5518906116485596,
          "x2": -8.378640174865723
         },
         {
          "label": 1,
          "name": "zaki mujahid",
          "x1": -1.63130784034729,
          "x2": -7.806146621704102
         },
         {
          "label": 1,
          "name": "rizkydaya aditya putra",
          "x1": 0.25054436922073364,
          "x2": -3.9607646465301514
         },
         {
          "label": 1,
          "name": "albert angkasa",
          "x1": -1.225770354270935,
          "x2": -5.913331031799316
         },
         {
          "label": 0,
          "name": "anisa rauufah",
          "x1": -0.4561122953891754,
          "x2": -7.016087532043457
         },
         {
          "label": 1,
          "name": "laksito anindyo",
          "x1": -3.9320363998413086,
          "x2": -6.681234836578369
         },
         {
          "label": 0,
          "name": "yani handayani",
          "x1": -1.0054765939712524,
          "x2": -4.750861644744873
         },
         {
          "label": 1,
          "name": "herman",
          "x1": -2.945159435272217,
          "x2": -7.429161071777344
         },
         {
          "label": 1,
          "name": "hernando",
          "x1": -4.084344863891602,
          "x2": -7.415871620178223
         },
         {
          "label": 0,
          "name": "shita ardiani rachman",
          "x1": 0.6155138611793518,
          "x2": -6.627615451812744
         },
         {
          "label": 1,
          "name": "risman nurrahman",
          "x1": 0.523484468460083,
          "x2": -6.93890905380249
         },
         {
          "label": 1,
          "name": "dian mauli putra simatupang",
          "x1": -3.933851957321167,
          "x2": -6.573421001434326
         },
         {
          "label": 1,
          "name": "dies harmin fisie",
          "x1": -2.2265172004699707,
          "x2": -7.509420871734619
         },
         {
          "label": 0,
          "name": "puti ambunsuri ulfiani",
          "x1": -3.7267701625823975,
          "x2": -3.5682830810546875
         },
         {
          "label": 0,
          "name": "sina jamilah",
          "x1": -2.197784900665283,
          "x2": -6.850963115692139
         },
         {
          "label": 0,
          "name": "annisa chandra",
          "x1": -0.34192970395088196,
          "x2": -5.440330982208252
         },
         {
          "label": 1,
          "name": "rahmatullah",
          "x1": 0.3491661548614502,
          "x2": -7.487525463104248
         },
         {
          "label": 1,
          "name": "ilfan rainuddin",
          "x1": -2.762604236602783,
          "x2": -6.149092197418213
         },
         {
          "label": 0,
          "name": "annisa rahmani qastharin",
          "x1": 0.5199615955352783,
          "x2": -6.521872043609619
         },
         {
          "label": 1,
          "name": "armetra",
          "x1": -2.645235776901245,
          "x2": -7.695821762084961
         },
         {
          "label": 1,
          "name": "hidayathul akhmal",
          "x1": -0.249378502368927,
          "x2": -8.419204711914062
         },
         {
          "label": 1,
          "name": "dindin hasanudin chairul ihsan",
          "x1": -2.4156506061553955,
          "x2": -5.449418067932129
         },
         {
          "label": 1,
          "name": "yohanes baptista",
          "x1": -3.796705722808838,
          "x2": -6.967904567718506
         },
         {
          "label": 0,
          "name": "yelvia nurianti",
          "x1": -3.5153863430023193,
          "x2": -5.278546333312988
         },
         {
          "label": 0,
          "name": "annisa kurnia maulida",
          "x1": -1.6345845460891724,
          "x2": -4.574592590332031
         },
         {
          "label": 0,
          "name": "silvia rahmawati",
          "x1": 0.9774650931358337,
          "x2": -6.674431324005127
         },
         {
          "label": 1,
          "name": "anjas tri sukmono",
          "x1": -4.189279079437256,
          "x2": -7.8777756690979
         },
         {
          "label": 0,
          "name": "emma eryanti",
          "x1": -4.406641483306885,
          "x2": -6.785807132720947
         },
         {
          "label": 1,
          "name": "unggul satrio respationo",
          "x1": -4.769680500030518,
          "x2": -8.346572875976562
         },
         {
          "label": 1,
          "name": "reza ismaniar",
          "x1": -1.70679771900177,
          "x2": -6.040060520172119
         },
         {
          "label": 0,
          "name": "nadia indah",
          "x1": -1.4641207456588745,
          "x2": -5.874487400054932
         },
         {
          "label": 1,
          "name": "mohammad kusmianto",
          "x1": 3.0131614208221436,
          "x2": -5.012813091278076
         },
         {
          "label": 1,
          "name": "iqbal zealanda raharjo",
          "x1": -0.06928618997335434,
          "x2": -6.690806865692139
         },
         {
          "label": 1,
          "name": "mahendra primajati",
          "x1": 0.796119749546051,
          "x2": -4.799412250518799
         },
         {
          "label": 1,
          "name": "abu bakar gadi",
          "x1": -0.9489237666130066,
          "x2": -7.149786472320557
         },
         {
          "label": 1,
          "name": "muhammad adi putra sudiman",
          "x1": 3.5105395317077637,
          "x2": -5.0424017906188965
         },
         {
          "label": 1,
          "name": "abram",
          "x1": -2.2419917583465576,
          "x2": -7.759574890136719
         },
         {
          "label": 0,
          "name": "lusy maryanti pasaribu",
          "x1": -2.424635171890259,
          "x2": -3.7593464851379395
         },
         {
          "label": 1,
          "name": "reza aditya rizkiyanto",
          "x1": 0.11907070130109787,
          "x2": -3.964600086212158
         },
         {
          "label": 1,
          "name": "dhani muhammad kurniawan",
          "x1": 3.540452003479004,
          "x2": -5.223326683044434
         },
         {
          "label": 1,
          "name": "andika tjandra",
          "x1": -0.4354667663574219,
          "x2": -5.441598892211914
         },
         {
          "label": 1,
          "name": "leonardo kurnia beniartho",
          "x1": -2.873805522918701,
          "x2": -6.106183052062988
         },
         {
          "label": 0,
          "name": "metha zuleva puspa wijaya",
          "x1": -1.2732957601547241,
          "x2": -9.369000434875488
         },
         {
          "label": 1,
          "name": "rio chandra hermanto tampubolon",
          "x1": -4.6009602546691895,
          "x2": -6.977993488311768
         },
         {
          "label": 0,
          "name": "anisa aprilia",
          "x1": -2.2660088539123535,
          "x2": -5.535768508911133
         },
         {
          "label": 0,
          "name": "dian yulia nurhidayati",
          "x1": -3.313328504562378,
          "x2": -6.403055667877197
         },
         {
          "label": 1,
          "name": "iqbal ginanjar prasetia",
          "x1": -0.2370806187391281,
          "x2": -3.1500208377838135
         },
         {
          "label": 1,
          "name": "horas yosua",
          "x1": -4.0016398429870605,
          "x2": -8.500943183898926
         },
         {
          "label": 1,
          "name": "ratno rohanda",
          "x1": -4.590272903442383,
          "x2": -7.3906731605529785
         },
         {
          "label": 1,
          "name": "andy hartono",
          "x1": -4.735733509063721,
          "x2": -7.470189094543457
         },
         {
          "label": 1,
          "name": "azman nurgozali",
          "x1": -1.8344166278839111,
          "x2": -6.453250408172607
         },
         {
          "label": 0,
          "name": "rizka",
          "x1": -1.8192979097366333,
          "x2": -7.209020614624023
         },
         {
          "label": 1,
          "name": "daniel karyodisa",
          "x1": -1.1984977722167969,
          "x2": -5.774230480194092
         },
         {
          "label": 0,
          "name": "mayang novianty laksono",
          "x1": -4.045546054840088,
          "x2": -6.249088287353516
         },
         {
          "label": 1,
          "name": "rizky ferdiansyah",
          "x1": 1.1371755599975586,
          "x2": -8.879874229431152
         },
         {
          "label": 1,
          "name": "andy yahya al hakim",
          "x1": -0.20244723558425903,
          "x2": -6.787227153778076
         },
         {
          "label": 1,
          "name": "hari solagratia",
          "x1": -1.8659614324569702,
          "x2": -6.031660556793213
         },
         {
          "label": 0,
          "name": "marilyn",
          "x1": -2.574897527694702,
          "x2": -7.607146739959717
         },
         {
          "label": 1,
          "name": "erik sunarya",
          "x1": -2.7489705085754395,
          "x2": -7.549771308898926
         },
         {
          "label": 0,
          "name": "mirani susiloputri",
          "x1": -3.633984088897705,
          "x2": -3.2806954383850098
         },
         {
          "label": 1,
          "name": "sra harke pratama",
          "x1": 0.7663112282752991,
          "x2": -4.909789085388184
         },
         {
          "label": 0,
          "name": "hafni junita putri",
          "x1": -3.5821380615234375,
          "x2": -3.465247631072998
         },
         {
          "label": 1,
          "name": "anggi darmansyah",
          "x1": 1.2900749444961548,
          "x2": -8.438892364501953
         },
         {
          "label": 1,
          "name": "jayanthi suppaya",
          "x1": -1.2844016551971436,
          "x2": -9.351435661315918
         },
         {
          "label": 1,
          "name": "srijoko",
          "x1": -4.105834007263184,
          "x2": -8.245086669921875
         },
         {
          "label": 1,
          "name": "imam catur priambodo",
          "x1": -1.4647502899169922,
          "x2": -6.716358184814453
         },
         {
          "label": 1,
          "name": "adhi muhammad husni",
          "x1": 3.593492031097412,
          "x2": -4.874971389770508
         },
         {
          "label": 0,
          "name": "dilla alisa",
          "x1": -1.8739839792251587,
          "x2": -6.890399932861328
         },
         {
          "label": 1,
          "name": "ferdiansyah",
          "x1": 1.170780897140503,
          "x2": -8.767682075500488
         },
         {
          "label": 1,
          "name": "tomy agustinus ferdian",
          "x1": -5.418436050415039,
          "x2": -5.431645393371582
         },
         {
          "label": 1,
          "name": "ronald jansen gultom",
          "x1": -3.778301239013672,
          "x2": -7.806973457336426
         },
         {
          "label": 0,
          "name": "fitria nur hasanah",
          "x1": -2.350680351257324,
          "x2": -4.9884490966796875
         },
         {
          "label": 0,
          "name": "della permata sari",
          "x1": -0.6055707931518555,
          "x2": -4.220007419586182
         },
         {
          "label": 1,
          "name": "cordova",
          "x1": -3.7892770767211914,
          "x2": -8.18823528289795
         },
         {
          "label": 1,
          "name": "ar razi pinangyana",
          "x1": -1.1770665645599365,
          "x2": -4.454795837402344
         },
         {
          "label": 0,
          "name": "citra permata sari",
          "x1": -0.7090011239051819,
          "x2": -4.13323450088501
         },
         {
          "label": 1,
          "name": "ezra narizky bona partogi",
          "x1": -1.342193841934204,
          "x2": -4.555332183837891
         },
         {
          "label": 1,
          "name": "percont rynaldi",
          "x1": -3.7823901176452637,
          "x2": -7.7884297370910645
         },
         {
          "label": 1,
          "name": "boris victor",
          "x1": -4.1653642654418945,
          "x2": -8.206735610961914
         },
         {
          "label": 0,
          "name": "novita pratiwi",
          "x1": -3.8941922187805176,
          "x2": -3.9591400623321533
         },
         {
          "label": 0,
          "name": "dina hermawaty",
          "x1": 0.16102299094200134,
          "x2": -5.711040496826172
         },
         {
          "label": 1,
          "name": "juni artha sf sihotang",
          "x1": -3.702054500579834,
          "x2": -5.9004292488098145
         },
         {
          "label": 1,
          "name": "adyarto raharjo",
          "x1": -3.9840009212493896,
          "x2": -8.570423126220703
         },
         {
          "label": 0,
          "name": "puti ranu intan",
          "x1": -3.980867862701416,
          "x2": -5.346396446228027
         },
         {
          "label": 1,
          "name": "dasep purnama",
          "x1": -0.35885190963745117,
          "x2": -6.131134986877441
         },
         {
          "label": 1,
          "name": "dion ernanda",
          "x1": -4.074565410614014,
          "x2": -7.330845832824707
         },
         {
          "label": 0,
          "name": "cintya citramegha",
          "x1": -2.92535400390625,
          "x2": -4.3855814933776855
         },
         {
          "label": 1,
          "name": "luthfi alifiani",
          "x1": -2.8224546909332275,
          "x2": -5.712470054626465
         },
         {
          "label": 1,
          "name": "kornelis putera karunia zebua",
          "x1": -2.1924400329589844,
          "x2": -5.547099590301514
         },
         {
          "label": 1,
          "name": "muhamad maris al gifari",
          "x1": 3.736280918121338,
          "x2": -5.111199855804443
         },
         {
          "label": 1,
          "name": "thomas muliawan",
          "x1": -2.0433759689331055,
          "x2": -7.014779090881348
         },
         {
          "label": 1,
          "name": "irfan miladi syahdan",
          "x1": -0.8319560885429382,
          "x2": -6.196313858032227
         },
         {
          "label": 1,
          "name": "carlos jonathan",
          "x1": -4.427936553955078,
          "x2": -7.114777565002441
         },
         {
          "label": 1,
          "name": "gilang yasodaputra",
          "x1": -3.1051599979400635,
          "x2": -2.313333511352539
         },
         {
          "label": 1,
          "name": "bayu alyoeda",
          "x1": -1.7658803462982178,
          "x2": -8.477261543273926
         },
         {
          "label": 1,
          "name": "calvin lumban gaol",
          "x1": -2.800694465637207,
          "x2": -6.856084823608398
         },
         {
          "label": 1,
          "name": "arya pradipta t h y",
          "x1": 0.5390551090240479,
          "x2": -4.128600597381592
         },
         {
          "label": 1,
          "name": "andre eka saputra",
          "x1": -3.3613572120666504,
          "x2": -2.126150131225586
         },
         {
          "label": 1,
          "name": "eko roy marella",
          "x1": -2.797740936279297,
          "x2": -7.655488967895508
         },
         {
          "label": 1,
          "name": "muhammad luqmannul hakim",
          "x1": 3.6466078758239746,
          "x2": -5.119125843048096
         },
         {
          "label": 1,
          "name": "ris pradipta",
          "x1": -0.10477614402770996,
          "x2": -3.6291935443878174
         },
         {
          "label": 1,
          "name": "andri rizki aminulloh",
          "x1": -1.9913897514343262,
          "x2": -6.248011112213135
         },
         {
          "label": 0,
          "name": "puteri noor hidayatussa'adah",
          "x1": -0.45108872652053833,
          "x2": -8.669968605041504
         },
         {
          "label": 0,
          "name": "inna sari",
          "x1": -2.4352939128875732,
          "x2": -5.391829490661621
         },
         {
          "label": 1,
          "name": "pahala sanggam mangasi nainggolan",
          "x1": -1.2980550527572632,
          "x2": -3.8818180561065674
         },
         {
          "label": 1,
          "name": "rahmady",
          "x1": 0.6992295980453491,
          "x2": -7.305690288543701
         },
         {
          "label": 1,
          "name": "nazar iskandar fajri",
          "x1": -1.0905044078826904,
          "x2": -5.57786226272583
         },
         {
          "label": 0,
          "name": "ratih dwi anggraini",
          "x1": -2.1697072982788086,
          "x2": -4.160369873046875
         },
         {
          "label": 1,
          "name": "indro ario prakoso",
          "x1": -4.395424842834473,
          "x2": -8.217153549194336
         },
         {
          "label": 1,
          "name": "hariadhi wicaksono",
          "x1": -4.828520774841309,
          "x2": -8.702913284301758
         },
         {
          "label": 1,
          "name": "gilang nugraha",
          "x1": 1.295454502105713,
          "x2": -5.860202789306641
         },
         {
          "label": 1,
          "name": "agung ary pringgadinata s",
          "x1": -1.188350796699524,
          "x2": -3.9960129261016846
         },
         {
          "label": 0,
          "name": "priska novi hapsari",
          "x1": -2.432145595550537,
          "x2": -4.9369354248046875
         },
         {
          "label": 1,
          "name": "andi muhammad rusli",
          "x1": 3.477694034576416,
          "x2": -4.925368309020996
         },
         {
          "label": 0,
          "name": "indah nurmawarti",
          "x1": -1.0613642930984497,
          "x2": -5.978405475616455
         },
         {
          "label": 0,
          "name": "syifa asatyas",
          "x1": -1.2993167638778687,
          "x2": -8.018528938293457
         },
         {
          "label": 1,
          "name": "gilang artha putra",
          "x1": -3.0522501468658447,
          "x2": -2.411050319671631
         },
         {
          "label": 1,
          "name": "rino iman maizar",
          "x1": -1.7237123250961304,
          "x2": -5.715564727783203
         },
         {
          "label": 1,
          "name": "joel tupa hans parlindungan hutasoit",
          "x1": -1.2990130186080933,
          "x2": -4.342098236083984
         },
         {
          "label": 1,
          "name": "inas luthfi",
          "x1": -3.4080820083618164,
          "x2": -6.7500505447387695
         },
         {
          "label": 1,
          "name": "matthew wangsadiredja",
          "x1": -0.14423547685146332,
          "x2": -5.5477495193481445
         },
         {
          "label": 1,
          "name": "rosikin",
          "x1": -3.667902946472168,
          "x2": -7.904720783233643
         },
         {
          "label": 1,
          "name": "bayu adiat natadafani",
          "x1": -0.10420635342597961,
          "x2": -4.566591262817383
         },
         {
          "label": 1,
          "name": "yudhie hatmadji sudjarwo",
          "x1": 0.16238287091255188,
          "x2": -6.494384765625
         },
         {
          "label": 1,
          "name": "harman adhittyo",
          "x1": -0.01308823935687542,
          "x2": -6.261157512664795
         },
         {
          "label": 1,
          "name": "adhitya nala sumarlan putra",
          "x1": -3.112234592437744,
          "x2": -2.131213903427124
         },
         {
          "label": 1,
          "name": "welly reagan",
          "x1": -2.87606143951416,
          "x2": -7.116962432861328
         },
         {
          "label": 1,
          "name": "mohammad khairul falah",
          "x1": 3.0846049785614014,
          "x2": -5.2977118492126465
         },
         {
          "label": 1,
          "name": "deddy juharna saragih sitio",
          "x1": -0.13166652619838715,
          "x2": -6.212993144989014
         },
         {
          "label": 1,
          "name": "dolly janferson sitanggang",
          "x1": -1.3221737146377563,
          "x2": -3.880350351333618
         },
         {
          "label": 0,
          "name": "nina purnamasari",
          "x1": -1.781031847000122,
          "x2": -4.6555705070495605
         },
         {
          "label": 1,
          "name": "richard tymotheus purba",
          "x1": -3.0714056491851807,
          "x2": -7.991174221038818
         },
         {
          "label": 0,
          "name": "aidilla pradini",
          "x1": -2.1116998195648193,
          "x2": -6.549418926239014
         },
         {
          "label": 1,
          "name": "andjas wahyu ardiansyah",
          "x1": 1.223808765411377,
          "x2": -8.742203712463379
         },
         {
          "label": 1,
          "name": "reza raharja",
          "x1": -1.039817452430725,
          "x2": -7.052884101867676
         },
         {
          "label": 0,
          "name": "tiin sinatra",
          "x1": -3.5410873889923096,
          "x2": -5.784383296966553
         },
         {
          "label": 1,
          "name": "muhammad iqbal gumay",
          "x1": 3.530078411102295,
          "x2": -5.198607921600342
         },
         {
          "label": 1,
          "name": "hawa firdausi kurniadi",
          "x1": -1.1370545625686646,
          "x2": -1.6015958786010742
         },
         {
          "label": 1,
          "name": "riza kusuma uripto",
          "x1": -2.5887153148651123,
          "x2": -8.220372200012207
         },
         {
          "label": 1,
          "name": "muhammad abdullah kasyfi",
          "x1": 3.5276410579681396,
          "x2": -5.221982955932617
         },
         {
          "label": 0,
          "name": "eni dwi astuti",
          "x1": -4.1950459480285645,
          "x2": -4.9869771003723145
         },
         {
          "label": 1,
          "name": "brian lee",
          "x1": -3.3249802589416504,
          "x2": -6.465092658996582
         },
         {
          "label": 1,
          "name": "hendro",
          "x1": -3.3417510986328125,
          "x2": -8.60816478729248
         },
         {
          "label": 0,
          "name": "ratna pemila",
          "x1": -2.3794074058532715,
          "x2": -6.316763877868652
         },
         {
          "label": 1,
          "name": "haryo agung wibowo",
          "x1": -5.591672420501709,
          "x2": -8.778304100036621
         },
         {
          "label": 1,
          "name": "chandra gondowasito",
          "x1": -4.611629486083984,
          "x2": -7.162356853485107
         },
         {
          "label": 0,
          "name": "kania adityarani",
          "x1": -1.8630439043045044,
          "x2": -4.669854164123535
         },
         {
          "label": 0,
          "name": "tara pradipta",
          "x1": 0.5019433498382568,
          "x2": -4.163975715637207
         },
         {
          "label": 0,
          "name": "vanya vabrina valindria",
          "x1": -1.4644984006881714,
          "x2": -5.140594482421875
         },
         {
          "label": 1,
          "name": "shendy chandra sulamanda",
          "x1": -0.1618308424949646,
          "x2": -5.496194839477539
         },
         {
          "label": 1,
          "name": "ahmad nurul fajri",
          "x1": 0.6802871823310852,
          "x2": -7.3791961669921875
         },
         {
          "label": 1,
          "name": "rizki primasakti",
          "x1": -1.9004517793655396,
          "x2": -6.727063179016113
         },
         {
          "label": 1,
          "name": "yohanes daniel kristianto",
          "x1": -5.027903079986572,
          "x2": -4.833899021148682
         },
         {
          "label": 1,
          "name": "m dian irfan perkasa",
          "x1": -1.9327656030654907,
          "x2": -5.392855167388916
         },
         {
          "label": 1,
          "name": "andrio rahman",
          "x1": 0.49951836466789246,
          "x2": -6.752961158752441
         },
         {
          "label": 1,
          "name": "rizki hadian",
          "x1": -1.8718477487564087,
          "x2": -6.363651752471924
         },
         {
          "label": 1,
          "name": "hendra wijaya",
          "x1": -1.4261176586151123,
          "x2": -9.224689483642578
         },
         {
          "label": 0,
          "name": "megarini hersaputri",
          "x1": -3.5069456100463867,
          "x2": -3.1308236122131348
         },
         {
          "label": 1,
          "name": "dinish perumal",
          "x1": -2.817085027694702,
          "x2": -8.463462829589844
         },
         {
          "label": 1,
          "name": "wisnu",
          "x1": -3.4445090293884277,
          "x2": -7.796180248260498
         },
         {
          "label": 0,
          "name": "tiara pelangi a",
          "x1": -2.1468465328216553,
          "x2": -4.341989994049072
         },
         {
          "label": 1,
          "name": "muhammad fajar",
          "x1": 3.536646604537964,
          "x2": -5.227476596832275
         },
         {
          "label": 0,
          "name": "anjani putri",
          "x1": -3.611633777618408,
          "x2": -3.226407766342163
         },
         {
          "label": 1,
          "name": "muhammad riza fahlevi siregar",
          "x1": 3.8276805877685547,
          "x2": -5.034655570983887
         },
         {
          "label": 1,
          "name": "ibnu hikam",
          "x1": -2.2692389488220215,
          "x2": -7.689365863800049
         },
         {
          "label": 0,
          "name": "irma sofiani",
          "x1": -3.051304578781128,
          "x2": -5.81077241897583
         },
         {
          "label": 1,
          "name": "akhmad fauzi",
          "x1": 0.8117890954017639,
          "x2": -7.416024684906006
         },
         {
          "label": 1,
          "name": "kristoforus hieronimus harso nindito hardjasoekanta",
          "x1": -4.540015697479248,
          "x2": -6.427544593811035
         },
         {
          "label": 1,
          "name": "ahmad tiko widodo",
          "x1": -3.7731595039367676,
          "x2": -8.473432540893555
         },
         {
          "label": 1,
          "name": "rano sangka fhury",
          "x1": -0.8004212975502014,
          "x2": -4.871811866760254
         },
         {
          "label": 0,
          "name": "cinantya devi",
          "x1": -3.118187189102173,
          "x2": -6.1210737228393555
         },
         {
          "label": 1,
          "name": "julius valenza",
          "x1": -2.737541675567627,
          "x2": -7.290339946746826
         },
         {
          "label": 1,
          "name": "kevin channel",
          "x1": -3.678744077682495,
          "x2": -6.974965572357178
         },
         {
          "label": 1,
          "name": "ginanjar tanuwihardja",
          "x1": -1.013684630393982,
          "x2": -4.9546732902526855
         },
         {
          "label": 1,
          "name": "dzulham affandi",
          "x1": -0.9521337151527405,
          "x2": -7.013887882232666
         },
         {
          "label": 1,
          "name": "reza prasetya",
          "x1": 0.22764161229133606,
          "x2": -3.313596725463867
         },
         {
          "label": 1,
          "name": "rian heriandino",
          "x1": -2.759035110473633,
          "x2": -5.474921226501465
         },
         {
          "label": 1,
          "name": "wahyu khrisna dewangga",
          "x1": -0.013224998489022255,
          "x2": -5.5016279220581055
         },
         {
          "label": 0,
          "name": "dewi susan b",
          "x1": -3.53816819190979,
          "x2": -7.5438385009765625
         },
         {
          "label": 1,
          "name": "fajar fauzi hakim",
          "x1": -1.093093752861023,
          "x2": -7.362156391143799
         },
         {
          "label": 1,
          "name": "christian tanuwijaya",
          "x1": -5.045538425445557,
          "x2": -4.58209228515625
         },
         {
          "label": 1,
          "name": "gorby gandhianto rasyid",
          "x1": -5.058152675628662,
          "x2": -6.498403072357178
         },
         {
          "label": 1,
          "name": "akbar aidil sardi",
          "x1": -1.4633021354675293,
          "x2": -6.644044876098633
         },
         {
          "label": 1,
          "name": "tuppi summa wicaksono",
          "x1": -4.8111162185668945,
          "x2": -8.724267959594727
         },
         {
          "label": 1,
          "name": "irfan kustandy",
          "x1": -3.6420040130615234,
          "x2": -7.296576023101807
         },
         {
          "label": 1,
          "name": "pepep sholeh",
          "x1": -3.5175724029541016,
          "x2": -7.256528854370117
         },
         {
          "label": 1,
          "name": "alfan budi kurniawan",
          "x1": -1.1567662954330444,
          "x2": -1.5508004426956177
         },
         {
          "label": 1,
          "name": "tyson",
          "x1": -3.9116554260253906,
          "x2": -8.05903434753418
         },
         {
          "label": 0,
          "name": "devi kamilia azis",
          "x1": -2.2951436042785645,
          "x2": -6.43817663192749
         },
         {
          "label": 0,
          "name": "dean gesuri",
          "x1": -3.5203652381896973,
          "x2": -7.006725311279297
         },
         {
          "label": 1,
          "name": "faisal hardi",
          "x1": -1.8974838256835938,
          "x2": -7.126497268676758
         },
         {
          "label": 0,
          "name": "retna deca pravitasari",
          "x1": -2.2893195152282715,
          "x2": -3.9207589626312256
         },
         {
          "label": 1,
          "name": "muhammad arief hakim",
          "x1": 3.8415353298187256,
          "x2": -5.1041951179504395
         },
         {
          "label": 0,
          "name": "aulia s wiryoatmojo",
          "x1": -4.17223596572876,
          "x2": -8.33996868133545
         },
         {
          "label": 1,
          "name": "dirga noor rochman",
          "x1": -3.9970831871032715,
          "x2": -7.884667873382568
         },
         {
          "label": 1,
          "name": "alexander stefan tanthio purnomo",
          "x1": -4.7131028175354,
          "x2": -6.63254976272583
         },
         {
          "label": 0,
          "name": "irra nur hegwisi wananka tasti",
          "x1": -2.116661548614502,
          "x2": -4.480212688446045
         },
         {
          "label": 0,
          "name": "khairunnisa",
          "x1": -2.725846529006958,
          "x2": -6.22249174118042
         },
         {
          "label": 0,
          "name": "rismawati ramdani",
          "x1": -1.6458592414855957,
          "x2": -5.522268295288086
         },
         {
          "label": 1,
          "name": "rahmat wahyuadi baskara",
          "x1": 0.8093233108520508,
          "x2": -6.590017795562744
         },
         {
          "label": 0,
          "name": "siska theresia barus",
          "x1": -3.006922483444214,
          "x2": -7.249241352081299
         },
         {
          "label": 1,
          "name": "arie rachmadi djunaedi",
          "x1": 0.7776783108711243,
          "x2": -7.224309921264648
         },
         {
          "label": 0,
          "name": "ni made truly pinanti sastra",
          "x1": -3.1966195106506348,
          "x2": -4.816436290740967
         },
         {
          "label": 1,
          "name": "yudistira santosa",
          "x1": -5.533154010772705,
          "x2": -6.520549297332764
         },
         {
          "label": 0,
          "name": "tesa fiona eunike kaban",
          "x1": -2.2630114555358887,
          "x2": -5.517306327819824
         },
         {
          "label": 0,
          "name": "deviana pramitasari",
          "x1": -2.2791357040405273,
          "x2": -3.919048309326172
         },
         {
          "label": 1,
          "name": "jeffry adiwidjaja",
          "x1": -1.4721837043762207,
          "x2": -8.666617393493652
         },
         {
          "label": 1,
          "name": "ardhi hakim lumban gaol",
          "x1": -0.7315425872802734,
          "x2": -7.0156731605529785
         },
         {
          "label": 1,
          "name": "aloysius adrian",
          "x1": -3.6451754570007324,
          "x2": -6.061858177185059
         },
         {
          "label": 1,
          "name": "adhadi praja",
          "x1": 0.1860727220773697,
          "x2": -4.85017728805542
         },
         {
          "label": 0,
          "name": "athia diana",
          "x1": -1.680680513381958,
          "x2": -5.166775703430176
         },
         {
          "label": 1,
          "name": "kaisar",
          "x1": -2.295959949493408,
          "x2": -7.210653305053711
         },
         {
          "label": 1,
          "name": "vicky nugraha putra",
          "x1": 1.3575176000595093,
          "x2": -5.896703720092773
         },
         {
          "label": 0,
          "name": "siti nurhasanah",
          "x1": -2.4044065475463867,
          "x2": -5.4739155769348145
         },
         {
          "label": 1,
          "name": "ahmad firdaus bin shahari",
          "x1": 0.48618125915527344,
          "x2": -7.068218231201172
         },
         {
          "label": 1,
          "name": "faisal sunarto",
          "x1": -2.338792324066162,
          "x2": -7.135672569274902
         },
         {
          "label": 1,
          "name": "m rizki danisa",
          "x1": -1.9003883600234985,
          "x2": -6.4642415046691895
         },
         {
          "label": 0,
          "name": "dwi ayu oktalia",
          "x1": -2.8118345737457275,
          "x2": -6.643143653869629
         },
         {
          "label": 1,
          "name": "evan ardiansyah",
          "x1": 1.2512954473495483,
          "x2": -8.70035457611084
         },
         {
          "label": 1,
          "name": "sjaikhunnas el muttaqien",
          "x1": -3.008080244064331,
          "x2": -6.717365264892578
         },
         {
          "label": 1,
          "name": "ikhsan fanani",
          "x1": -1.9263026714324951,
          "x2": -5.5947747230529785
         },
         {
          "label": 1,
          "name": "arif ridwan",
          "x1": -1.870566964149475,
          "x2": -6.060914039611816
         },
         {
          "label": 0,
          "name": "kartika puspita s r",
          "x1": -3.313591957092285,
          "x2": -3.866065740585327
         },
         {
          "label": 0,
          "name": "widya kania rahayu",
          "x1": -0.0962902158498764,
          "x2": -6.418325901031494
         },
         {
          "label": 0,
          "name": "ruzka radwamina",
          "x1": -0.9137541651725769,
          "x2": -6.134559154510498
         },
         {
          "label": 1,
          "name": "yana mulyana",
          "x1": -0.8617396354675293,
          "x2": -4.907305717468262
         },
         {
          "label": 1,
          "name": "perdana rakhmana putra",
          "x1": -2.8846185207366943,
          "x2": -1.9949207305908203
         },
         {
          "label": 1,
          "name": "ray christian",
          "x1": -5.085104942321777,
          "x2": -4.559735298156738
         },
         {
          "label": 1,
          "name": "hengky budiman",
          "x1": -2.4736058712005615,
          "x2": -8.062898635864258
         },
         {
          "label": 1,
          "name": "hatgi noer ramandito",
          "x1": -4.45526647567749,
          "x2": -7.176730155944824
         },
         {
          "label": 1,
          "name": "ronny arian hidayat",
          "x1": -0.40999722480773926,
          "x2": -8.67830753326416
         },
         {
          "label": 0,
          "name": "atika wijayanti",
          "x1": -1.2526873350143433,
          "x2": -9.53662109375
         },
         {
          "label": 1,
          "name": "husna nugrahapraja",
          "x1": 1.2682807445526123,
          "x2": -5.812089443206787
         },
         {
          "label": 0,
          "name": "nesia obadja",
          "x1": -3.0556981563568115,
          "x2": -6.6049723625183105
         },
         {
          "label": 0,
          "name": "susi susanty",
          "x1": -5.403342247009277,
          "x2": -6.420280456542969
         },
         {
          "label": 1,
          "name": "hermond bernard roganda tamba",
          "x1": -0.6117962002754211,
          "x2": -5.294575214385986
         },
         {
          "label": 0,
          "name": "lara wilantika",
          "x1": -2.0202853679656982,
          "x2": -4.381548881530762
         },
         {
          "label": 1,
          "name": "jarwanto",
          "x1": -5.126808166503906,
          "x2": -6.387373447418213
         },
         {
          "label": 0,
          "name": "sandy vantika",
          "x1": -3.813922166824341,
          "x2": -6.4013872146606445
         },
         {
          "label": 1,
          "name": "adiguna sasama w u",
          "x1": -0.18471406400203705,
          "x2": -6.104825019836426
         },
         {
          "label": 0,
          "name": "nurhadiati",
          "x1": -2.0970053672790527,
          "x2": -7.796664237976074
         },
         {
          "label": 0,
          "name": "arfi jayanti",
          "x1": -1.2832087278366089,
          "x2": -9.434938430786133
         },
         {
          "label": 1,
          "name": "agus saputra",
          "x1": -3.5327162742614746,
          "x2": -2.1295082569122314
         },
         {
          "label": 0,
          "name": "nurul aufa",
          "x1": -2.2021522521972656,
          "x2": -8.105344772338867
         },
         {
          "label": 0,
          "name": "irma andarini",
          "x1": -1.4855533838272095,
          "x2": -5.476222515106201
         },
         {
          "label": 0,
          "name": "laksmi larastiti",
          "x1": -2.286515235900879,
          "x2": -4.12761926651001
         },
         {
          "label": 1,
          "name": "armedito ramadhan",
          "x1": 0.3583683371543884,
          "x2": -5.955201625823975
         },
         {
          "label": 0,
          "name": "mita erianty",
          "x1": -3.4025604724884033,
          "x2": -4.804901123046875
         },
         {
          "label": 0,
          "name": "yuvie permatasari",
          "x1": -0.716767430305481,
          "x2": -4.170698165893555
         },
         {
          "label": 1,
          "name": "zul fadli",
          "x1": -1.8790651559829712,
          "x2": -8.050816535949707
         },
         {
          "label": 0,
          "name": "ade rahma dyah hartanti",
          "x1": 0.5947659611701965,
          "x2": -6.439509868621826
         },
         {
          "label": 0,
          "name": "nikita dewi fairuz adam",
          "x1": -3.2248735427856445,
          "x2": -4.614743709564209
         },
         {
          "label": 0,
          "name": "bianca ramadona amini",
          "x1": -1.1293424367904663,
          "x2": -5.2669172286987305
         },
         {
          "label": 0,
          "name": "fanny limassa",
          "x1": -2.4770565032958984,
          "x2": -6.800811767578125
         },
         {
          "label": 1,
          "name": "bobby rivera",
          "x1": -2.559624433517456,
          "x2": -7.63559627532959
         },
         {
          "label": 0,
          "name": "norma hayati",
          "x1": -1.6810472011566162,
          "x2": -8.127527236938477
         },
         {
          "label": 0,
          "name": "astrida listyadewanti",
          "x1": -2.7580933570861816,
          "x2": -4.515669345855713
         },
         {
          "label": 0,
          "name": "senni muthia",
          "x1": -3.6083946228027344,
          "x2": -7.153176307678223
         },
         {
          "label": 1,
          "name": "raynaldi yudha prasetya",
          "x1": 0.22454391419887543,
          "x2": -3.509483575820923
         },
         {
          "label": 1,
          "name": "aal auladzi h",
          "x1": -0.7811827063560486,
          "x2": -7.45114278793335
         },
         {
          "label": 0,
          "name": "yovita diane titiesari",
          "x1": -3.1990106105804443,
          "x2": -4.587047576904297
         },
         {
          "label": 1,
          "name": "bayu maulana",
          "x1": -0.3190843164920807,
          "x2": -7.641451358795166
         },
         {
          "label": 0,
          "name": "yohanna christiani",
          "x1": -5.086316108703613,
          "x2": -4.57324743270874
         },
         {
          "label": 0,
          "name": "rahmatyar fatimatuzahro",
          "x1": 0.6128787994384766,
          "x2": -7.136959075927734
         },
         {
          "label": 1,
          "name": "jogi fransiscus samosir",
          "x1": -3.245715618133545,
          "x2": -6.908397674560547
         },
         {
          "label": 1,
          "name": "albert",
          "x1": -2.9406800270080566,
          "x2": -7.7004547119140625
         },
         {
          "label": 1,
          "name": "gugun gunadi",
          "x1": -1.4456686973571777,
          "x2": -2.8529245853424072
         },
         {
          "label": 1,
          "name": "alex sitohang",
          "x1": -3.707534074783325,
          "x2": -7.050209999084473
         },
         {
          "label": 1,
          "name": "gok asido haro",
          "x1": -4.176455497741699,
          "x2": -8.337724685668945
         },
         {
          "label": 0,
          "name": "putri utami",
          "x1": -3.7323999404907227,
          "x2": -2.9796791076660156
         },
         {
          "label": 0,
          "name": "angelia hermawan",
          "x1": 0.17077811062335968,
          "x2": -5.532784461975098
         },
         {
          "label": 1,
          "name": "stevens jethefer",
          "x1": -3.5634098052978516,
          "x2": -7.091269016265869
         },
         {
          "label": 0,
          "name": "ima abwa putri",
          "x1": -3.583698034286499,
          "x2": -2.6521427631378174
         },
         {
          "label": 1,
          "name": "wendra eka putra",
          "x1": -3.3767473697662354,
          "x2": -2.128213405609131
         },
         {
          "label": 1,
          "name": "ali irhami",
          "x1": -1.8458850383758545,
          "x2": -6.988234043121338
         },
         {
          "label": 1,
          "name": "bendang sameto",
          "x1": -3.4806833267211914,
          "x2": -7.281846523284912
         },
         {
          "label": 1,
          "name": "afzalurrahman assalam",
          "x1": 0.09941825270652771,
          "x2": -6.849668979644775
         },
         {
          "label": 1,
          "name": "adhytia yudha pratama liem",
          "x1": 0.8628984093666077,
          "x2": -4.61071252822876
         },
         {
          "label": 0,
          "name": "nurma suri",
          "x1": -2.3925960063934326,
          "x2": -8.30315113067627
         },
         {
          "label": 1,
          "name": "donny richardo h sitohang",
          "x1": -4.696511268615723,
          "x2": -7.267388343811035
         },
         {
          "label": 0,
          "name": "eka savitri",
          "x1": -2.943432092666626,
          "x2": -4.692261219024658
         },
         {
          "label": 1,
          "name": "setyo adhi vicaksono mv",
          "x1": -4.805388450622559,
          "x2": -8.688913345336914
         },
         {
          "label": 1,
          "name": "pius seto rudyan prasetya",
          "x1": 0.21169474720954895,
          "x2": -3.3288521766662598
         },
         {
          "label": 1,
          "name": "rahadyan c c s",
          "x1": -0.14668008685112,
          "x2": -6.534750461578369
         },
         {
          "label": 0,
          "name": "devi gasiani",
          "x1": -3.2902238368988037,
          "x2": -5.870985507965088
         },
         {
          "label": 0,
          "name": "muthia husnul lisani",
          "x1": -2.597888231277466,
          "x2": -7.201769828796387
         },
         {
          "label": 1,
          "name": "awang bhaswara",
          "x1": 0.04785143584012985,
          "x2": -5.430401802062988
         },
         {
          "label": 0,
          "name": "anggraini rizkita puji",
          "x1": -2.924781084060669,
          "x2": -3.885970115661621
         },
         {
          "label": 1,
          "name": "reza rizky muttaqin",
          "x1": -1.6973172426223755,
          "x2": -7.216676712036133
         },
         {
          "label": 1,
          "name": "ngurah candra adibawa",
          "x1": -0.18492217361927032,
          "x2": -5.087019920349121
         },
         {
          "label": 1,
          "name": "nur ibrahim",
          "x1": -2.0533509254455566,
          "x2": -7.869294166564941
         },
         {
          "label": 1,
          "name": "suryogumilar",
          "x1": -2.1615562438964844,
          "x2": -8.64710807800293
         },
         {
          "label": 1,
          "name": "dian ariyana",
          "x1": -1.3618605136871338,
          "x2": -4.886600494384766
         },
         {
          "label": 1,
          "name": "taufan irnandi",
          "x1": -2.0288302898406982,
          "x2": -5.642496109008789
         },
         {
          "label": 0,
          "name": "yuli sri afrianti",
          "x1": -3.438551902770996,
          "x2": -4.982664585113525
         },
         {
          "label": 0,
          "name": "meliza tonggo marito silalahi",
          "x1": -2.2723543643951416,
          "x2": -6.153929233551025
         },
         {
          "label": 0,
          "name": "tiar mita florina",
          "x1": -2.989387035369873,
          "x2": -4.6735734939575195
         },
         {
          "label": 1,
          "name": "priyatno surjito",
          "x1": -4.256017684936523,
          "x2": -7.960278034210205
         },
         {
          "label": 0,
          "name": "adelia paulina",
          "x1": -2.283442735671997,
          "x2": -6.161155700683594
         },
         {
          "label": 1,
          "name": "adi nugroho widyatmoko",
          "x1": -4.898997783660889,
          "x2": -7.889254570007324
         },
         {
          "label": 1,
          "name": "albertus reza",
          "x1": -2.890316963195801,
          "x2": -7.674656867980957
         },
         {
          "label": 1,
          "name": "muhammad indera perdana",
          "x1": 3.4801406860351562,
          "x2": -5.024351596832275
         },
         {
          "label": 1,
          "name": "qomarullah",
          "x1": -0.9773564338684082,
          "x2": -7.945408821105957
         },
         {
          "label": 0,
          "name": "glenda larinka",
          "x1": -1.1602795124053955,
          "x2": -6.210720062255859
         },
         {
          "label": 1,
          "name": "fanteri aji dharma suparno",
          "x1": -0.03993101045489311,
          "x2": -5.910976886749268
         },
         {
          "label": 0,
          "name": "edwina triwibowo",
          "x1": -5.616002559661865,
          "x2": -8.803816795349121
         },
         {
          "label": 1,
          "name": "dwi pambudi subandi",
          "x1": -2.6500539779663086,
          "x2": -8.506397247314453
         },
         {
          "label": 1,
          "name": "reza vitali",
          "x1": -2.760485887527466,
          "x2": -6.1760125160217285
         },
         {
          "label": 1,
          "name": "habiburrahman",
          "x1": 0.5210133790969849,
          "x2": -7.240713596343994
         },
         {
          "label": 1,
          "name": "taufik kadar nurdaya",
          "x1": -0.7203332185745239,
          "x2": -7.305209159851074
         },
         {
          "label": 1,
          "name": "adityo eko raharjo",
          "x1": -4.061773300170898,
          "x2": -8.48757266998291
         },
         {
          "label": 1,
          "name": "nataniel depo",
          "x1": -3.0492491722106934,
          "x2": -6.40302848815918
         },
         {
          "label": 0,
          "name": "elisa margareth sibarani",
          "x1": 0.3471534848213196,
          "x2": -5.849998950958252
         },
         {
          "label": 0,
          "name": "adisty sri mulianty",
          "x1": -3.7081873416900635,
          "x2": -4.9741740226745605
         },
         {
          "label": 1,
          "name": "eka auditia",
          "x1": -1.680138349533081,
          "x2": -7.468316078186035
         },
         {
          "label": 0,
          "name": "raisa",
          "x1": -2.4081292152404785,
          "x2": -7.133851528167725
         },
         {
          "label": 1,
          "name": "resi yogie baskoro",
          "x1": -4.271137714385986,
          "x2": -8.395045280456543
         },
         {
          "label": 0,
          "name": "elisabeth purwanti",
          "x1": -3.6429603099823,
          "x2": -6.271164894104004
         },
         {
          "label": 1,
          "name": "agus pajrin jaman",
          "x1": -2.163024425506592,
          "x2": -7.214914321899414
         },
         {
          "label": 1,
          "name": "yudistira adi pradana",
          "x1": 0.18938349187374115,
          "x2": -4.467926979064941
         },
         {
          "label": 0,
          "name": "octia floweri",
          "x1": -3.958219051361084,
          "x2": -7.879128932952881
         },
         {
          "label": 0,
          "name": "mutia ardelia arief",
          "x1": -2.3576819896698,
          "x2": -5.916989326477051
         },
         {
          "label": 1,
          "name": "yohanes",
          "x1": -3.7373504638671875,
          "x2": -7.137377738952637
         },
         {
          "label": 1,
          "name": "jamiatun",
          "x1": -2.1004254817962646,
          "x2": -7.276922702789307
         },
         {
          "label": 1,
          "name": "teddy pandu wirawan",
          "x1": -0.5708435773849487,
          "x2": -5.206281661987305
         },
         {
          "label": 0,
          "name": "febi andriani",
          "x1": -2.7105236053466797,
          "x2": -5.536280155181885
         },
         {
          "label": 1,
          "name": "muhammad arif hafizuddin",
          "x1": 3.5932364463806152,
          "x2": -5.042669773101807
         },
         {
          "label": 0,
          "name": "pebri listiyani",
          "x1": -4.10709285736084,
          "x2": -5.8833794593811035
         },
         {
          "label": 0,
          "name": "siti trisagita utari",
          "x1": -3.0843961238861084,
          "x2": -4.100010395050049
         },
         {
          "label": 1,
          "name": "dhanny triamindo",
          "x1": -3.169753313064575,
          "x2": -6.192020416259766
         },
         {
          "label": 1,
          "name": "philip martin hutapea",
          "x1": -2.518213987350464,
          "x2": -6.588338375091553
         },
         {
          "label": 1,
          "name": "m andi firdaus",
          "x1": -1.6759347915649414,
          "x2": -7.358499050140381
         },
         {
          "label": 1,
          "name": "andrew yohanes",
          "x1": -0.5197850465774536,
          "x2": -5.618299961090088
         },
         {
          "label": 0,
          "name": "sri nurhayati",
          "x1": -3.0131876468658447,
          "x2": -5.512317657470703
         },
         {
          "label": 0,
          "name": "asri sri rahayu l",
          "x1": -1.474270224571228,
          "x2": -6.295994281768799
         },
         {
          "label": 1,
          "name": "irfan hariz",
          "x1": -1.6254726648330688,
          "x2": -6.661590099334717
         },
         {
          "label": 0,
          "name": "widia yanti",
          "x1": -4.4198713302612305,
          "x2": -5.500903129577637
         },
         {
          "label": 1,
          "name": "martinus andy",
          "x1": -3.5657949447631836,
          "x2": -7.18833589553833
         },
         {
          "label": 1,
          "name": "imam santoso",
          "x1": -5.423174858093262,
          "x2": -6.678228855133057
         },
         {
          "label": 0,
          "name": "etin diah permanasari",
          "x1": -0.6777434945106506,
          "x2": -4.36925745010376
         },
         {
          "label": 1,
          "name": "philip budi ivandi",
          "x1": -2.6442887783050537,
          "x2": -8.377867698669434
         },
         {
          "label": 1,
          "name": "yanuar tri aditya nugraha",
          "x1": 1.2413971424102783,
          "x2": -5.687304973602295
         },
         {
          "label": 0,
          "name": "saraswati mahaputri",
          "x1": -2.9826700687408447,
          "x2": -2.9085447788238525
         },
         {
          "label": 0,
          "name": "reti rohmalia sari",
          "x1": -2.2306394577026367,
          "x2": -5.946518421173096
         },
         {
          "label": 0,
          "name": "eneng rani",
          "x1": -3.4808366298675537,
          "x2": -6.739795207977295
         },
         {
          "label": 1,
          "name": "karim abdullah",
          "x1": -0.7571531534194946,
          "x2": -7.944591522216797
         },
         {
          "label": 0,
          "name": "graecia l",
          "x1": -2.616321563720703,
          "x2": -7.351763725280762
         },
         {
          "label": 1,
          "name": "yusuf randi nugroho",
          "x1": -4.904505729675293,
          "x2": -7.893925666809082
         },
         {
          "label": 0,
          "name": "karina eka putri",
          "x1": -3.4439663887023926,
          "x2": -2.736487865447998
         },
         {
          "label": 0,
          "name": "nur jannah",
          "x1": -2.495119333267212,
          "x2": -7.547365665435791
         },
         {
          "label": 1,
          "name": "aditia murtanto",
          "x1": -4.551844120025635,
          "x2": -5.674798965454102
         },
         {
          "label": 1,
          "name": "winchristianto sihotang",
          "x1": -5.076629638671875,
          "x2": -4.568538665771484
         },
         {
          "label": 1,
          "name": "ahmad syahputra",
          "x1": -3.51021671295166,
          "x2": -2.1261630058288574
         },
         {
          "label": 1,
          "name": "leopaska adi putra",
          "x1": -3.546082019805908,
          "x2": -2.3465540409088135
         },
         {
          "label": 1,
          "name": "budiawan saebudi harta",
          "x1": -0.6150240302085876,
          "x2": -6.49637508392334
         },
         {
          "label": 1,
          "name": "tomi bastomi",
          "x1": -3.7285349369049072,
          "x2": -8.45902156829834
         },
         {
          "label": 1,
          "name": "nopendri",
          "x1": -3.448991537094116,
          "x2": -8.386799812316895
         },
         {
          "label": 0,
          "name": "esty hutami dewi lubis",
          "x1": -3.9434096813201904,
          "x2": -4.9198408126831055
         },
         {
          "label": 1,
          "name": "bin anindita",
          "x1": -2.9068005084991455,
          "x2": -5.317168712615967
         },
         {
          "label": 1,
          "name": "hegar pramastya",
          "x1": 0.5102878212928772,
          "x2": -4.501096725463867
         },
         {
          "label": 1,
          "name": "yohannes kristianto wardya p",
          "x1": -5.005167007446289,
          "x2": -4.748722076416016
         },
         {
          "label": 1,
          "name": "wicaksono trihatmaja",
          "x1": -4.802987575531006,
          "x2": -8.668848991394043
         },
         {
          "label": 1,
          "name": "eko widiatmoko",
          "x1": -3.8971691131591797,
          "x2": -8.274821281433105
         },
         {
          "label": 0,
          "name": "astri elia",
          "x1": -2.685194969177246,
          "x2": -6.309654235839844
         },
         {
          "label": 0,
          "name": "sri maldia hari asti",
          "x1": -1.9997060298919678,
          "x2": -5.79897928237915
         },
         {
          "label": 1,
          "name": "muhammad fajar nugroho",
          "x1": 3.5861833095550537,
          "x2": -5.1870808601379395
         },
         {
          "label": 1,
          "name": "fabian noor pratama setio",
          "x1": 0.7865867614746094,
          "x2": -4.6280436515808105
         },
         {
          "label": 1,
          "name": "erik airlangga",
          "x1": -1.2827510833740234,
          "x2": -3.8577325344085693
         },
         {
          "label": 1,
          "name": "dominikus guzman",
          "x1": -2.2964019775390625,
          "x2": -8.339736938476562
         },
         {
          "label": 1,
          "name": "albert sudono",
          "x1": -3.8894975185394287,
          "x2": -8.094332695007324
         },
         {
          "label": 1,
          "name": "syahrizal",
          "x1": -1.4851843118667603,
          "x2": -7.745504379272461
         },
         {
          "label": 1,
          "name": "muhammad fiqri muthohar",
          "x1": 3.815725326538086,
          "x2": -4.997005462646484
         },
         {
          "label": 1,
          "name": "mochamad ibnu sina",
          "x1": 2.833437204360962,
          "x2": -5.241919994354248
         },
         {
          "label": 1,
          "name": "zakki sabiq purwaka",
          "x1": -1.1321724653244019,
          "x2": -7.586686134338379
         },
         {
          "label": 1,
          "name": "anugerah",
          "x1": 1.300591230392456,
          "x2": -5.931093215942383
         },
         {
          "label": 1,
          "name": "thahir ahmad",
          "x1": 0.6411457657814026,
          "x2": -7.282683849334717
         },
         {
          "label": 1,
          "name": "abida zurika",
          "x1": -1.4100749492645264,
          "x2": -7.425604343414307
         },
         {
          "label": 1,
          "name": "riza mochamad iqbal",
          "x1": 2.8649535179138184,
          "x2": -5.327730655670166
         },
         {
          "label": 1,
          "name": "habib ahmad gebril al zhahir",
          "x1": 0.0954284593462944,
          "x2": -7.33585786819458
         },
         {
          "label": 0,
          "name": "dian ilien priastuti",
          "x1": -3.6615805625915527,
          "x2": -4.608461380004883
         },
         {
          "label": 1,
          "name": "kunto wibowo",
          "x1": -5.645391464233398,
          "x2": -8.793107032775879
         },
         {
          "label": 0,
          "name": "dhian kurniasari",
          "x1": -1.3820858001708984,
          "x2": -1.913272500038147
         },
         {
          "label": 0,
          "name": "adiajeng warastuti",
          "x1": -2.840980052947998,
          "x2": -4.452794075012207
         },
         {
          "label": 1,
          "name": "claudio franciscus",
          "x1": -3.7353246212005615,
          "x2": -7.703825950622559
         },
         {
          "label": 1,
          "name": "sufi hamdan mazida",
          "x1": -0.6489022374153137,
          "x2": -6.709439277648926
         },
         {
          "label": 1,
          "name": "nur ahmadi",
          "x1": 0.704469621181488,
          "x2": -7.309459686279297
         },
         {
          "label": 0,
          "name": "ely aprilia",
          "x1": -2.7113239765167236,
          "x2": -6.777430057525635
         },
         {
          "label": 1,
          "name": "arief pratama",
          "x1": 0.7585474252700806,
          "x2": -4.844415664672852
         },
         {
          "label": 1,
          "name": "miftahul hidayah",
          "x1": -0.3385487198829651,
          "x2": -8.49522876739502
         },
         {
          "label": 0,
          "name": "inggita utami",
          "x1": -2.9295222759246826,
          "x2": -4.010073184967041
         },
         {
          "label": 0,
          "name": "dian natassa setyo anggraini",
          "x1": -1.0065175294876099,
          "x2": -4.033866882324219
         },
         {
          "label": 1,
          "name": "yohanes andre situmorang",
          "x1": -0.5751849412918091,
          "x2": -5.566122055053711
         },
         {
          "label": 0,
          "name": "ulima azalia",
          "x1": -1.2995736598968506,
          "x2": -6.831067085266113
         },
         {
          "label": 0,
          "name": "santi deviyanti rahayu",
          "x1": -4.091553211212158,
          "x2": -5.5614848136901855
         },
         {
          "label": 1,
          "name": "faisal aziz malik",
          "x1": -1.380470633506775,
          "x2": -6.951380729675293
         },
         {
          "label": 1,
          "name": "denis setiawan",
          "x1": -0.7130756378173828,
          "x2": -2.8083860874176025
         },
         {
          "label": 1,
          "name": "narendra prataksita",
          "x1": 0.8127683401107788,
          "x2": -4.599316596984863
         },
         {
          "label": 1,
          "name": "erlangga haryadi prasetyo",
          "x1": 0.2048952430486679,
          "x2": -3.5463695526123047
         },
         {
          "label": 1,
          "name": "febrian wijoseno",
          "x1": -3.500380039215088,
          "x2": -6.496646404266357
         },
         {
          "label": 1,
          "name": "irwan rismawan",
          "x1": -1.3836406469345093,
          "x2": -5.471806526184082
         },
         {
          "label": 1,
          "name": "rudi ernanto",
          "x1": -4.867023468017578,
          "x2": -6.5799336433410645
         },
         {
          "label": 1,
          "name": "rachman phasadaon",
          "x1": 0.8011282086372375,
          "x2": -6.433703899383545
         },
         {
          "label": 1,
          "name": "abdul hakim masyhur",
          "x1": -0.7647432088851929,
          "x2": -7.872194290161133
         },
         {
          "label": 1,
          "name": "taufik fatwa nur hakim",
          "x1": -1.159131407737732,
          "x2": -7.513669490814209
         },
         {
          "label": 0,
          "name": "lisa triany abadi",
          "x1": -2.710885763168335,
          "x2": -4.8935723304748535
         },
         {
          "label": 1,
          "name": "irvan supradana",
          "x1": -0.16359736025333405,
          "x2": -4.70657205581665
         },
         {
          "label": 1,
          "name": "wilson eddi wijaya",
          "x1": -1.3634819984436035,
          "x2": -9.301653861999512
         },
         {
          "label": 1,
          "name": "fajar suryono",
          "x1": -4.008015155792236,
          "x2": -8.509377479553223
         },
         {
          "label": 0,
          "name": "mariance simbolon",
          "x1": -3.739450216293335,
          "x2": -7.649192810058594
         },
         {
          "label": 1,
          "name": "nurio juliandatu masido",
          "x1": -2.6116490364074707,
          "x2": -7.252016544342041
         },
         {
          "label": 1,
          "name": "budi ariyatma azwen",
          "x1": -0.9389926195144653,
          "x2": -6.389186382293701
         },
         {
          "label": 0,
          "name": "vidya ikawati",
          "x1": -4.1984543800354,
          "x2": -4.515799522399902
         },
         {
          "label": 0,
          "name": "haleyna arstianti",
          "x1": -3.3973586559295654,
          "x2": -5.1489691734313965
         },
         {
          "label": 1,
          "name": "agung hikmat",
          "x1": -1.6689304113388062,
          "x2": -3.05625057220459
         },
         {
          "label": 1,
          "name": "andika perbawa",
          "x1": -0.20265044271945953,
          "x2": -5.792665004730225
         },
         {
          "label": 1,
          "name": "bobby adhitya pratama",
          "x1": 0.8313384056091309,
          "x2": -4.460751056671143
         },
         {
          "label": 1,
          "name": "holfreend siallagan",
          "x1": -2.874993085861206,
          "x2": -7.127004623413086
         },
         {
          "label": 0,
          "name": "wiharti oktaria purba",
          "x1": -2.923729658126831,
          "x2": -4.000030517578125
         },
         {
          "label": 1,
          "name": "suhendi pusap",
          "x1": -2.996389389038086,
          "x2": -8.574850082397461
         },
         {
          "label": 0,
          "name": "vina listiawati",
          "x1": -4.213507175445557,
          "x2": -4.611436367034912
         },
         {
          "label": 0,
          "name": "asyiyah",
          "x1": -1.3714555501937866,
          "x2": -8.042912483215332
         },
         {
          "label": 1,
          "name": "fazar mart cahya",
          "x1": -1.0244629383087158,
          "x2": -7.012176036834717
         },
         {
          "label": 1,
          "name": "oki ari maulidani",
          "x1": -1.773364543914795,
          "x2": -6.077418804168701
         },
         {
          "label": 1,
          "name": "bona hamonangan lubis",
          "x1": -4.224100589752197,
          "x2": -6.347489356994629
         },
         {
          "label": 1,
          "name": "zainal hakim",
          "x1": -1.5597532987594604,
          "x2": -7.38590669631958
         },
         {
          "label": 0,
          "name": "putri yuliarti simanjuntak",
          "x1": -3.6693055629730225,
          "x2": -3.3920366764068604
         },
         {
          "label": 1,
          "name": "satya pratama k",
          "x1": 0.810062050819397,
          "x2": -4.574222087860107
         },
         {
          "label": 1,
          "name": "pirhot haholongan napitupulu",
          "x1": -4.775935649871826,
          "x2": -7.235947608947754
         },
         {
          "label": 1,
          "name": "priambada aryaguna",
          "x1": 0.10369255393743515,
          "x2": -4.676965713500977
         },
         {
          "label": 1,
          "name": "hariyadi maramis",
          "x1": -0.6237947940826416,
          "x2": -6.080905437469482
         },
         {
          "label": 1,
          "name": "riandi rachmawan",
          "x1": 0.6974731087684631,
          "x2": -6.622913360595703
         },
         {
          "label": 1,
          "name": "alexandro amendo",
          "x1": -0.7252655625343323,
          "x2": -5.817939281463623
         },
         {
          "label": 1,
          "name": "fadli faturrahman r",
          "x1": 0.5653466582298279,
          "x2": -7.206347942352295
         },
         {
          "label": 1,
          "name": "davin andreas",
          "x1": -0.6712185740470886,
          "x2": -5.379136085510254
         },
         {
          "label": 1,
          "name": "andika pratama",
          "x1": 0.727969229221344,
          "x2": -4.619695663452148
         },
         {
          "label": 1,
          "name": "henry martin ernest",
          "x1": -3.7140252590179443,
          "x2": -6.888392448425293
         },
         {
          "label": 1,
          "name": "ria perdana putra",
          "x1": -2.941511631011963,
          "x2": -2.0347955226898193
         },
         {
          "label": 1,
          "name": "ardian indra dharmawan",
          "x1": -0.16946010291576385,
          "x2": -4.8167548179626465
         },
         {
          "label": 0,
          "name": "raden rosa setra wiguna",
          "x1": -2.6730010509490967,
          "x2": -4.816852569580078
         },
         {
          "label": 0,
          "name": "mia amalia ulfa",
          "x1": -1.1405731439590454,
          "x2": -6.8675103187561035
         },
         {
          "label": 1,
          "name": "andria surya kusumah",
          "x1": -1.3319664001464844,
          "x2": -8.37145709991455
         },
         {
          "label": 1,
          "name": "andru putra twinanda",
          "x1": -3.1697981357574463,
          "x2": -2.543534994125366
         },
         {
          "label": 1,
          "name": "iantony adrianus siregar",
          "x1": -3.881760835647583,
          "x2": -5.899918079376221
         },
         {
          "label": 0,
          "name": "rani kurnia",
          "x1": -1.3550080060958862,
          "x2": -1.8214749097824097
         },
         {
          "label": 1,
          "name": "enryan oreski riyadi",
          "x1": -4.413247585296631,
          "x2": -7.233877658843994
         },
         {
          "label": 1,
          "name": "william johan",
          "x1": -2.1038432121276855,
          "x2": -6.803938865661621
         },
         {
          "label": 1,
          "name": "danang nur wicaksono",
          "x1": -4.208520412445068,
          "x2": -7.459887504577637
         },
         {
          "label": 1,
          "name": "iman surya pratama",
          "x1": 0.8002174496650696,
          "x2": -4.6545090675354
         },
         {
          "label": 1,
          "name": "rangga wisnu adi permana",
          "x1": -0.8568536043167114,
          "x2": -4.036831378936768
         },
         {
          "label": 0,
          "name": "grace art",
          "x1": -2.7109405994415283,
          "x2": -7.644736289978027
         },
         {
          "label": 0,
          "name": "nurhani aryana",
          "x1": -1.2363332509994507,
          "x2": -4.77860164642334
         },
         {
          "label": 0,
          "name": "sarah astuti",
          "x1": -2.791081666946411,
          "x2": -4.303192615509033
         },
         {
          "label": 1,
          "name": "muchamad guntur dwiguna",
          "x1": -1.4703404903411865,
          "x2": -2.9404890537261963
         },
         {
          "label": 0,
          "name": "maria christina purnomo",
          "x1": -4.953174591064453,
          "x2": -4.527010917663574
         },
         {
          "label": 1,
          "name": "fiki taufik a s",
          "x1": -1.796457052230835,
          "x2": -7.705602169036865
         },
         {
          "label": 0,
          "name": "elvi sari",
          "x1": -2.5139334201812744,
          "x2": -6.5740861892700195
         },
         {
          "label": 0,
          "name": "fajar mustika",
          "x1": -1.38016676902771,
          "x2": -7.641817569732666
         },
         {
          "label": 1,
          "name": "tofan yatnakriana hermansyah",
          "x1": 1.3053979873657227,
          "x2": -8.547211647033691
         },
         {
          "label": 1,
          "name": "frillazeus goltha herla",
          "x1": -1.0263439416885376,
          "x2": -7.699587821960449
         },
         {
          "label": 1,
          "name": "alfian anugrah tandilangi",
          "x1": -0.9938521385192871,
          "x2": -4.310268878936768
         },
         {
          "label": 1,
          "name": "reza brianca widodo",
          "x1": -2.0807390213012695,
          "x2": -6.228600978851318
         },
         {
          "label": 1,
          "name": "ricky n tambunan",
          "x1": -3.164428472518921,
          "x2": -6.6434173583984375
         },
         {
          "label": 1,
          "name": "muhamad zaki",
          "x1": 3.334571361541748,
          "x2": -5.103212833404541
         },
         {
          "label": 1,
          "name": "marhamni syaputra",
          "x1": -3.326422691345215,
          "x2": -2.2048392295837402
         },
         {
          "label": 1,
          "name": "dikhi firmansyah",
          "x1": 1.3173073530197144,
          "x2": -8.381231307983398
         },
         {
          "label": 0,
          "name": "riska aditya puspa kania",
          "x1": -0.08937402069568634,
          "x2": -4.001283168792725
         },
         {
          "label": 0,
          "name": "dyanti permata sari",
          "x1": -0.808622419834137,
          "x2": -4.150807857513428
         },
         {
          "label": 0,
          "name": "dena natasa",
          "x1": -1.0897160768508911,
          "x2": -4.911623477935791
         },
         {
          "label": 1,
          "name": "donnie",
          "x1": -3.73260235786438,
          "x2": -7.749411582946777
         },
         {
          "label": 1,
          "name": "zainal arif rahman hakim",
          "x1": 0.47607240080833435,
          "x2": -6.797936916351318
         },
         {
          "label": 1,
          "name": "staleva putra ghita daulay",
          "x1": -3.244018793106079,
          "x2": -2.090909957885742
         },
         {
          "label": 1,
          "name": "zurisman fitriadi",
          "x1": -3.2789595127105713,
          "x2": -4.504352569580078
         },
         {
          "label": 0,
          "name": "astury gardin",
          "x1": -2.1418850421905518,
          "x2": -8.642748832702637
         },
         {
          "label": 0,
          "name": "devi arnita",
          "x1": -3.1828320026397705,
          "x2": -5.457633018493652
         },
         {
          "label": 1,
          "name": "firman astrea",
          "x1": -2.2462828159332275,
          "x2": -7.119531631469727
         },
         {
          "label": 1,
          "name": "samuel simon",
          "x1": -3.6116952896118164,
          "x2": -7.727427959442139
         },
         {
          "label": 1,
          "name": "akhmad mukhammad",
          "x1": 3.4061644077301025,
          "x2": -5.146368980407715
         },
         {
          "label": 0,
          "name": "dian shofinita",
          "x1": -3.1712138652801514,
          "x2": -5.611420154571533
         },
         {
          "label": 0,
          "name": "diah eka yulianti",
          "x1": -3.4394783973693848,
          "x2": -6.330902099609375
         },
         {
          "label": 1,
          "name": "aye aye min",
          "x1": -1.8028242588043213,
          "x2": -8.679686546325684
         },
         {
          "label": 1,
          "name": "wymmar",
          "x1": -2.606442451477051,
          "x2": -7.852043151855469
         },
         {
          "label": 0,
          "name": "fine dwinita aprilyanti",
          "x1": -2.8941562175750732,
          "x2": -4.469971656799316
         },
         {
          "label": 0,
          "name": "pretty falena atmanda kambira",
          "x1": -0.024919060990214348,
          "x2": -4.891979217529297
         },
         {
          "label": 1,
          "name": "muhammad nurhidayat",
          "x1": 3.451305627822876,
          "x2": -5.0060930252075195
         },
         {
          "label": 0,
          "name": "harti ningsih",
          "x1": -3.3978703022003174,
          "x2": -5.675225734710693
         },
         {
          "label": 1,
          "name": "fedriando",
          "x1": -3.792433023452759,
          "x2": -7.068926811218262
         },
         {
          "label": 1,
          "name": "zillillah",
          "x1": -1.8921282291412354,
          "x2": -7.207337379455566
         },
         {
          "label": 0,
          "name": "amaliah dwi kanty",
          "x1": -1.4185879230499268,
          "x2": -6.812261581420898
         },
         {
          "label": 0,
          "name": "ineu utami dewi",
          "x1": -3.931696891784668,
          "x2": -4.911984443664551
         },
         {
          "label": 0,
          "name": "rifka fadilah",
          "x1": -0.9716403484344482,
          "x2": -7.45430326461792
         },
         {
          "label": 1,
          "name": "aji wibowo",
          "x1": -5.604872226715088,
          "x2": -8.796388626098633
         },
         {
          "label": 1,
          "name": "tumpal parulian nainggolan",
          "x1": -1.2475016117095947,
          "x2": -4.169044017791748
         },
         {
          "label": 0,
          "name": "anita khairunnisa",
          "x1": -2.64996600151062,
          "x2": -5.672924518585205
         },
         {
          "label": 0,
          "name": "nuruz zakiah binti md zin",
          "x1": -3.1156084537506104,
          "x2": -5.68869161605835
         },
         {
          "label": 1,
          "name": "indra mulia",
          "x1": -1.5073189735412598,
          "x2": -6.141388416290283
         },
         {
          "label": 0,
          "name": "valentine",
          "x1": -3.7048792839050293,
          "x2": -6.3671650886535645
         },
         {
          "label": 0,
          "name": "arni rahmawati fahmi sholihah",
          "x1": 0.8482343554496765,
          "x2": -6.879669666290283
         },
         {
          "label": 1,
          "name": "ichsan risnandar pamungkas",
          "x1": -1.0461513996124268,
          "x2": -5.441366195678711
         },
         {
          "label": 0,
          "name": "shelty juliavionni",
          "x1": -3.073824882507324,
          "x2": -7.062290668487549
         },
         {
          "label": 1,
          "name": "agung chris setiadi",
          "x1": -0.7399989366531372,
          "x2": -2.912564277648926
         },
         {
          "label": 1,
          "name": "sri baginda dalimunthe",
          "x1": -1.5691816806793213,
          "x2": -6.367197513580322
         },
         {
          "label": 1,
          "name": "abjatar",
          "x1": -1.3208807706832886,
          "x2": -6.919061183929443
         },
         {
          "label": 0,
          "name": "devi aprianti rimadhani a",
          "x1": -2.044048547744751,
          "x2": -5.0426344871521
         },
         {
          "label": 0,
          "name": "nurul hadi",
          "x1": -2.201974630355835,
          "x2": -8.078577041625977
         },
         {
          "label": 0,
          "name": "fida farhana",
          "x1": -0.7486997246742249,
          "x2": -6.9991135597229
         },
         {
          "label": 0,
          "name": "etty hernaning tias",
          "x1": -3.7537152767181396,
          "x2": -5.9313883781433105
         },
         {
          "label": 1,
          "name": "muhammad robby",
          "x1": 3.4794270992279053,
          "x2": -4.829315185546875
         },
         {
          "label": 0,
          "name": "hanifadinna",
          "x1": -1.868823766708374,
          "x2": -5.82982873916626
         },
         {
          "label": 1,
          "name": "yopie janitra",
          "x1": -3.3805041313171387,
          "x2": -6.232941150665283
         },
         {
          "label": 1,
          "name": "adrian dwiananto ariono",
          "x1": -1.7510578632354736,
          "x2": -5.161004066467285
         },
         {
          "label": 0,
          "name": "dewi kurniawati",
          "x1": -1.3259302377700806,
          "x2": -1.7410556077957153
         },
         {
          "label": 0,
          "name": "gini gamelia",
          "x1": -2.5898995399475098,
          "x2": -6.25391149520874
         },
         {
          "label": 0,
          "name": "kenny maroline",
          "x1": -3.626492977142334,
          "x2": -7.220356464385986
         },
         {
          "label": 1,
          "name": "gradiyanto ein nanda",
          "x1": -0.7529566287994385,
          "x2": -4.968465805053711
         },
         {
          "label": 1,
          "name": "juryanto tandepadang",
          "x1": -0.7642258405685425,
          "x2": -4.862112522125244
         },
         {
          "label": 0,
          "name": "yola eka erwinda",
          "x1": -0.9249545335769653,
          "x2": -6.16306734085083
         },
         {
          "label": 1,
          "name": "arief hidayat",
          "x1": -0.4490271508693695,
          "x2": -8.672547340393066
         },
         {
          "label": 1,
          "name": "fatih khusno satrio",
          "x1": -4.703038215637207,
          "x2": -8.266010284423828
         },
         {
          "label": 1,
          "name": "ardo christman halomoan situmorang",
          "x1": -4.3810601234436035,
          "x2": -6.419415473937988
         },
         {
          "label": 1,
          "name": "krisnawan wijayanto",
          "x1": -1.2850135564804077,
          "x2": -9.46325969696045
         },
         {
          "label": 1,
          "name": "hibatur rahman",
          "x1": 0.5658143162727356,
          "x2": -7.235963344573975
         },
         {
          "label": 1,
          "name": "agni luthfi heryana",
          "x1": -2.426398515701294,
          "x2": -5.310885429382324
         },
         {
          "label": 1,
          "name": "zakaria zamrudioko sumantoro",
          "x1": -0.985030472278595,
          "x2": -6.556926250457764
         },
         {
          "label": 1,
          "name": "muhammad andre martin",
          "x1": 3.4965121746063232,
          "x2": -4.953722953796387
         },
         {
          "label": 1,
          "name": "fetriza",
          "x1": -1.84712815284729,
          "x2": -7.246094226837158
         },
         {
          "label": 1,
          "name": "muhammad nail ritinov",
          "x1": 3.5153627395629883,
          "x2": -4.916325569152832
         },
         {
          "label": 0,
          "name": "masjuwina simatupang",
          "x1": -3.959139823913574,
          "x2": -6.5946149826049805
         },
         {
          "label": 1,
          "name": "arizka dikson",
          "x1": -1.7870086431503296,
          "x2": -6.937613010406494
         },
         {
          "label": 1,
          "name": "mohammad ihsan",
          "x1": 3.0043234825134277,
          "x2": -5.139910697937012
         },
         {
          "label": 1,
          "name": "muhamad maulana yasin j.",
          "x1": 3.53857684135437,
          "x2": -5.425873279571533
         },
         {
          "label": 1,
          "name": "aji wahyu widodo",
          "x1": -2.8901500701904297,
          "x2": -8.986312866210938
         },
         {
          "label": 0,
          "name": "asri cahyaningrum",
          "x1": -2.9751501083374023,
          "x2": -5.1761674880981445
         },
         {
          "label": 0,
          "name": "ayesha avanti",
          "x1": -3.7931666374206543,
          "x2": -5.860727787017822
         },
         {
          "label": 1,
          "name": "henzo bernando",
          "x1": -4.0816121101379395,
          "x2": -7.393486499786377
         },
         {
          "label": 1,
          "name": "andika yudha p",
          "x1": -0.4049622416496277,
          "x2": -6.279972076416016
         },
         {
          "label": 1,
          "name": "danu pramudita",
          "x1": -0.21818453073501587,
          "x2": -4.9105963706970215
         },
         {
          "label": 1,
          "name": "oksi irawan harisetyo",
          "x1": -0.7076283097267151,
          "x2": -2.917909622192383
         },
         {
          "label": 0,
          "name": "ratih primadian",
          "x1": -1.6539469957351685,
          "x2": -5.710525035858154
         },
         {
          "label": 1,
          "name": "widha nirwana putra",
          "x1": -3.263258695602417,
          "x2": -2.5455780029296875
         },
         {
          "label": 1,
          "name": "nuril awaluddin eko cahyono",
          "x1": -3.7837986946105957,
          "x2": -8.46268081665039
         },
         {
          "label": 1,
          "name": "moch yusup soleh",
          "x1": -3.291821002960205,
          "x2": -8.444440841674805
         },
         {
          "label": 1,
          "name": "hanif widya nugraha",
          "x1": 1.2836573123931885,
          "x2": -5.8951735496521
         },
         {
          "label": 1,
          "name": "andi noor sallam",
          "x1": -0.6765687465667725,
          "x2": -5.839046955108643
         },
         {
          "label": 1,
          "name": "ibnu febritirtana",
          "x1": -3.20881724357605,
          "x2": -4.955636978149414
         },
         {
          "label": 1,
          "name": "anjas jati kesuma",
          "x1": -1.644484043121338,
          "x2": -8.40130615234375
         },
         {
          "label": 1,
          "name": "randy saut purba",
          "x1": -3.5529532432556152,
          "x2": -2.214149236679077
         },
         {
          "label": 0,
          "name": "maria artanta ginting",
          "x1": -1.7636204957962036,
          "x2": -4.16366720199585
         },
         {
          "label": 0,
          "name": "dinda mayaranie",
          "x1": -1.1673270463943481,
          "x2": -5.303641319274902
         },
         {
          "label": 1,
          "name": "ibadillah ardhi digdaya",
          "x1": -0.5018354654312134,
          "x2": -7.734001159667969
         },
         {
          "label": 1,
          "name": "imran rusyana",
          "x1": -0.871464192867279,
          "x2": -4.983564853668213
         },
         {
          "label": 1,
          "name": "raymond stefanus",
          "x1": -3.75251841545105,
          "x2": -7.4201884269714355
         },
         {
          "label": 0,
          "name": "tina pebrianti",
          "x1": -3.522094249725342,
          "x2": -5.068054676055908
         },
         {
          "label": 0,
          "name": "maria antonia niken s",
          "x1": -2.707777738571167,
          "x2": -5.301349639892578
         },
         {
          "label": 1,
          "name": "abid muzahim",
          "x1": -1.571041464805603,
          "x2": -7.942138671875
         },
         {
          "label": 1,
          "name": "igor bonny tua p",
          "x1": -4.2151994705200195,
          "x2": -7.855278015136719
         },
         {
          "label": 0,
          "name": "intan nurul rizki",
          "x1": -3.2743430137634277,
          "x2": -5.847838401794434
         },
         {
          "label": 1,
          "name": "robin septavyn",
          "x1": -3.7273447513580322,
          "x2": -7.225778579711914
         },
         {
          "label": 0,
          "name": "nurul izzah hany binti ismail",
          "x1": -3.0320188999176025,
          "x2": -5.704078197479248
         },
         {
          "label": 0,
          "name": "vanessa fitri sabur",
          "x1": -3.1630847454071045,
          "x2": -4.294839382171631
         },
         {
          "label": 0,
          "name": "putri astuti herludianto",
          "x1": -3.8019187450408936,
          "x2": -3.4873440265655518
         },
         {
          "label": 1,
          "name": "yonathan adiguna",
          "x1": -1.5257418155670166,
          "x2": -3.086303949356079
         },
         {
          "label": 1,
          "name": "gilang permana",
          "x1": -0.776204526424408,
          "x2": -4.1419782638549805
         },
         {
          "label": 1,
          "name": "renar parama aryoputro",
          "x1": 0.4007095992565155,
          "x2": -5.372808933258057
         },
         {
          "label": 1,
          "name": "istiasa adwi saputro",
          "x1": -3.427342176437378,
          "x2": -2.3383991718292236
         },
         {
          "label": 1,
          "name": "fernando",
          "x1": -4.107977390289307,
          "x2": -7.386318683624268
         },
         {
          "label": 1,
          "name": "jonathan kurniawan oka",
          "x1": -1.183852195739746,
          "x2": -1.5496336221694946
         },
         {
          "label": 1,
          "name": "stepen",
          "x1": -3.5076098442077637,
          "x2": -7.2602972984313965
         },
         {
          "label": 0,
          "name": "vidyasari",
          "x1": -2.196268081665039,
          "x2": -5.828206539154053
         },
         {
          "label": 1,
          "name": "hargo prabowo sr",
          "x1": -5.160843849182129,
          "x2": -8.573822021484375
         },
         {
          "label": 1,
          "name": "raden iman adipurnama",
          "x1": 0.6265953183174133,
          "x2": -5.545694828033447
         },
         {
          "label": 1,
          "name": "ramdana",
          "x1": -0.5267813801765442,
          "x2": -5.716582298278809
         },
         {
          "label": 1,
          "name": "mossar haro rajagukguk",
          "x1": -2.25123929977417,
          "x2": -6.948141098022461
         },
         {
          "label": 1,
          "name": "vincent ariando simarmata",
          "x1": -1.441175103187561,
          "x2": -4.6111531257629395
         },
         {
          "label": 1,
          "name": "hanson prihantoro putro",
          "x1": -4.971676826477051,
          "x2": -7.111166000366211
         },
         {
          "label": 1,
          "name": "alfred saor sihotang",
          "x1": -3.2809653282165527,
          "x2": -7.48991060256958
         },
         {
          "label": 1,
          "name": "gilang dhaskabima",
          "x1": -1.0184681415557861,
          "x2": -3.993995189666748
         },
         {
          "label": 0,
          "name": "nurfitriana",
          "x1": -3.044628858566284,
          "x2": -4.724785804748535
         },
         {
          "label": 1,
          "name": "karta novem simanjuntak",
          "x1": -4.219483375549316,
          "x2": -6.087713241577148
         },
         {
          "label": 1,
          "name": "rindah upara",
          "x1": -0.9268079400062561,
          "x2": -6.103094577789307
         },
         {
          "label": 0,
          "name": "mutiara febryani",
          "x1": -3.073841094970703,
          "x2": -5.157786846160889
         },
         {
          "label": 1,
          "name": "yanda prakasa",
          "x1": 0.05040236562490463,
          "x2": -4.79155969619751
         },
         {
          "label": 1,
          "name": "apriza perdana putra",
          "x1": -2.913571834564209,
          "x2": -2.0144355297088623
         },
         {
          "label": 1,
          "name": "yohanssen pratama",
          "x1": 0.7600485682487488,
          "x2": -4.73622989654541
         },
         {
          "label": 1,
          "name": "haryo pandu winoto",
          "x1": -4.788577556610107,
          "x2": -7.57989501953125
         },
         {
          "label": 1,
          "name": "galih restu fardian suwandi",
          "x1": 0.9601705074310303,
          "x2": -8.669288635253906
         },
         {
          "label": 1,
          "name": "dwi satrio utomo",
          "x1": -4.312438488006592,
          "x2": -8.387537956237793
         },
         {
          "label": 0,
          "name": "citta masyita",
          "x1": -2.9123950004577637,
          "x2": -4.035202503204346
         },
         {
          "label": 0,
          "name": "yasmin binti mohd noh",
          "x1": -3.9511923789978027,
          "x2": -7.118074893951416
         },
         {
          "label": 1,
          "name": "roy bachtiar van basten simorangkir",
          "x1": -4.265262603759766,
          "x2": -6.103672981262207
         },
         {
          "label": 1,
          "name": "muhammad hamka ibrahim",
          "x1": 3.521441698074341,
          "x2": -5.086261749267578
         },
         {
          "label": 0,
          "name": "lili fitriani",
          "x1": -3.324946165084839,
          "x2": -4.592743873596191
         },
         {
          "label": 1,
          "name": "agung zenithya p p",
          "x1": -1.6725248098373413,
          "x2": -3.079946756362915
         },
         {
          "label": 0,
          "name": "yulaika hernawati",
          "x1": -4.111120223999023,
          "x2": -4.500343322753906
         },
         {
          "label": 1,
          "name": "vittorio kurniawan",
          "x1": -1.1828076839447021,
          "x2": -1.5853896141052246
         },
         {
          "label": 1,
          "name": "benni hermanto",
          "x1": -4.5341668128967285,
          "x2": -6.766610145568848
         },
         {
          "label": 1,
          "name": "liya setyo budi",
          "x1": -2.8517913818359375,
          "x2": -8.469087600708008
         },
         {
          "label": 0,
          "name": "intan hartri putri",
          "x1": -3.6097800731658936,
          "x2": -3.112363576889038
         },
         {
          "label": 1,
          "name": "daniel parsaoran",
          "x1": -0.8690150380134583,
          "x2": -5.522337913513184
         },
         {
          "label": 1,
          "name": "rendytio pradipta",
          "x1": -0.12972402572631836,
          "x2": -3.6099600791931152
         },
         {
          "label": 1,
          "name": "azmul azmi",
          "x1": -1.8159834146499634,
          "x2": -7.85221004486084
         },
         {
          "label": 1,
          "name": "heru gunawan",
          "x1": -1.3535362482070923,
          "x2": -2.9350082874298096
         },
         {
          "label": 1,
          "name": "pratama dipayana",
          "x1": 0.7160016298294067,
          "x2": -4.522918701171875
         },
         {
          "label": 1,
          "name": "benito sabastian",
          "x1": -3.779167413711548,
          "x2": -5.419313907623291
         },
         {
          "label": 1,
          "name": "zulmy ikhsan wiharsya",
          "x1": -1.207970142364502,
          "x2": -8.040499687194824
         },
         {
          "label": 0,
          "name": "astried emmalina p",
          "x1": -2.750258445739746,
          "x2": -6.271839141845703
         },
         {
          "label": 1,
          "name": "mohtar asrori",
          "x1": -4.227177143096924,
          "x2": -8.24964714050293
         },
         {
          "label": 0,
          "name": "siti aisyah",
          "x1": -3.935054302215576,
          "x2": -5.402441024780273
         },
         {
          "label": 1,
          "name": "prabuharnogo",
          "x1": -4.680066108703613,
          "x2": -8.268780708312988
         },
         {
          "label": 0,
          "name": "ega wulandari",
          "x1": -0.9067419767379761,
          "x2": -6.184518814086914
         },
         {
          "label": 1,
          "name": "abdurahman fajar muslim",
          "x1": 0.6055760383605957,
          "x2": -7.246981143951416
         },
         {
          "label": 1,
          "name": "daniel hutabarat",
          "x1": -0.8942673206329346,
          "x2": -5.769567012786865
         },
         {
          "label": 0,
          "name": "natasya muliandari",
          "x1": -1.1105722188949585,
          "x2": -4.955556869506836
         },
         {
          "label": 0,
          "name": "vebi nadhira",
          "x1": -1.6006468534469604,
          "x2": -7.0768961906433105
         },
         {
          "label": 1,
          "name": "bastian andika jaya hutagaol",
          "x1": -0.7790166735649109,
          "x2": -4.807802677154541
         },
         {
          "label": 1,
          "name": "rhorom priyatikanto",
          "x1": -4.946628093719482,
          "x2": -7.132017135620117
         },
         {
          "label": 0,
          "name": "anindita pratiwi",
          "x1": -3.624691963195801,
          "x2": -4.044347286224365
         },
         {
          "label": 0,
          "name": "dwi andhanari",
          "x1": -0.9515029788017273,
          "x2": -5.678127288818359
         },
         {
          "label": 1,
          "name": "andre hendrata",
          "x1": -0.06384937465190887,
          "x2": -5.333246231079102
         },
         {
          "label": 0,
          "name": "prima liranti febrina",
          "x1": -2.597075939178467,
          "x2": -5.310044288635254
         },
         {
          "label": 1,
          "name": "hans andersen kaha",
          "x1": -0.42686232924461365,
          "x2": -5.695947170257568
         },
         {
          "label": 1,
          "name": "aldo adiyasa rahadi",
          "x1": -0.07072806358337402,
          "x2": -5.339524269104004
         },
         {
          "label": 0,
          "name": "cut putri suliani",
          "x1": -3.7085471153259277,
          "x2": -3.333369493484497
         },
         {
          "label": 1,
          "name": "ahmad izzuddin",
          "x1": 0.4622361361980438,
          "x2": -7.3972978591918945
         },
         {
          "label": 1,
          "name": "aulia hamdani feizal",
          "x1": -1.1914442777633667,
          "x2": -6.878604888916016
         },
         {
          "label": 0,
          "name": "aziza addina permata",
          "x1": -0.3357025682926178,
          "x2": -4.416042804718018
         },
         {
          "label": 1,
          "name": "eko priamadi",
          "x1": -1.4196381568908691,
          "x2": -6.6753249168396
         },
         {
          "label": 1,
          "name": "hendro lie",
          "x1": -3.3199706077575684,
          "x2": -8.572296142578125
         },
         {
          "label": 1,
          "name": "johni musiasa",
          "x1": -3.3045356273651123,
          "x2": -7.334166526794434
         },
         {
          "label": 1,
          "name": "ibrahim hadi",
          "x1": -0.9623598456382751,
          "x2": -7.434554100036621
         },
         {
          "label": 0,
          "name": "rr sekar wulan h",
          "x1": -0.9597467184066772,
          "x2": -7.498227596282959
         },
         {
          "label": 1,
          "name": "arinaldo adma",
          "x1": -1.2436249256134033,
          "x2": -6.273932456970215
         },
         {
          "label": 1,
          "name": "kory artauli siagian",
          "x1": -2.4274332523345947,
          "x2": -5.70918607711792
         },
         {
          "label": 0,
          "name": "ditta larasati",
          "x1": -2.3125293254852295,
          "x2": -4.111205101013184
         },
         {
          "label": 1,
          "name": "bayu prasetia",
          "x1": 0.011866661719977856,
          "x2": -3.1746652126312256
         },
         {
          "label": 0,
          "name": "junitha aryanthi refina",
          "x1": -2.479980230331421,
          "x2": -5.182960033416748
         },
         {
          "label": 1,
          "name": "herdi arman putra",
          "x1": -3.356096029281616,
          "x2": -2.331238031387329
         },
         {
          "label": 1,
          "name": "rizaldy danar p",
          "x1": -1.0711439847946167,
          "x2": -5.996888637542725
         },
         {
          "label": 0,
          "name": "novi wijaya",
          "x1": -1.4163689613342285,
          "x2": -9.29770565032959
         },
         {
          "label": 0,
          "name": "priscilia adrian limadinata",
          "x1": -1.9062491655349731,
          "x2": -5.027707099914551
         },
         {
          "label": 0,
          "name": "dea dwi puspita",
          "x1": -3.3514790534973145,
          "x2": -3.822902202606201
         },
         {
          "label": 1,
          "name": "yulino sentosa",
          "x1": -5.248313903808594,
          "x2": -6.55029821395874
         },
         {
          "label": 1,
          "name": "isradj rihandiat",
          "x1": -1.6981295347213745,
          "x2": -5.7783427238464355
         },
         {
          "label": 1,
          "name": "pandu darmadi",
          "x1": -0.6098300814628601,
          "x2": -6.440344333648682
         },
         {
          "label": 1,
          "name": "danar aji wahyudi",
          "x1": -2.571342706680298,
          "x2": -8.98945140838623
         },
         {
          "label": 1,
          "name": "iman firmansyah",
          "x1": 1.3336621522903442,
          "x2": -8.365711212158203
         },
         {
          "label": 1,
          "name": "fahri juliartanto",
          "x1": -4.8556060791015625,
          "x2": -6.460759162902832
         },
         {
          "label": 1,
          "name": "riva choerul fatihin",
          "x1": -2.0101888179779053,
          "x2": -7.127742767333984
         },
         {
          "label": 0,
          "name": "meliva rizki aulia",
          "x1": -2.2300753593444824,
          "x2": -6.263873100280762
         },
         {
          "label": 1,
          "name": "yusup hamidudin",
          "x1": -2.5429515838623047,
          "x2": -8.607409477233887
         },
         {
          "label": 1,
          "name": "i made ary aditya wiguna",
          "x1": 0.08162941783666611,
          "x2": -4.028115749359131
         },
         {
          "label": 0,
          "name": "reni",
          "x1": -3.406726121902466,
          "x2": -7.65138053894043
         },
         {
          "label": 1,
          "name": "amri sanusi",
          "x1": -2.6530442237854004,
          "x2": -6.727372646331787
         },
         {
          "label": 0,
          "name": "rachel marie abraham",
          "x1": 0.4373685419559479,
          "x2": -6.718224048614502
         },
         {
          "label": 1,
          "name": "halim munawar",
          "x1": -1.632225513458252,
          "x2": -7.0785393714904785
         },
         {
          "label": 1,
          "name": "edward mulianto",
          "x1": -5.007950305938721,
          "x2": -6.349269390106201
         },
         {
          "label": 0,
          "name": "winny santoso",
          "x1": -5.305042743682861,
          "x2": -6.56098747253418
         },
         {
          "label": 0,
          "name": "dissa riandaso c",
          "x1": -2.248668670654297,
          "x2": -5.497459411621094
         },
         {
          "label": 0,
          "name": "ikha magdalena",
          "x1": -0.534308910369873,
          "x2": -6.605620384216309
         },
         {
          "label": 0,
          "name": "anita herawati permana",
          "x1": -0.4044802486896515,
          "x2": -4.275809288024902
         },
         {
          "label": 0,
          "name": "marvelna vidicia",
          "x1": -2.993412494659424,
          "x2": -5.628059387207031
         },
         {
          "label": 1,
          "name": "r pandu dwi kusumah",
          "x1": -1.7584409713745117,
          "x2": -8.510348320007324
         },
         {
          "label": 1,
          "name": "aris kris harnoto",
          "x1": -2.7274627685546875,
          "x2": -7.296907424926758
         },
         {
          "label": 1,
          "name": "herwin iriansyah",
          "x1": 1.1650750637054443,
          "x2": -8.739372253417969
         },
         {
          "label": 1,
          "name": "ivan sugiarto widodo",
          "x1": -4.500673770904541,
          "x2": -8.070442199707031
         },
         {
          "label": 0,
          "name": "fanny artika sari",
          "x1": -2.364912986755371,
          "x2": -5.350761890411377
         },
         {
          "label": 1,
          "name": "asep kiki afiyansah",
          "x1": -2.5552666187286377,
          "x2": -5.75155782699585
         },
         {
          "label": 1,
          "name": "edo suryopratomo",
          "x1": -4.473386764526367,
          "x2": -8.473464012145996
         },
         {
          "label": 0,
          "name": "faradina ardiyana",
          "x1": -0.8744930624961853,
          "x2": -4.821177959442139
         },
         {
          "label": 1,
          "name": "hudan herbanu",
          "x1": -2.389233350753784,
          "x2": -7.782867908477783
         },
         {
          "label": 1,
          "name": "moh hamzah fauzi",
          "x1": -1.2610446214675903,
          "x2": -7.663671493530273
         },
         {
          "label": 1,
          "name": "herry winandi",
          "x1": -3.9460322856903076,
          "x2": -7.3803815841674805
         },
         {
          "label": 1,
          "name": "stevie giovanni",
          "x1": -3.578303337097168,
          "x2": -5.89693021774292
         },
         {
          "label": 0,
          "name": "mira ariyanti",
          "x1": -4.10941219329834,
          "x2": -5.727916717529297
         },
         {
          "label": 1,
          "name": "bedi gusrian",
          "x1": -3.508152961730957,
          "x2": -6.316155910491943
         },
         {
          "label": 1,
          "name": "gde sutawijaya",
          "x1": -1.3374083042144775,
          "x2": -9.286282539367676
         },
         {
          "label": 0,
          "name": "mega wulandari",
          "x1": -0.9401842355728149,
          "x2": -6.165531158447266
         },
         {
          "label": 1,
          "name": "jhon f keliat",
          "x1": -2.941915273666382,
          "x2": -7.093435764312744
         },
         {
          "label": 1,
          "name": "haposan melkisedek nababan",
          "x1": -2.260533571243286,
          "x2": -5.361495018005371
         },
         {
          "label": 1,
          "name": "joshua samuel toisuta",
          "x1": -5.376138210296631,
          "x2": -6.579431533813477
         },
         {
          "label": 1,
          "name": "appen parpunguan nababan",
          "x1": -0.9507023692131042,
          "x2": -4.648492813110352
         },
         {
          "label": 0,
          "name": "eka hilda utami lasmanatun",
          "x1": -0.39039456844329834,
          "x2": -7.253861904144287
         },
         {
          "label": 1,
          "name": "kevin tanadi",
          "x1": -3.20119309425354,
          "x2": -6.070077419281006
         },
         {
          "label": 0,
          "name": "noviani rakhmaputeri",
          "x1": -3.359614849090576,
          "x2": -5.2059245109558105
         },
         {
          "label": 0,
          "name": "rini latifah",
          "x1": -1.8121370077133179,
          "x2": -6.949914455413818
         },
         {
          "label": 1,
          "name": "muhamad mirza",
          "x1": 3.4025299549102783,
          "x2": -5.055877208709717
         },
         {
          "label": 1,
          "name": "pratama haditua reyner siregar",
          "x1": 0.5418768525123596,
          "x2": -5.149977684020996
         },
         {
          "label": 1,
          "name": "kevin jonathan",
          "x1": -4.280022144317627,
          "x2": -7.039925575256348
         },
         {
          "label": 1,
          "name": "muhammad dahnil maulana",
          "x1": 3.5768611431121826,
          "x2": -5.364527702331543
         },
         {
          "label": 1,
          "name": "samuel",
          "x1": -2.6780784130096436,
          "x2": -7.999866962432861
         },
         {
          "label": 1,
          "name": "william suryawan",
          "x1": -2.06162691116333,
          "x2": -6.655462265014648
         },
         {
          "label": 1,
          "name": "yoyo lukiman",
          "x1": -3.6850712299346924,
          "x2": -8.2145414352417
         },
         {
          "label": 1,
          "name": "mohammad hakim adiprasetya",
          "x1": 3.027583122253418,
          "x2": -5.08207368850708
         },
         {
          "label": 0,
          "name": "fadhilah hana lestari",
          "x1": -0.54695063829422,
          "x2": -7.224786758422852
         },
         {
          "label": 1,
          "name": "dicky mulyo aditama",
          "x1": -0.4301222264766693,
          "x2": -6.35823392868042
         },
         {
          "label": 0,
          "name": "noviana vanawati",
          "x1": -3.304670810699463,
          "x2": -5.408132076263428
         },
         {
          "label": 1,
          "name": "erik adiwiguna",
          "x1": -1.7115750312805176,
          "x2": -3.084745168685913
         },
         {
          "label": 1,
          "name": "ario yudo husodo",
          "x1": -4.110492706298828,
          "x2": -8.468070030212402
         },
         {
          "label": 1,
          "name": "akhmad ridhwan ma'sum",
          "x1": 0.8846651315689087,
          "x2": -7.186522006988525
         },
         {
          "label": 1,
          "name": "gerarld anthonius koropitan",
          "x1": -4.60830545425415,
          "x2": -6.5889177322387695
         },
         {
          "label": 0,
          "name": "dewi harshanti",
          "x1": -3.643784523010254,
          "x2": -6.000396728515625
         },
         {
          "label": 0,
          "name": "diyah wulandari",
          "x1": -0.897284746170044,
          "x2": -6.2011847496032715
         },
         {
          "label": 1,
          "name": "alex prima",
          "x1": -2.3646888732910156,
          "x2": -7.197766304016113
         },
         {
          "label": 1,
          "name": "david kasidi",
          "x1": -2.0824952125549316,
          "x2": -6.771786212921143
         },
         {
          "label": 1,
          "name": "maulana wimar banuardhi",
          "x1": -0.3095909059047699,
          "x2": -7.607252597808838
         },
         {
          "label": 1,
          "name": "jhon pieter simon l s",
          "x1": -3.9541823863983154,
          "x2": -7.7441534996032715
         }
        ]
       },
       "encoding": {
        "color": {
         "field": "label",
         "type": "nominal"
        },
        "shape": {
         "field": "label",
         "type": "quantitative"
        },
        "tooltip": {
         "field": "name",
         "type": "nominal"
        },
        "x": {
         "field": "x1",
         "type": "quantitative"
        },
        "y": {
         "field": "x2",
         "type": "quantitative"
        }
       },
       "height": 600,
       "mark": "point",
       "selection": {
        "selector004": {
         "bind": "scales",
         "encodings": [
          "x",
          "y"
         ],
         "mark": {
          "fill": "#333",
          "fillOpacity": 0.125,
          "stroke": "white"
         },
         "on": "[mousedown, window:mouseup] > window:mousemove!",
         "resolve": "global",
         "translate": "[mousedown, window:mouseup] > window:mousemove!",
         "type": "interval",
         "zoom": "wheel!"
        }
       },
       "width": 1000
      },
      "text/plain": [
       "<VegaLite 2 object>\n",
       "\n",
       "If you see this message, it means the renderer has not been properly enabled\n",
       "for the frontend that you are using. For more information, see\n",
       "https://altair-viz.github.io/user_guide/troubleshooting.html\n"
      ]
     },
     "execution_count": 137,
     "metadata": {},
     "output_type": "execute_result"
    }
   ],
   "source": [
    "import altair as alt\n",
    "\n",
    "alt.Chart(pd.DataFrame({\n",
    "    'x1': X_map[:,0],\n",
    "    'x2': X_map[:,1],\n",
    "    'label': y_train,\n",
    "    'name': X_train['name']\n",
    "}), width=1000, height=600).mark_point().encode(\n",
    "    x='x1',\n",
    "    y='x2',\n",
    "    shape='label',\n",
    "    color='label:N',\n",
    "    tooltip='name'\n",
    ").interactive()"
   ]
  },
  {
   "cell_type": "code",
   "execution_count": 103,
   "metadata": {},
   "outputs": [
    {
     "name": "stderr",
     "output_type": "stream",
     "text": [
      "/home/engineering/miniconda2/envs/airy/lib/python3.6/site-packages/sklearn/linear_model/logistic.py:432: FutureWarning: Default solver will be changed to 'lbfgs' in 0.22. Specify a solver to silence this warning.\n",
      "  FutureWarning)\n"
     ]
    },
    {
     "data": {
      "text/html": [
       "<style  type=\"text/css\" >\n",
       "</style>  \n",
       "<table id=\"T_d04c4842_de71_11e8_917a_d481d7a24813\" > \n",
       "<thead>    <tr> \n",
       "        <th class=\"blank level0\" ></th> \n",
       "        <th class=\"col_heading level0 col0\" >accuracy</th> \n",
       "        <th class=\"col_heading level0 col1\" >f1</th> \n",
       "        <th class=\"col_heading level0 col2\" >precision</th> \n",
       "        <th class=\"col_heading level0 col3\" >recall</th> \n",
       "    </tr>    <tr> \n",
       "        <th class=\"index_name level0\" >name</th> \n",
       "        <th class=\"blank\" ></th> \n",
       "        <th class=\"blank\" ></th> \n",
       "        <th class=\"blank\" ></th> \n",
       "        <th class=\"blank\" ></th> \n",
       "    </tr></thead> \n",
       "<tbody>    <tr> \n",
       "        <th id=\"T_d04c4842_de71_11e8_917a_d481d7a24813level0_row0\" class=\"row_heading level0 row0\" >DummyClassifier</th> \n",
       "        <td id=\"T_d04c4842_de71_11e8_917a_d481d7a24813row0_col0\" class=\"data row0 col0\" >49.12%</td> \n",
       "        <td id=\"T_d04c4842_de71_11e8_917a_d481d7a24813row0_col1\" class=\"data row0 col1\" >66.97%</td> \n",
       "        <td id=\"T_d04c4842_de71_11e8_917a_d481d7a24813row0_col2\" class=\"data row0 col2\" >67.91%</td> \n",
       "        <td id=\"T_d04c4842_de71_11e8_917a_d481d7a24813row0_col3\" class=\"data row0 col3\" >66.06%</td> \n",
       "    </tr>    <tr> \n",
       "        <th id=\"T_d04c4842_de71_11e8_917a_d481d7a24813level0_row1\" class=\"row_heading level0 row1\" >BernoulliNB</th> \n",
       "        <td id=\"T_d04c4842_de71_11e8_917a_d481d7a24813row1_col0\" class=\"data row1 col0\" >73.22%</td> \n",
       "        <td id=\"T_d04c4842_de71_11e8_917a_d481d7a24813row1_col1\" class=\"data row1 col1\" >86.47%</td> \n",
       "        <td id=\"T_d04c4842_de71_11e8_917a_d481d7a24813row1_col2\" class=\"data row1 col2\" >81.40%</td> \n",
       "        <td id=\"T_d04c4842_de71_11e8_917a_d481d7a24813row1_col3\" class=\"data row1 col3\" >92.21%</td> \n",
       "    </tr>    <tr> \n",
       "        <th id=\"T_d04c4842_de71_11e8_917a_d481d7a24813level0_row2\" class=\"row_heading level0 row2\" >KNeighborsClassifier</th> \n",
       "        <td id=\"T_d04c4842_de71_11e8_917a_d481d7a24813row2_col0\" class=\"data row2 col0\" >81.41%</td> \n",
       "        <td id=\"T_d04c4842_de71_11e8_917a_d481d7a24813row2_col1\" class=\"data row2 col1\" >89.05%</td> \n",
       "        <td id=\"T_d04c4842_de71_11e8_917a_d481d7a24813row2_col2\" class=\"data row2 col2\" >87.67%</td> \n",
       "        <td id=\"T_d04c4842_de71_11e8_917a_d481d7a24813row2_col3\" class=\"data row2 col3\" >90.47%</td> \n",
       "    </tr>    <tr> \n",
       "        <th id=\"T_d04c4842_de71_11e8_917a_d481d7a24813level0_row3\" class=\"row_heading level0 row3\" >LogisticRegression</th> \n",
       "        <td id=\"T_d04c4842_de71_11e8_917a_d481d7a24813row3_col0\" class=\"data row3 col0\" >83.11%</td> \n",
       "        <td id=\"T_d04c4842_de71_11e8_917a_d481d7a24813row3_col1\" class=\"data row3 col1\" >90.07%</td> \n",
       "        <td id=\"T_d04c4842_de71_11e8_917a_d481d7a24813row3_col2\" class=\"data row3 col2\" >88.73%</td> \n",
       "        <td id=\"T_d04c4842_de71_11e8_917a_d481d7a24813row3_col3\" class=\"data row3 col3\" >91.45%</td> \n",
       "    </tr>    <tr> \n",
       "        <th id=\"T_d04c4842_de71_11e8_917a_d481d7a24813level0_row4\" class=\"row_heading level0 row4\" >XGBClassifier</th> \n",
       "        <td id=\"T_d04c4842_de71_11e8_917a_d481d7a24813row4_col0\" class=\"data row4 col0\" >78.26%</td> \n",
       "        <td id=\"T_d04c4842_de71_11e8_917a_d481d7a24813row4_col1\" class=\"data row4 col1\" >88.23%</td> \n",
       "        <td id=\"T_d04c4842_de71_11e8_917a_d481d7a24813row4_col2\" class=\"data row4 col2\" >84.99%</td> \n",
       "        <td id=\"T_d04c4842_de71_11e8_917a_d481d7a24813row4_col3\" class=\"data row4 col3\" >91.72%</td> \n",
       "    </tr></tbody> \n",
       "</table> "
      ],
      "text/plain": [
       "<pandas.io.formats.style.Styler at 0x7ff325ac5278>"
      ]
     },
     "execution_count": 103,
     "metadata": {},
     "output_type": "execute_result"
    }
   ],
   "source": [
    "metrics = []\n",
    "\n",
    "for C in clfs:\n",
    "    clf = make_pipeline(\n",
    "        CountVectorizer(decode_error='ignore', token_pattern='\\\\w', ngram_range=(1, 3)),\n",
    "        TruncatedSVD(100, random_state=42),\n",
    "        C()\n",
    "    )\n",
    "\n",
    "    clf.fit(X_train['name'], y_train)\n",
    "    y_pred = clf.predict(X_test['name'])\n",
    "    precision, recall, f1, _ = precision_recall_fscore_support(y_test, y_pred)\n",
    "    accuracy = balanced_accuracy_score(y_test, y_pred)\n",
    "    metrics.append({'name': C.__name__, 'precision': precision[1], 'recall': recall[1], 'f1': f1[1], 'accuracy': accuracy})\n",
    "\n",
    "pd.DataFrame(metrics)[['name','accuracy','f1','precision','recall']].set_index('name').style.format('{:.2%}')"
   ]
  },
  {
   "cell_type": "markdown",
   "metadata": {},
   "source": [
    "# LSTM"
   ]
  },
  {
   "cell_type": "code",
   "execution_count": 124,
   "metadata": {
    "collapsed": true
   },
   "outputs": [],
   "source": [
    "import string\n",
    "import re\n",
    "\n",
    "letters = string.ascii_lowercase + \" \"\n",
    "n_letters = len(letters)\n",
    "\n",
    "def clean_name(name):\n",
    "    alphanum_pattern = re.compile('([^\\s\\w])+')\n",
    "    return alphanum_pattern.sub('', name)\n",
    "\n",
    "def nameToTensor(line):\n",
    "    return [letters.find(letter) for letter in clean_name(line)]"
   ]
  },
  {
   "cell_type": "code",
   "execution_count": 125,
   "metadata": {},
   "outputs": [
    {
     "data": {
      "text/plain": [
       "Series([], Name: name, dtype: object)"
      ]
     },
     "execution_count": 125,
     "metadata": {},
     "output_type": "execute_result"
    }
   ],
   "source": [
    "df[df.name.apply(lambda x: nameToTensor(x).count(-1) > 0)].name"
   ]
  },
  {
   "cell_type": "markdown",
   "metadata": {},
   "source": [
    "## Classifying by Name"
   ]
  },
  {
   "cell_type": "code",
   "execution_count": 215,
   "metadata": {},
   "outputs": [
    {
     "name": "stdout",
     "output_type": "stream",
     "text": [
      "Pad sequences (samples x time)\n",
      "56\n",
      "x_train shape: (4900, 56)\n",
      "x_test shape: (2100, 56)\n"
     ]
    }
   ],
   "source": [
    "from keras.preprocessing import sequence\n",
    "from keras.models import Sequential\n",
    "from keras.layers import Dense, Embedding\n",
    "from keras.layers import LSTM, Bidirectional\n",
    "from sklearn.metrics import classification_report, f1_score\n",
    "import keras\n",
    "\n",
    "RAND_SEED_SPLIT = 1337\n",
    "np.random.seed(RAND_SEED_SPLIT)\n",
    "\n",
    "maxlen = df.name.str.len().max()\n",
    "max_features = n_letters\n",
    "\n",
    "x_train = X_train.name.apply(nameToTensor).values\n",
    "x_test = X_test.name.apply(nameToTensor).values\n",
    "\n",
    "print('Pad sequences (samples x time)')\n",
    "print(maxlen)\n",
    "x_train = sequence.pad_sequences(x_train, maxlen=maxlen)\n",
    "x_test = sequence.pad_sequences(x_test, maxlen=maxlen)\n",
    "print('x_train shape:', x_train.shape)\n",
    "print('x_test shape:', x_test.shape)"
   ]
  },
  {
   "cell_type": "code",
   "execution_count": 216,
   "metadata": {},
   "outputs": [
    {
     "data": {
      "text/plain": [
       "array([list([5, 0, 17, 8, 3, 0, 13, 18, 24, 0, 7]),\n",
       "       list([6, 8, 11, 0, 13, 6]), list([4, 17, 22, 8, 13]), ...,\n",
       "       list([3, 0, 21, 8, 3]), list([12, 0, 20, 11, 0, 13, 0]),\n",
       "       list([9, 7, 14, 13])], dtype=object)"
      ]
     },
     "execution_count": 216,
     "metadata": {},
     "output_type": "execute_result"
    }
   ],
   "source": [
    "X_train.name.apply(lambda x: x.split(' ')[0]).apply(nameToTensor).values"
   ]
  },
  {
   "cell_type": "code",
   "execution_count": 217,
   "metadata": {},
   "outputs": [],
   "source": [
    "def net():\n",
    "    model = Sequential()\n",
    "    model.add(Embedding(max_features, 128))\n",
    "    model.add(LSTM(128, dropout=0.2, recurrent_dropout=0.2))\n",
    "    model.add(Dense(1, activation='sigmoid'))\n",
    "    return model"
   ]
  },
  {
   "cell_type": "code",
   "execution_count": 253,
   "metadata": {
    "scrolled": true
   },
   "outputs": [
    {
     "name": "stdout",
     "output_type": "stream",
     "text": [
      "Build model...\n",
      "Train...\n",
      "2100/2100 [==============================] - 1s 380us/step\n",
      "\n",
      "Accuracy: 90.92%\n"
     ]
    },
    {
     "data": {
      "image/png": "[encoded data removed]",
      "text/plain": [
       "<Figure size 432x288 with 1 Axes>"
      ]
     },
     "metadata": {},
     "output_type": "display_data"
    }
   ],
   "source": [
    "np.random.seed(42)\n",
    "\n",
    "batch_size = 64\n",
    "\n",
    "print('Build model...')\n",
    "model = net()\n",
    "\n",
    "# try using different optimizers and different optimizer configs\n",
    "model.compile(loss='binary_crossentropy',\n",
    "              optimizer='adam',\n",
    "              metrics=['accuracy'])\n",
    "\n",
    "print('Train...')\n",
    "history = model.fit(x_train, y_train,\n",
    "          batch_size=batch_size,\n",
    "          epochs=30,\n",
    "          verbose=0,\n",
    "          validation_data=(x_test, y_test))\n",
    "score, acc = model.evaluate(x_test, y_test,\n",
    "                            batch_size=batch_size)\n",
    "print()\n",
    "# print('Test score:', score)\n",
    "# print('Test accuracy:', acc)\n",
    "y_pred = model.predict(x_test).reshape(-1)\n",
    "print('Accuracy: {:.2%}'.format(balanced_accuracy_score(y_test, y_pred > .5)))\n",
    "\n",
    "plt.plot(history.history['acc'])\n",
    "plt.plot(history.history['val_acc'])\n",
    "plt.title('model accuracy')\n",
    "plt.ylabel('accuracy')\n",
    "plt.xlabel('epoch')\n",
    "plt.legend(['train', 'test'], loc='upper left')\n",
    "plt.show()"
   ]
  },
  {
   "cell_type": "code",
   "execution_count": 254,
   "metadata": {},
   "outputs": [],
   "source": [
    "def predict(model, names):\n",
    "    assert type(names) == list\n",
    "    name_test = pd.Series(names)\n",
    "    name_test = name_test.apply(nameToTensor).values\n",
    "    name_test = sequence.pad_sequences(name_test, maxlen=maxlen)\n",
    "    return model.predict(name_test)"
   ]
  },
  {
   "cell_type": "code",
   "execution_count": 255,
   "metadata": {},
   "outputs": [
    {
     "data": {
      "image/png": "[encoded data removed]",
      "text/plain": [
       "<Figure size 432x288 with 1 Axes>"
      ]
     },
     "metadata": {},
     "output_type": "display_data"
    }
   ],
   "source": [
    "out = predict(model, ['p', 'pu', 'put', 'putr', 'putra', 'putri'])\n",
    "fig, ax = plt.subplots()\n",
    "pd.DataFrame(np.concatenate([1 - out, out], axis=1), columns=['female', 'male']).plot.barh(legend=False, color=['pink', 'darkblue'], stacked=True, ax=ax)\n",
    "ax.set_yticklabels(['p', 'pu', 'put', 'putr', 'putra', 'putri'])\n",
    "plt.savefig('putr.png', bbox_inches='tight')"
   ]
  }
 ],
 "metadata": {
  "kernelspec": {
   "display_name": "Python 3",
   "language": "python",
   "name": "python3"
  },
  "language_info": {
   "codemirror_mode": {
    "name": "ipython",
    "version": 3
   },
   "file_extension": ".py",
   "mimetype": "text/x-python",
   "name": "python",
   "nbconvert_exporter": "python",
   "pygments_lexer": "ipython3",
   "version": "3.6.2"
  }
 },
 "nbformat": 4,
 "nbformat_minor": 2
}
